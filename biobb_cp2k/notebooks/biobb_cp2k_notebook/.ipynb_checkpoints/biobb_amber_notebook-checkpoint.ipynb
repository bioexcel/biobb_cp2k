{
 "cells": [
  {
   "cell_type": "markdown",
   "metadata": {},
   "source": [
    "# Common execution"
   ]
  },
  {
   "cell_type": "markdown",
   "metadata": {},
   "source": [
    "## Build Linear Peptide Structure Example"
   ]
  },
  {
   "cell_type": "code",
   "execution_count": 1,
   "metadata": {},
   "outputs": [],
   "source": [
    "# Create prop dict and inputs/outputs\n",
    "prop = {\n",
    "    \"sequence\" : \"ALA PRO SER ARG LYS ASP GLU GLY GLY ALA\",\n",
    "    \"build_library\": False,\n",
    "    \"forcefield\" : \"protein.ff14SB\",\n",
    "    \"remove_tmp\": True\n",
    "}\n",
    "output_file_path = 'structure_peptide.pdb'"
   ]
  },
  {
   "cell_type": "code",
   "execution_count": 2,
   "metadata": {},
   "outputs": [],
   "source": [
    "# Import module\n",
    "from biobb_amber.leap.leap_build_linear_structure import LeapBuildLinearStructure"
   ]
  },
  {
   "cell_type": "code",
   "execution_count": 3,
   "metadata": {},
   "outputs": [
    {
     "name": "stderr",
     "output_type": "stream",
     "text": [
      "2020-11-27 16:44:56,337 [MainThread  ] [INFO ]  Creating 6b8455b1-faf7-406f-8ff1-7596d0ab684d temporary folder\n",
      "2020-11-27 16:44:56,340 [MainThread  ] [INFO ]  Creating command line with instructions and required arguments\n",
      "2020-11-27 16:44:56,454 [MainThread  ] [INFO ]  tleap  -f leaprc.protein.ff14SB -f 6b8455b1-faf7-406f-8ff1-7596d0ab684d/leap.in\n",
      "\n",
      "2020-11-27 16:44:56,458 [MainThread  ] [INFO ]  Exit code 0\n",
      "\n",
      "2020-11-27 16:44:56,463 [MainThread  ] [INFO ]  -I: Adding /anaconda3/envs/biobb_amber/dat/leap/prep to search path.\n",
      "-I: Adding /anaconda3/envs/biobb_amber/dat/leap/lib to search path.\n",
      "-I: Adding /anaconda3/envs/biobb_amber/dat/leap/parm to search path.\n",
      "-I: Adding /anaconda3/envs/biobb_amber/dat/leap/cmd to search path.\n",
      "-f: Source leaprc.protein.ff14SB.\n",
      "-f: Source 6b8455b1-faf7-406f-8ff1-7596d0ab684d/leap.in.\n",
      "\n",
      "Welcome to LEaP!\n",
      "(no leaprc in search path)\n",
      "Sourcing: /anaconda3/envs/biobb_amber/dat/leap/cmd/leaprc.protein.ff14SB\n",
      "Log file: ./leap.log\n",
      "Loading parameters: /anaconda3/envs/biobb_amber/dat/leap/parm/parm10.dat\n",
      "Reading title:\n",
      "PARM99 + frcmod.ff99SB + frcmod.parmbsc0 + OL3 for RNA\n",
      "Loading parameters: /anaconda3/envs/biobb_amber/dat/leap/parm/frcmod.ff14SB\n",
      "Reading force field modification type file (frcmod)\n",
      "Reading title:\n",
      "ff14SB protein backbone and sidechain parameters\n",
      "Loading library: /anaconda3/envs/biobb_amber/dat/leap/lib/amino12.lib\n",
      "Loading library: /anaconda3/envs/biobb_amber/dat/leap/lib/aminoct12.lib\n",
      "Loading library: /anaconda3/envs/biobb_amber/dat/leap/lib/aminont12.lib\n",
      "Sourcing: ./6b8455b1-faf7-406f-8ff1-7596d0ab684d/leap.in\n",
      "Writing pdb file: structure_peptide.pdb\n",
      "\tQuit\n",
      "\n",
      "Exiting LEaP: Errors = 0; Warnings = 0; Notes = 0.\n",
      "\n",
      "2020-11-27 16:44:56,466 [MainThread  ] [INFO ]  Removed: 6b8455b1-faf7-406f-8ff1-7596d0ab684d\n",
      "2020-11-27 16:44:56,480 [MainThread  ] [INFO ]  Removed: leap.log\n"
     ]
    },
    {
     "data": {
      "text/plain": [
       "0"
      ]
     },
     "execution_count": 3,
     "metadata": {},
     "output_type": "execute_result"
    }
   ],
   "source": [
    "# Create and launch bb\n",
    "LeapBuildLinearStructure(output_pdb_path=output_file_path, \n",
    "         properties=prop).launch()"
   ]
  },
  {
   "cell_type": "code",
   "execution_count": 4,
   "metadata": {},
   "outputs": [
    {
     "name": "stdout",
     "output_type": "stream",
     "text": [
      "2020-11-27 16:44:56,337 [MainThread  ] [INFO ]  Creating 6b8455b1-faf7-406f-8ff1-7596d0ab684d temporary folder\r\n",
      "2020-11-27 16:44:56,340 [MainThread  ] [INFO ]  Creating command line with instructions and required arguments\r\n",
      "2020-11-27 16:44:56,454 [MainThread  ] [INFO ]  tleap  -f leaprc.protein.ff14SB -f 6b8455b1-faf7-406f-8ff1-7596d0ab684d/leap.in\r\n",
      "\r\n",
      "2020-11-27 16:44:56,458 [MainThread  ] [INFO ]  Exit code 0\r\n",
      "\r\n",
      "2020-11-27 16:44:56,463 [MainThread  ] [INFO ]  -I: Adding /anaconda3/envs/biobb_amber/dat/leap/prep to search path.\r\n",
      "-I: Adding /anaconda3/envs/biobb_amber/dat/leap/lib to search path.\r\n",
      "-I: Adding /anaconda3/envs/biobb_amber/dat/leap/parm to search path.\r\n",
      "-I: Adding /anaconda3/envs/biobb_amber/dat/leap/cmd to search path.\r\n",
      "-f: Source leaprc.protein.ff14SB.\r\n",
      "-f: Source 6b8455b1-faf7-406f-8ff1-7596d0ab684d/leap.in.\r\n",
      "\r\n",
      "Welcome to LEaP!\r\n",
      "(no leaprc in search path)\r\n",
      "Sourcing: /anaconda3/envs/biobb_amber/dat/leap/cmd/leaprc.protein.ff14SB\r\n",
      "Log file: ./leap.log\r\n",
      "Loading parameters: /anaconda3/envs/biobb_amber/dat/leap/parm/parm10.dat\r\n",
      "Reading title:\r\n",
      "PARM99 + frcmod.ff99SB + frcmod.parmbsc0 + OL3 for RNA\r\n",
      "Loading parameters: /anaconda3/envs/biobb_amber/dat/leap/parm/frcmod.ff14SB\r\n",
      "Reading force field modification type file (frcmod)\r\n",
      "Reading title:\r\n",
      "ff14SB protein backbone and sidechain parameters\r\n",
      "Loading library: /anaconda3/envs/biobb_amber/dat/leap/lib/amino12.lib\r\n",
      "Loading library: /anaconda3/envs/biobb_amber/dat/leap/lib/aminoct12.lib\r\n",
      "Loading library: /anaconda3/envs/biobb_amber/dat/leap/lib/aminont12.lib\r\n",
      "Sourcing: ./6b8455b1-faf7-406f-8ff1-7596d0ab684d/leap.in\r\n",
      "Writing pdb file: structure_peptide.pdb\r\n",
      "\tQuit\r\n",
      "\r\n",
      "Exiting LEaP: Errors = 0; Warnings = 0; Notes = 0.\r\n",
      "\r\n",
      "2020-11-27 16:44:56,466 [MainThread  ] [INFO ]  Removed: 6b8455b1-faf7-406f-8ff1-7596d0ab684d\r\n",
      "2020-11-27 16:44:56,480 [MainThread  ] [INFO ]  Removed: leap.log\r\n"
     ]
    }
   ],
   "source": [
    "# Show log\n",
    "!cat log.out"
   ]
  },
  {
   "cell_type": "code",
   "execution_count": 5,
   "metadata": {},
   "outputs": [
    {
     "name": "stdout",
     "output_type": "stream",
     "text": [
      "total 256\r\n",
      "drwxr-xr-x  11 hospital  staff    374 Nov 27 16:44 \u001b[34m.\u001b[m\u001b[m\r\n",
      "drwxr-xr-x   3 hospital  staff    102 Oct 12 13:33 \u001b[34m..\u001b[m\u001b[m\r\n",
      "drwxr-xr-x   3 hospital  staff    102 Oct 12 13:34 \u001b[34m.ipynb_checkpoints\u001b[m\u001b[m\r\n",
      "-rw-r--r--   1 hospital  staff  53372 Oct 22 08:52 biobb_amber_notebook.ipynb\r\n",
      "-rw-r--r--   1 hospital  staff      0 Nov 27 16:44 log.err\r\n",
      "-rw-r--r--   1 hospital  staff   1829 Nov 27 16:44 log.out\r\n",
      "-rw-r--r--   1 hospital  staff  44054 Oct 12 19:24 structure.out.pdb\r\n",
      "-rw-r--r--   1 hospital  staff   1997 Oct 12 19:24 structure.out_nonprot.pdb\r\n",
      "-rw-r--r--   1 hospital  staff   2714 Oct 12 19:24 structure.out_renum.txt\r\n",
      "-rw-r--r--   1 hospital  staff     23 Oct 12 19:24 structure.out_sslink\r\n",
      "-rw-r--r--   1 hospital  staff   8858 Nov 27 16:44 structure_peptide.pdb\r\n"
     ]
    }
   ],
   "source": [
    "# List folder content\n",
    "!ls -la"
   ]
  },
  {
   "cell_type": "code",
   "execution_count": 6,
   "metadata": {},
   "outputs": [
    {
     "data": {
      "application/vnd.jupyter.widget-view+json": {
       "model_id": "fa2874af35e844fcb248a5da7b539a1e",
       "version_major": 2,
       "version_minor": 0
      },
      "text/plain": []
     },
     "metadata": {},
     "output_type": "display_data"
    },
    {
     "data": {
      "application/vnd.jupyter.widget-view+json": {
       "model_id": "6c47cb46aa844ea59f1627a2c4eb7983",
       "version_major": 2,
       "version_minor": 0
      },
      "text/plain": [
       "NGLWidget()"
      ]
     },
     "metadata": {},
     "output_type": "display_data"
    }
   ],
   "source": [
    "import nglview\n",
    "import ipywidgets\n",
    "\n",
    "# Show protein\n",
    "view = nglview.show_structure_file(output_file_path)\n",
    "view.add_representation(repr_type='ball+stick', selection='all')\n",
    "view._remote_call('setSize', target='Widget', args=['','600px'])\n",
    "view"
   ]
  },
  {
   "cell_type": "markdown",
   "metadata": {},
   "source": [
    "## Build Linear DNA Structure Example"
   ]
  },
  {
   "cell_type": "code",
   "execution_count": 7,
   "metadata": {},
   "outputs": [
    {
     "name": "stderr",
     "output_type": "stream",
     "text": [
      "2020-11-27 16:45:11,485 [MainThread  ] [INFO ]  Creating cd9ef5eb-0add-42dc-9353-21d20c385071 temporary folder\n",
      "2020-11-27 16:45:11,487 [MainThread  ] [INFO ]  Creating command line with instructions and required arguments\n",
      "2020-11-27 16:45:11,551 [MainThread  ] [INFO ]  tleap  -f leaprc.DNA.bsc1 -f cd9ef5eb-0add-42dc-9353-21d20c385071/leap.in\n",
      "\n",
      "2020-11-27 16:45:11,555 [MainThread  ] [INFO ]  Exit code 0\n",
      "\n",
      "2020-11-27 16:45:11,558 [MainThread  ] [INFO ]  -I: Adding /anaconda3/envs/biobb_amber/dat/leap/prep to search path.\n",
      "-I: Adding /anaconda3/envs/biobb_amber/dat/leap/lib to search path.\n",
      "-I: Adding /anaconda3/envs/biobb_amber/dat/leap/parm to search path.\n",
      "-I: Adding /anaconda3/envs/biobb_amber/dat/leap/cmd to search path.\n",
      "-f: Source leaprc.DNA.bsc1.\n",
      "-f: Source cd9ef5eb-0add-42dc-9353-21d20c385071/leap.in.\n",
      "\n",
      "Welcome to LEaP!\n",
      "(no leaprc in search path)\n",
      "Sourcing: /anaconda3/envs/biobb_amber/dat/leap/cmd/leaprc.DNA.bsc1\n",
      "Log file: ./leap.log\n",
      "Loading parameters: /anaconda3/envs/biobb_amber/dat/leap/parm/parm10.dat\n",
      "Reading title:\n",
      "PARM99 + frcmod.ff99SB + frcmod.parmbsc0 + OL3 for RNA\n",
      "Loading library: /anaconda3/envs/biobb_amber/dat/leap/lib/parmBSC1.lib\n",
      "Loading parameters: /anaconda3/envs/biobb_amber/dat/leap/parm/frcmod.parmbsc1\n",
      "Reading force field modification type file (frcmod)\n",
      "Reading title:\n",
      "Parmbsc1 force-field for DNA\n",
      "Sourcing: ./cd9ef5eb-0add-42dc-9353-21d20c385071/leap.in\n",
      "Writing pdb file: structure_dna.pdb\n",
      "\tQuit\n",
      "\n",
      "Exiting LEaP: Errors = 0; Warnings = 0; Notes = 0.\n",
      "\n",
      "2020-11-27 16:45:11,560 [MainThread  ] [INFO ]  Removed: cd9ef5eb-0add-42dc-9353-21d20c385071\n",
      "2020-11-27 16:45:11,562 [MainThread  ] [INFO ]  Removed: leap.log\n"
     ]
    },
    {
     "data": {
      "text/plain": [
       "0"
      ]
     },
     "execution_count": 7,
     "metadata": {},
     "output_type": "execute_result"
    }
   ],
   "source": [
    "# Create prop dict and inputs/outputs\n",
    "prop = {\n",
    "    \"sequence\" : \"DA DT DC DA DA DT DC\",\n",
    "    \"build_library\": True,\n",
    "    \"forcefield\" : \"DNA.bsc1\",\n",
    "    \"remove_tmp\": True\n",
    "}\n",
    "output_file_path = 'structure_dna.pdb'\n",
    "\n",
    "# Import module\n",
    "from biobb_amber.leap.leap_build_linear_structure import LeapBuildLinearStructure\n",
    "\n",
    "# Create and launch bb\n",
    "LeapBuildLinearStructure(output_pdb_path=output_file_path, \n",
    "         properties=prop).launch()"
   ]
  },
  {
   "cell_type": "code",
   "execution_count": 8,
   "metadata": {},
   "outputs": [
    {
     "name": "stdout",
     "output_type": "stream",
     "text": [
      "2020-11-27 16:44:56,337 [MainThread  ] [INFO ]  Creating 6b8455b1-faf7-406f-8ff1-7596d0ab684d temporary folder\r\n",
      "2020-11-27 16:44:56,340 [MainThread  ] [INFO ]  Creating command line with instructions and required arguments\r\n",
      "2020-11-27 16:44:56,454 [MainThread  ] [INFO ]  tleap  -f leaprc.protein.ff14SB -f 6b8455b1-faf7-406f-8ff1-7596d0ab684d/leap.in\r\n",
      "\r\n",
      "2020-11-27 16:44:56,458 [MainThread  ] [INFO ]  Exit code 0\r\n",
      "\r\n",
      "2020-11-27 16:44:56,463 [MainThread  ] [INFO ]  -I: Adding /anaconda3/envs/biobb_amber/dat/leap/prep to search path.\r\n",
      "-I: Adding /anaconda3/envs/biobb_amber/dat/leap/lib to search path.\r\n",
      "-I: Adding /anaconda3/envs/biobb_amber/dat/leap/parm to search path.\r\n",
      "-I: Adding /anaconda3/envs/biobb_amber/dat/leap/cmd to search path.\r\n",
      "-f: Source leaprc.protein.ff14SB.\r\n",
      "-f: Source 6b8455b1-faf7-406f-8ff1-7596d0ab684d/leap.in.\r\n",
      "\r\n",
      "Welcome to LEaP!\r\n",
      "(no leaprc in search path)\r\n",
      "Sourcing: /anaconda3/envs/biobb_amber/dat/leap/cmd/leaprc.protein.ff14SB\r\n",
      "Log file: ./leap.log\r\n",
      "Loading parameters: /anaconda3/envs/biobb_amber/dat/leap/parm/parm10.dat\r\n",
      "Reading title:\r\n",
      "PARM99 + frcmod.ff99SB + frcmod.parmbsc0 + OL3 for RNA\r\n",
      "Loading parameters: /anaconda3/envs/biobb_amber/dat/leap/parm/frcmod.ff14SB\r\n",
      "Reading force field modification type file (frcmod)\r\n",
      "Reading title:\r\n",
      "ff14SB protein backbone and sidechain parameters\r\n",
      "Loading library: /anaconda3/envs/biobb_amber/dat/leap/lib/amino12.lib\r\n",
      "Loading library: /anaconda3/envs/biobb_amber/dat/leap/lib/aminoct12.lib\r\n",
      "Loading library: /anaconda3/envs/biobb_amber/dat/leap/lib/aminont12.lib\r\n",
      "Sourcing: ./6b8455b1-faf7-406f-8ff1-7596d0ab684d/leap.in\r\n",
      "Writing pdb file: structure_peptide.pdb\r\n",
      "\tQuit\r\n",
      "\r\n",
      "Exiting LEaP: Errors = 0; Warnings = 0; Notes = 0.\r\n",
      "\r\n",
      "2020-11-27 16:44:56,466 [MainThread  ] [INFO ]  Removed: 6b8455b1-faf7-406f-8ff1-7596d0ab684d\r\n",
      "2020-11-27 16:44:56,480 [MainThread  ] [INFO ]  Removed: leap.log\r\n"
     ]
    }
   ],
   "source": [
    "# Show log\n",
    "!cat log.out"
   ]
  },
  {
   "cell_type": "code",
   "execution_count": 9,
   "metadata": {},
   "outputs": [
    {
     "name": "stdout",
     "output_type": "stream",
     "text": [
      "total 296\r\n",
      "drwxr-xr-x  14 hospital  staff    476 Nov 27 16:45 \u001b[34m.\u001b[m\u001b[m\r\n",
      "drwxr-xr-x   3 hospital  staff    102 Oct 12 13:33 \u001b[34m..\u001b[m\u001b[m\r\n",
      "drwxr-xr-x   3 hospital  staff    102 Oct 12 13:34 \u001b[34m.ipynb_checkpoints\u001b[m\u001b[m\r\n",
      "-rw-r--r--   1 hospital  staff  53372 Oct 22 08:52 biobb_amber_notebook.ipynb\r\n",
      "-rw-r--r--   1 hospital  staff      0 Nov 27 16:44 log.err\r\n",
      "-rw-r--r--   1 hospital  staff   1829 Nov 27 16:44 log.out\r\n",
      "-rw-r--r--   1 hospital  staff      0 Nov 27 16:45 log1.err\r\n",
      "-rw-r--r--   1 hospital  staff   1646 Nov 27 16:45 log1.out\r\n",
      "-rw-r--r--   1 hospital  staff  44054 Oct 12 19:24 structure.out.pdb\r\n",
      "-rw-r--r--   1 hospital  staff   1997 Oct 12 19:24 structure.out_nonprot.pdb\r\n",
      "-rw-r--r--   1 hospital  staff   2714 Oct 12 19:24 structure.out_renum.txt\r\n",
      "-rw-r--r--   1 hospital  staff     23 Oct 12 19:24 structure.out_sslink\r\n",
      "-rw-r--r--   1 hospital  staff  14754 Nov 27 16:45 structure_dna.pdb\r\n",
      "-rw-r--r--   1 hospital  staff   8858 Nov 27 16:44 structure_peptide.pdb\r\n"
     ]
    }
   ],
   "source": [
    "# List folder content\n",
    "!ls -la"
   ]
  },
  {
   "cell_type": "code",
   "execution_count": 10,
   "metadata": {},
   "outputs": [
    {
     "data": {
      "application/vnd.jupyter.widget-view+json": {
       "model_id": "648e2b1a1b80444c8c6567c8b6a3d8b3",
       "version_major": 2,
       "version_minor": 0
      },
      "text/plain": [
       "NGLWidget()"
      ]
     },
     "metadata": {},
     "output_type": "display_data"
    }
   ],
   "source": [
    "import nglview\n",
    "import ipywidgets\n",
    "\n",
    "# Show protein\n",
    "view = nglview.show_structure_file(output_file_path)\n",
    "view.add_representation(repr_type='ball+stick', selection='all')\n",
    "view._remote_call('setSize', target='Widget', args=['','600px'])\n",
    "view"
   ]
  },
  {
   "cell_type": "markdown",
   "metadata": {},
   "source": [
    "## Generate AMBER Topology"
   ]
  },
  {
   "cell_type": "code",
   "execution_count": 11,
   "metadata": {},
   "outputs": [
    {
     "name": "stdout",
     "output_type": "stream",
     "text": [
      "/Users/hospital/biobb_tutorials/amber_try/biobb_amber/biobb_amber/notebooks/biobb_amber_notebook\r\n"
     ]
    }
   ],
   "source": [
    "!pwd"
   ]
  },
  {
   "cell_type": "code",
   "execution_count": 12,
   "metadata": {},
   "outputs": [
    {
     "name": "stderr",
     "output_type": "stream",
     "text": [
      "2020-11-27 16:47:19,984 [MainThread  ] [INFO ]  Creating 15e48fcf-90df-48f1-8cc5-4d81617cdb55 temporary folder\n",
      "2020-11-27 16:47:19,986 [MainThread  ] [INFO ]  Creating command line with instructions and required arguments\n",
      "2020-11-27 16:47:20,140 [MainThread  ] [INFO ]  tleap  -f leaprc.protein.ff14SB -f 15e48fcf-90df-48f1-8cc5-4d81617cdb55/leap.in\n",
      "\n",
      "2020-11-27 16:47:20,141 [MainThread  ] [INFO ]  Exit code 0\n",
      "\n",
      "2020-11-27 16:47:20,142 [MainThread  ] [INFO ]  -I: Adding /anaconda3/envs/biobb_amber/dat/leap/prep to search path.\n",
      "-I: Adding /anaconda3/envs/biobb_amber/dat/leap/lib to search path.\n",
      "-I: Adding /anaconda3/envs/biobb_amber/dat/leap/parm to search path.\n",
      "-I: Adding /anaconda3/envs/biobb_amber/dat/leap/cmd to search path.\n",
      "-f: Source leaprc.protein.ff14SB.\n",
      "-f: Source 15e48fcf-90df-48f1-8cc5-4d81617cdb55/leap.in.\n",
      "\n",
      "Welcome to LEaP!\n",
      "(no leaprc in search path)\n",
      "Sourcing: /anaconda3/envs/biobb_amber/dat/leap/cmd/leaprc.protein.ff14SB\n",
      "Log file: ./leap.log\n",
      "Loading parameters: /anaconda3/envs/biobb_amber/dat/leap/parm/parm10.dat\n",
      "Reading title:\n",
      "PARM99 + frcmod.ff99SB + frcmod.parmbsc0 + OL3 for RNA\n",
      "Loading parameters: /anaconda3/envs/biobb_amber/dat/leap/parm/frcmod.ff14SB\n",
      "Reading force field modification type file (frcmod)\n",
      "Reading title:\n",
      "ff14SB protein backbone and sidechain parameters\n",
      "Loading library: /anaconda3/envs/biobb_amber/dat/leap/lib/amino12.lib\n",
      "Loading library: /anaconda3/envs/biobb_amber/dat/leap/lib/aminoct12.lib\n",
      "Loading library: /anaconda3/envs/biobb_amber/dat/leap/lib/aminont12.lib\n",
      "Sourcing: ./15e48fcf-90df-48f1-8cc5-4d81617cdb55/leap.in\n",
      "Loading PDB file: ../../test/data/leap/structure.leap.pdb\n",
      "  total atoms in file: 304\n",
      "Writing pdb file: structure.leap.pdb\n",
      "\n",
      "/anaconda3/envs/biobb_amber/bin/teLeap: Warning!\n",
      " Converting N-terminal residue name to PDB format: NASN -> ASN\n",
      "\n",
      "/anaconda3/envs/biobb_amber/bin/teLeap: Warning!\n",
      " Converting C-terminal residue name to PDB format: CSER -> SER\n",
      "Checking Unit.\n",
      "\n",
      "/anaconda3/envs/biobb_amber/bin/teLeap: Warning!\n",
      "The unperturbed charge of the unit (1.000000) is not zero.\n",
      "\n",
      "/anaconda3/envs/biobb_amber/bin/teLeap: Note.\n",
      "Ignoring the warning from Unit Checking.\n",
      "\n",
      "Building topology.\n",
      "Building atom parameters.\n",
      "Building bond parameters.\n",
      "Building angle parameters.\n",
      "Building proper torsion parameters.\n",
      "Building improper torsion parameters.\n",
      " total 63 improper torsions applied\n",
      "Building H-Bond parameters.\n",
      "Incorporating Non-Bonded adjustments.\n",
      "Not Marking per-residue atom chain types.\n",
      "Marking per-residue atom chain types.\n",
      "  (Residues lacking connect0/connect1 - \n",
      "   these don't have chain types marked:\n",
      "\n",
      "\tres\ttotal affected\n",
      "\n",
      "\tCSER\t1\n",
      "\tNASN\t1\n",
      "  )\n",
      " (no restraints)\n",
      "\tQuit\n",
      "\n",
      "Exiting LEaP: Errors = 0; Warnings = 3; Notes = 1.\n",
      "\n",
      "2020-11-27 16:47:20,145 [MainThread  ] [INFO ]  Removed: 15e48fcf-90df-48f1-8cc5-4d81617cdb55\n",
      "2020-11-27 16:47:20,146 [MainThread  ] [INFO ]  Removed: leap.log\n"
     ]
    },
    {
     "data": {
      "text/plain": [
       "0"
      ]
     },
     "execution_count": 12,
     "metadata": {},
     "output_type": "execute_result"
    }
   ],
   "source": [
    "# Create prop dict and inputs/outputs\n",
    "prop = {\n",
    "    \"forcefield\" : \"protein.ff14SB\",\n",
    "    \"remove_tmp\": True\n",
    "}\n",
    "input_file_path = '../../test/data/leap/structure.leap.pdb'\n",
    "output_pdb_path = 'structure.leap.pdb'\n",
    "output_top_path = 'structure.leap.top'\n",
    "output_crd_path = 'structure.leap.crd'\n",
    "\n",
    "# Import module\n",
    "from biobb_amber.leap.leap_gen_top import LeapGenTop\n",
    "\n",
    "# Create and launch bb\n",
    "LeapGenTop(input_pdb_path=input_file_path,\n",
    "           output_pdb_path=output_pdb_path,\n",
    "           output_top_path=output_top_path,\n",
    "           output_crd_path=output_crd_path,\n",
    "           properties=prop).launch()"
   ]
  },
  {
   "cell_type": "code",
   "execution_count": 13,
   "metadata": {},
   "outputs": [
    {
     "data": {
      "application/vnd.jupyter.widget-view+json": {
       "model_id": "982aa35357174f579b82498658c4c89d",
       "version_major": 2,
       "version_minor": 0
      },
      "text/plain": [
       "NGLWidget()"
      ]
     },
     "metadata": {},
     "output_type": "display_data"
    }
   ],
   "source": [
    "import nglview\n",
    "import ipywidgets\n",
    "\n",
    "# Show protein\n",
    "view = nglview.show_structure_file(output_pdb_path)\n",
    "view.add_representation(repr_type='ball+stick', selection='all')\n",
    "view._remote_call('setSize', target='Widget', args=['','600px'])\n",
    "view"
   ]
  },
  {
   "cell_type": "code",
   "execution_count": 14,
   "metadata": {},
   "outputs": [
    {
     "name": "stderr",
     "output_type": "stream",
     "text": [
      "2020-11-27 16:47:33,642 [MainThread  ] [INFO ]  Creating d7fad81b-27ab-4b9e-b8ef-191205c950a5 temporary folder\n",
      "2020-11-27 16:47:33,644 [MainThread  ] [INFO ]  Creating command line with instructions and required arguments\n",
      "2020-11-27 16:47:34,166 [MainThread  ] [INFO ]  tleap  -f d7fad81b-27ab-4b9e-b8ef-191205c950a5/leap.in\n",
      "\n",
      "2020-11-27 16:47:34,168 [MainThread  ] [INFO ]  Exit code 0\n",
      "\n",
      "2020-11-27 16:47:34,169 [MainThread  ] [INFO ]  -I: Adding /anaconda3/envs/biobb_amber/dat/leap/prep to search path.\n",
      "-I: Adding /anaconda3/envs/biobb_amber/dat/leap/lib to search path.\n",
      "-I: Adding /anaconda3/envs/biobb_amber/dat/leap/parm to search path.\n",
      "-I: Adding /anaconda3/envs/biobb_amber/dat/leap/cmd to search path.\n",
      "-f: Source d7fad81b-27ab-4b9e-b8ef-191205c950a5/leap.in.\n",
      "\n",
      "Welcome to LEaP!\n",
      "(no leaprc in search path)\n",
      "Sourcing: ./d7fad81b-27ab-4b9e-b8ef-191205c950a5/leap.in\n",
      "----- Source: /anaconda3/envs/biobb_amber/dat/leap/cmd/leaprc.protein.ff14SB\n",
      "----- Source of /anaconda3/envs/biobb_amber/dat/leap/cmd/leaprc.protein.ff14SB done\n",
      "Log file: ./leap.log\n",
      "Loading parameters: /anaconda3/envs/biobb_amber/dat/leap/parm/parm10.dat\n",
      "Reading title:\n",
      "PARM99 + frcmod.ff99SB + frcmod.parmbsc0 + OL3 for RNA\n",
      "Loading parameters: /anaconda3/envs/biobb_amber/dat/leap/parm/frcmod.ff14SB\n",
      "Reading force field modification type file (frcmod)\n",
      "Reading title:\n",
      "ff14SB protein backbone and sidechain parameters\n",
      "Loading library: /anaconda3/envs/biobb_amber/dat/leap/lib/amino12.lib\n",
      "Loading library: /anaconda3/envs/biobb_amber/dat/leap/lib/aminoct12.lib\n",
      "Loading library: /anaconda3/envs/biobb_amber/dat/leap/lib/aminont12.lib\n",
      "----- Source: /anaconda3/envs/biobb_amber/dat/leap/cmd/leaprc.water.tip3p\n",
      "----- Source of /anaconda3/envs/biobb_amber/dat/leap/cmd/leaprc.water.tip3p done\n",
      "Loading library: /anaconda3/envs/biobb_amber/dat/leap/lib/atomic_ions.lib\n",
      "Loading library: /anaconda3/envs/biobb_amber/dat/leap/lib/solvents.lib\n",
      "Loading parameters: /anaconda3/envs/biobb_amber/dat/leap/parm/frcmod.tip3p\n",
      "Reading force field modification type file (frcmod)\n",
      "Reading title:\n",
      "This is the additional/replacement parameter set for TIP3P water\n",
      "Loading parameters: /anaconda3/envs/biobb_amber/dat/leap/parm/frcmod.ions1lm_126_tip3p\n",
      "Reading force field modification type file (frcmod)\n",
      "Reading title:\n",
      "Li/Merz ion parameters of monovalent ions for TIP3P water model (12-6 normal usage set)\n",
      "Loading parameters: /anaconda3/envs/biobb_amber/dat/leap/parm/frcmod.ionsjc_tip3p\n",
      "Reading force field modification type file (frcmod)\n",
      "Reading title:\n",
      "Monovalent ion parameters for Ewald and TIP3P water from Joung & Cheatham JPCB (2008)\n",
      "Loading parameters: /anaconda3/envs/biobb_amber/dat/leap/parm/frcmod.ions234lm_126_tip3p\n",
      "Reading force field modification type file (frcmod)\n",
      "Reading title:\n",
      "Li/Merz ion parameters of divalent to tetravalent ions for TIP3P water model (12-6 normal usage set)\n",
      "Loading PDB file: ../../test/data/leap/structure.leapin.pdb\n",
      "  Added missing heavy atom: .R<CALA 10>.A<OXT 11>\n",
      "  total atoms in file: 68\n",
      "  Leap added 67 missing atoms according to residue templates:\n",
      "       1 Heavy\n",
      "       66 H / lone pairs\n",
      "Scaling up box by a factor of 1.056709 to meet diagonal cut criterion\n",
      "  Solute vdw bounding box:              38.420 16.204 6.649\n",
      "  Total bounding box for atom centers:  57.441 57.441 57.441\n",
      "      (box expansion for 'iso' is 264.9%)\n",
      "  Solvent unit box:                     18.774 18.774 18.774\n",
      "  Volume: 99797.842 A^3 (oct)\n",
      "  Total mass 51864.242 amu,  Density 0.863 g/cc\n",
      "  Added 2824 residues.\n",
      "Adding 5 counter ions to \"mol\" using 1A grid\n",
      "Grid extends from solute vdw + 2.51  to  8.42\n",
      "Resolution:      1.00 Angstrom.\n",
      "Solvent present: replacing closest with ion\n",
      "\t when steric overlaps occur\n",
      "Calculating grid charges\n",
      "(Replacing solvent molecule)\n",
      "Placed Cl- in mol at (-11.60, 9.10, -16.00).\n",
      "(Replacing solvent molecule)\n",
      "Placed Cl- in mol at (3.22, 1.46, -8.92).\n",
      "(Replacing solvent molecule)\n",
      "Placed Cl- in mol at (-7.43, 4.77, 6.98).\n",
      "(Replacing solvent molecule)\n",
      "Placed Cl- in mol at (-4.32, 5.11, -18.86).\n",
      "(Replacing solvent molecule)\n",
      "Placed Cl- in mol at (-9.06, 4.03, -1.92).\n",
      "\n",
      "Done adding ions.\n",
      "Adding 5 counter ions to \"mol\" using 1A grid\n",
      "Grid extends from solute vdw + 1.37  to  7.88\n",
      "Resolution:      1.00 Angstrom.\n",
      "Solvent present: replacing closest with ion\n",
      "\t when steric overlaps occur\n",
      "Calculating grid charges\n",
      "(Replacing solvent molecule)\n",
      "Placed Na+ in mol at (0.52, 3.08, 8.18).\n",
      "(Replacing solvent molecule)\n",
      "Placed Na+ in mol at (10.05, -4.48, 0.40).\n",
      "(Replacing solvent molecule)\n",
      "Placed Na+ in mol at (9.11, -12.02, 9.43).\n",
      "(Replacing solvent molecule)\n",
      "Placed Na+ in mol at (-3.02, 4.62, -23.14).\n",
      "(Replacing solvent molecule)\n",
      "Placed Na+ in mol at (13.73, -8.94, 14.61).\n",
      "\n",
      "Done adding ions.\n",
      "Writing pdb file: structure.solv.pdb\n",
      "   printing CRYST1 record to PDB file with box info\n",
      "\n",
      "/anaconda3/envs/biobb_amber/bin/teLeap: Warning!\n",
      " Converting N-terminal residue name to PDB format: NALA -> ALA\n",
      "\n",
      "/anaconda3/envs/biobb_amber/bin/teLeap: Warning!\n",
      " Converting C-terminal residue name to PDB format: CALA -> ALA\n",
      "Checking Unit.\n",
      "Building topology.\n",
      "Building atom parameters.\n",
      "Building bond parameters.\n",
      "Building angle parameters.\n",
      "Building proper torsion parameters.\n",
      "Building improper torsion parameters.\n",
      " total 25 improper torsions applied\n",
      "Building H-Bond parameters.\n",
      "Incorporating Non-Bonded adjustments.\n",
      "Not Marking per-residue atom chain types.\n",
      "Marking per-residue atom chain types.\n",
      "  (Residues lacking connect0/connect1 - \n",
      "   these don't have chain types marked:\n",
      "\n",
      "\tres\ttotal affected\n",
      "\n",
      "\tCALA\t1\n",
      "\tNALA\t1\n",
      "\tWAT\t2814\n",
      "  )\n",
      " (no restraints)\n",
      "\tQuit\n",
      "\n",
      "Exiting LEaP: Errors = 0; Warnings = 2; Notes = 0.\n",
      "\n"
     ]
    },
    {
     "data": {
      "text/plain": [
       "0"
      ]
     },
     "execution_count": 14,
     "metadata": {},
     "output_type": "execute_result"
    }
   ],
   "source": [
    "# Create prop dict and inputs/outputs\n",
    "prop = {\n",
    "    \"forcefield\" : \"protein.ff14SB\",\n",
    "    #\"water_type\" : \"SPCBOX\",\n",
    "    \"water_type\": \"TIP3PBOX\",\n",
    "    \"distance_to_molecule\": \"9.0\",\n",
    "    \"neutralise\" : False,\n",
    "    \"positive_ions_number\": 5,\n",
    "    \"negative_ions_number\": 5,    \n",
    "    \"box_type\": \"truncated_octahedron\",\n",
    "    \"remove_tmp\": False\n",
    "}\n",
    "input_file_path = '../../test/data/leap/structure.leapin.pdb'\n",
    "output_pdb_path = 'structure.solv.pdb'\n",
    "output_top_path = 'structure.solv.parmtop'\n",
    "output_crd_path = 'structure.solv.crd'\n",
    "\n",
    "# Import module\n",
    "from biobb_amber.leap.leap_solvate import LeapSolvate\n",
    "\n",
    "# Create and launch bb\n",
    "LeapSolvate(input_pdb_path=input_file_path,\n",
    "           output_pdb_path=output_pdb_path,\n",
    "           output_top_path=output_top_path,\n",
    "           output_crd_path=output_crd_path,\n",
    "           properties=prop).launch()"
   ]
  },
  {
   "cell_type": "code",
   "execution_count": 15,
   "metadata": {},
   "outputs": [
    {
     "data": {
      "application/vnd.jupyter.widget-view+json": {
       "model_id": "24faeeeaa52d47cf9109beac6f151ecf",
       "version_major": 2,
       "version_minor": 0
      },
      "text/plain": [
       "NGLWidget()"
      ]
     },
     "metadata": {},
     "output_type": "display_data"
    }
   ],
   "source": [
    "import nglview\n",
    "import ipywidgets\n",
    "\n",
    "# Show protein\n",
    "view = nglview.show_structure_file(output_pdb_path)\n",
    "view.add_representation(repr_type='ball+stick', selection='all')\n",
    "view._remote_call('setSize', target='Widget', args=['','600px'])\n",
    "view"
   ]
  },
  {
   "cell_type": "code",
   "execution_count": 1,
   "metadata": {},
   "outputs": [
    {
     "name": "stderr",
     "output_type": "stream",
     "text": [
      "2020-12-17 18:21:05,940 [MainThread  ] [INFO ]  Creating bd6cc1b2-5acd-4e7e-84ab-62a686360fb5 temporary folder\n",
      "2020-12-17 18:21:05,946 [MainThread  ] [INFO ]  Creating command line with instructions and required arguments\n",
      "2020-12-17 18:21:09,393 [MainThread  ] [INFO ]  cpinutil.py -p ../../test/data/parmed/cln025.prmtop -o structure.cpin -igb 2 -system cln025 -resnames AS4 GL4 -op structure.cpH.parmtop\n",
      "\n",
      "2020-12-17 18:21:09,394 [MainThread  ] [INFO ]  Exit code 0\n",
      "\n",
      "2020-12-17 18:21:09,396 [MainThread  ] [INFO ]  CPIN generation complete!\n",
      "\n"
     ]
    },
    {
     "data": {
      "text/plain": [
       "0"
      ]
     },
     "execution_count": 1,
     "metadata": {},
     "output_type": "execute_result"
    }
   ],
   "source": [
    "# cpinutil.py -igb 2 -resname AS4 GL4 -p $1.prmtop -op $1.cpH.prmtop\n",
    "\n",
    "# Create prop dict and inputs/outputs\n",
    "prop = {\n",
    "    \"igb\" : 2,\n",
    "    \"resnames\": \"AS4 GL4\",\n",
    "    \"system\": \"cln025\",\n",
    "    \"remove_tmp\": False\n",
    "}\n",
    "input_file_path = '../../test/data/parmed/cln025.prmtop'\n",
    "output_cpin_path = 'structure.cpin'\n",
    "output_top_path = 'structure.cpH.parmtop'\n",
    "\n",
    "# Import module\n",
    "from biobb_amber.parmed.parmed_cpinutil import ParmedCpinUtil\n",
    "\n",
    "# Create and launch bb\n",
    "ParmedCpinUtil(input_top_path=input_file_path,\n",
    "           output_cpin_path=output_cpin_path,\n",
    "           output_top_path=output_top_path,\n",
    "           properties=prop).launch()"
   ]
  },
  {
   "cell_type": "code",
   "execution_count": 2,
   "metadata": {},
   "outputs": [
    {
     "name": "stderr",
     "output_type": "stream",
     "text": [
      "2020-10-11 13:30:08,380 [MainThread  ] [INFO ]  Creating 3c6ef616-4d40-4f5b-a80d-c06176e1dd8c temporary folder\n",
      "2020-10-11 13:30:08,381 [MainThread  ] [INFO ]  Creating command line with instructions and required arguments\n",
      "2020-10-11 13:30:09,787 [MainThread  ] [INFO ]  cpinutil.py -p ../../test/data/parmed/cln025.cpH.prmtop -o structure.cpin -igb 2 -system CLN\n",
      "\n",
      "2020-10-11 13:30:09,789 [MainThread  ] [INFO ]  Exit code 0\n",
      "\n",
      "2020-10-11 13:30:09,791 [MainThread  ] [INFO ]  Warning: Carboxylate residues in explicit solvent simulations require a modified topology file!\n",
      "         Use the -op flag to print one.\n",
      "CPIN generation complete!\n",
      "\n"
     ]
    },
    {
     "data": {
      "text/plain": [
       "0"
      ]
     },
     "execution_count": 2,
     "metadata": {},
     "output_type": "execute_result"
    }
   ],
   "source": [
    "# cpinutil.py -p cln025.cpH.prmtop -igb 2 -system \"CLN\" -o \n",
    "\n",
    "# Create prop dict and inputs/outputs\n",
    "prop = {\n",
    "    \"igb\" : 2,\n",
    "    \"system\": \"CLN\",\n",
    "    \"remove_tmp\": False\n",
    "}\n",
    "input_file_path = '../../test/data/parmed/cln025.cpH.prmtop'\n",
    "output_cpin_path = 'structure.cpin'\n",
    "\n",
    "# Import module\n",
    "from biobb_amber.parmed.parmed_cpinutil import ParmedCpinutil\n",
    "\n",
    "# Create and launch bb\n",
    "ParmedCpinutil(input_top_path=input_file_path,\n",
    "           output_cpin_path=output_cpin_path,\n",
    "           properties=prop).launch()"
   ]
  },
  {
   "cell_type": "code",
   "execution_count": 17,
   "metadata": {},
   "outputs": [
    {
     "name": "stderr",
     "output_type": "stream",
     "text": [
      "2020-11-27 16:48:43,381 [MainThread  ] [INFO ]  Creating 67a4808c-8226-4d58-91ac-b0d6a96cabb7 temporary folder\n",
      "2020-11-27 16:48:43,383 [MainThread  ] [INFO ]  Creating command line with instructions and required arguments\n",
      "2020-11-27 16:49:33,296 [MainThread  ] [INFO ]  sander  -O -i ef390bad-7490-4842-9207-edb48b955084/sander.mdin -p ../../test/data/sander/cln025.prmtop -c ../../test/data/sander/cln025.inpcrd -r sander.cpH.rst -o sander.cpH.log -x sander.cpH.x\n",
      "\n",
      "2020-11-27 16:49:33,298 [MainThread  ] [INFO ]  Exit code 0\n",
      "\n"
     ]
    },
    {
     "data": {
      "text/plain": [
       "0"
      ]
     },
     "execution_count": 17,
     "metadata": {},
     "output_type": "execute_result"
    }
   ],
   "source": [
    "# sander -O -i mdin/min.mdin -p $1.cpH.prmtop -c ph$i/$1.inpcrd -r ph$i/$1.min.rst7 -o ph$i/$1.min.o \n",
    "\n",
    "# Create prop dict and inputs/outputs\n",
    "prop = {\n",
    "    \"mdin\" : { \n",
    "        'type' : \"minimization\",\n",
    "        'maxcyc' : 500\n",
    "    },\n",
    "    \"remove_tmp\": False\n",
    "}\n",
    "input_top_path = '../../test/data/sander/cln025.prmtop'\n",
    "input_crd_path = '../../test/data/sander/cln025.inpcrd'\n",
    "output_traj_path = 'sander.cpH.x'\n",
    "output_rst_path = 'sander.cpH.rst'\n",
    "output_log_path = 'sander.cpH.log'\n",
    "\n",
    "# Import module\n",
    "from biobb_amber.sander.sander_mdrun import SanderMDRun\n",
    "\n",
    "# Create and launch bb\n",
    "SanderMDRun(input_top_path=input_top_path,\n",
    "            input_crd_path=input_crd_path,\n",
    "            output_traj_path=output_traj_path,\n",
    "            output_rst_path=output_rst_path,\n",
    "            output_log_path=output_log_path,\n",
    "            properties=prop).launch()"
   ]
  },
  {
   "cell_type": "code",
   "execution_count": 3,
   "metadata": {},
   "outputs": [
    {
     "name": "stderr",
     "output_type": "stream",
     "text": [
      "2020-10-12 19:24:47,225 [MainThread  ] [INFO ]  Creating 0a8d9501-647d-4368-bb5b-b773f9f56e79 temporary folder\n",
      "2020-10-12 19:24:47,226 [MainThread  ] [INFO ]  Creating command line with instructions and required arguments\n",
      "2020-10-12 19:24:48,224 [MainThread  ] [INFO ]  pdb4amber  -i ../../test/data/pdb4amber/1fsc.pdb -o structure.out.pdb\n",
      "\n",
      "2020-10-12 19:24:48,227 [MainThread  ] [INFO ]  Exit code 0\n",
      "\n",
      "2020-10-12 19:24:48,227 [MainThread  ] [INFO ]  \n",
      "==================================================\n",
      "Summary of pdb4amber for: ../../test/data/pdb4amber/1fsc.pdb\n",
      "===================================================\n",
      "\n",
      "----------Chains\n",
      "The following (original) chains have been found:\n",
      "A\n",
      "\n",
      "---------- Alternate Locations (Original Residues!))\n",
      "\n",
      "The following residues had alternate locations:\n",
      "None\n",
      "-----------Non-standard-resnames\n",
      "UNL\n",
      "\n",
      "---------- Mising heavy atom(s)\n",
      "\n",
      "None\n",
      "\n"
     ]
    },
    {
     "data": {
      "text/plain": [
       "0"
      ]
     },
     "execution_count": 3,
     "metadata": {},
     "output_type": "execute_result"
    }
   ],
   "source": [
    "# Create prop dict and inputs/outputs\n",
    "prop = {\n",
    "    \"remove_tmp\": False\n",
    "}\n",
    "#input_pdb_path = '../../test/data/pdb4amber/structure.in.pdb'\n",
    "input_pdb_path = '../../test/data/pdb4amber/1fsc.pdb'\n",
    "output_pdb_path = 'structure.out.pdb'\n",
    "\n",
    "# Import module\n",
    "from biobb_amber.pdb4amber.pdb4amber import Pdb4amber\n",
    "\n",
    "# Create and launch bb\n",
    "Pdb4amber(input_pdb_path=input_pdb_path,\n",
    "            output_pdb_path=output_pdb_path,\n",
    "            properties=prop).launch()"
   ]
  },
  {
   "cell_type": "code",
   "execution_count": null,
   "metadata": {},
   "outputs": [],
   "source": []
  }
 ],
 "metadata": {
  "kernelspec": {
   "display_name": "Python [conda env:biobb_amber] *",
   "language": "python",
   "name": "conda-env-biobb_amber-py"
  },
  "language_info": {
   "codemirror_mode": {
    "name": "ipython",
    "version": 3
   },
   "file_extension": ".py",
   "mimetype": "text/x-python",
   "name": "python",
   "nbconvert_exporter": "python",
   "pygments_lexer": "ipython3",
   "version": "3.7.8"
  }
 },
 "nbformat": 4,
 "nbformat_minor": 2
}
