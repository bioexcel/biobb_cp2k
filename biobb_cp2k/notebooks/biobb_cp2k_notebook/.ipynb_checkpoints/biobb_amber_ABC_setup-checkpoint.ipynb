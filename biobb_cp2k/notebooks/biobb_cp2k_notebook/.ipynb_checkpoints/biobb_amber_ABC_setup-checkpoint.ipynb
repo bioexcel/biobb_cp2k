{
 "cells": [
  {
   "cell_type": "markdown",
   "metadata": {},
   "source": [
    "# ABC MD Setup pipeline using BioExcel Building Blocks (biobb)\n",
    "\n",
    "***\n",
    "\n",
    "This **BioExcel Building Blocks library (BioBB) workflow** provides a pipeline to setup DNA structures for the **Ascona B-DNA Consortium** (ABC) members. It follows the work started with the [NAFlex](http://mmb.irbbarcelona.org/NAFlex/ABC) tool to offer a single, reproducible pipeline for structure preparation, ensuring **reproducibility** and **coherence** between all the members of the consortium. The **NAFlex pipeline** was used for the preparation of all the simulations done in the study: ***[The static and dynamic structural heterogeneities of B-DNA: extending Calladine–Dickerson rules](https://doi.org/10.1093/nar/gkz905)***. The workflow included in this **Jupyter Notebook** is **extending** and **updating** the **NAFlex pipeline**, and is being used for the **new ABC work**. \n",
    "\n",
    "The **setup process** is performed using the **biobb_amber** module from the **BioBB library**, which is wrapping the **AMBER MD package**. The forcefield used is the **ff14SB**, with the nucleic acids **parmbsc1 forcefield**, **Dang ions parameters** and **SPC/E Water model**.\n",
    "\n",
    "The main **steps of the pipeline** are:\n",
    "\n",
    "- Add missing atoms\n",
    "- Energetically minimize the system (in vacuo)\n",
    "- Solvate structure with a truncated octahedron box, with SCP/E water model\n",
    "- Neutralize the system with Potassium ions\n",
    "- Add an ionic concentration of 150mM of Cl- / K+ ions\n",
    "- Randomize ions around the structure using cpptraj\n",
    "- Energetically minimize the system (in solvent)\n",
    "- Warm up the system (heating) \n",
    "\n",
    "***\n",
    "\n",
    "## Settings\n",
    "\n",
    "### Biobb module used\n",
    "\n",
    " - [biobb_amber](https://github.com/bioexcel/biobb_amber): Tools to setup and run Molecular Dynamics simulations using the AMBER MD package.\n",
    " \n",
    "### Auxiliar libraries used\n",
    "\n",
    " - [nb_conda_kernels](https://github.com/Anaconda-Platform/nb_conda_kernels): Enables a Jupyter Notebook or JupyterLab application in one conda environment to access kernels for Python, R, and other languages found in other environments.\n",
    " - [nglview](http://nglviewer.org/#nglview): Jupyter/IPython widget to interactively view molecular structures and trajectories in notebooks.\n",
    " - [ipywidgets](https://github.com/jupyter-widgets/ipywidgets): Interactive HTML widgets for Jupyter notebooks and the IPython kernel.\n",
    " - [plotly](https://plot.ly/python/offline/): Python interactive graphing library integrated in Jupyter notebooks.\n",
    "\n",
    "### Conda Installation and Launch\n",
    "\n",
    "```console\n",
    " git clone https://github.com/bioexcel/biobb_amber_ABC_MD_setup.git\n",
    " cd biobb_amber_ABC_MD_setup\n",
    " conda env create -f conda_env/environment.yml\n",
    " conda activate biobb_amber_ABC_MD_setup\n",
    " jupyter-nbextension enable --py --user widgetsnbextension\n",
    " jupyter-nbextension enable --py --user nglview\n",
    " jupyter-notebook biobb_wf_md_setup/notebooks/biobb_amber_ABC_MD_setup.ipynb\n",
    "  ``` \n",
    "\n",
    "***\n",
    "## Pipeline steps\n",
    " 1. [Initial Parameters](#input)\n",
    " 2. [Model DNA 3D Structure](#model)\n",
    " 3. [Generate Topology](#top)\n",
    " 4. [Energetically minimize the generated structure (vacuum)](#minv)\n",
    " 5. [Add Water Box](#water)\n",
    " 6. [Add Ions](#ions)\n",
    " 7. [Randomize Ions](#random)\n",
    " 8. [Energetically Minimize the System (solvent)](#mins)\n",
    " 9. [Heating the system](#heat)\n",
    " 10. [Output files](#output)\n",
    " \n",
    "***\n",
    "<table><tr style=\"background: white;\">\n",
    "<td> <img src=\"https://bioexcel.eu/wp-content/uploads/2019/04/Bioexcell_logo_1080px_transp.png\" alt=\"Bioexcel2 logo\" style=\"width: 300px;\"/> </td>\n",
    "<td style=\"width: 100px;\"></td>\n",
    "<td> <img src=\"http://mmb.irbbarcelona.org/NAFlex//images/abc.png\" alt=\"ABC logo\" style=\"width: 200px;\"/> </td>\n",
    "</tr></table>\n",
    "\n",
    "***"
   ]
  },
  {
   "cell_type": "markdown",
   "metadata": {},
   "source": [
    "## Auxiliar libraries"
   ]
  },
  {
   "cell_type": "code",
   "execution_count": 91,
   "metadata": {},
   "outputs": [],
   "source": [
    "import nglview\n",
    "import ipywidgets\n",
    "import plotly\n",
    "import plotly.graph_objs as go"
   ]
  },
  {
   "cell_type": "markdown",
   "metadata": {},
   "source": [
    "<a id=\"input\"></a>\n",
    "## Initial parameters\n",
    "\n",
    "**Input parameters** needed:\n",
    "\n",
    "- **DNA sequence**: Nucleotide sequence to be modelled and prepared for a MD simulation (e.g. GCGCGGCTGATAAACGAAAGC)\n",
    "- **Forcefield**: Forcefield to be used in the setup (e.g. protein.ff14SB). Values: protein.ff14SB, \n",
    "- **Water model**: Water model to be used in the setup (e.g. SPC/E). Values: SPC/E, TIP3PBOX.\n",
    "- **Ion model**: Ion model to be used in the setup (e.g. Dang). Values: Dang, Cheatham.\n",
    "- **Thermostat**: Thermostat to be used in the setup (e.g. ?). Values: ?"
   ]
  },
  {
   "cell_type": "code",
   "execution_count": 92,
   "metadata": {},
   "outputs": [],
   "source": [
    "# Initial Testing\n",
    "# Definition of 7 different protocols:\n",
    "\n",
    "# Protocols: 1-ABC, 2-TIP3P, 3-Joung & Cheatham, 4-Sponer, 5-Charmm, 6-New Thermostat, 7-4fs\n",
    "# Uncomment the desired protocol:\n",
    "#protocol = \"ABC\"\n",
    "protocol = \"TIP3P\"\n",
    "#protocol = \"JoungCheatham\"\n",
    "#protocol = \"Sponer\"\n",
    "#protocol = \"Charmm\"\n",
    "#protocol = \"NewThermostat\"\n",
    "#protocol = \"4fs\"\n",
    "\n",
    "# Nucleotide sequence:\n",
    "seq = \"GCGCGGCTGATAAACGAAAGC\""
   ]
  },
  {
   "cell_type": "code",
   "execution_count": 93,
   "metadata": {},
   "outputs": [],
   "source": [
    "# Assign Parameters depending on the protocol chosen \n",
    "\n",
    "forcefield = [\"DNA.bsc1\"] # ParmBSC1 (ff99 + bsc0 + bsc1) for DNA. Ivani et al. Nature Methods 13: 55, 2016\n",
    "water_model = \"SPCBOX\" # SPC/E + Joung-Chetham monovalent ions + Li/Merz highly charged ions (+2 to +4, 12-6 normal usage set)\n",
    "ions_dang = \"leapin/frcmod.ionsdang_spce\" # NOT INTEGRATED IN AMBERTOOLS 17 (Ambertools CONDA Package)\n",
    "ions_model = \"None\" # NOT using default ions model (Joung & Cheatham)\n",
    "thermostat = 3 # ntt=3: Langevin Dynamics\n",
    "timestep = 0.002 # 2fs timestep\n",
    "\n",
    "if (protocol == \"TIP3P\"):\n",
    "    water_model = \"TIP3PBOX\" # TIP3P + Li/Merz monovalent ions + Joung-Chetham monovalent ions + Li/Merz highly charged ions (+2 to +4, 12-6 normal usage set)\n",
    "elif (protocol == \"JoungCheatham\"):\n",
    "    ions_model = \"ionsjc_spce\" \n",
    "elif (protocol == \"Sponer\"):\n",
    "    forcefield = [\"DNA.OL15\"] # ff99 + bsc0 + OL15 for DNA (OL15: Zgarbova et al. JCTC 11: 5723, 2015)\n",
    "elif (protocol == \"Charmm\"):\n",
    "    forcefield = [\"?????\"] # Charmm ff\n",
    "elif (protocol == \"NewThermostat\"):    \n",
    "    # Besides the original thermostats in sander, new adaptive ones are also introduced to be able to\n",
    "    # absorb the heat production due to the nonconservative force-mixing dynamics. The corresponding \n",
    "    # thermostat can be activated using the ntt command. In general, 5 activates the Nose–Hoover\n",
    "    # (chain)–Langevin, 6 the adaptive Langevin, 7 the adaptive Nose-Hoover chain and 8 the adaptive\n",
    "    # Nose-Hoover (chain)–Langevin thermostat. For adaptive QM/MM ntt=6 or 8 should be used.\n",
    "    thermostat = 6 # ntt=6: Adaptive Langevin thermostat\n",
    "elif (protocol == \"4fs\"):    \n",
    "    timestep = 0.004"
   ]
  },
  {
   "cell_type": "markdown",
   "metadata": {},
   "source": [
    "<a id=\"model\"></a>\n",
    "## Model DNA 3D structure\n",
    "\n",
    "Model **DNA 3D structure** from a **nucleotide sequence** using the **nab tool** from the **AMBER MD package**.\n",
    "***\n",
    "**Building Blocks** used:\n",
    " - [nab_build_dna_structure](https://biobb-amber.readthedocs.io/en/latest/nab.html#module-nab.nab_build_dna_structure) from **biobb_amber.nab.nab_build_dna_structure**\n",
    "***"
   ]
  },
  {
   "cell_type": "code",
   "execution_count": 95,
   "metadata": {},
   "outputs": [
    {
     "name": "stderr",
     "output_type": "stream",
     "text": [
      "2021-01-30 17:03:40,022 [MainThread  ] [INFO ]  Creating fd678d2b-632c-459c-9b90-da24ec290d53 temporary folder\n",
      "2021-01-30 17:03:40,026 [MainThread  ] [INFO ]  Creating command line with instructions and required arguments\n",
      "2021-01-30 17:03:41,905 [MainThread  ] [INFO ]  nab  --compiler gcc --linker gfortran fd678d2b-632c-459c-9b90-da24ec290d53/nuc.nab  ; ./fd678d2b-632c-459c-9b90-da24ec290d53/nuc\n",
      "\n",
      "2021-01-30 17:03:41,910 [MainThread  ] [INFO ]  Exit code 0\n",
      "\n",
      "2021-01-30 17:03:41,911 [MainThread  ] [INFO ]  \n",
      "Running: /anaconda3/envs/biobb_amber/bin/teLeap -s -f leap.in -I/anaconda3/envs/biobb_amber/dat/leap/cmd -I/anaconda3/envs/biobb_amber/dat/leap/parm -I/anaconda3/envs/biobb_amber/dat/leap/prep -I/anaconda3/envs/biobb_amber/dat/leap/lib > tleap.out\n",
      "Reading parm file (tprmtop)\n",
      "title:\n",
      "default_name                                                                    \n",
      "\n",
      "2021-01-30 17:03:41,917 [MainThread  ] [INFO ]  Removed: fd678d2b-632c-459c-9b90-da24ec290d53\n",
      "2021-01-30 17:03:41,919 [MainThread  ] [INFO ]  Removed: nab.log, tleap.out\n"
     ]
    },
    {
     "data": {
      "text/html": [
       "<a href='GCGCGGCTGATAAACGAAAGC.pdb' target='_blank'>GCGCGGCTGATAAACGAAAGC.pdb</a><br>"
      ],
      "text/plain": [
       "/Users/hospital/biobb_tutorials/biobb_amber/biobb_amber/notebooks/biobb_amber_notebook/GCGCGGCTGATAAACGAAAGC.pdb"
      ]
     },
     "metadata": {},
     "output_type": "display_data"
    }
   ],
   "source": [
    "# Import module\n",
    "from biobb_amber.nab.nab_build_dna_structure import nab_build_dna_structure\n",
    "\n",
    "# Create properties dict and inputs/outputs\n",
    "dna_pdb = seq+'.pdb'\n",
    "prop = {\n",
    "    'sequence': seq,\n",
    "    'helix_type': 'abdna', # Right Handed B-DNA, Arnott \n",
    "    'remove_tmp': True\n",
    "}\n",
    "\n",
    "#Create and launch bb\n",
    "nab_build_dna_structure(output_pdb_path=dna_pdb,\n",
    "    properties=prop)"
   ]
  },
  {
   "cell_type": "markdown",
   "metadata": {},
   "source": [
    "# Visualizing 3D structure"
   ]
  },
  {
   "cell_type": "code",
   "execution_count": 77,
   "metadata": {
    "scrolled": false
   },
   "outputs": [
    {
     "data": {
      "application/vnd.jupyter.widget-view+json": {
       "model_id": "c38fe37195774a449ae86ef47452ddb9",
       "version_major": 2,
       "version_minor": 0
      },
      "text/plain": [
       "NGLWidget()"
      ]
     },
     "metadata": {},
     "output_type": "display_data"
    }
   ],
   "source": [
    "# Show protein\n",
    "view = nglview.show_structure_file(dna_pdb)\n",
    "view.add_representation(repr_type='ball+stick', selection='all')\n",
    "view._remote_call('setSize', target='Widget', args=['','600px'])\n",
    "view"
   ]
  },
  {
   "cell_type": "markdown",
   "metadata": {},
   "source": [
    "<a id=\"top\"></a>\n",
    "## Generate Topology\n",
    "\n",
    "Build the **DNA topology** from the **modelled structure** using the **leap tool** from the **AMBER MD package**.<br/>\n",
    "Using the **forcefield** fixed in the first cell.\n",
    "***\n",
    "**Building Blocks** used:\n",
    " - [leap_gen_top](https://biobb-amber.readthedocs.io/en/latest/leap.html#module-leap.leap_gen_top) from **biobb_amber.leap.leap_gen_top**\n",
    "***"
   ]
  },
  {
   "cell_type": "code",
   "execution_count": 78,
   "metadata": {
    "scrolled": true
   },
   "outputs": [
    {
     "name": "stderr",
     "output_type": "stream",
     "text": [
      "2021-01-29 09:20:01,976 [MainThread  ] [INFO ]  Creating 04461d56-2fb9-4dda-8df0-97bd6b5feb92 temporary folder\n",
      "2021-01-29 09:20:01,979 [MainThread  ] [INFO ]  Creating command line with instructions and required arguments\n",
      "2021-01-29 09:20:02,182 [MainThread  ] [INFO ]  tleap  -f 04461d56-2fb9-4dda-8df0-97bd6b5feb92/leap.in\n",
      "\n",
      "2021-01-29 09:20:02,185 [MainThread  ] [INFO ]  Exit code 0\n",
      "\n",
      "2021-01-29 09:20:02,188 [MainThread  ] [INFO ]  -I: Adding /anaconda3/envs/biobb_amber/dat/leap/prep to search path.\n",
      "-I: Adding /anaconda3/envs/biobb_amber/dat/leap/lib to search path.\n",
      "-I: Adding /anaconda3/envs/biobb_amber/dat/leap/parm to search path.\n",
      "-I: Adding /anaconda3/envs/biobb_amber/dat/leap/cmd to search path.\n",
      "-f: Source 04461d56-2fb9-4dda-8df0-97bd6b5feb92/leap.in.\n",
      "\n",
      "Welcome to LEaP!\n",
      "(no leaprc in search path)\n",
      "Sourcing: ./04461d56-2fb9-4dda-8df0-97bd6b5feb92/leap.in\n",
      "----- Source: /anaconda3/envs/biobb_amber/dat/leap/cmd/leaprc.DNA.bsc1\n",
      "----- Source of /anaconda3/envs/biobb_amber/dat/leap/cmd/leaprc.DNA.bsc1 done\n",
      "Log file: ./leap.log\n",
      "Loading parameters: /anaconda3/envs/biobb_amber/dat/leap/parm/parm10.dat\n",
      "Reading title:\n",
      "PARM99 + frcmod.ff99SB + frcmod.parmbsc0 + OL3 for RNA\n",
      "Loading library: /anaconda3/envs/biobb_amber/dat/leap/lib/parmBSC1.lib\n",
      "Loading parameters: /anaconda3/envs/biobb_amber/dat/leap/parm/frcmod.parmbsc1\n",
      "Reading force field modification type file (frcmod)\n",
      "Reading title:\n",
      "Parmbsc1 force-field for DNA\n",
      "Loading PDB file: ./GCGCGGCTGATAAACGAAAGC.pdb\n",
      "  total atoms in file: 1330\n",
      "Writing pdb file: structure.leap.pdb\n",
      "Checking Unit.\n",
      "\n",
      "/anaconda3/envs/biobb_amber/bin/teLeap: Warning!\n",
      "The unperturbed charge of the unit (-40.000000) is not zero.\n",
      "\n",
      "/anaconda3/envs/biobb_amber/bin/teLeap: Note.\n",
      "Ignoring the warning from Unit Checking.\n",
      "\n",
      "Building topology.\n",
      "Building atom parameters.\n",
      "Building bond parameters.\n",
      "Building angle parameters.\n",
      "Building proper torsion parameters.\n",
      "Building improper torsion parameters.\n",
      " total 285 improper torsions applied\n",
      "Building H-Bond parameters.\n",
      "Incorporating Non-Bonded adjustments.\n",
      "Not Marking per-residue atom chain types.\n",
      "Marking per-residue atom chain types.\n",
      " (no restraints)\n",
      "\tQuit\n",
      "\n",
      "Exiting LEaP: Errors = 0; Warnings = 1; Notes = 1.\n",
      "\n",
      "2021-01-29 09:20:02,192 [MainThread  ] [INFO ]  Removed: 04461d56-2fb9-4dda-8df0-97bd6b5feb92\n",
      "2021-01-29 09:20:02,195 [MainThread  ] [INFO ]  Removed: leap.log\n"
     ]
    },
    {
     "data": {
      "text/plain": [
       "0"
      ]
     },
     "execution_count": 78,
     "metadata": {},
     "output_type": "execute_result"
    }
   ],
   "source": [
    "# Import module\n",
    "from biobb_amber.leap.leap_gen_top import leap_gen_top\n",
    "\n",
    "# Create prop dict and inputs/outputs\n",
    "prop = {\n",
    "    \"forcefield\" : forcefield,\n",
    "    \"remove_tmp\": True\n",
    "}\n",
    "dna_leap_pdb_path = 'structure.leap.pdb'\n",
    "dna_leap_top_path = 'structure.leap.top'\n",
    "dna_leap_crd_path = 'structure.leap.crd'\n",
    "\n",
    "# Create and launch bb\n",
    "leap_gen_top(input_pdb_path=dna_pdb,\n",
    "           output_pdb_path=dna_leap_pdb_path,\n",
    "           output_top_path=dna_leap_top_path,\n",
    "           output_crd_path=dna_leap_crd_path,\n",
    "           properties=prop)"
   ]
  },
  {
   "cell_type": "code",
   "execution_count": 79,
   "metadata": {
    "scrolled": true
   },
   "outputs": [
    {
     "data": {
      "application/vnd.jupyter.widget-view+json": {
       "model_id": "290c4bda17844504af749e6a66e8d615",
       "version_major": 2,
       "version_minor": 0
      },
      "text/plain": [
       "NGLWidget()"
      ]
     },
     "metadata": {},
     "output_type": "display_data"
    }
   ],
   "source": [
    "# Show protein\n",
    "view = nglview.show_structure_file(dna_leap_pdb_path)\n",
    "view.add_representation(repr_type='ball+stick', selection='all')\n",
    "view._remote_call('setSize', target='Widget', args=['','600px'])\n",
    "view"
   ]
  },
  {
   "cell_type": "markdown",
   "metadata": {},
   "source": [
    "<a id=\"top4fs\"></a>\n",
    "## Generate Topology with Hydrogen Mass Partitioning (4fs)\n",
    "## [Only needed if interested in performing MD with 4 fs timestep]\n",
    "\n",
    "Modifying the **DNA topology** from the **modelled structure**, tripling the mass of all hydrogens on the system and scaling down the mass of all other atoms using the **parmed tool** from the **AMBER MD package**.<br/>\n",
    "\n",
    "***\n",
    "**Building Blocks** used:\n",
    " - [parmed_hmassrepartition](https://biobb-amber.readthedocs.io/en/latest/parmed.html#module-parmed.parmed_hmassrepartition) from **biobb_amber.parmed.parmed_hmassrepartition**\n",
    "***"
   ]
  },
  {
   "cell_type": "code",
   "execution_count": 80,
   "metadata": {},
   "outputs": [],
   "source": [
    "if (protocol == \"4fs\"):\n",
    "    # Import module\n",
    "    from biobb_amber.parmed.parmed_hmassrepartition import parmed_hmassrepartition\n",
    "\n",
    "    # Create prop dict and inputs/outputs\n",
    "    dna_leap_top_4fs_path = 'structure.leap.4fs.top'\n",
    "\n",
    "    # Create and launch bb\n",
    "    parmed_hmassrepartition(\n",
    "        input_top_path=dna_leap_top_path,\n",
    "        output_top_path=dna_leap_top_4fs_path\n",
    "    )\n",
    "    \n",
    "    # Changing old topology with the new modified topology \n",
    "    dna_leap_top_path = dna_leap_top_4fs_path"
   ]
  },
  {
   "cell_type": "markdown",
   "metadata": {},
   "source": [
    "<a id=\"minv\"></a>\n",
    "## Energetically minimize the generated structure\n",
    "\n",
    "**Energetically minimize** the **DNA structure** (in vacuo) using the **sander tool** from the **AMBER MD package**.<br/>\n",
    "The miminization process is done in two steps:\n",
    "- [Step 1](#minv_1): **Hydrogen** minimization, applying **position restraints** (500 Kcal/mol.$Å^{2}$) to the **DNA heavy atoms**.\n",
    "- [Step 2](#minv_2): **System** minimization, with **no restraints**.\n",
    "***\n",
    "**Building Blocks** used:\n",
    " - [sander_mdrun](https://biobb-amber.readthedocs.io/en/latest/sander.html#module-sander.sander_mdrun) from **biobb_amber.sander.sander_mdrun**\n",
    " - [process_minout](https://biobb-amber.readthedocs.io/en/latest/process.html#module-process.process_minout) from **biobb_amber.process.process_minout**\n",
    "***"
   ]
  },
  {
   "cell_type": "markdown",
   "metadata": {},
   "source": [
    "<a id=\"minv_1\"></a>\n",
    "### Step 1: Minimize Hydrogens\n",
    "**Hydrogen** minimization, applying **position restraints** (500 Kcal/mol.$Å^{2}$) to the **DNA heavy atoms**."
   ]
  },
  {
   "cell_type": "code",
   "execution_count": 81,
   "metadata": {},
   "outputs": [
    {
     "name": "stderr",
     "output_type": "stream",
     "text": [
      "2021-01-29 09:20:02,400 [MainThread  ] [INFO ]  Creating 87b5e6be-1c0a-4f88-8f73-fb1cf2d0f54a temporary folder\n",
      "2021-01-29 09:20:02,401 [MainThread  ] [INFO ]  Creating command line with instructions and required arguments\n",
      "2021-01-29 09:20:12,011 [MainThread  ] [INFO ]  sander -O -i 87b5e6be-1c0a-4f88-8f73-fb1cf2d0f54a/sander.mdin -p structure.leap.top -c structure.leap.crd -r sander.h_min.rst -o sander.h_min.log -x sander.h_min.x -ref  structure.leap.crd\n",
      "\n",
      "2021-01-29 09:20:12,013 [MainThread  ] [INFO ]  Exit code 0\n",
      "\n",
      "2021-01-29 09:20:12,015 [MainThread  ] [INFO ]  Removed: mdinfo, 87b5e6be-1c0a-4f88-8f73-fb1cf2d0f54a\n"
     ]
    },
    {
     "data": {
      "text/plain": [
       "0"
      ]
     },
     "execution_count": 81,
     "metadata": {},
     "output_type": "execute_result"
    }
   ],
   "source": [
    "# Import module\n",
    "from biobb_amber.sander.sander_mdrun import sander_mdrun\n",
    "\n",
    "# Create prop dict and inputs/outputs\n",
    "prop = {\n",
    "    'simulation_type' : \"min_vacuo\",\n",
    "    \"mdin\" : { \n",
    "        'maxcyc' : 500,\n",
    "        'ntpr' : 5,\n",
    "        'ntr' : 1,\n",
    "        'restraintmask' : '\\\":*&!@H=\\\"',\n",
    "        'restraint_wt' : 500.0\n",
    "        #'dt' : 0.001\n",
    "    },\n",
    "    \"remove_tmp\": True\n",
    "}\n",
    "output_h_min_traj_path = 'sander.h_min.x'\n",
    "output_h_min_rst_path = 'sander.h_min.rst'\n",
    "output_h_min_log_path = 'sander.h_min.log'\n",
    "\n",
    "\n",
    "# Create and launch bb\n",
    "sander_mdrun(input_top_path=dna_leap_top_path,\n",
    "            input_crd_path=dna_leap_crd_path,\n",
    "            input_ref_path=dna_leap_crd_path,\n",
    "            output_traj_path=output_h_min_traj_path,\n",
    "            output_rst_path=output_h_min_rst_path,\n",
    "            output_log_path=output_h_min_log_path,\n",
    "            properties=prop)"
   ]
  },
  {
   "cell_type": "markdown",
   "metadata": {},
   "source": [
    "### Checking Energy Minimization results\n",
    "Checking **energy minimization** results. Plotting **potential energy** by time during the **minimization process**."
   ]
  },
  {
   "cell_type": "code",
   "execution_count": 82,
   "metadata": {},
   "outputs": [
    {
     "name": "stderr",
     "output_type": "stream",
     "text": [
      "2021-01-29 09:20:12,106 [MainThread  ] [INFO ]  Creating command line with instructions and required arguments\n",
      "2021-01-29 09:20:12,267 [MainThread  ] [INFO ]  process_minout.perl  sander.h_min.log\n",
      "\n",
      "2021-01-29 09:20:12,270 [MainThread  ] [INFO ]  Exit code 0\n",
      "\n",
      "2021-01-29 09:20:12,273 [MainThread  ] [INFO ]  Processing sander output file (sander.h_min.log)...\n",
      "Processing step 50 of a possible 500...\n",
      "Processing step 100 of a possible 500...\n",
      "Processing step 150 of a possible 500...\n",
      "Processing step 200 of a possible 500...\n",
      "Processing step 250 of a possible 500...\n",
      "Processing step 300 of a possible 500...\n",
      "Processing step 350 of a possible 500...\n",
      "Processing step 400 of a possible 500...\n",
      "Processing step 450 of a possible 500...\n",
      "Processing step 500 of a possible 500...\n",
      "Processing step 500 of a possible 500...\n",
      "Starting output...\n",
      "Outputing summary.NSTEP\n",
      "Outputing summary.ENERGY\n",
      "Outputing summary.RMS\n",
      "Outputing summary.GMAX\n",
      "Outputing summary.NAME\n",
      "Outputing summary.NUMBER\n",
      "Outputing summary.BOND\n",
      "Outputing summary.ANGLE\n",
      "Outputing summary.DIHEDRAL\n",
      "Outputing summary.VDWAALS\n",
      "Outputing summary.EEL\n",
      "Outputing summary.HBOND\n",
      "Outputing summary.VDW14\n",
      "Outputing summary.EEL14\n",
      "Outputing summary.RESTRAINT\n",
      "\n",
      "2021-01-29 09:20:12,307 [MainThread  ] [INFO ]  Removed: [PosixPath('summary.ANGLE'), PosixPath('summary.BOND'), PosixPath('summary.DIHEDRAL'), PosixPath('summary.EEL'), PosixPath('summary.EEL14'), PosixPath('summary.ENERGY'), PosixPath('summary.GMAX'), PosixPath('summary.HBOND'), PosixPath('summary.NAME'), PosixPath('summary.NSTEP'), PosixPath('summary.NUMBER'), PosixPath('summary.RESTRAINT'), PosixPath('summary.RMS'), PosixPath('summary.VDW14'), PosixPath('summary.VDWAALS')]\n"
     ]
    },
    {
     "data": {
      "text/plain": [
       "0"
      ]
     },
     "execution_count": 82,
     "metadata": {},
     "output_type": "execute_result"
    }
   ],
   "source": [
    "# Import module\n",
    "from biobb_amber.process.process_minout import process_minout\n",
    "\n",
    "# Create prop dict and inputs/outputs\n",
    "prop = {\n",
    "    \"terms\" : ['ENERGY'],\n",
    "    \"remove_tmp\": True\n",
    "}\n",
    "output_h_min_dat_path = 'sander.h_min.energy.dat'\n",
    "\n",
    "# Create and launch bb\n",
    "process_minout(input_log_path=output_h_min_log_path,\n",
    "            output_dat_path=output_h_min_dat_path,\n",
    "            properties=prop)  "
   ]
  },
  {
   "cell_type": "code",
   "execution_count": 83,
   "metadata": {},
   "outputs": [
    {
     "data": {
      "text/html": [
       "        <script type=\"text/javascript\">\n",
       "        window.PlotlyConfig = {MathJaxConfig: 'local'};\n",
       "        if (window.MathJax) {MathJax.Hub.Config({SVG: {font: \"STIX-Web\"}});}\n",
       "        if (typeof require !== 'undefined') {\n",
       "        require.undef(\"plotly\");\n",
       "        requirejs.config({\n",
       "            paths: {\n",
       "                'plotly': ['https://cdn.plot.ly/plotly-latest.min']\n",
       "            }\n",
       "        });\n",
       "        require(['plotly'], function(Plotly) {\n",
       "            window._Plotly = Plotly;\n",
       "        });\n",
       "        }\n",
       "        </script>\n",
       "        "
      ]
     },
     "metadata": {},
     "output_type": "display_data"
    },
    {
     "data": {
      "application/vnd.plotly.v1+json": {
       "config": {
        "linkText": "Export to plot.ly",
        "plotlyServerURL": "https://plot.ly",
        "showLink": false
       },
       "data": [
        {
         "type": "scatter",
         "x": [
          1,
          5,
          10,
          15,
          20,
          25,
          30,
          35,
          40,
          45,
          50,
          55,
          60,
          65,
          70,
          75,
          80,
          85,
          90,
          95,
          100,
          105,
          110,
          115,
          120,
          125,
          130,
          135,
          140,
          145,
          150,
          155,
          160,
          165,
          170,
          175,
          180,
          185,
          190,
          195,
          200,
          205,
          210,
          215,
          220,
          225,
          230,
          235,
          240,
          245,
          250,
          255,
          260,
          265,
          270,
          275,
          280,
          285,
          290,
          295,
          300,
          305,
          310,
          315,
          320,
          325,
          330,
          335,
          340,
          345,
          350,
          355,
          360,
          365,
          370,
          375,
          380,
          385,
          390,
          395,
          400,
          405,
          410,
          415,
          420,
          425,
          430,
          435,
          440,
          445,
          450,
          455,
          460,
          465,
          470,
          475,
          480,
          485,
          490,
          495,
          500
         ],
         "y": [
          -4216,
          -4287,
          -4444.5,
          -4667.1,
          -5001.4,
          -6458,
          -6575.7,
          -6598.3,
          -6632.2,
          -6648.3,
          -6395.5,
          -6404.8,
          -6411.3,
          -6416.7,
          -6424.3,
          -6531.4,
          -6534.4,
          -6536.2,
          -6538.2,
          -6540.2,
          -6565.4,
          -6566,
          -6568.6,
          -6569.9,
          -6571.4,
          -6662.8,
          -6664.2,
          -6665.6,
          -6667.1,
          -6668.5,
          -6616,
          -6617.2,
          -6618.5,
          -6619.7,
          -6620.8,
          -6686.5,
          -6687.6,
          -6689.2,
          -6689.7,
          -6690.7,
          -6571.6,
          -6572.6,
          -6573.4,
          -6574.3,
          -6575.2,
          -6673.4,
          -6674.2,
          -6675.1,
          -6675.7,
          -6676.5,
          -6629.6,
          -6632.9,
          -6639.7,
          -6643.7,
          -6644.7,
          -6715.5,
          -6714.6,
          -6716,
          -6716.3,
          -6716.3,
          -6655.5,
          -6644.4,
          -6655.6,
          -6655.6,
          -6655.6,
          -6669.4,
          -6664.3,
          -6669.5,
          -6669.5,
          -6669.6,
          -6683.2,
          -6675.5,
          -6683.3,
          -6683.3,
          -6683.3,
          -6670.7,
          -6656,
          -6670.8,
          -6670.8,
          -6670.8,
          -6678.5,
          -6670.7,
          -6678.6,
          -6678.6,
          -6678.6,
          -6658.9,
          -6641.7,
          -6659,
          -6659,
          -6659,
          -6669.2,
          -6658,
          -6669.2,
          -6669.2,
          -6669.2,
          -6665.7,
          -6648.2,
          -6665.7,
          -6665.8,
          -6665.8,
          -6693.1
         ]
        }
       ],
       "layout": {
        "template": {
         "data": {
          "bar": [
           {
            "error_x": {
             "color": "#2a3f5f"
            },
            "error_y": {
             "color": "#2a3f5f"
            },
            "marker": {
             "line": {
              "color": "#E5ECF6",
              "width": 0.5
             }
            },
            "type": "bar"
           }
          ],
          "barpolar": [
           {
            "marker": {
             "line": {
              "color": "#E5ECF6",
              "width": 0.5
             }
            },
            "type": "barpolar"
           }
          ],
          "carpet": [
           {
            "aaxis": {
             "endlinecolor": "#2a3f5f",
             "gridcolor": "white",
             "linecolor": "white",
             "minorgridcolor": "white",
             "startlinecolor": "#2a3f5f"
            },
            "baxis": {
             "endlinecolor": "#2a3f5f",
             "gridcolor": "white",
             "linecolor": "white",
             "minorgridcolor": "white",
             "startlinecolor": "#2a3f5f"
            },
            "type": "carpet"
           }
          ],
          "choropleth": [
           {
            "colorbar": {
             "outlinewidth": 0,
             "ticks": ""
            },
            "type": "choropleth"
           }
          ],
          "contour": [
           {
            "colorbar": {
             "outlinewidth": 0,
             "ticks": ""
            },
            "colorscale": [
             [
              0,
              "#0d0887"
             ],
             [
              0.1111111111111111,
              "#46039f"
             ],
             [
              0.2222222222222222,
              "#7201a8"
             ],
             [
              0.3333333333333333,
              "#9c179e"
             ],
             [
              0.4444444444444444,
              "#bd3786"
             ],
             [
              0.5555555555555556,
              "#d8576b"
             ],
             [
              0.6666666666666666,
              "#ed7953"
             ],
             [
              0.7777777777777778,
              "#fb9f3a"
             ],
             [
              0.8888888888888888,
              "#fdca26"
             ],
             [
              1,
              "#f0f921"
             ]
            ],
            "type": "contour"
           }
          ],
          "contourcarpet": [
           {
            "colorbar": {
             "outlinewidth": 0,
             "ticks": ""
            },
            "type": "contourcarpet"
           }
          ],
          "heatmap": [
           {
            "colorbar": {
             "outlinewidth": 0,
             "ticks": ""
            },
            "colorscale": [
             [
              0,
              "#0d0887"
             ],
             [
              0.1111111111111111,
              "#46039f"
             ],
             [
              0.2222222222222222,
              "#7201a8"
             ],
             [
              0.3333333333333333,
              "#9c179e"
             ],
             [
              0.4444444444444444,
              "#bd3786"
             ],
             [
              0.5555555555555556,
              "#d8576b"
             ],
             [
              0.6666666666666666,
              "#ed7953"
             ],
             [
              0.7777777777777778,
              "#fb9f3a"
             ],
             [
              0.8888888888888888,
              "#fdca26"
             ],
             [
              1,
              "#f0f921"
             ]
            ],
            "type": "heatmap"
           }
          ],
          "heatmapgl": [
           {
            "colorbar": {
             "outlinewidth": 0,
             "ticks": ""
            },
            "colorscale": [
             [
              0,
              "#0d0887"
             ],
             [
              0.1111111111111111,
              "#46039f"
             ],
             [
              0.2222222222222222,
              "#7201a8"
             ],
             [
              0.3333333333333333,
              "#9c179e"
             ],
             [
              0.4444444444444444,
              "#bd3786"
             ],
             [
              0.5555555555555556,
              "#d8576b"
             ],
             [
              0.6666666666666666,
              "#ed7953"
             ],
             [
              0.7777777777777778,
              "#fb9f3a"
             ],
             [
              0.8888888888888888,
              "#fdca26"
             ],
             [
              1,
              "#f0f921"
             ]
            ],
            "type": "heatmapgl"
           }
          ],
          "histogram": [
           {
            "marker": {
             "colorbar": {
              "outlinewidth": 0,
              "ticks": ""
             }
            },
            "type": "histogram"
           }
          ],
          "histogram2d": [
           {
            "colorbar": {
             "outlinewidth": 0,
             "ticks": ""
            },
            "colorscale": [
             [
              0,
              "#0d0887"
             ],
             [
              0.1111111111111111,
              "#46039f"
             ],
             [
              0.2222222222222222,
              "#7201a8"
             ],
             [
              0.3333333333333333,
              "#9c179e"
             ],
             [
              0.4444444444444444,
              "#bd3786"
             ],
             [
              0.5555555555555556,
              "#d8576b"
             ],
             [
              0.6666666666666666,
              "#ed7953"
             ],
             [
              0.7777777777777778,
              "#fb9f3a"
             ],
             [
              0.8888888888888888,
              "#fdca26"
             ],
             [
              1,
              "#f0f921"
             ]
            ],
            "type": "histogram2d"
           }
          ],
          "histogram2dcontour": [
           {
            "colorbar": {
             "outlinewidth": 0,
             "ticks": ""
            },
            "colorscale": [
             [
              0,
              "#0d0887"
             ],
             [
              0.1111111111111111,
              "#46039f"
             ],
             [
              0.2222222222222222,
              "#7201a8"
             ],
             [
              0.3333333333333333,
              "#9c179e"
             ],
             [
              0.4444444444444444,
              "#bd3786"
             ],
             [
              0.5555555555555556,
              "#d8576b"
             ],
             [
              0.6666666666666666,
              "#ed7953"
             ],
             [
              0.7777777777777778,
              "#fb9f3a"
             ],
             [
              0.8888888888888888,
              "#fdca26"
             ],
             [
              1,
              "#f0f921"
             ]
            ],
            "type": "histogram2dcontour"
           }
          ],
          "mesh3d": [
           {
            "colorbar": {
             "outlinewidth": 0,
             "ticks": ""
            },
            "type": "mesh3d"
           }
          ],
          "parcoords": [
           {
            "line": {
             "colorbar": {
              "outlinewidth": 0,
              "ticks": ""
             }
            },
            "type": "parcoords"
           }
          ],
          "pie": [
           {
            "automargin": true,
            "type": "pie"
           }
          ],
          "scatter": [
           {
            "marker": {
             "colorbar": {
              "outlinewidth": 0,
              "ticks": ""
             }
            },
            "type": "scatter"
           }
          ],
          "scatter3d": [
           {
            "line": {
             "colorbar": {
              "outlinewidth": 0,
              "ticks": ""
             }
            },
            "marker": {
             "colorbar": {
              "outlinewidth": 0,
              "ticks": ""
             }
            },
            "type": "scatter3d"
           }
          ],
          "scattercarpet": [
           {
            "marker": {
             "colorbar": {
              "outlinewidth": 0,
              "ticks": ""
             }
            },
            "type": "scattercarpet"
           }
          ],
          "scattergeo": [
           {
            "marker": {
             "colorbar": {
              "outlinewidth": 0,
              "ticks": ""
             }
            },
            "type": "scattergeo"
           }
          ],
          "scattergl": [
           {
            "marker": {
             "colorbar": {
              "outlinewidth": 0,
              "ticks": ""
             }
            },
            "type": "scattergl"
           }
          ],
          "scattermapbox": [
           {
            "marker": {
             "colorbar": {
              "outlinewidth": 0,
              "ticks": ""
             }
            },
            "type": "scattermapbox"
           }
          ],
          "scatterpolar": [
           {
            "marker": {
             "colorbar": {
              "outlinewidth": 0,
              "ticks": ""
             }
            },
            "type": "scatterpolar"
           }
          ],
          "scatterpolargl": [
           {
            "marker": {
             "colorbar": {
              "outlinewidth": 0,
              "ticks": ""
             }
            },
            "type": "scatterpolargl"
           }
          ],
          "scatterternary": [
           {
            "marker": {
             "colorbar": {
              "outlinewidth": 0,
              "ticks": ""
             }
            },
            "type": "scatterternary"
           }
          ],
          "surface": [
           {
            "colorbar": {
             "outlinewidth": 0,
             "ticks": ""
            },
            "colorscale": [
             [
              0,
              "#0d0887"
             ],
             [
              0.1111111111111111,
              "#46039f"
             ],
             [
              0.2222222222222222,
              "#7201a8"
             ],
             [
              0.3333333333333333,
              "#9c179e"
             ],
             [
              0.4444444444444444,
              "#bd3786"
             ],
             [
              0.5555555555555556,
              "#d8576b"
             ],
             [
              0.6666666666666666,
              "#ed7953"
             ],
             [
              0.7777777777777778,
              "#fb9f3a"
             ],
             [
              0.8888888888888888,
              "#fdca26"
             ],
             [
              1,
              "#f0f921"
             ]
            ],
            "type": "surface"
           }
          ],
          "table": [
           {
            "cells": {
             "fill": {
              "color": "#EBF0F8"
             },
             "line": {
              "color": "white"
             }
            },
            "header": {
             "fill": {
              "color": "#C8D4E3"
             },
             "line": {
              "color": "white"
             }
            },
            "type": "table"
           }
          ]
         },
         "layout": {
          "annotationdefaults": {
           "arrowcolor": "#2a3f5f",
           "arrowhead": 0,
           "arrowwidth": 1
          },
          "autotypenumbers": "strict",
          "coloraxis": {
           "colorbar": {
            "outlinewidth": 0,
            "ticks": ""
           }
          },
          "colorscale": {
           "diverging": [
            [
             0,
             "#8e0152"
            ],
            [
             0.1,
             "#c51b7d"
            ],
            [
             0.2,
             "#de77ae"
            ],
            [
             0.3,
             "#f1b6da"
            ],
            [
             0.4,
             "#fde0ef"
            ],
            [
             0.5,
             "#f7f7f7"
            ],
            [
             0.6,
             "#e6f5d0"
            ],
            [
             0.7,
             "#b8e186"
            ],
            [
             0.8,
             "#7fbc41"
            ],
            [
             0.9,
             "#4d9221"
            ],
            [
             1,
             "#276419"
            ]
           ],
           "sequential": [
            [
             0,
             "#0d0887"
            ],
            [
             0.1111111111111111,
             "#46039f"
            ],
            [
             0.2222222222222222,
             "#7201a8"
            ],
            [
             0.3333333333333333,
             "#9c179e"
            ],
            [
             0.4444444444444444,
             "#bd3786"
            ],
            [
             0.5555555555555556,
             "#d8576b"
            ],
            [
             0.6666666666666666,
             "#ed7953"
            ],
            [
             0.7777777777777778,
             "#fb9f3a"
            ],
            [
             0.8888888888888888,
             "#fdca26"
            ],
            [
             1,
             "#f0f921"
            ]
           ],
           "sequentialminus": [
            [
             0,
             "#0d0887"
            ],
            [
             0.1111111111111111,
             "#46039f"
            ],
            [
             0.2222222222222222,
             "#7201a8"
            ],
            [
             0.3333333333333333,
             "#9c179e"
            ],
            [
             0.4444444444444444,
             "#bd3786"
            ],
            [
             0.5555555555555556,
             "#d8576b"
            ],
            [
             0.6666666666666666,
             "#ed7953"
            ],
            [
             0.7777777777777778,
             "#fb9f3a"
            ],
            [
             0.8888888888888888,
             "#fdca26"
            ],
            [
             1,
             "#f0f921"
            ]
           ]
          },
          "colorway": [
           "#636efa",
           "#EF553B",
           "#00cc96",
           "#ab63fa",
           "#FFA15A",
           "#19d3f3",
           "#FF6692",
           "#B6E880",
           "#FF97FF",
           "#FECB52"
          ],
          "font": {
           "color": "#2a3f5f"
          },
          "geo": {
           "bgcolor": "white",
           "lakecolor": "white",
           "landcolor": "#E5ECF6",
           "showlakes": true,
           "showland": true,
           "subunitcolor": "white"
          },
          "hoverlabel": {
           "align": "left"
          },
          "hovermode": "closest",
          "mapbox": {
           "style": "light"
          },
          "paper_bgcolor": "white",
          "plot_bgcolor": "#E5ECF6",
          "polar": {
           "angularaxis": {
            "gridcolor": "white",
            "linecolor": "white",
            "ticks": ""
           },
           "bgcolor": "#E5ECF6",
           "radialaxis": {
            "gridcolor": "white",
            "linecolor": "white",
            "ticks": ""
           }
          },
          "scene": {
           "xaxis": {
            "backgroundcolor": "#E5ECF6",
            "gridcolor": "white",
            "gridwidth": 2,
            "linecolor": "white",
            "showbackground": true,
            "ticks": "",
            "zerolinecolor": "white"
           },
           "yaxis": {
            "backgroundcolor": "#E5ECF6",
            "gridcolor": "white",
            "gridwidth": 2,
            "linecolor": "white",
            "showbackground": true,
            "ticks": "",
            "zerolinecolor": "white"
           },
           "zaxis": {
            "backgroundcolor": "#E5ECF6",
            "gridcolor": "white",
            "gridwidth": 2,
            "linecolor": "white",
            "showbackground": true,
            "ticks": "",
            "zerolinecolor": "white"
           }
          },
          "shapedefaults": {
           "line": {
            "color": "#2a3f5f"
           }
          },
          "ternary": {
           "aaxis": {
            "gridcolor": "white",
            "linecolor": "white",
            "ticks": ""
           },
           "baxis": {
            "gridcolor": "white",
            "linecolor": "white",
            "ticks": ""
           },
           "bgcolor": "#E5ECF6",
           "caxis": {
            "gridcolor": "white",
            "linecolor": "white",
            "ticks": ""
           }
          },
          "title": {
           "x": 0.05
          },
          "xaxis": {
           "automargin": true,
           "gridcolor": "white",
           "linecolor": "white",
           "ticks": "",
           "title": {
            "standoff": 15
           },
           "zerolinecolor": "white",
           "zerolinewidth": 2
          },
          "yaxis": {
           "automargin": true,
           "gridcolor": "white",
           "linecolor": "white",
           "ticks": "",
           "title": {
            "standoff": 15
           },
           "zerolinecolor": "white",
           "zerolinewidth": 2
          }
         }
        },
        "title": {
         "text": "Energy Minimization"
        },
        "xaxis": {
         "title": {
          "text": "Energy Minimization Step"
         }
        },
        "yaxis": {
         "title": {
          "text": "Potential Energy kcal/mol"
         }
        }
       }
      },
      "text/html": [
       "<div>                            <div id=\"a5a99747-5ee6-4278-a165-35f171aeb9fc\" class=\"plotly-graph-div\" style=\"height:525px; width:100%;\"></div>            <script type=\"text/javascript\">                require([\"plotly\"], function(Plotly) {                    window.PLOTLYENV=window.PLOTLYENV || {};                                    if (document.getElementById(\"a5a99747-5ee6-4278-a165-35f171aeb9fc\")) {                    Plotly.newPlot(                        \"a5a99747-5ee6-4278-a165-35f171aeb9fc\",                        [{\"type\": \"scatter\", \"x\": [1.0, 5.0, 10.0, 15.0, 20.0, 25.0, 30.0, 35.0, 40.0, 45.0, 50.0, 55.0, 60.0, 65.0, 70.0, 75.0, 80.0, 85.0, 90.0, 95.0, 100.0, 105.0, 110.0, 115.0, 120.0, 125.0, 130.0, 135.0, 140.0, 145.0, 150.0, 155.0, 160.0, 165.0, 170.0, 175.0, 180.0, 185.0, 190.0, 195.0, 200.0, 205.0, 210.0, 215.0, 220.0, 225.0, 230.0, 235.0, 240.0, 245.0, 250.0, 255.0, 260.0, 265.0, 270.0, 275.0, 280.0, 285.0, 290.0, 295.0, 300.0, 305.0, 310.0, 315.0, 320.0, 325.0, 330.0, 335.0, 340.0, 345.0, 350.0, 355.0, 360.0, 365.0, 370.0, 375.0, 380.0, 385.0, 390.0, 395.0, 400.0, 405.0, 410.0, 415.0, 420.0, 425.0, 430.0, 435.0, 440.0, 445.0, 450.0, 455.0, 460.0, 465.0, 470.0, 475.0, 480.0, 485.0, 490.0, 495.0, 500.0], \"y\": [-4216.0, -4287.0, -4444.5, -4667.1, -5001.4, -6458.0, -6575.7, -6598.3, -6632.2, -6648.3, -6395.5, -6404.8, -6411.3, -6416.7, -6424.3, -6531.4, -6534.4, -6536.2, -6538.2, -6540.2, -6565.4, -6566.0, -6568.6, -6569.9, -6571.4, -6662.8, -6664.2, -6665.6, -6667.1, -6668.5, -6616.0, -6617.2, -6618.5, -6619.7, -6620.8, -6686.5, -6687.6, -6689.2, -6689.7, -6690.7, -6571.6, -6572.6, -6573.4, -6574.3, -6575.2, -6673.4, -6674.2, -6675.1, -6675.7, -6676.5, -6629.6, -6632.9, -6639.7, -6643.7, -6644.7, -6715.5, -6714.6, -6716.0, -6716.3, -6716.3, -6655.5, -6644.4, -6655.6, -6655.6, -6655.6, -6669.4, -6664.3, -6669.5, -6669.5, -6669.6, -6683.2, -6675.5, -6683.3, -6683.3, -6683.3, -6670.7, -6656.0, -6670.8, -6670.8, -6670.8, -6678.5, -6670.7, -6678.6, -6678.6, -6678.6, -6658.9, -6641.7, -6659.0, -6659.0, -6659.0, -6669.2, -6658.0, -6669.2, -6669.2, -6669.2, -6665.7, -6648.2, -6665.7, -6665.8, -6665.8, -6693.1]}],                        {\"template\": {\"data\": {\"bar\": [{\"error_x\": {\"color\": \"#2a3f5f\"}, \"error_y\": {\"color\": \"#2a3f5f\"}, \"marker\": {\"line\": {\"color\": \"#E5ECF6\", \"width\": 0.5}}, \"type\": \"bar\"}], \"barpolar\": [{\"marker\": {\"line\": {\"color\": \"#E5ECF6\", \"width\": 0.5}}, \"type\": \"barpolar\"}], \"carpet\": [{\"aaxis\": {\"endlinecolor\": \"#2a3f5f\", \"gridcolor\": \"white\", \"linecolor\": \"white\", \"minorgridcolor\": \"white\", \"startlinecolor\": \"#2a3f5f\"}, \"baxis\": {\"endlinecolor\": \"#2a3f5f\", \"gridcolor\": \"white\", \"linecolor\": \"white\", \"minorgridcolor\": \"white\", \"startlinecolor\": \"#2a3f5f\"}, \"type\": \"carpet\"}], \"choropleth\": [{\"colorbar\": {\"outlinewidth\": 0, \"ticks\": \"\"}, \"type\": \"choropleth\"}], \"contour\": [{\"colorbar\": {\"outlinewidth\": 0, \"ticks\": \"\"}, \"colorscale\": [[0.0, \"#0d0887\"], [0.1111111111111111, \"#46039f\"], [0.2222222222222222, \"#7201a8\"], [0.3333333333333333, \"#9c179e\"], [0.4444444444444444, \"#bd3786\"], [0.5555555555555556, \"#d8576b\"], [0.6666666666666666, \"#ed7953\"], [0.7777777777777778, \"#fb9f3a\"], [0.8888888888888888, \"#fdca26\"], [1.0, \"#f0f921\"]], \"type\": \"contour\"}], \"contourcarpet\": [{\"colorbar\": {\"outlinewidth\": 0, \"ticks\": \"\"}, \"type\": \"contourcarpet\"}], \"heatmap\": [{\"colorbar\": {\"outlinewidth\": 0, \"ticks\": \"\"}, \"colorscale\": [[0.0, \"#0d0887\"], [0.1111111111111111, \"#46039f\"], [0.2222222222222222, \"#7201a8\"], [0.3333333333333333, \"#9c179e\"], [0.4444444444444444, \"#bd3786\"], [0.5555555555555556, \"#d8576b\"], [0.6666666666666666, \"#ed7953\"], [0.7777777777777778, \"#fb9f3a\"], [0.8888888888888888, \"#fdca26\"], [1.0, \"#f0f921\"]], \"type\": \"heatmap\"}], \"heatmapgl\": [{\"colorbar\": {\"outlinewidth\": 0, \"ticks\": \"\"}, \"colorscale\": [[0.0, \"#0d0887\"], [0.1111111111111111, \"#46039f\"], [0.2222222222222222, \"#7201a8\"], [0.3333333333333333, \"#9c179e\"], [0.4444444444444444, \"#bd3786\"], [0.5555555555555556, \"#d8576b\"], [0.6666666666666666, \"#ed7953\"], [0.7777777777777778, \"#fb9f3a\"], [0.8888888888888888, \"#fdca26\"], [1.0, \"#f0f921\"]], \"type\": \"heatmapgl\"}], \"histogram\": [{\"marker\": {\"colorbar\": {\"outlinewidth\": 0, \"ticks\": \"\"}}, \"type\": \"histogram\"}], \"histogram2d\": [{\"colorbar\": {\"outlinewidth\": 0, \"ticks\": \"\"}, \"colorscale\": [[0.0, \"#0d0887\"], [0.1111111111111111, \"#46039f\"], [0.2222222222222222, \"#7201a8\"], [0.3333333333333333, \"#9c179e\"], [0.4444444444444444, \"#bd3786\"], [0.5555555555555556, \"#d8576b\"], [0.6666666666666666, \"#ed7953\"], [0.7777777777777778, \"#fb9f3a\"], [0.8888888888888888, \"#fdca26\"], [1.0, \"#f0f921\"]], \"type\": \"histogram2d\"}], \"histogram2dcontour\": [{\"colorbar\": {\"outlinewidth\": 0, \"ticks\": \"\"}, \"colorscale\": [[0.0, \"#0d0887\"], [0.1111111111111111, \"#46039f\"], [0.2222222222222222, \"#7201a8\"], [0.3333333333333333, \"#9c179e\"], [0.4444444444444444, \"#bd3786\"], [0.5555555555555556, \"#d8576b\"], [0.6666666666666666, \"#ed7953\"], [0.7777777777777778, \"#fb9f3a\"], [0.8888888888888888, \"#fdca26\"], [1.0, \"#f0f921\"]], \"type\": \"histogram2dcontour\"}], \"mesh3d\": [{\"colorbar\": {\"outlinewidth\": 0, \"ticks\": \"\"}, \"type\": \"mesh3d\"}], \"parcoords\": [{\"line\": {\"colorbar\": {\"outlinewidth\": 0, \"ticks\": \"\"}}, \"type\": \"parcoords\"}], \"pie\": [{\"automargin\": true, \"type\": \"pie\"}], \"scatter\": [{\"marker\": {\"colorbar\": {\"outlinewidth\": 0, \"ticks\": \"\"}}, \"type\": \"scatter\"}], \"scatter3d\": [{\"line\": {\"colorbar\": {\"outlinewidth\": 0, \"ticks\": \"\"}}, \"marker\": {\"colorbar\": {\"outlinewidth\": 0, \"ticks\": \"\"}}, \"type\": \"scatter3d\"}], \"scattercarpet\": [{\"marker\": {\"colorbar\": {\"outlinewidth\": 0, \"ticks\": \"\"}}, \"type\": \"scattercarpet\"}], \"scattergeo\": [{\"marker\": {\"colorbar\": {\"outlinewidth\": 0, \"ticks\": \"\"}}, \"type\": \"scattergeo\"}], \"scattergl\": [{\"marker\": {\"colorbar\": {\"outlinewidth\": 0, \"ticks\": \"\"}}, \"type\": \"scattergl\"}], \"scattermapbox\": [{\"marker\": {\"colorbar\": {\"outlinewidth\": 0, \"ticks\": \"\"}}, \"type\": \"scattermapbox\"}], \"scatterpolar\": [{\"marker\": {\"colorbar\": {\"outlinewidth\": 0, \"ticks\": \"\"}}, \"type\": \"scatterpolar\"}], \"scatterpolargl\": [{\"marker\": {\"colorbar\": {\"outlinewidth\": 0, \"ticks\": \"\"}}, \"type\": \"scatterpolargl\"}], \"scatterternary\": [{\"marker\": {\"colorbar\": {\"outlinewidth\": 0, \"ticks\": \"\"}}, \"type\": \"scatterternary\"}], \"surface\": [{\"colorbar\": {\"outlinewidth\": 0, \"ticks\": \"\"}, \"colorscale\": [[0.0, \"#0d0887\"], [0.1111111111111111, \"#46039f\"], [0.2222222222222222, \"#7201a8\"], [0.3333333333333333, \"#9c179e\"], [0.4444444444444444, \"#bd3786\"], [0.5555555555555556, \"#d8576b\"], [0.6666666666666666, \"#ed7953\"], [0.7777777777777778, \"#fb9f3a\"], [0.8888888888888888, \"#fdca26\"], [1.0, \"#f0f921\"]], \"type\": \"surface\"}], \"table\": [{\"cells\": {\"fill\": {\"color\": \"#EBF0F8\"}, \"line\": {\"color\": \"white\"}}, \"header\": {\"fill\": {\"color\": \"#C8D4E3\"}, \"line\": {\"color\": \"white\"}}, \"type\": \"table\"}]}, \"layout\": {\"annotationdefaults\": {\"arrowcolor\": \"#2a3f5f\", \"arrowhead\": 0, \"arrowwidth\": 1}, \"autotypenumbers\": \"strict\", \"coloraxis\": {\"colorbar\": {\"outlinewidth\": 0, \"ticks\": \"\"}}, \"colorscale\": {\"diverging\": [[0, \"#8e0152\"], [0.1, \"#c51b7d\"], [0.2, \"#de77ae\"], [0.3, \"#f1b6da\"], [0.4, \"#fde0ef\"], [0.5, \"#f7f7f7\"], [0.6, \"#e6f5d0\"], [0.7, \"#b8e186\"], [0.8, \"#7fbc41\"], [0.9, \"#4d9221\"], [1, \"#276419\"]], \"sequential\": [[0.0, \"#0d0887\"], [0.1111111111111111, \"#46039f\"], [0.2222222222222222, \"#7201a8\"], [0.3333333333333333, \"#9c179e\"], [0.4444444444444444, \"#bd3786\"], [0.5555555555555556, \"#d8576b\"], [0.6666666666666666, \"#ed7953\"], [0.7777777777777778, \"#fb9f3a\"], [0.8888888888888888, \"#fdca26\"], [1.0, \"#f0f921\"]], \"sequentialminus\": [[0.0, \"#0d0887\"], [0.1111111111111111, \"#46039f\"], [0.2222222222222222, \"#7201a8\"], [0.3333333333333333, \"#9c179e\"], [0.4444444444444444, \"#bd3786\"], [0.5555555555555556, \"#d8576b\"], [0.6666666666666666, \"#ed7953\"], [0.7777777777777778, \"#fb9f3a\"], [0.8888888888888888, \"#fdca26\"], [1.0, \"#f0f921\"]]}, \"colorway\": [\"#636efa\", \"#EF553B\", \"#00cc96\", \"#ab63fa\", \"#FFA15A\", \"#19d3f3\", \"#FF6692\", \"#B6E880\", \"#FF97FF\", \"#FECB52\"], \"font\": {\"color\": \"#2a3f5f\"}, \"geo\": {\"bgcolor\": \"white\", \"lakecolor\": \"white\", \"landcolor\": \"#E5ECF6\", \"showlakes\": true, \"showland\": true, \"subunitcolor\": \"white\"}, \"hoverlabel\": {\"align\": \"left\"}, \"hovermode\": \"closest\", \"mapbox\": {\"style\": \"light\"}, \"paper_bgcolor\": \"white\", \"plot_bgcolor\": \"#E5ECF6\", \"polar\": {\"angularaxis\": {\"gridcolor\": \"white\", \"linecolor\": \"white\", \"ticks\": \"\"}, \"bgcolor\": \"#E5ECF6\", \"radialaxis\": {\"gridcolor\": \"white\", \"linecolor\": \"white\", \"ticks\": \"\"}}, \"scene\": {\"xaxis\": {\"backgroundcolor\": \"#E5ECF6\", \"gridcolor\": \"white\", \"gridwidth\": 2, \"linecolor\": \"white\", \"showbackground\": true, \"ticks\": \"\", \"zerolinecolor\": \"white\"}, \"yaxis\": {\"backgroundcolor\": \"#E5ECF6\", \"gridcolor\": \"white\", \"gridwidth\": 2, \"linecolor\": \"white\", \"showbackground\": true, \"ticks\": \"\", \"zerolinecolor\": \"white\"}, \"zaxis\": {\"backgroundcolor\": \"#E5ECF6\", \"gridcolor\": \"white\", \"gridwidth\": 2, \"linecolor\": \"white\", \"showbackground\": true, \"ticks\": \"\", \"zerolinecolor\": \"white\"}}, \"shapedefaults\": {\"line\": {\"color\": \"#2a3f5f\"}}, \"ternary\": {\"aaxis\": {\"gridcolor\": \"white\", \"linecolor\": \"white\", \"ticks\": \"\"}, \"baxis\": {\"gridcolor\": \"white\", \"linecolor\": \"white\", \"ticks\": \"\"}, \"bgcolor\": \"#E5ECF6\", \"caxis\": {\"gridcolor\": \"white\", \"linecolor\": \"white\", \"ticks\": \"\"}}, \"title\": {\"x\": 0.05}, \"xaxis\": {\"automargin\": true, \"gridcolor\": \"white\", \"linecolor\": \"white\", \"ticks\": \"\", \"title\": {\"standoff\": 15}, \"zerolinecolor\": \"white\", \"zerolinewidth\": 2}, \"yaxis\": {\"automargin\": true, \"gridcolor\": \"white\", \"linecolor\": \"white\", \"ticks\": \"\", \"title\": {\"standoff\": 15}, \"zerolinecolor\": \"white\", \"zerolinewidth\": 2}}}, \"title\": {\"text\": \"Energy Minimization\"}, \"xaxis\": {\"title\": {\"text\": \"Energy Minimization Step\"}}, \"yaxis\": {\"title\": {\"text\": \"Potential Energy kcal/mol\"}}},                        {\"responsive\": true}                    ).then(function(){\n",
       "                            \n",
       "var gd = document.getElementById('a5a99747-5ee6-4278-a165-35f171aeb9fc');\n",
       "var x = new MutationObserver(function (mutations, observer) {{\n",
       "        var display = window.getComputedStyle(gd).display;\n",
       "        if (!display || display === 'none') {{\n",
       "            console.log([gd, 'removed!']);\n",
       "            Plotly.purge(gd);\n",
       "            observer.disconnect();\n",
       "        }}\n",
       "}});\n",
       "\n",
       "// Listen for the removal of the full notebook cells\n",
       "var notebookContainer = gd.closest('#notebook-container');\n",
       "if (notebookContainer) {{\n",
       "    x.observe(notebookContainer, {childList: true});\n",
       "}}\n",
       "\n",
       "// Listen for the clearing of the current output cell\n",
       "var outputEl = gd.closest('.output');\n",
       "if (outputEl) {{\n",
       "    x.observe(outputEl, {childList: true});\n",
       "}}\n",
       "\n",
       "                        })                };                });            </script>        </div>"
      ]
     },
     "metadata": {},
     "output_type": "display_data"
    }
   ],
   "source": [
    "#Read data from file and filter energy values higher than 1000 Kj/mol^-1\n",
    "with open(output_h_min_dat_path,'r') as energy_file:\n",
    "    x,y = map(\n",
    "        list,\n",
    "        zip(*[\n",
    "            (float(line.split()[0]),float(line.split()[1]))\n",
    "            for line in energy_file \n",
    "            if not line.startswith((\"#\",\"@\")) \n",
    "            if float(line.split()[1]) < 1000 \n",
    "        ])\n",
    "    )\n",
    "\n",
    "plotly.offline.init_notebook_mode(connected=True)\n",
    "\n",
    "fig = {\n",
    "    \"data\": [go.Scatter(x=x, y=y)],\n",
    "    \"layout\": go.Layout(title=\"Energy Minimization\",\n",
    "                        xaxis=dict(title = \"Energy Minimization Step\"),\n",
    "                        yaxis=dict(title = \"Potential Energy kcal/mol\")\n",
    "                       )\n",
    "}\n",
    "\n",
    "plotly.offline.iplot(fig)"
   ]
  },
  {
   "cell_type": "markdown",
   "metadata": {},
   "source": [
    "<a id=\"minv_2\"></a>\n",
    "### Step 2: Minimize the system\n",
    "**System** minimization, with **no restraints**."
   ]
  },
  {
   "cell_type": "code",
   "execution_count": 84,
   "metadata": {},
   "outputs": [
    {
     "name": "stderr",
     "output_type": "stream",
     "text": [
      "2021-01-29 09:20:12,580 [MainThread  ] [INFO ]  Creating d1bc5fc1-a2a3-485e-8c95-a57337975d6a temporary folder\n",
      "2021-01-29 09:20:12,584 [MainThread  ] [INFO ]  Creating command line with instructions and required arguments\n",
      "2021-01-29 09:20:20,771 [MainThread  ] [INFO ]  sander -O -i d1bc5fc1-a2a3-485e-8c95-a57337975d6a/sander.mdin -p structure.leap.top -c sander.h_min.rst -r sander.n_min.rst -o sander.n_min.log -x sander.n_min.x\n",
      "\n",
      "2021-01-29 09:20:20,773 [MainThread  ] [INFO ]  Exit code 0\n",
      "\n",
      "2021-01-29 09:20:20,775 [MainThread  ] [INFO ]  Removed: mdinfo, d1bc5fc1-a2a3-485e-8c95-a57337975d6a\n"
     ]
    },
    {
     "data": {
      "text/plain": [
       "0"
      ]
     },
     "execution_count": 84,
     "metadata": {},
     "output_type": "execute_result"
    }
   ],
   "source": [
    "# Import module\n",
    "from biobb_amber.sander.sander_mdrun import sander_mdrun\n",
    "\n",
    "# Create prop dict and inputs/outputs\n",
    "prop = {\n",
    "    'simulation_type' : \"min_vacuo\",\n",
    "    \"mdin\" : { \n",
    "        'maxcyc' : 500,\n",
    "        'ntpr' : 5\n",
    "    },\n",
    "    \"remove_tmp\": True\n",
    "}\n",
    "output_n_min_traj_path = 'sander.n_min.x'\n",
    "output_n_min_rst_path = 'sander.n_min.rst'\n",
    "output_n_min_log_path = 'sander.n_min.log'\n",
    "\n",
    "# Create and launch bb\n",
    "sander_mdrun(input_top_path=dna_leap_top_path,\n",
    "            input_crd_path=output_h_min_rst_path,\n",
    "            #input_ref_path=output_h_min_traj_path,\n",
    "            #input_mdin_path=input_mdin,\n",
    "            output_traj_path=output_n_min_traj_path,\n",
    "            output_rst_path=output_n_min_rst_path,\n",
    "            output_log_path=output_n_min_log_path,\n",
    "            properties=prop)"
   ]
  },
  {
   "cell_type": "markdown",
   "metadata": {},
   "source": [
    "### Checking Energy Minimization results\n",
    "Checking **energy minimization** results. Plotting **potential energy** by time during the **minimization process**."
   ]
  },
  {
   "cell_type": "code",
   "execution_count": 85,
   "metadata": {},
   "outputs": [
    {
     "name": "stderr",
     "output_type": "stream",
     "text": [
      "2021-01-29 09:20:20,806 [MainThread  ] [INFO ]  Creating command line with instructions and required arguments\n",
      "2021-01-29 09:20:21,056 [MainThread  ] [INFO ]  process_minout.perl  sander.n_min.log\n",
      "\n",
      "2021-01-29 09:20:21,060 [MainThread  ] [INFO ]  Exit code 0\n",
      "\n",
      "2021-01-29 09:20:21,063 [MainThread  ] [INFO ]  Processing sander output file (sander.n_min.log)...\n",
      "Processing step 50 of a possible 500...\n",
      "Processing step 100 of a possible 500...\n",
      "Processing step 150 of a possible 500...\n",
      "Processing step 200 of a possible 500...\n",
      "Processing step 250 of a possible 500...\n",
      "Processing step 300 of a possible 500...\n",
      "Processing step 350 of a possible 500...\n",
      "Processing step 400 of a possible 500...\n",
      "Processing step 450 of a possible 500...\n",
      "Processing step 500 of a possible 500...\n",
      "Processing step 500 of a possible 500...\n",
      "Starting output...\n",
      "Outputing summary.NSTEP\n",
      "Outputing summary.ENERGY\n",
      "Outputing summary.RMS\n",
      "Outputing summary.GMAX\n",
      "Outputing summary.NAME\n",
      "Outputing summary.NUMBER\n",
      "Outputing summary.BOND\n",
      "Outputing summary.ANGLE\n",
      "Outputing summary.DIHEDRAL\n",
      "Outputing summary.VDWAALS\n",
      "Outputing summary.EEL\n",
      "Outputing summary.HBOND\n",
      "Outputing summary.VDW14\n",
      "Outputing summary.EEL14\n",
      "Outputing summary.RESTRAINT\n",
      "\n",
      "2021-01-29 09:20:21,075 [MainThread  ] [INFO ]  Removed: [PosixPath('summary.ANGLE'), PosixPath('summary.BOND'), PosixPath('summary.DIHEDRAL'), PosixPath('summary.EEL'), PosixPath('summary.EEL14'), PosixPath('summary.ENERGY'), PosixPath('summary.GMAX'), PosixPath('summary.HBOND'), PosixPath('summary.NAME'), PosixPath('summary.NSTEP'), PosixPath('summary.NUMBER'), PosixPath('summary.RESTRAINT'), PosixPath('summary.RMS'), PosixPath('summary.VDW14'), PosixPath('summary.VDWAALS')]\n"
     ]
    },
    {
     "data": {
      "text/plain": [
       "0"
      ]
     },
     "execution_count": 85,
     "metadata": {},
     "output_type": "execute_result"
    }
   ],
   "source": [
    "# Import module\n",
    "from biobb_amber.process.process_minout import process_minout\n",
    "\n",
    "# Create prop dict and inputs/outputs\n",
    "prop = {\n",
    "    \"terms\" : ['ENERGY'],\n",
    "    \"remove_tmp\": True\n",
    "}\n",
    "output_n_min_dat_path = 'sander.n_min.energy.dat'\n",
    "\n",
    "# Create and launch bb\n",
    "process_minout(input_log_path=output_n_min_log_path,\n",
    "            output_dat_path=output_n_min_dat_path,\n",
    "            properties=prop)    "
   ]
  },
  {
   "cell_type": "code",
   "execution_count": 86,
   "metadata": {},
   "outputs": [
    {
     "data": {
      "text/html": [
       "        <script type=\"text/javascript\">\n",
       "        window.PlotlyConfig = {MathJaxConfig: 'local'};\n",
       "        if (window.MathJax) {MathJax.Hub.Config({SVG: {font: \"STIX-Web\"}});}\n",
       "        if (typeof require !== 'undefined') {\n",
       "        require.undef(\"plotly\");\n",
       "        requirejs.config({\n",
       "            paths: {\n",
       "                'plotly': ['https://cdn.plot.ly/plotly-latest.min']\n",
       "            }\n",
       "        });\n",
       "        require(['plotly'], function(Plotly) {\n",
       "            window._Plotly = Plotly;\n",
       "        });\n",
       "        }\n",
       "        </script>\n",
       "        "
      ]
     },
     "metadata": {},
     "output_type": "display_data"
    },
    {
     "data": {
      "application/vnd.plotly.v1+json": {
       "config": {
        "linkText": "Export to plot.ly",
        "plotlyServerURL": "https://plot.ly",
        "showLink": false
       },
       "data": [
        {
         "type": "scatter",
         "x": [
          1,
          5,
          10,
          15,
          20,
          25,
          30,
          35,
          40,
          45,
          50,
          55,
          60,
          65,
          70,
          75,
          80,
          85,
          90,
          95,
          100,
          105,
          110,
          115,
          120,
          125,
          130,
          135,
          140,
          145,
          150,
          155,
          160,
          165,
          170,
          175,
          180,
          185,
          190,
          195,
          200,
          205,
          210,
          215,
          220,
          225,
          230,
          235,
          240,
          245,
          250,
          255,
          260,
          265,
          270,
          275,
          280,
          285,
          290,
          295,
          300,
          305,
          310,
          315,
          320,
          325,
          330,
          335,
          340,
          345,
          350,
          355,
          360,
          365,
          370,
          375,
          380,
          385,
          390,
          395,
          400,
          405,
          410,
          415,
          420,
          425,
          430,
          435,
          440,
          445,
          450,
          455,
          460,
          465,
          470,
          475,
          480,
          485,
          490,
          495,
          500
         ],
         "y": [
          -6799.5,
          -6827.5,
          -6894.1,
          -7015.6,
          -7193.9,
          -7325.9,
          -7374.2,
          -7390.1,
          -7414.8,
          -7426,
          -7632.8,
          -7643.4,
          -7650.1,
          -7657.3,
          -7663.2,
          -7896.4,
          -7905,
          -7909.3,
          -7913.8,
          -7917.9,
          -7615.7,
          -7618.6,
          -7622.5,
          -7625.1,
          -7628.2,
          -7390,
          -7393.3,
          -7397,
          -7398.4,
          -7401.1,
          -7133.6,
          -7136.3,
          -7140.6,
          -7142.8,
          -7145.3,
          -7180,
          -7182.2,
          -7184.4,
          -7186.7,
          -7188.5,
          -7081.8,
          -7083.9,
          -7085.9,
          -7087.7,
          -7089.5,
          -6897.8,
          -6899.3,
          -6901.6,
          -6902.2,
          -6903.8,
          -7045.4,
          -7048.2,
          -7061.5,
          -7083.4,
          -7094.1,
          -6950.2,
          -6951.2,
          -6957.7,
          -6966.9,
          -6971.4,
          -6763.7,
          -6764.6,
          -6767.7,
          -6771.6,
          -6773.1,
          -6943.3,
          -6944.1,
          -6945.8,
          -6947.8,
          -6949,
          -6723.9,
          -6724.5,
          -6726.2,
          -6728.2,
          -6729.1,
          -7014.6,
          -7015.4,
          -7016.9,
          -7018.7,
          -7019.5,
          -6907,
          -6907.6,
          -6909.2,
          -6911.2,
          -6912,
          -6885.2,
          -6885.8,
          -6887.4,
          -6889.4,
          -6890.2,
          -6963.6,
          -6964.4,
          -6965.9,
          -6967.6,
          -6968.3,
          -6954.3,
          -6954.8,
          -6956.2,
          -6958,
          -6958.6,
          -6903.9
         ]
        }
       ],
       "layout": {
        "template": {
         "data": {
          "bar": [
           {
            "error_x": {
             "color": "#2a3f5f"
            },
            "error_y": {
             "color": "#2a3f5f"
            },
            "marker": {
             "line": {
              "color": "#E5ECF6",
              "width": 0.5
             }
            },
            "type": "bar"
           }
          ],
          "barpolar": [
           {
            "marker": {
             "line": {
              "color": "#E5ECF6",
              "width": 0.5
             }
            },
            "type": "barpolar"
           }
          ],
          "carpet": [
           {
            "aaxis": {
             "endlinecolor": "#2a3f5f",
             "gridcolor": "white",
             "linecolor": "white",
             "minorgridcolor": "white",
             "startlinecolor": "#2a3f5f"
            },
            "baxis": {
             "endlinecolor": "#2a3f5f",
             "gridcolor": "white",
             "linecolor": "white",
             "minorgridcolor": "white",
             "startlinecolor": "#2a3f5f"
            },
            "type": "carpet"
           }
          ],
          "choropleth": [
           {
            "colorbar": {
             "outlinewidth": 0,
             "ticks": ""
            },
            "type": "choropleth"
           }
          ],
          "contour": [
           {
            "colorbar": {
             "outlinewidth": 0,
             "ticks": ""
            },
            "colorscale": [
             [
              0,
              "#0d0887"
             ],
             [
              0.1111111111111111,
              "#46039f"
             ],
             [
              0.2222222222222222,
              "#7201a8"
             ],
             [
              0.3333333333333333,
              "#9c179e"
             ],
             [
              0.4444444444444444,
              "#bd3786"
             ],
             [
              0.5555555555555556,
              "#d8576b"
             ],
             [
              0.6666666666666666,
              "#ed7953"
             ],
             [
              0.7777777777777778,
              "#fb9f3a"
             ],
             [
              0.8888888888888888,
              "#fdca26"
             ],
             [
              1,
              "#f0f921"
             ]
            ],
            "type": "contour"
           }
          ],
          "contourcarpet": [
           {
            "colorbar": {
             "outlinewidth": 0,
             "ticks": ""
            },
            "type": "contourcarpet"
           }
          ],
          "heatmap": [
           {
            "colorbar": {
             "outlinewidth": 0,
             "ticks": ""
            },
            "colorscale": [
             [
              0,
              "#0d0887"
             ],
             [
              0.1111111111111111,
              "#46039f"
             ],
             [
              0.2222222222222222,
              "#7201a8"
             ],
             [
              0.3333333333333333,
              "#9c179e"
             ],
             [
              0.4444444444444444,
              "#bd3786"
             ],
             [
              0.5555555555555556,
              "#d8576b"
             ],
             [
              0.6666666666666666,
              "#ed7953"
             ],
             [
              0.7777777777777778,
              "#fb9f3a"
             ],
             [
              0.8888888888888888,
              "#fdca26"
             ],
             [
              1,
              "#f0f921"
             ]
            ],
            "type": "heatmap"
           }
          ],
          "heatmapgl": [
           {
            "colorbar": {
             "outlinewidth": 0,
             "ticks": ""
            },
            "colorscale": [
             [
              0,
              "#0d0887"
             ],
             [
              0.1111111111111111,
              "#46039f"
             ],
             [
              0.2222222222222222,
              "#7201a8"
             ],
             [
              0.3333333333333333,
              "#9c179e"
             ],
             [
              0.4444444444444444,
              "#bd3786"
             ],
             [
              0.5555555555555556,
              "#d8576b"
             ],
             [
              0.6666666666666666,
              "#ed7953"
             ],
             [
              0.7777777777777778,
              "#fb9f3a"
             ],
             [
              0.8888888888888888,
              "#fdca26"
             ],
             [
              1,
              "#f0f921"
             ]
            ],
            "type": "heatmapgl"
           }
          ],
          "histogram": [
           {
            "marker": {
             "colorbar": {
              "outlinewidth": 0,
              "ticks": ""
             }
            },
            "type": "histogram"
           }
          ],
          "histogram2d": [
           {
            "colorbar": {
             "outlinewidth": 0,
             "ticks": ""
            },
            "colorscale": [
             [
              0,
              "#0d0887"
             ],
             [
              0.1111111111111111,
              "#46039f"
             ],
             [
              0.2222222222222222,
              "#7201a8"
             ],
             [
              0.3333333333333333,
              "#9c179e"
             ],
             [
              0.4444444444444444,
              "#bd3786"
             ],
             [
              0.5555555555555556,
              "#d8576b"
             ],
             [
              0.6666666666666666,
              "#ed7953"
             ],
             [
              0.7777777777777778,
              "#fb9f3a"
             ],
             [
              0.8888888888888888,
              "#fdca26"
             ],
             [
              1,
              "#f0f921"
             ]
            ],
            "type": "histogram2d"
           }
          ],
          "histogram2dcontour": [
           {
            "colorbar": {
             "outlinewidth": 0,
             "ticks": ""
            },
            "colorscale": [
             [
              0,
              "#0d0887"
             ],
             [
              0.1111111111111111,
              "#46039f"
             ],
             [
              0.2222222222222222,
              "#7201a8"
             ],
             [
              0.3333333333333333,
              "#9c179e"
             ],
             [
              0.4444444444444444,
              "#bd3786"
             ],
             [
              0.5555555555555556,
              "#d8576b"
             ],
             [
              0.6666666666666666,
              "#ed7953"
             ],
             [
              0.7777777777777778,
              "#fb9f3a"
             ],
             [
              0.8888888888888888,
              "#fdca26"
             ],
             [
              1,
              "#f0f921"
             ]
            ],
            "type": "histogram2dcontour"
           }
          ],
          "mesh3d": [
           {
            "colorbar": {
             "outlinewidth": 0,
             "ticks": ""
            },
            "type": "mesh3d"
           }
          ],
          "parcoords": [
           {
            "line": {
             "colorbar": {
              "outlinewidth": 0,
              "ticks": ""
             }
            },
            "type": "parcoords"
           }
          ],
          "pie": [
           {
            "automargin": true,
            "type": "pie"
           }
          ],
          "scatter": [
           {
            "marker": {
             "colorbar": {
              "outlinewidth": 0,
              "ticks": ""
             }
            },
            "type": "scatter"
           }
          ],
          "scatter3d": [
           {
            "line": {
             "colorbar": {
              "outlinewidth": 0,
              "ticks": ""
             }
            },
            "marker": {
             "colorbar": {
              "outlinewidth": 0,
              "ticks": ""
             }
            },
            "type": "scatter3d"
           }
          ],
          "scattercarpet": [
           {
            "marker": {
             "colorbar": {
              "outlinewidth": 0,
              "ticks": ""
             }
            },
            "type": "scattercarpet"
           }
          ],
          "scattergeo": [
           {
            "marker": {
             "colorbar": {
              "outlinewidth": 0,
              "ticks": ""
             }
            },
            "type": "scattergeo"
           }
          ],
          "scattergl": [
           {
            "marker": {
             "colorbar": {
              "outlinewidth": 0,
              "ticks": ""
             }
            },
            "type": "scattergl"
           }
          ],
          "scattermapbox": [
           {
            "marker": {
             "colorbar": {
              "outlinewidth": 0,
              "ticks": ""
             }
            },
            "type": "scattermapbox"
           }
          ],
          "scatterpolar": [
           {
            "marker": {
             "colorbar": {
              "outlinewidth": 0,
              "ticks": ""
             }
            },
            "type": "scatterpolar"
           }
          ],
          "scatterpolargl": [
           {
            "marker": {
             "colorbar": {
              "outlinewidth": 0,
              "ticks": ""
             }
            },
            "type": "scatterpolargl"
           }
          ],
          "scatterternary": [
           {
            "marker": {
             "colorbar": {
              "outlinewidth": 0,
              "ticks": ""
             }
            },
            "type": "scatterternary"
           }
          ],
          "surface": [
           {
            "colorbar": {
             "outlinewidth": 0,
             "ticks": ""
            },
            "colorscale": [
             [
              0,
              "#0d0887"
             ],
             [
              0.1111111111111111,
              "#46039f"
             ],
             [
              0.2222222222222222,
              "#7201a8"
             ],
             [
              0.3333333333333333,
              "#9c179e"
             ],
             [
              0.4444444444444444,
              "#bd3786"
             ],
             [
              0.5555555555555556,
              "#d8576b"
             ],
             [
              0.6666666666666666,
              "#ed7953"
             ],
             [
              0.7777777777777778,
              "#fb9f3a"
             ],
             [
              0.8888888888888888,
              "#fdca26"
             ],
             [
              1,
              "#f0f921"
             ]
            ],
            "type": "surface"
           }
          ],
          "table": [
           {
            "cells": {
             "fill": {
              "color": "#EBF0F8"
             },
             "line": {
              "color": "white"
             }
            },
            "header": {
             "fill": {
              "color": "#C8D4E3"
             },
             "line": {
              "color": "white"
             }
            },
            "type": "table"
           }
          ]
         },
         "layout": {
          "annotationdefaults": {
           "arrowcolor": "#2a3f5f",
           "arrowhead": 0,
           "arrowwidth": 1
          },
          "autotypenumbers": "strict",
          "coloraxis": {
           "colorbar": {
            "outlinewidth": 0,
            "ticks": ""
           }
          },
          "colorscale": {
           "diverging": [
            [
             0,
             "#8e0152"
            ],
            [
             0.1,
             "#c51b7d"
            ],
            [
             0.2,
             "#de77ae"
            ],
            [
             0.3,
             "#f1b6da"
            ],
            [
             0.4,
             "#fde0ef"
            ],
            [
             0.5,
             "#f7f7f7"
            ],
            [
             0.6,
             "#e6f5d0"
            ],
            [
             0.7,
             "#b8e186"
            ],
            [
             0.8,
             "#7fbc41"
            ],
            [
             0.9,
             "#4d9221"
            ],
            [
             1,
             "#276419"
            ]
           ],
           "sequential": [
            [
             0,
             "#0d0887"
            ],
            [
             0.1111111111111111,
             "#46039f"
            ],
            [
             0.2222222222222222,
             "#7201a8"
            ],
            [
             0.3333333333333333,
             "#9c179e"
            ],
            [
             0.4444444444444444,
             "#bd3786"
            ],
            [
             0.5555555555555556,
             "#d8576b"
            ],
            [
             0.6666666666666666,
             "#ed7953"
            ],
            [
             0.7777777777777778,
             "#fb9f3a"
            ],
            [
             0.8888888888888888,
             "#fdca26"
            ],
            [
             1,
             "#f0f921"
            ]
           ],
           "sequentialminus": [
            [
             0,
             "#0d0887"
            ],
            [
             0.1111111111111111,
             "#46039f"
            ],
            [
             0.2222222222222222,
             "#7201a8"
            ],
            [
             0.3333333333333333,
             "#9c179e"
            ],
            [
             0.4444444444444444,
             "#bd3786"
            ],
            [
             0.5555555555555556,
             "#d8576b"
            ],
            [
             0.6666666666666666,
             "#ed7953"
            ],
            [
             0.7777777777777778,
             "#fb9f3a"
            ],
            [
             0.8888888888888888,
             "#fdca26"
            ],
            [
             1,
             "#f0f921"
            ]
           ]
          },
          "colorway": [
           "#636efa",
           "#EF553B",
           "#00cc96",
           "#ab63fa",
           "#FFA15A",
           "#19d3f3",
           "#FF6692",
           "#B6E880",
           "#FF97FF",
           "#FECB52"
          ],
          "font": {
           "color": "#2a3f5f"
          },
          "geo": {
           "bgcolor": "white",
           "lakecolor": "white",
           "landcolor": "#E5ECF6",
           "showlakes": true,
           "showland": true,
           "subunitcolor": "white"
          },
          "hoverlabel": {
           "align": "left"
          },
          "hovermode": "closest",
          "mapbox": {
           "style": "light"
          },
          "paper_bgcolor": "white",
          "plot_bgcolor": "#E5ECF6",
          "polar": {
           "angularaxis": {
            "gridcolor": "white",
            "linecolor": "white",
            "ticks": ""
           },
           "bgcolor": "#E5ECF6",
           "radialaxis": {
            "gridcolor": "white",
            "linecolor": "white",
            "ticks": ""
           }
          },
          "scene": {
           "xaxis": {
            "backgroundcolor": "#E5ECF6",
            "gridcolor": "white",
            "gridwidth": 2,
            "linecolor": "white",
            "showbackground": true,
            "ticks": "",
            "zerolinecolor": "white"
           },
           "yaxis": {
            "backgroundcolor": "#E5ECF6",
            "gridcolor": "white",
            "gridwidth": 2,
            "linecolor": "white",
            "showbackground": true,
            "ticks": "",
            "zerolinecolor": "white"
           },
           "zaxis": {
            "backgroundcolor": "#E5ECF6",
            "gridcolor": "white",
            "gridwidth": 2,
            "linecolor": "white",
            "showbackground": true,
            "ticks": "",
            "zerolinecolor": "white"
           }
          },
          "shapedefaults": {
           "line": {
            "color": "#2a3f5f"
           }
          },
          "ternary": {
           "aaxis": {
            "gridcolor": "white",
            "linecolor": "white",
            "ticks": ""
           },
           "baxis": {
            "gridcolor": "white",
            "linecolor": "white",
            "ticks": ""
           },
           "bgcolor": "#E5ECF6",
           "caxis": {
            "gridcolor": "white",
            "linecolor": "white",
            "ticks": ""
           }
          },
          "title": {
           "x": 0.05
          },
          "xaxis": {
           "automargin": true,
           "gridcolor": "white",
           "linecolor": "white",
           "ticks": "",
           "title": {
            "standoff": 15
           },
           "zerolinecolor": "white",
           "zerolinewidth": 2
          },
          "yaxis": {
           "automargin": true,
           "gridcolor": "white",
           "linecolor": "white",
           "ticks": "",
           "title": {
            "standoff": 15
           },
           "zerolinecolor": "white",
           "zerolinewidth": 2
          }
         }
        },
        "title": {
         "text": "Energy Minimization"
        },
        "xaxis": {
         "title": {
          "text": "Energy Minimization Step"
         }
        },
        "yaxis": {
         "title": {
          "text": "Potential Energy kcal/mol"
         }
        }
       }
      },
      "text/html": [
       "<div>                            <div id=\"b9ece5bf-97e7-4139-90f8-cf5ae8f79321\" class=\"plotly-graph-div\" style=\"height:525px; width:100%;\"></div>            <script type=\"text/javascript\">                require([\"plotly\"], function(Plotly) {                    window.PLOTLYENV=window.PLOTLYENV || {};                                    if (document.getElementById(\"b9ece5bf-97e7-4139-90f8-cf5ae8f79321\")) {                    Plotly.newPlot(                        \"b9ece5bf-97e7-4139-90f8-cf5ae8f79321\",                        [{\"type\": \"scatter\", \"x\": [1.0, 5.0, 10.0, 15.0, 20.0, 25.0, 30.0, 35.0, 40.0, 45.0, 50.0, 55.0, 60.0, 65.0, 70.0, 75.0, 80.0, 85.0, 90.0, 95.0, 100.0, 105.0, 110.0, 115.0, 120.0, 125.0, 130.0, 135.0, 140.0, 145.0, 150.0, 155.0, 160.0, 165.0, 170.0, 175.0, 180.0, 185.0, 190.0, 195.0, 200.0, 205.0, 210.0, 215.0, 220.0, 225.0, 230.0, 235.0, 240.0, 245.0, 250.0, 255.0, 260.0, 265.0, 270.0, 275.0, 280.0, 285.0, 290.0, 295.0, 300.0, 305.0, 310.0, 315.0, 320.0, 325.0, 330.0, 335.0, 340.0, 345.0, 350.0, 355.0, 360.0, 365.0, 370.0, 375.0, 380.0, 385.0, 390.0, 395.0, 400.0, 405.0, 410.0, 415.0, 420.0, 425.0, 430.0, 435.0, 440.0, 445.0, 450.0, 455.0, 460.0, 465.0, 470.0, 475.0, 480.0, 485.0, 490.0, 495.0, 500.0], \"y\": [-6799.5, -6827.5, -6894.1, -7015.6, -7193.9, -7325.9, -7374.2, -7390.1, -7414.8, -7426.0, -7632.8, -7643.4, -7650.1, -7657.3, -7663.2, -7896.4, -7905.0, -7909.3, -7913.8, -7917.9, -7615.7, -7618.6, -7622.5, -7625.1, -7628.2, -7390.0, -7393.3, -7397.0, -7398.4, -7401.1, -7133.6, -7136.3, -7140.6, -7142.8, -7145.3, -7180.0, -7182.2, -7184.4, -7186.7, -7188.5, -7081.8, -7083.9, -7085.9, -7087.7, -7089.5, -6897.8, -6899.3, -6901.6, -6902.2, -6903.8, -7045.4, -7048.2, -7061.5, -7083.4, -7094.1, -6950.2, -6951.2, -6957.7, -6966.9, -6971.4, -6763.7, -6764.6, -6767.7, -6771.6, -6773.1, -6943.3, -6944.1, -6945.8, -6947.8, -6949.0, -6723.9, -6724.5, -6726.2, -6728.2, -6729.1, -7014.6, -7015.4, -7016.9, -7018.7, -7019.5, -6907.0, -6907.6, -6909.2, -6911.2, -6912.0, -6885.2, -6885.8, -6887.4, -6889.4, -6890.2, -6963.6, -6964.4, -6965.9, -6967.6, -6968.3, -6954.3, -6954.8, -6956.2, -6958.0, -6958.6, -6903.9]}],                        {\"template\": {\"data\": {\"bar\": [{\"error_x\": {\"color\": \"#2a3f5f\"}, \"error_y\": {\"color\": \"#2a3f5f\"}, \"marker\": {\"line\": {\"color\": \"#E5ECF6\", \"width\": 0.5}}, \"type\": \"bar\"}], \"barpolar\": [{\"marker\": {\"line\": {\"color\": \"#E5ECF6\", \"width\": 0.5}}, \"type\": \"barpolar\"}], \"carpet\": [{\"aaxis\": {\"endlinecolor\": \"#2a3f5f\", \"gridcolor\": \"white\", \"linecolor\": \"white\", \"minorgridcolor\": \"white\", \"startlinecolor\": \"#2a3f5f\"}, \"baxis\": {\"endlinecolor\": \"#2a3f5f\", \"gridcolor\": \"white\", \"linecolor\": \"white\", \"minorgridcolor\": \"white\", \"startlinecolor\": \"#2a3f5f\"}, \"type\": \"carpet\"}], \"choropleth\": [{\"colorbar\": {\"outlinewidth\": 0, \"ticks\": \"\"}, \"type\": \"choropleth\"}], \"contour\": [{\"colorbar\": {\"outlinewidth\": 0, \"ticks\": \"\"}, \"colorscale\": [[0.0, \"#0d0887\"], [0.1111111111111111, \"#46039f\"], [0.2222222222222222, \"#7201a8\"], [0.3333333333333333, \"#9c179e\"], [0.4444444444444444, \"#bd3786\"], [0.5555555555555556, \"#d8576b\"], [0.6666666666666666, \"#ed7953\"], [0.7777777777777778, \"#fb9f3a\"], [0.8888888888888888, \"#fdca26\"], [1.0, \"#f0f921\"]], \"type\": \"contour\"}], \"contourcarpet\": [{\"colorbar\": {\"outlinewidth\": 0, \"ticks\": \"\"}, \"type\": \"contourcarpet\"}], \"heatmap\": [{\"colorbar\": {\"outlinewidth\": 0, \"ticks\": \"\"}, \"colorscale\": [[0.0, \"#0d0887\"], [0.1111111111111111, \"#46039f\"], [0.2222222222222222, \"#7201a8\"], [0.3333333333333333, \"#9c179e\"], [0.4444444444444444, \"#bd3786\"], [0.5555555555555556, \"#d8576b\"], [0.6666666666666666, \"#ed7953\"], [0.7777777777777778, \"#fb9f3a\"], [0.8888888888888888, \"#fdca26\"], [1.0, \"#f0f921\"]], \"type\": \"heatmap\"}], \"heatmapgl\": [{\"colorbar\": {\"outlinewidth\": 0, \"ticks\": \"\"}, \"colorscale\": [[0.0, \"#0d0887\"], [0.1111111111111111, \"#46039f\"], [0.2222222222222222, \"#7201a8\"], [0.3333333333333333, \"#9c179e\"], [0.4444444444444444, \"#bd3786\"], [0.5555555555555556, \"#d8576b\"], [0.6666666666666666, \"#ed7953\"], [0.7777777777777778, \"#fb9f3a\"], [0.8888888888888888, \"#fdca26\"], [1.0, \"#f0f921\"]], \"type\": \"heatmapgl\"}], \"histogram\": [{\"marker\": {\"colorbar\": {\"outlinewidth\": 0, \"ticks\": \"\"}}, \"type\": \"histogram\"}], \"histogram2d\": [{\"colorbar\": {\"outlinewidth\": 0, \"ticks\": \"\"}, \"colorscale\": [[0.0, \"#0d0887\"], [0.1111111111111111, \"#46039f\"], [0.2222222222222222, \"#7201a8\"], [0.3333333333333333, \"#9c179e\"], [0.4444444444444444, \"#bd3786\"], [0.5555555555555556, \"#d8576b\"], [0.6666666666666666, \"#ed7953\"], [0.7777777777777778, \"#fb9f3a\"], [0.8888888888888888, \"#fdca26\"], [1.0, \"#f0f921\"]], \"type\": \"histogram2d\"}], \"histogram2dcontour\": [{\"colorbar\": {\"outlinewidth\": 0, \"ticks\": \"\"}, \"colorscale\": [[0.0, \"#0d0887\"], [0.1111111111111111, \"#46039f\"], [0.2222222222222222, \"#7201a8\"], [0.3333333333333333, \"#9c179e\"], [0.4444444444444444, \"#bd3786\"], [0.5555555555555556, \"#d8576b\"], [0.6666666666666666, \"#ed7953\"], [0.7777777777777778, \"#fb9f3a\"], [0.8888888888888888, \"#fdca26\"], [1.0, \"#f0f921\"]], \"type\": \"histogram2dcontour\"}], \"mesh3d\": [{\"colorbar\": {\"outlinewidth\": 0, \"ticks\": \"\"}, \"type\": \"mesh3d\"}], \"parcoords\": [{\"line\": {\"colorbar\": {\"outlinewidth\": 0, \"ticks\": \"\"}}, \"type\": \"parcoords\"}], \"pie\": [{\"automargin\": true, \"type\": \"pie\"}], \"scatter\": [{\"marker\": {\"colorbar\": {\"outlinewidth\": 0, \"ticks\": \"\"}}, \"type\": \"scatter\"}], \"scatter3d\": [{\"line\": {\"colorbar\": {\"outlinewidth\": 0, \"ticks\": \"\"}}, \"marker\": {\"colorbar\": {\"outlinewidth\": 0, \"ticks\": \"\"}}, \"type\": \"scatter3d\"}], \"scattercarpet\": [{\"marker\": {\"colorbar\": {\"outlinewidth\": 0, \"ticks\": \"\"}}, \"type\": \"scattercarpet\"}], \"scattergeo\": [{\"marker\": {\"colorbar\": {\"outlinewidth\": 0, \"ticks\": \"\"}}, \"type\": \"scattergeo\"}], \"scattergl\": [{\"marker\": {\"colorbar\": {\"outlinewidth\": 0, \"ticks\": \"\"}}, \"type\": \"scattergl\"}], \"scattermapbox\": [{\"marker\": {\"colorbar\": {\"outlinewidth\": 0, \"ticks\": \"\"}}, \"type\": \"scattermapbox\"}], \"scatterpolar\": [{\"marker\": {\"colorbar\": {\"outlinewidth\": 0, \"ticks\": \"\"}}, \"type\": \"scatterpolar\"}], \"scatterpolargl\": [{\"marker\": {\"colorbar\": {\"outlinewidth\": 0, \"ticks\": \"\"}}, \"type\": \"scatterpolargl\"}], \"scatterternary\": [{\"marker\": {\"colorbar\": {\"outlinewidth\": 0, \"ticks\": \"\"}}, \"type\": \"scatterternary\"}], \"surface\": [{\"colorbar\": {\"outlinewidth\": 0, \"ticks\": \"\"}, \"colorscale\": [[0.0, \"#0d0887\"], [0.1111111111111111, \"#46039f\"], [0.2222222222222222, \"#7201a8\"], [0.3333333333333333, \"#9c179e\"], [0.4444444444444444, \"#bd3786\"], [0.5555555555555556, \"#d8576b\"], [0.6666666666666666, \"#ed7953\"], [0.7777777777777778, \"#fb9f3a\"], [0.8888888888888888, \"#fdca26\"], [1.0, \"#f0f921\"]], \"type\": \"surface\"}], \"table\": [{\"cells\": {\"fill\": {\"color\": \"#EBF0F8\"}, \"line\": {\"color\": \"white\"}}, \"header\": {\"fill\": {\"color\": \"#C8D4E3\"}, \"line\": {\"color\": \"white\"}}, \"type\": \"table\"}]}, \"layout\": {\"annotationdefaults\": {\"arrowcolor\": \"#2a3f5f\", \"arrowhead\": 0, \"arrowwidth\": 1}, \"autotypenumbers\": \"strict\", \"coloraxis\": {\"colorbar\": {\"outlinewidth\": 0, \"ticks\": \"\"}}, \"colorscale\": {\"diverging\": [[0, \"#8e0152\"], [0.1, \"#c51b7d\"], [0.2, \"#de77ae\"], [0.3, \"#f1b6da\"], [0.4, \"#fde0ef\"], [0.5, \"#f7f7f7\"], [0.6, \"#e6f5d0\"], [0.7, \"#b8e186\"], [0.8, \"#7fbc41\"], [0.9, \"#4d9221\"], [1, \"#276419\"]], \"sequential\": [[0.0, \"#0d0887\"], [0.1111111111111111, \"#46039f\"], [0.2222222222222222, \"#7201a8\"], [0.3333333333333333, \"#9c179e\"], [0.4444444444444444, \"#bd3786\"], [0.5555555555555556, \"#d8576b\"], [0.6666666666666666, \"#ed7953\"], [0.7777777777777778, \"#fb9f3a\"], [0.8888888888888888, \"#fdca26\"], [1.0, \"#f0f921\"]], \"sequentialminus\": [[0.0, \"#0d0887\"], [0.1111111111111111, \"#46039f\"], [0.2222222222222222, \"#7201a8\"], [0.3333333333333333, \"#9c179e\"], [0.4444444444444444, \"#bd3786\"], [0.5555555555555556, \"#d8576b\"], [0.6666666666666666, \"#ed7953\"], [0.7777777777777778, \"#fb9f3a\"], [0.8888888888888888, \"#fdca26\"], [1.0, \"#f0f921\"]]}, \"colorway\": [\"#636efa\", \"#EF553B\", \"#00cc96\", \"#ab63fa\", \"#FFA15A\", \"#19d3f3\", \"#FF6692\", \"#B6E880\", \"#FF97FF\", \"#FECB52\"], \"font\": {\"color\": \"#2a3f5f\"}, \"geo\": {\"bgcolor\": \"white\", \"lakecolor\": \"white\", \"landcolor\": \"#E5ECF6\", \"showlakes\": true, \"showland\": true, \"subunitcolor\": \"white\"}, \"hoverlabel\": {\"align\": \"left\"}, \"hovermode\": \"closest\", \"mapbox\": {\"style\": \"light\"}, \"paper_bgcolor\": \"white\", \"plot_bgcolor\": \"#E5ECF6\", \"polar\": {\"angularaxis\": {\"gridcolor\": \"white\", \"linecolor\": \"white\", \"ticks\": \"\"}, \"bgcolor\": \"#E5ECF6\", \"radialaxis\": {\"gridcolor\": \"white\", \"linecolor\": \"white\", \"ticks\": \"\"}}, \"scene\": {\"xaxis\": {\"backgroundcolor\": \"#E5ECF6\", \"gridcolor\": \"white\", \"gridwidth\": 2, \"linecolor\": \"white\", \"showbackground\": true, \"ticks\": \"\", \"zerolinecolor\": \"white\"}, \"yaxis\": {\"backgroundcolor\": \"#E5ECF6\", \"gridcolor\": \"white\", \"gridwidth\": 2, \"linecolor\": \"white\", \"showbackground\": true, \"ticks\": \"\", \"zerolinecolor\": \"white\"}, \"zaxis\": {\"backgroundcolor\": \"#E5ECF6\", \"gridcolor\": \"white\", \"gridwidth\": 2, \"linecolor\": \"white\", \"showbackground\": true, \"ticks\": \"\", \"zerolinecolor\": \"white\"}}, \"shapedefaults\": {\"line\": {\"color\": \"#2a3f5f\"}}, \"ternary\": {\"aaxis\": {\"gridcolor\": \"white\", \"linecolor\": \"white\", \"ticks\": \"\"}, \"baxis\": {\"gridcolor\": \"white\", \"linecolor\": \"white\", \"ticks\": \"\"}, \"bgcolor\": \"#E5ECF6\", \"caxis\": {\"gridcolor\": \"white\", \"linecolor\": \"white\", \"ticks\": \"\"}}, \"title\": {\"x\": 0.05}, \"xaxis\": {\"automargin\": true, \"gridcolor\": \"white\", \"linecolor\": \"white\", \"ticks\": \"\", \"title\": {\"standoff\": 15}, \"zerolinecolor\": \"white\", \"zerolinewidth\": 2}, \"yaxis\": {\"automargin\": true, \"gridcolor\": \"white\", \"linecolor\": \"white\", \"ticks\": \"\", \"title\": {\"standoff\": 15}, \"zerolinecolor\": \"white\", \"zerolinewidth\": 2}}}, \"title\": {\"text\": \"Energy Minimization\"}, \"xaxis\": {\"title\": {\"text\": \"Energy Minimization Step\"}}, \"yaxis\": {\"title\": {\"text\": \"Potential Energy kcal/mol\"}}},                        {\"responsive\": true}                    ).then(function(){\n",
       "                            \n",
       "var gd = document.getElementById('b9ece5bf-97e7-4139-90f8-cf5ae8f79321');\n",
       "var x = new MutationObserver(function (mutations, observer) {{\n",
       "        var display = window.getComputedStyle(gd).display;\n",
       "        if (!display || display === 'none') {{\n",
       "            console.log([gd, 'removed!']);\n",
       "            Plotly.purge(gd);\n",
       "            observer.disconnect();\n",
       "        }}\n",
       "}});\n",
       "\n",
       "// Listen for the removal of the full notebook cells\n",
       "var notebookContainer = gd.closest('#notebook-container');\n",
       "if (notebookContainer) {{\n",
       "    x.observe(notebookContainer, {childList: true});\n",
       "}}\n",
       "\n",
       "// Listen for the clearing of the current output cell\n",
       "var outputEl = gd.closest('.output');\n",
       "if (outputEl) {{\n",
       "    x.observe(outputEl, {childList: true});\n",
       "}}\n",
       "\n",
       "                        })                };                });            </script>        </div>"
      ]
     },
     "metadata": {},
     "output_type": "display_data"
    }
   ],
   "source": [
    "#Read data from file and filter energy values higher than 1000 Kj/mol^-1\n",
    "with open(output_n_min_dat_path,'r') as energy_file:\n",
    "    x,y = map(\n",
    "        list,\n",
    "        zip(*[\n",
    "            (float(line.split()[0]),float(line.split()[1]))\n",
    "            for line in energy_file \n",
    "            if not line.startswith((\"#\",\"@\")) \n",
    "            if float(line.split()[1]) < 1000 \n",
    "        ])\n",
    "    )\n",
    "\n",
    "plotly.offline.init_notebook_mode(connected=True)\n",
    "\n",
    "fig = {\n",
    "    \"data\": [go.Scatter(x=x, y=y)],\n",
    "    \"layout\": go.Layout(title=\"Energy Minimization\",\n",
    "                        xaxis=dict(title = \"Energy Minimization Step\"),\n",
    "                        yaxis=dict(title = \"Potential Energy kcal/mol\")\n",
    "                       )\n",
    "}\n",
    "\n",
    "plotly.offline.iplot(fig)"
   ]
  },
  {
   "cell_type": "markdown",
   "metadata": {},
   "source": [
    "<a id=\"water\"></a>\n",
    "## Creating Water Box\n",
    "\n",
    "Creating a **water box** surrounding the **DNA structure** using the **leap tool** from the **AMBER MD package**. <br/>\n",
    "Using the **water model** fixed in the first cell.\n",
    "***\n",
    "**Building Blocks** used:\n",
    " - [amber_to_pdb](https://biobb-amber.readthedocs.io/en/latest/ambpdb.html#module-ambpdb.amber_to_pdb) from **biobb_amber.ambpdb.amber_to_pdb**\n",
    " - [leap_solvate](https://biobb-amber.readthedocs.io/en/latest/leap.html#module-leap.leap_solvate) from **biobb_amber.leap.leap_solvate**\n",
    "***"
   ]
  },
  {
   "cell_type": "markdown",
   "metadata": {},
   "source": [
    "### Getting minimized structure\n",
    "Getting the result of the **energetic minimization** and converting it to **PDB format** to be then used as input for the **water box generation**. <br/>This is achieved by converting from **AMBER topology + coordinates** files to a **PDB file** using the **ambpdb** tool from the **AMBER MD package**."
   ]
  },
  {
   "cell_type": "code",
   "execution_count": 87,
   "metadata": {},
   "outputs": [
    {
     "name": "stderr",
     "output_type": "stream",
     "text": [
      "2021-01-29 09:20:21,240 [MainThread  ] [INFO ]  Creating command line with instructions and required arguments\n",
      "2021-01-29 09:20:21,345 [MainThread  ] [INFO ]  ambpdb  -p structure.leap.top -c sander.h_min.rst >  structure.ambpdb.pdb\n",
      "\n",
      "2021-01-29 09:20:21,349 [MainThread  ] [INFO ]  Exit code 0\n",
      "\n"
     ]
    },
    {
     "data": {
      "text/plain": [
       "0"
      ]
     },
     "execution_count": 87,
     "metadata": {},
     "output_type": "execute_result"
    }
   ],
   "source": [
    "# Import module\n",
    "from biobb_amber.ambpdb.amber_to_pdb import amber_to_pdb\n",
    "\n",
    "# Create prop dict and inputs/outputs\n",
    "output_ambpdb_path = 'structure.ambpdb.pdb'\n",
    "\n",
    "# Create and launch bb\n",
    "amber_to_pdb(input_top_path=dna_leap_top_path,\n",
    "            input_crd_path=output_h_min_rst_path,\n",
    "            output_pdb_path=output_ambpdb_path\n",
    "            )"
   ]
  },
  {
   "cell_type": "markdown",
   "metadata": {},
   "source": [
    "### Create water box\n",
    "Define the **unit cell** for the **DNA structure MD system** and fill it with **water molecules**.<br/>\n",
    "A **truncated octahedron** is used to define the unit cell, with a distance from the protein to the box edge of 10Å.\n",
    "The **water model** used is the one defined in the first cell."
   ]
  },
  {
   "cell_type": "code",
   "execution_count": 88,
   "metadata": {},
   "outputs": [
    {
     "name": "stderr",
     "output_type": "stream",
     "text": [
      "2021-01-29 09:20:21,466 [MainThread  ] [INFO ]  Creating b20cf804-fc08-4ed4-9d9d-0716b2ebc3e6 temporary folder\n",
      "2021-01-29 09:20:21,467 [MainThread  ] [INFO ]  Creating command line with instructions and required arguments\n",
      "2021-01-29 09:20:23,242 [MainThread  ] [INFO ]  tleap  -f b20cf804-fc08-4ed4-9d9d-0716b2ebc3e6/leap.in\n",
      "\n",
      "2021-01-29 09:20:23,247 [MainThread  ] [INFO ]  Exit code 0\n",
      "\n",
      "2021-01-29 09:20:23,248 [MainThread  ] [INFO ]  -I: Adding /anaconda3/envs/biobb_amber/dat/leap/prep to search path.\n",
      "-I: Adding /anaconda3/envs/biobb_amber/dat/leap/lib to search path.\n",
      "-I: Adding /anaconda3/envs/biobb_amber/dat/leap/parm to search path.\n",
      "-I: Adding /anaconda3/envs/biobb_amber/dat/leap/cmd to search path.\n",
      "-f: Source b20cf804-fc08-4ed4-9d9d-0716b2ebc3e6/leap.in.\n",
      "\n",
      "Welcome to LEaP!\n",
      "(no leaprc in search path)\n",
      "Sourcing: ./b20cf804-fc08-4ed4-9d9d-0716b2ebc3e6/leap.in\n",
      "----- Source: /anaconda3/envs/biobb_amber/dat/leap/cmd/leaprc.DNA.bsc1\n",
      "----- Source of /anaconda3/envs/biobb_amber/dat/leap/cmd/leaprc.DNA.bsc1 done\n",
      "Log file: ./leap.log\n",
      "Loading parameters: /anaconda3/envs/biobb_amber/dat/leap/parm/parm10.dat\n",
      "Reading title:\n",
      "PARM99 + frcmod.ff99SB + frcmod.parmbsc0 + OL3 for RNA\n",
      "Loading library: /anaconda3/envs/biobb_amber/dat/leap/lib/parmBSC1.lib\n",
      "Loading parameters: /anaconda3/envs/biobb_amber/dat/leap/parm/frcmod.parmbsc1\n",
      "Reading force field modification type file (frcmod)\n",
      "Reading title:\n",
      "Parmbsc1 force-field for DNA\n",
      "Loading parameters: ./leapin/frcmod.ionsdang_spce\n",
      "Reading force field modification type file (frcmod)\n",
      "Reading title:\n",
      "Monovalent ion parameters for Ewald from Dang JCP (1994) JPC (1995) JACS (1995)\n",
      "----- Source: /anaconda3/envs/biobb_amber/dat/leap/cmd/leaprc.water.tip3p\n",
      "----- Source of /anaconda3/envs/biobb_amber/dat/leap/cmd/leaprc.water.tip3p done\n",
      "Loading library: /anaconda3/envs/biobb_amber/dat/leap/lib/atomic_ions.lib\n",
      "Loading library: /anaconda3/envs/biobb_amber/dat/leap/lib/solvents.lib\n",
      "Loading parameters: /anaconda3/envs/biobb_amber/dat/leap/parm/frcmod.tip3p\n",
      "Reading force field modification type file (frcmod)\n",
      "Reading title:\n",
      "This is the additional/replacement parameter set for TIP3P water\n",
      "Loading parameters: /anaconda3/envs/biobb_amber/dat/leap/parm/frcmod.ions1lm_126_tip3p\n",
      "Reading force field modification type file (frcmod)\n",
      "Reading title:\n",
      "Li/Merz ion parameters of monovalent ions for TIP3P water model (12-6 normal usage set)\n",
      "Loading parameters: /anaconda3/envs/biobb_amber/dat/leap/parm/frcmod.ionsjc_tip3p\n",
      "Reading force field modification type file (frcmod)\n",
      "Reading title:\n",
      "Monovalent ion parameters for Ewald and TIP3P water from Joung & Cheatham JPCB (2008)\n",
      "Loading parameters: /anaconda3/envs/biobb_amber/dat/leap/parm/frcmod.ions234lm_126_tip3p\n",
      "Reading force field modification type file (frcmod)\n",
      "Reading title:\n",
      "Li/Merz ion parameters of divalent to tetravalent ions for TIP3P water model (12-6 normal usage set)\n",
      "Loading PDB file: ./structure.ambpdb.pdb\n",
      "  total atoms in file: 1330\n",
      "Scaling up box by a factor of 1.073510 to meet diagonal cut criterion\n",
      "  Solute vdw bounding box:              23.442 24.363 77.058\n",
      "  Total bounding box for atom centers:  98.529 98.529 98.529\n",
      "      (box expansion for 'iso' is 371.6%)\n",
      "  Solvent unit box:                     18.774 18.774 18.774\n",
      "  Volume: 492962.245 A^3 (oct)\n",
      "  Total mass 270459.708 amu,  Density 0.911 g/cc\n",
      "  Added 14301 residues.\n",
      "Writing pdb file: structure.solv.pdb\n",
      "   printing CRYST1 record to PDB file with box info\n",
      "Checking Unit.\n",
      "\n",
      "/anaconda3/envs/biobb_amber/bin/teLeap: Warning!\n",
      "The unperturbed charge of the unit (-40.000000) is not zero.\n",
      "\n",
      "/anaconda3/envs/biobb_amber/bin/teLeap: Note.\n",
      "Ignoring the warning from Unit Checking.\n",
      "\n",
      "Building topology.\n",
      "Building atom parameters.\n",
      "Building bond parameters.\n",
      "Building angle parameters.\n",
      "Building proper torsion parameters.\n",
      "Building improper torsion parameters.\n",
      " total 285 improper torsions applied\n",
      "Building H-Bond parameters.\n",
      "Incorporating Non-Bonded adjustments.\n",
      "Not Marking per-residue atom chain types.\n",
      "Marking per-residue atom chain types.\n",
      "  (Residues lacking connect0/connect1 - \n",
      "   these don't have chain types marked:\n",
      "\n",
      "\tres\ttotal affected\n",
      "\n",
      "\tWAT\t14301\n",
      "  )\n",
      " (no restraints)\n",
      "\tQuit\n",
      "\n",
      "Exiting LEaP: Errors = 0; Warnings = 1; Notes = 1.\n",
      "\n",
      "2021-01-29 09:20:23,274 [MainThread  ] [INFO ]  Removed: b20cf804-fc08-4ed4-9d9d-0716b2ebc3e6\n",
      "2021-01-29 09:20:23,276 [MainThread  ] [INFO ]  Removed: leap.log\n"
     ]
    }
   ],
   "source": [
    "# Import module\n",
    "from biobb_amber.leap.leap_solvate import leap_solvate\n",
    "\n",
    "# Create prop dict and inputs/outputs\n",
    "prop = {\n",
    "    \"forcefield\" : forcefield,\n",
    "    \"water_type\" : water_model,\n",
    "    \"ions_type\" : ions_model, \n",
    "    \"distance_to_molecule\": \"10.0\", \n",
    "    \"box_type\": \"truncated_octahedron\",\n",
    "    \"remove_tmp\": True\n",
    "}\n",
    "output_solv_pdb_path = 'structure.solv.pdb'\n",
    "output_solv_top_path = 'structure.solv.parmtop'\n",
    "output_solv_crd_path = 'structure.solv.crd'\n",
    "\n",
    "if protocol != \"JoungCheatham\":\n",
    "    # Create and launch bb\n",
    "    leap_solvate( input_pdb_path=output_ambpdb_path,\n",
    "                input_params_path=ions_dang,\n",
    "                output_pdb_path=output_solv_pdb_path,\n",
    "                output_top_path=output_solv_top_path,\n",
    "                output_crd_path=output_solv_crd_path,\n",
    "                properties=prop)\n",
    "else:\n",
    "    # Create and launch bb\n",
    "    leap_solvate( input_pdb_path=output_ambpdb_path,\n",
    "                output_pdb_path=output_solv_pdb_path,\n",
    "                output_top_path=output_solv_top_path,\n",
    "                output_crd_path=output_solv_crd_path,\n",
    "                properties=prop)"
   ]
  },
  {
   "cell_type": "code",
   "execution_count": 89,
   "metadata": {},
   "outputs": [
    {
     "data": {
      "application/vnd.jupyter.widget-view+json": {
       "model_id": "62dcf4a9a1e14ff8affb3d5f6c4161ff",
       "version_major": 2,
       "version_minor": 0
      },
      "text/plain": [
       "NGLWidget()"
      ]
     },
     "metadata": {},
     "output_type": "display_data"
    }
   ],
   "source": [
    "# Show protein\n",
    "view = nglview.show_structure_file(output_solv_pdb_path)\n",
    "view.clear_representations()\n",
    "view.add_representation(repr_type='ball+stick', selection='nucleic')\n",
    "view.add_representation(repr_type='line', selection='water')\n",
    "view._remote_call('setSize', target='Widget', args=['','600px'])\n",
    "view"
   ]
  },
  {
   "cell_type": "markdown",
   "metadata": {},
   "source": [
    "<a id=\"ions\"></a>\n",
    "## Adding additional ionic concentration\n",
    "\n",
    "**Neutralizing** the system and adding an additional **ionic concentration** using the **leap tool** from the **AMBER MD package**. <br/>\n",
    "Using **Potassium (K+)** and **Chloride (Cl-)** counterions and an **additional ionic concentration** of 150mM.\n",
    "***\n",
    "**Building Blocks** used:\n",
    " - [leap_add_ions](https://biobb-amber.readthedocs.io/en/latest/leap.html#module-leap.leap_add_ions) from **biobb_amber.leap.leap_add_ions**\n",
    "***"
   ]
  },
  {
   "cell_type": "code",
   "execution_count": 90,
   "metadata": {},
   "outputs": [
    {
     "name": "stderr",
     "output_type": "stream",
     "text": [
      "2021-01-29 09:20:23,698 [MainThread  ] [INFO ]  Creating fc8506a8-f134-4aa8-a7a4-c7700c62ee52 temporary folder\n",
      "2021-01-29 09:20:24,033 [MainThread  ] [INFO ]  Creating command line with instructions and required arguments\n",
      "2021-01-29 09:20:34,048 [MainThread  ] [INFO ]  tleap  -f fc8506a8-f134-4aa8-a7a4-c7700c62ee52/leap.in\n",
      "\n",
      "2021-01-29 09:20:34,056 [MainThread  ] [INFO ]  Exit code 0\n",
      "\n",
      "2021-01-29 09:20:34,059 [MainThread  ] [INFO ]  -I: Adding /anaconda3/envs/biobb_amber/dat/leap/prep to search path.\n",
      "-I: Adding /anaconda3/envs/biobb_amber/dat/leap/lib to search path.\n",
      "-I: Adding /anaconda3/envs/biobb_amber/dat/leap/parm to search path.\n",
      "-I: Adding /anaconda3/envs/biobb_amber/dat/leap/cmd to search path.\n",
      "-f: Source fc8506a8-f134-4aa8-a7a4-c7700c62ee52/leap.in.\n",
      "\n",
      "Welcome to LEaP!\n",
      "(no leaprc in search path)\n",
      "Sourcing: ./fc8506a8-f134-4aa8-a7a4-c7700c62ee52/leap.in\n",
      "----- Source: /anaconda3/envs/biobb_amber/dat/leap/cmd/leaprc.DNA.bsc1\n",
      "----- Source of /anaconda3/envs/biobb_amber/dat/leap/cmd/leaprc.DNA.bsc1 done\n",
      "Log file: ./leap.log\n",
      "Loading parameters: /anaconda3/envs/biobb_amber/dat/leap/parm/parm10.dat\n",
      "Reading title:\n",
      "PARM99 + frcmod.ff99SB + frcmod.parmbsc0 + OL3 for RNA\n",
      "Loading library: /anaconda3/envs/biobb_amber/dat/leap/lib/parmBSC1.lib\n",
      "Loading parameters: /anaconda3/envs/biobb_amber/dat/leap/parm/frcmod.parmbsc1\n",
      "Reading force field modification type file (frcmod)\n",
      "Reading title:\n",
      "Parmbsc1 force-field for DNA\n",
      "----- Source: /anaconda3/envs/biobb_amber/dat/leap/cmd/leaprc.water.tip3p\n",
      "----- Source of /anaconda3/envs/biobb_amber/dat/leap/cmd/leaprc.water.tip3p done\n",
      "Loading library: /anaconda3/envs/biobb_amber/dat/leap/lib/atomic_ions.lib\n",
      "Loading library: /anaconda3/envs/biobb_amber/dat/leap/lib/solvents.lib\n",
      "Loading parameters: /anaconda3/envs/biobb_amber/dat/leap/parm/frcmod.tip3p\n",
      "Reading force field modification type file (frcmod)\n",
      "Reading title:\n",
      "This is the additional/replacement parameter set for TIP3P water\n",
      "Loading parameters: /anaconda3/envs/biobb_amber/dat/leap/parm/frcmod.ions1lm_126_tip3p\n",
      "Reading force field modification type file (frcmod)\n",
      "Reading title:\n",
      "Li/Merz ion parameters of monovalent ions for TIP3P water model (12-6 normal usage set)\n",
      "Loading parameters: /anaconda3/envs/biobb_amber/dat/leap/parm/frcmod.ionsjc_tip3p\n",
      "Reading force field modification type file (frcmod)\n",
      "Reading title:\n",
      "Monovalent ion parameters for Ewald and TIP3P water from Joung & Cheatham JPCB (2008)\n",
      "Loading parameters: /anaconda3/envs/biobb_amber/dat/leap/parm/frcmod.ions234lm_126_tip3p\n",
      "Reading force field modification type file (frcmod)\n",
      "Reading title:\n",
      "Li/Merz ion parameters of divalent to tetravalent ions for TIP3P water model (12-6 normal usage set)\n",
      "Loading parameters: ./leapin/frcmod.ionsdang_spce\n",
      "Reading force field modification type file (frcmod)\n",
      "Reading title:\n",
      "Monovalent ion parameters for Ewald from Dang JCP (1994) JPC (1995) JACS (1995)\n",
      "Loading PDB file: ./structure.solv.pdb\n",
      "  total atoms in file: 44233\n",
      "\n",
      "/anaconda3/envs/biobb_amber/bin/teLeap: Warning!\n",
      "addIonsRand: 1st Ion & target unit have charges of the same sign:\n",
      "     unit charge = -40; ion1 charge = -1;\n",
      "     can't neutralize.\n",
      "40 K+ ions required to neutralize.\n",
      "Adding 40 counter ions to \"mol\". 14261 solvent molecules will remain.\n",
      "0: Placed K+ in mol at (9.95, -9.80, 23.50).\n",
      "0: Placed K+ in mol at (-19.44, -44.92, 8.46).\n",
      "0: Placed K+ in mol at (-3.97, 18.76, -22.58).\n",
      "0: Placed K+ in mol at (-5.51, 13.45, -43.84).\n",
      "0: Placed K+ in mol at (-8.95, -12.99, -20.14).\n",
      "0: Placed K+ in mol at (-13.85, 5.06, -10.60).\n",
      "0: Placed K+ in mol at (11.78, 41.91, 17.31).\n",
      "0: Placed K+ in mol at (-25.88, 20.33, 14.97).\n",
      "0: Placed K+ in mol at (12.71, 35.35, 25.30).\n",
      "0: Placed K+ in mol at (-41.76, -20.55, -3.26).\n",
      "0: Placed K+ in mol at (-23.81, 9.58, 9.38).\n",
      "0: Placed K+ in mol at (-6.86, -11.13, -25.44).\n",
      "0: Placed K+ in mol at (29.88, 33.88, -6.51).\n",
      "0: Placed K+ in mol at (28.36, 9.43, 24.77).\n",
      "0: Placed K+ in mol at (-1.30, 11.19, -12.31).\n",
      "0: Placed K+ in mol at (-7.60, -7.02, -36.51).\n",
      "0: Placed K+ in mol at (34.13, 12.72, -26.85).\n",
      "0: Placed K+ in mol at (8.10, 6.51, 29.98).\n",
      "0: Placed K+ in mol at (32.52, -19.23, 0.25).\n",
      "0: Placed K+ in mol at (-16.30, 10.44, -28.39).\n",
      "0: Placed K+ in mol at (-31.97, 18.95, 5.91).\n",
      "0: Placed K+ in mol at (-6.52, 29.07, 5.11).\n",
      "0: Placed K+ in mol at (19.37, 20.27, -19.56).\n",
      "0: Placed K+ in mol at (13.08, 1.07, -18.09).\n",
      "0: Placed K+ in mol at (-29.62, -34.27, 20.11).\n",
      "0: Placed K+ in mol at (-30.13, -24.75, -12.63).\n",
      "0: Placed K+ in mol at (20.38, -9.70, -43.70).\n",
      "0: Placed K+ in mol at (-18.08, -38.91, 13.51).\n",
      "0: Placed K+ in mol at (-14.09, -47.24, 12.13).\n",
      "0: Placed K+ in mol at (-13.84, 25.36, -26.89).\n",
      "0: Placed K+ in mol at (-33.23, 6.50, -22.15).\n",
      "0: Placed K+ in mol at (14.97, -19.05, -4.72).\n",
      "0: Placed K+ in mol at (28.88, 30.94, 14.64).\n",
      "0: Placed K+ in mol at (23.48, -21.46, -33.55).\n",
      "0: Placed K+ in mol at (23.23, -16.90, -29.72).\n",
      "0: Placed K+ in mol at (15.15, 13.74, -21.44).\n",
      "0: Placed K+ in mol at (-14.04, 26.86, -20.90).\n",
      "0: Placed K+ in mol at (-31.26, 29.62, -14.42).\n",
      "0: Placed K+ in mol at (-35.23, -6.60, -11.93).\n",
      "0: Placed K+ in mol at (-8.24, 2.09, -33.45).\n",
      "Adding 39 counter ions to \"mol\". 14222 solvent molecules will remain.\n",
      "0: Placed Cl- in mol at (0.55, 18.95, 5.91).\n",
      "0: Placed Cl- in mol at (9.54, 26.52, 14.24).\n",
      "0: Placed Cl- in mol at (14.59, 21.03, -21.40).\n",
      "0: Placed Cl- in mol at (7.45, 17.13, 36.93).\n",
      "0: Placed Cl- in mol at (14.06, 22.88, 23.40).\n",
      "0: Placed Cl- in mol at (-42.02, 9.42, 24.98).\n",
      "0: Placed Cl- in mol at (-32.34, -28.84, -14.80).\n",
      "0: Placed Cl- in mol at (6.76, 14.29, 21.55).\n",
      "0: Placed Cl- in mol at (19.73, 10.80, -17.78).\n",
      "0: Placed Cl- in mol at (-34.83, 12.61, 20.26).\n",
      "0: Placed Cl- in mol at (15.59, 9.57, 38.44).\n",
      "0: Placed Cl- in mol at (21.16, 14.11, -11.49).\n",
      "0: Placed Cl- in mol at (15.75, 13.70, -26.64).\n",
      "0: Placed Cl- in mol at (-8.04, 27.10, 20.00).\n",
      "0: Placed Cl- in mol at (0.97, 26.46, -30.94).\n",
      "0: Placed Cl- in mol at (-5.82, 21.35, -5.96).\n",
      "0: Placed Cl- in mol at (-14.22, 33.69, 4.17).\n",
      "0: Placed Cl- in mol at (38.99, 1.19, 19.93).\n",
      "0: Placed Cl- in mol at (-2.76, -9.36, 18.19).\n",
      "0: Placed Cl- in mol at (13.73, 4.05, 33.39).\n",
      "0: Placed Cl- in mol at (24.47, 15.03, -21.11).\n",
      "0: Placed Cl- in mol at (41.77, 19.07, -20.30).\n",
      "0: Placed Cl- in mol at (11.39, -34.70, -7.37).\n",
      "0: Placed Cl- in mol at (-15.97, 31.12, -21.32).\n",
      "0: Placed Cl- in mol at (-9.70, -5.70, -23.17).\n",
      "0: Placed Cl- in mol at (-12.17, -37.18, 11.16).\n",
      "0: Placed Cl- in mol at (41.12, -4.88, -4.65).\n",
      "0: Placed Cl- in mol at (42.24, 22.32, -1.17).\n",
      "0: Placed Cl- in mol at (-3.19, 25.92, 37.07).\n",
      "0: Placed Cl- in mol at (-28.92, -31.25, 0.24).\n",
      "0: Placed Cl- in mol at (-14.92, -16.37, -31.55).\n",
      "0: Placed Cl- in mol at (-22.42, 15.05, 14.25).\n",
      "0: Placed Cl- in mol at (-3.19, -43.06, 23.80).\n",
      "0: Placed Cl- in mol at (17.48, 35.66, 14.97).\n",
      "0: Placed Cl- in mol at (0.96, -18.75, -20.96).\n",
      "0: Placed Cl- in mol at (-1.42, 33.30, 21.86).\n",
      "0: Placed Cl- in mol at (1.55, 44.41, -3.17).\n",
      "0: Placed Cl- in mol at (-37.63, -4.00, 12.31).\n",
      "0: Placed Cl- in mol at (-41.97, -3.81, -15.20).\n",
      "Adding 39 counter ions to \"mol\". 14183 solvent molecules will remain.\n",
      "0: Placed K+ in mol at (9.83, 31.55, -22.41).\n",
      "0: Placed K+ in mol at (18.32, 12.52, 9.80).\n",
      "0: Placed K+ in mol at (4.43, -12.92, 13.72).\n",
      "0: Placed K+ in mol at (33.89, 17.59, -9.70).\n",
      "0: Placed K+ in mol at (14.97, 26.93, 21.83).\n",
      "0: Placed K+ in mol at (6.12, -17.70, -39.52).\n",
      "0: Placed K+ in mol at (27.61, -8.00, 41.02).\n",
      "0: Placed K+ in mol at (-28.40, 22.37, -23.32).\n",
      "0: Placed K+ in mol at (-14.23, 9.47, -2.90).\n",
      "0: Placed K+ in mol at (-23.82, 33.10, 15.98).\n",
      "0: Placed K+ in mol at (32.00, -16.55, 15.06).\n",
      "0: Placed K+ in mol at (-0.84, 21.46, 2.86).\n",
      "0: Placed K+ in mol at (3.08, -39.27, 12.71).\n",
      "0: Placed K+ in mol at (-33.01, -18.47, -15.04).\n",
      "0: Placed K+ in mol at (5.14, -17.16, 15.79).\n",
      "0: Placed K+ in mol at (7.17, 22.55, 18.79).\n",
      "0: Placed K+ in mol at (25.95, 10.72, 17.08).\n",
      "0: Placed K+ in mol at (7.29, -9.21, 45.68).\n",
      "0: Placed K+ in mol at (-22.82, 26.30, -9.35).\n",
      "0: Placed K+ in mol at (-26.73, 1.92, 9.32).\n",
      "0: Placed K+ in mol at (3.06, -27.52, 0.61).\n",
      "0: Placed K+ in mol at (22.60, 36.56, 13.27).\n",
      "0: Placed K+ in mol at (-14.46, -38.12, -4.33).\n",
      "0: Placed K+ in mol at (35.12, 17.42, 19.66).\n",
      "0: Placed K+ in mol at (27.73, -23.72, 28.97).\n",
      "0: Placed K+ in mol at (-12.96, 6.65, 10.53).\n",
      "0: Placed K+ in mol at (-35.17, 4.48, 2.47).\n",
      "0: Placed K+ in mol at (20.84, 29.12, -10.42).\n",
      "0: Placed K+ in mol at (-37.43, 15.00, 1.20).\n",
      "0: Placed K+ in mol at (-10.30, 29.61, 6.07).\n",
      "0: Placed K+ in mol at (-23.27, 19.07, 6.26).\n",
      "0: Placed K+ in mol at (14.29, -38.20, 15.27).\n",
      "0: Placed K+ in mol at (-23.99, -18.05, -6.29).\n",
      "0: Placed K+ in mol at (-6.31, -35.06, -2.04).\n",
      "0: Placed K+ in mol at (-35.28, 13.64, 31.47).\n",
      "0: Placed K+ in mol at (6.71, 5.12, 39.70).\n",
      "0: Placed K+ in mol at (27.04, 17.35, -16.48).\n",
      "0: Placed K+ in mol at (23.29, -25.60, 12.98).\n",
      "0: Placed K+ in mol at (35.32, -26.55, -19.82).\n",
      "Box dimensions:  89.192000 101.438600 105.076600\n",
      "Writing pdb file: structure.ions.pdb\n",
      "   printing CRYST1 record to PDB file with box info\n",
      "Checking Unit.\n",
      "Building topology.\n",
      "Building atom parameters.\n",
      "Building bond parameters.\n",
      "Building angle parameters.\n",
      "Building proper torsion parameters.\n",
      "Building improper torsion parameters.\n",
      " total 285 improper torsions applied\n",
      "Building H-Bond parameters.\n",
      "Incorporating Non-Bonded adjustments.\n",
      "Not Marking per-residue atom chain types.\n",
      "Marking per-residue atom chain types.\n",
      "  (Residues lacking connect0/connect1 - \n",
      "   these don't have chain types marked:\n",
      "\n",
      "\tres\ttotal affected\n",
      "\n",
      "\tWAT\t14183\n",
      "  )\n",
      " (no restraints)\n",
      "\tQuit\n",
      "\n",
      "Exiting LEaP: Errors = 0; Warnings = 1; Notes = 0.\n",
      "\n"
     ]
    },
    {
     "name": "stderr",
     "output_type": "stream",
     "text": [
      "2021-01-29 09:20:34,061 [MainThread  ] [INFO ]  Fixing truncated octahedron Box in the topology and coordinates files\n"
     ]
    }
   ],
   "source": [
    "# Import module\n",
    "from biobb_amber.leap.leap_add_ions import leap_add_ions\n",
    "\n",
    "# Create prop dict and inputs/outputs\n",
    "prop = {\n",
    "    \"forcefield\" : forcefield,\n",
    "    \"water_type\" : water_model,\n",
    "    \"ions_type\" : ions_model, \n",
    "    \"neutralise\" : True,\n",
    "    \"positive_ions_type\": \"K+\",\n",
    "    \"negative_ions_type\": \"Cl-\",\n",
    "    \"ionic_concentration\" : 150, # 150mM\n",
    "    \"box_type\": \"truncated_octahedron\",\n",
    "    \"remove_tmp\": True\n",
    "}\n",
    "output_ions_pdb_path = 'structure.ions.pdb'\n",
    "output_ions_top_path = 'structure.ions.parmtop'\n",
    "output_ions_crd_path = 'structure.ions.crd'\n",
    "\n",
    "if protocol != \"JoungCheatham\":\n",
    "    # Create and launch bb\n",
    "    leap_add_ions(input_pdb_path=output_solv_pdb_path,\n",
    "               input_params_path=ions_dang,\n",
    "               output_pdb_path=output_ions_pdb_path,\n",
    "               output_top_path=output_ions_top_path,\n",
    "               output_crd_path=output_ions_crd_path,\n",
    "               properties=prop)\n",
    "else:\n",
    "    # Create and launch bb\n",
    "    leap_add_ions(input_pdb_path=output_solv_pdb_path,\n",
    "               output_pdb_path=output_ions_pdb_path,\n",
    "               output_top_path=output_ions_top_path,\n",
    "               output_crd_path=output_ions_crd_path,\n",
    "               properties=prop)"
   ]
  },
  {
   "cell_type": "code",
   "execution_count": 104,
   "metadata": {},
   "outputs": [
    {
     "data": {
      "application/vnd.jupyter.widget-view+json": {
       "model_id": "cb1f241fdb7f44c09328f7342b707f74",
       "version_major": 2,
       "version_minor": 0
      },
      "text/plain": [
       "NGLWidget()"
      ]
     },
     "metadata": {},
     "output_type": "display_data"
    }
   ],
   "source": [
    "# Show protein\n",
    "view = nglview.show_structure_file(output_ions_pdb_path)\n",
    "view.clear_representations()\n",
    "view.add_representation(repr_type='ball+stick', selection='nucleic')\n",
    "view.add_representation(repr_type='spacefill', selection='Na+')\n",
    "view.add_representation(repr_type='spacefill', selection='K+')\n",
    "view.add_representation(repr_type='spacefill', selection='Cl-')\n",
    "view._remote_call('setSize', target='Widget', args=['','600px'])\n",
    "view"
   ]
  },
  {
   "cell_type": "markdown",
   "metadata": {},
   "source": [
    "<a id=\"random\"></a>\n",
    "## Randomize ions\n",
    "\n",
    "**Randomly swap** the positions of **solvent** and **ions** using the **cpptraj tool** from the **AMBER MD package**. <br/>\n",
    "***\n",
    "**Building Blocks** used:\n",
    " - [cpptraj_randomize_ions](https://biobb-amber.readthedocs.io/en/latest/cpptraj.html#module-cpptraj.cpptraj_randomize_ions) from **biobb_amber.cpptraj.cpptraj_randomize_ions**\n",
    "***\n"
   ]
  },
  {
   "cell_type": "code",
   "execution_count": 105,
   "metadata": {},
   "outputs": [
    {
     "name": "stderr",
     "output_type": "stream",
     "text": [
      "2021-01-28 22:58:01,438 [MainThread  ] [INFO ]  Creating 6b980c58-1fee-482d-95ee-f81013f152d8 temporary folder\n",
      "2021-01-28 22:58:01,440 [MainThread  ] [INFO ]  Creating command line with instructions and required arguments\n",
      "2021-01-28 22:58:22,525 [MainThread  ] [INFO ]  cpptraj  structure.ions.parmtop -i 6b980c58-1fee-482d-95ee-f81013f152d8/cpptraj.in\n",
      "\n",
      "2021-01-28 22:58:22,527 [MainThread  ] [INFO ]  Exit code 0\n",
      "\n",
      "2021-01-28 22:58:22,528 [MainThread  ] [INFO ]  \n",
      "CPPTRAJ: Trajectory Analysis. V4.25.6\n",
      "    ___  ___  ___  ___\n",
      "     | \\/ | \\/ | \\/ | \n",
      "    _|_/\\_|_/\\_|_/\\_|_\n",
      "\n",
      "| Date/time: 01/28/21 22:58:01\n",
      "| Available memory: 112.092 MB\n",
      "\n",
      "\tReading 'structure.ions.parmtop' as Amber Topology\n",
      "\tRadius Set: modified Bondi radii (mbondi)\n",
      "INPUT: Reading input from '6b980c58-1fee-482d-95ee-f81013f152d8/cpptraj.in'\n",
      "  [trajin structure.ions.crd]\n",
      "\tReading 'structure.ions.crd' as Amber Restart\n",
      "  [randomizeions :K+,Cl-,Na+ around :DA,DC,DG,DT,D?3,D?5 by 5.0 overlap 3.5]\n",
      "    RANDOMIZEIONS: Swapping postions of ions in mask ':K+,Cl-,Na+' with solvent.\n",
      "\tNo ion can get closer than 3.50 angstroms to another ion.\n",
      "\tNo ion can get closer than 5.00 angstroms to atoms in mask ':DA,DC,DG,DT,D?3,D?5'\n",
      "Random_Number: seed is <= 0, using wallclock time as seed (135220)\n",
      "  [trajout structure.randIons.crd restart]\n",
      "\tWriting 'structure.randIons.crd' as Amber Restart\n",
      "  [trajout structure.randIons.pdb pdb]\n",
      "\tWriting 'structure.randIons.pdb' as PDB\n",
      "  [go]\n",
      "---------- RUN BEGIN -------------------------------------------------\n",
      "\n",
      "PARAMETER FILES (1 total):\n",
      " 0: structure.ions.parmtop, 43997 atoms, 14343 res, box: Trunc. Oct., 14303 mol, 14183 solvent\n",
      "\n",
      "INPUT TRAJECTORIES (1 total):\n",
      " 0: 'structure.ions.crd' is an AMBER restart file, no velocities, Parm structure.ions.parmtop (Trunc. Oct. box) (reading 1 of 1)\n",
      "  Coordinate processing will occur on 1 frames.\n",
      "\n",
      "OUTPUT TRAJECTORIES (2 total):\n",
      "  'structure.randIons.crd' (1 frames) is an AMBER restart file\n",
      "  'structure.randIons.pdb' (1 frames) is a PDB file\n",
      "\n",
      "BEGIN TRAJECTORY PROCESSING:\n",
      ".....................................................\n",
      "ACTION SETUP FOR PARM 'structure.ions.parmtop' (1 actions):\n",
      "  0: [randomizeions :K+,Cl-,Na+ around :DA,DC,DG,DT,D?3,D?5 by 5.0 overlap 3.5]\n",
      "\tIon mask is ':K+,Cl-,Na+' (118 atoms)\n",
      "\tAround mask is ':DA,DC,DG,DT,D?3,D?5' (1330 atoms)\n",
      "Warning: No PDB space group specified.\n",
      ".....................................................\n",
      "ACTIVE OUTPUT TRAJECTORIES (2):\n",
      "  structure.randIons.crd (coordinates, box)\n",
      "  structure.randIons.pdb (coordinates, box)\n",
      "----- structure.ions.crd (1-1, 1) -----\n",
      "100% Complete.\n",
      "\n",
      "Read 1 frames and processed 1 frames.\n",
      "TIME: Avg. throughput= 0.0481 frames / second.\n",
      "\n",
      "ACTION OUTPUT:\n",
      "TIME: Analyses took 0.0000 seconds.\n",
      "\n",
      "RUN TIMING:\n",
      "TIME:\t\tInit               : 0.0000 s (  0.00%)\n",
      "TIME:\t\tTrajectory Process : 20.7881 s ( 99.86%)\n",
      "TIME:\t\tAction Post        : 0.0000 s (  0.00%)\n",
      "TIME:\t\tAnalysis           : 0.0000 s (  0.00%)\n",
      "TIME:\t\tData File Write    : 0.0012 s (  0.01%)\n",
      "TIME:\t\tOther              : 0.0276 s (  0.00%)\n",
      "TIME:\tRun Total 20.8169 s\n",
      "---------- RUN END ---------------------------------------------------\n",
      "TIME: Total execution time: 21.0110 seconds.\n",
      "--------------------------------------------------------------------------------\n",
      "To cite CPPTRAJ use:\n",
      "Daniel R. Roe and Thomas E. Cheatham, III, \"PTRAJ and CPPTRAJ: Software for\n",
      "  Processing and Analysis of Molecular Dynamics Trajectory Data\". J. Chem.\n",
      "  Theory Comput., 2013, 9 (7), pp 3084-3095.\n",
      "\n",
      "\n",
      "2021-01-28 22:58:22,530 [MainThread  ] [INFO ]  Removed: 6b980c58-1fee-482d-95ee-f81013f152d8\n",
      "2021-01-28 22:58:22,531 [MainThread  ] [INFO ]  Removed: cpptraj.log\n"
     ]
    },
    {
     "data": {
      "text/plain": [
       "0"
      ]
     },
     "execution_count": 105,
     "metadata": {},
     "output_type": "execute_result"
    }
   ],
   "source": [
    "# Import module\n",
    "from biobb_amber.cpptraj.cpptraj_randomize_ions import cpptraj_randomize_ions\n",
    "\n",
    "# Create prop dict and inputs/outputs\n",
    "prop = { \n",
    "    \"remove_tmp\": True\n",
    "}\n",
    "output_cpptraj_crd_path = 'structure.randIons.crd'\n",
    "output_cpptraj_pdb_path = 'structure.randIons.pdb'\n",
    "\n",
    "# Create and launch bb\n",
    "cpptraj_randomize_ions(\n",
    "            input_top_path=output_ions_top_path,\n",
    "            input_crd_path=output_ions_crd_path,\n",
    "#            input_top_path=output_solv_top_path,\n",
    "#            input_crd_path=output_solv_crd_path,\n",
    "            output_pdb_path=output_cpptraj_pdb_path,\n",
    "            output_crd_path=output_cpptraj_crd_path,\n",
    "            properties=prop)"
   ]
  },
  {
   "cell_type": "code",
   "execution_count": 106,
   "metadata": {},
   "outputs": [
    {
     "data": {
      "application/vnd.jupyter.widget-view+json": {
       "model_id": "0fc892bbe2d442709022af43e2286691",
       "version_major": 2,
       "version_minor": 0
      },
      "text/plain": [
       "NGLWidget()"
      ]
     },
     "metadata": {},
     "output_type": "display_data"
    }
   ],
   "source": [
    "# Show protein\n",
    "view = nglview.show_structure_file(output_cpptraj_pdb_path)\n",
    "view.clear_representations()\n",
    "view.add_representation(repr_type='ball+stick', selection='nucleic')\n",
    "view.add_representation(repr_type='spacefill', selection='K+')\n",
    "view.add_representation(repr_type='spacefill', selection='Cl-')\n",
    "view.add_representation(repr_type='line', selection='water')\n",
    "view._remote_call('setSize', target='Widget', args=['','600px'])\n",
    "view"
   ]
  },
  {
   "cell_type": "markdown",
   "metadata": {},
   "source": [
    "<a id=\"mins\"></a>\n",
    "## Energetically minimize the system\n",
    "\n",
    "**Energetically minimize** the **DNA structure** (in solvent) using the **sander tool** from the **AMBER MD package**.\n",
    "***\n",
    "**Building Blocks** used:\n",
    " - [sander_mdrun](https://biobb-amber.readthedocs.io/en/latest/sander.html#module-sander.sander_mdrun) from **biobb_amber.sander.sander_mdrun**\n",
    " - [process_minout](https://biobb-amber.readthedocs.io/en/latest/process.html#module-process.process_minout) from **biobb_amber.process.process_minout**\n",
    "***"
   ]
  },
  {
   "cell_type": "code",
   "execution_count": 107,
   "metadata": {
    "scrolled": true
   },
   "outputs": [
    {
     "name": "stderr",
     "output_type": "stream",
     "text": [
      "2021-01-28 22:58:22,949 [MainThread  ] [INFO ]  Creating d85f768c-7b87-4a1a-a654-97036f06aecf temporary folder\n",
      "2021-01-28 22:58:22,950 [MainThread  ] [INFO ]  Creating command line with instructions and required arguments\n",
      "2021-01-28 23:03:21,819 [MainThread  ] [INFO ]  sander -O -i d85f768c-7b87-4a1a-a654-97036f06aecf/sander.mdin -p structure.ions.parmtop -c structure.randIons.crd -r sander.min.rst -o sander.min.log -x sander.min.x\n",
      "\n",
      "2021-01-28 23:03:21,828 [MainThread  ] [INFO ]  Exit code 0\n",
      "\n",
      "2021-01-28 23:03:21,842 [MainThread  ] [INFO ]  Removed: mdinfo, d85f768c-7b87-4a1a-a654-97036f06aecf\n"
     ]
    },
    {
     "data": {
      "text/plain": [
       "0"
      ]
     },
     "execution_count": 107,
     "metadata": {},
     "output_type": "execute_result"
    }
   ],
   "source": [
    "# Import module\n",
    "from biobb_amber.sander.sander_mdrun import sander_mdrun\n",
    "\n",
    "# Create prop dict and inputs/outputs\n",
    "prop = {\n",
    "    \"simulation_type\" : \"minimization\",\n",
    "    \"mdin\" : { \n",
    "        'maxcyc' : 500,\n",
    "        'ntpr' : 1,\n",
    "        'dt' : 0.0001\n",
    "    },\n",
    "    \"remove_tmp\": True\n",
    "}\n",
    "output_min_traj_path = 'sander.min.x'\n",
    "output_min_rst_path = 'sander.min.rst'\n",
    "output_min_log_path = 'sander.min.log'\n",
    "\n",
    "# Create and launch bb\n",
    "sander_mdrun(\n",
    "            input_top_path=output_ions_top_path,\n",
    "#            input_top_path=output_solv_top_path,\n",
    "            input_crd_path=output_cpptraj_crd_path,\n",
    "            output_traj_path=output_min_traj_path,\n",
    "            output_rst_path=output_min_rst_path,\n",
    "            output_log_path=output_min_log_path,\n",
    "            properties=prop)"
   ]
  },
  {
   "cell_type": "markdown",
   "metadata": {},
   "source": [
    "### Checking Energy Minimization results\n",
    "Checking **energy minimization** results. Plotting **potential energy** by time during the **minimization process**."
   ]
  },
  {
   "cell_type": "code",
   "execution_count": 108,
   "metadata": {},
   "outputs": [
    {
     "name": "stderr",
     "output_type": "stream",
     "text": [
      "2021-01-28 23:03:21,875 [MainThread  ] [INFO ]  Creating command line with instructions and required arguments\n",
      "2021-01-28 23:03:22,134 [MainThread  ] [INFO ]  process_minout.perl  sander.min.log\n",
      "\n",
      "2021-01-28 23:03:22,136 [MainThread  ] [INFO ]  Exit code 0\n",
      "\n",
      "2021-01-28 23:03:22,137 [MainThread  ] [INFO ]  Processing sander output file (sander.min.log)...\n",
      "Processing step 50 of a possible 500...\n",
      "Processing step 100 of a possible 500...\n",
      "Processing step 150 of a possible 500...\n",
      "Processing step 200 of a possible 500...\n",
      "Processing step 250 of a possible 500...\n",
      "Processing step 300 of a possible 500...\n",
      "Processing step 350 of a possible 500...\n",
      "Processing step 400 of a possible 500...\n",
      "Processing step 450 of a possible 500...\n",
      "Processing step 500 of a possible 500...\n",
      "Processing step 500 of a possible 500...\n",
      "Starting output...\n",
      "Outputing summary.NSTEP\n",
      "Outputing summary.ENERGY\n",
      "Outputing summary.RMS\n",
      "Outputing summary.GMAX\n",
      "Outputing summary.NAME\n",
      "Outputing summary.NUMBER\n",
      "Outputing summary.BOND\n",
      "Outputing summary.ANGLE\n",
      "Outputing summary.DIHEDRAL\n",
      "Outputing summary.VDWAALS\n",
      "Outputing summary.EEL\n",
      "Outputing summary.HBOND\n",
      "Outputing summary.VDW14\n",
      "Outputing summary.EEL14\n",
      "Outputing summary.RESTRAINT\n",
      "\n",
      "2021-01-28 23:03:22,146 [MainThread  ] [INFO ]  Removed: [PosixPath('summary.ANGLE'), PosixPath('summary.BOND'), PosixPath('summary.DIHEDRAL'), PosixPath('summary.EEL'), PosixPath('summary.EEL14'), PosixPath('summary.ENERGY'), PosixPath('summary.GMAX'), PosixPath('summary.HBOND'), PosixPath('summary.NAME'), PosixPath('summary.NSTEP'), PosixPath('summary.NUMBER'), PosixPath('summary.RESTRAINT'), PosixPath('summary.RMS'), PosixPath('summary.VDW14'), PosixPath('summary.VDWAALS')]\n"
     ]
    },
    {
     "data": {
      "text/plain": [
       "0"
      ]
     },
     "execution_count": 108,
     "metadata": {},
     "output_type": "execute_result"
    }
   ],
   "source": [
    "# Import module\n",
    "from biobb_amber.process.process_minout import process_minout\n",
    "\n",
    "# Create prop dict and inputs/outputs\n",
    "prop = {\n",
    "    #\"terms\" : ['ENERGY','RMS'],\n",
    "    \"terms\" : ['ENERGY'],\n",
    "    \"remove_tmp\": True\n",
    "}\n",
    "output_dat_path = 'sander.min.energy.dat'\n",
    "\n",
    "# Create and launch bb\n",
    "process_minout(input_log_path=output_min_log_path,\n",
    "            output_dat_path=output_dat_path,\n",
    "            properties=prop)"
   ]
  },
  {
   "cell_type": "code",
   "execution_count": 109,
   "metadata": {},
   "outputs": [
    {
     "data": {
      "text/html": [
       "        <script type=\"text/javascript\">\n",
       "        window.PlotlyConfig = {MathJaxConfig: 'local'};\n",
       "        if (window.MathJax) {MathJax.Hub.Config({SVG: {font: \"STIX-Web\"}});}\n",
       "        if (typeof require !== 'undefined') {\n",
       "        require.undef(\"plotly\");\n",
       "        requirejs.config({\n",
       "            paths: {\n",
       "                'plotly': ['https://cdn.plot.ly/plotly-latest.min']\n",
       "            }\n",
       "        });\n",
       "        require(['plotly'], function(Plotly) {\n",
       "            window._Plotly = Plotly;\n",
       "        });\n",
       "        }\n",
       "        </script>\n",
       "        "
      ]
     },
     "metadata": {},
     "output_type": "display_data"
    },
    {
     "data": {
      "application/vnd.plotly.v1+json": {
       "config": {
        "linkText": "Export to plot.ly",
        "plotlyServerURL": "https://plot.ly",
        "showLink": false
       },
       "data": [
        {
         "type": "scatter",
         "x": [
          1,
          2,
          3,
          4,
          5,
          6,
          7,
          8,
          9,
          10,
          11,
          12,
          13,
          14,
          15,
          16,
          17,
          18,
          19,
          20,
          21,
          22,
          23,
          24,
          25,
          26,
          27,
          28,
          29,
          30,
          31,
          32,
          33,
          34,
          35,
          36,
          37,
          38,
          39,
          40,
          41,
          42,
          43,
          44,
          45,
          46,
          47,
          48,
          49,
          50,
          51,
          52,
          53,
          54,
          55,
          56,
          57,
          58,
          59,
          60,
          61,
          62,
          63,
          64,
          65,
          66,
          67,
          68,
          69,
          70,
          71,
          72,
          73,
          74,
          75,
          76,
          77,
          78,
          79,
          80,
          81,
          82,
          83,
          84,
          85,
          86,
          87,
          88,
          89,
          90,
          91,
          92,
          93,
          94,
          95,
          96,
          97,
          98,
          99,
          100,
          101,
          102,
          103,
          104,
          105,
          106,
          107,
          108,
          109,
          110,
          111,
          112,
          113,
          114,
          115,
          116,
          117,
          118,
          119,
          120,
          121,
          122,
          123,
          124,
          125,
          126,
          127,
          128,
          129,
          130,
          131,
          132,
          133,
          134,
          135,
          136,
          137,
          138,
          139,
          140,
          141,
          142,
          143,
          144,
          145,
          146,
          147,
          148,
          149,
          150,
          151,
          152,
          153,
          154,
          155,
          156,
          157,
          158,
          159,
          160,
          161,
          162,
          163,
          164,
          165,
          166,
          167,
          168,
          169,
          170,
          171,
          172,
          173,
          174,
          175,
          176,
          177,
          178,
          179,
          180,
          181,
          182,
          183,
          184,
          185,
          186,
          187,
          188,
          189,
          190,
          191,
          192,
          193,
          194,
          195,
          196,
          197,
          198,
          199,
          200,
          201,
          202,
          203,
          204,
          205,
          206,
          207,
          208,
          209,
          210,
          211,
          212,
          213,
          214,
          215,
          216,
          217,
          218,
          219,
          220,
          221,
          222,
          223,
          224,
          225,
          226,
          227,
          228,
          229,
          230,
          231,
          232,
          233,
          234,
          235,
          236,
          237,
          238,
          239,
          240,
          241,
          242,
          243,
          244,
          245,
          246,
          247,
          248,
          249,
          250,
          251,
          252,
          253,
          254,
          255,
          256,
          257,
          258,
          259,
          260,
          261,
          262,
          263,
          264,
          265,
          266,
          267,
          268,
          269,
          270,
          271,
          272,
          273,
          274,
          275,
          276,
          277,
          278,
          279,
          280,
          281,
          282,
          283,
          284,
          285,
          286,
          287,
          288,
          289,
          290,
          291,
          292,
          293,
          294,
          295,
          296,
          297,
          298,
          299,
          300,
          301,
          302,
          303,
          304,
          305,
          306,
          307,
          308,
          309,
          310,
          311,
          312,
          313,
          314,
          315,
          316,
          317,
          318,
          319,
          320,
          321,
          322,
          323,
          324,
          325,
          326,
          327,
          328,
          329,
          330,
          331,
          332,
          333,
          334,
          335,
          336,
          337,
          338,
          339,
          340,
          341,
          342,
          343,
          344,
          345,
          346,
          347,
          348,
          349,
          350,
          351,
          352,
          353,
          354,
          355,
          356,
          357,
          358,
          359,
          360,
          361,
          362,
          363,
          364,
          365,
          366,
          367,
          368,
          369,
          370,
          371,
          372,
          373,
          374,
          375,
          376,
          377,
          378,
          379,
          380,
          381,
          382,
          383,
          384,
          385,
          386,
          387,
          388,
          389,
          390,
          391,
          392,
          393,
          394,
          395,
          396,
          397,
          398,
          399,
          400,
          401,
          402,
          403,
          404,
          405,
          406,
          407,
          408,
          409,
          410,
          411,
          412,
          413,
          414,
          415,
          416,
          417,
          418,
          419,
          420,
          421,
          422,
          423,
          424,
          425,
          426,
          427,
          428,
          429,
          430,
          431,
          432,
          433,
          434,
          435,
          436,
          437,
          438,
          439,
          440,
          441,
          442,
          443,
          444,
          445,
          446,
          447,
          448,
          449,
          450,
          451,
          452,
          453,
          454,
          455,
          456,
          457,
          458,
          459,
          460,
          461,
          462,
          463,
          464,
          465,
          466,
          467,
          468,
          469,
          470,
          471,
          472,
          473,
          474,
          475,
          476,
          477,
          478,
          479,
          480,
          481,
          482,
          483,
          484,
          485,
          486,
          487,
          488,
          489,
          490,
          491,
          492,
          493,
          494,
          495,
          496,
          497,
          498,
          499,
          500
         ],
         "y": [
          -87462,
          -88064,
          -88761,
          -89565,
          -90486,
          -91533,
          -92714,
          -94036,
          -95501,
          -97108,
          -98854,
          -98855,
          -109570,
          -114630,
          -117270,
          -120030,
          -126240,
          -131510,
          -132870,
          -136500,
          -136510,
          -141490,
          -141980,
          -146340,
          -146490,
          -146490,
          -146490,
          -146500,
          -146500,
          -146510,
          -146710,
          -148350,
          -148570,
          -149470,
          -149800,
          -150950,
          -150950,
          -153100,
          -152460,
          -155780,
          -156100,
          -157670,
          -158920,
          -158950,
          -160280,
          -160290,
          -161640,
          -161650,
          -162970,
          -162980,
          -162980,
          -162990,
          -162990,
          -162990,
          -163000,
          -163190,
          -163590,
          -163990,
          -164100,
          -164480,
          -164490,
          -165160,
          -165820,
          -165410,
          -166420,
          -166930,
          -167110,
          -167380,
          -167460,
          -167900,
          -167960,
          -168610,
          -168660,
          -169460,
          -169480,
          -169490,
          -169490,
          -169490,
          -169490,
          -169490,
          -169640,
          -169980,
          -170270,
          -170280,
          -170450,
          -170530,
          -170780,
          -170780,
          -170960,
          -170960,
          -171270,
          -171600,
          -172150,
          -172160,
          -172600,
          -172610,
          -173040,
          -173070,
          -173590,
          -173650,
          -173650,
          -173650,
          -173660,
          -173660,
          -173660,
          -173770,
          -173980,
          -174150,
          -174200,
          -174420,
          -174420,
          -174730,
          -174820,
          -174960,
          -175070,
          -175230,
          -175240,
          -175440,
          -175480,
          -175500,
          -175610,
          -175730,
          -175790,
          -176070,
          -176150,
          -176150,
          -176150,
          -176160,
          -176160,
          -176160,
          -176250,
          -176400,
          -176530,
          -176560,
          -176710,
          -176730,
          -176960,
          -176990,
          -177180,
          -177200,
          -177340,
          -177340,
          -177510,
          -177530,
          -177610,
          -177650,
          -177750,
          -177780,
          -177960,
          -177980,
          -177980,
          -177990,
          -177990,
          -177990,
          -177990,
          -178050,
          -178140,
          -178230,
          -178260,
          -178350,
          -178350,
          -178460,
          -178460,
          -178540,
          -178550,
          -178680,
          -178730,
          -178990,
          -179040,
          -179180,
          -179230,
          -179370,
          -179380,
          -179550,
          -179560,
          -179560,
          -179560,
          -179560,
          -179560,
          -179560,
          -179610,
          -179690,
          -179770,
          -179820,
          -179980,
          -179980,
          -180130,
          -180130,
          -180260,
          -180280,
          -180340,
          -180370,
          -180490,
          -180510,
          -180570,
          -180580,
          -180670,
          -180670,
          -180800,
          -180870,
          -180870,
          -180870,
          -180880,
          -180880,
          -180880,
          -180940,
          -181030,
          -181100,
          -181120,
          -181180,
          -181180,
          -181270,
          -181280,
          -181380,
          -181380,
          -181490,
          -181490,
          -181610,
          -181620,
          -181750,
          -181750,
          -181870,
          -181870,
          -181970,
          -181970,
          -181970,
          -181980,
          -181980,
          -181980,
          -181980,
          -182010,
          -182050,
          -182130,
          -182170,
          -182290,
          -182290,
          -182400,
          -182400,
          -182490,
          -182490,
          -182580,
          -182580,
          -182670,
          -182670,
          -182720,
          -182730,
          -182800,
          -182810,
          -182920,
          -182930,
          -182930,
          -182940,
          -182940,
          -182940,
          -182940,
          -182980,
          -183040,
          -183110,
          -183120,
          -183180,
          -183180,
          -183250,
          -183260,
          -183340,
          -183340,
          -183420,
          -183420,
          -183520,
          -183530,
          -183630,
          -183630,
          -183720,
          -183720,
          -183790,
          -183790,
          -183790,
          -183790,
          -183790,
          -183790,
          -183790,
          -183820,
          -183850,
          -183910,
          -183940,
          -184030,
          -184030,
          -184120,
          -184120,
          -184190,
          -184190,
          -184260,
          -184270,
          -184340,
          -184340,
          -184390,
          -184390,
          -184460,
          -184460,
          -184550,
          -184560,
          -184560,
          -184560,
          -184560,
          -184560,
          -184560,
          -184600,
          -184650,
          -184700,
          -184710,
          -184760,
          -184760,
          -184820,
          -184820,
          -184880,
          -184880,
          -184950,
          -184950,
          -185030,
          -185040,
          -185130,
          -185130,
          -185210,
          -185210,
          -185260,
          -185260,
          -185260,
          -185260,
          -185260,
          -185260,
          -185260,
          -185280,
          -185310,
          -185370,
          -185380,
          -185460,
          -185460,
          -185540,
          -185540,
          -185590,
          -185600,
          -185660,
          -185660,
          -185720,
          -185720,
          -185760,
          -185760,
          -185820,
          -185820,
          -185890,
          -185900,
          -185900,
          -185900,
          -185900,
          -185900,
          -185910,
          -185930,
          -185980,
          -186020,
          -186030,
          -186070,
          -186070,
          -186120,
          -186120,
          -186170,
          -186170,
          -186230,
          -186230,
          -186300,
          -186300,
          -186380,
          -186380,
          -186440,
          -186440,
          -186480,
          -186490,
          -186490,
          -186490,
          -186490,
          -186490,
          -186490,
          -186510,
          -186530,
          -186580,
          -186590,
          -186660,
          -186660,
          -186720,
          -186720,
          -186770,
          -186770,
          -186820,
          -186820,
          -186870,
          -186870,
          -186900,
          -186910,
          -186950,
          -186960,
          -187020,
          -187030,
          -187030,
          -187030,
          -187030,
          -187030,
          -187030,
          -187060,
          -187090,
          -187120,
          -187140,
          -187170,
          -187170,
          -187210,
          -187220,
          -187260,
          -187260,
          -187310,
          -187310,
          -187360,
          -187370,
          -187430,
          -187430,
          -187480,
          -187480,
          -187510,
          -187520,
          -187520,
          -187520,
          -187520,
          -187520,
          -187520,
          -187540,
          -187550,
          -187590,
          -187600,
          -187650,
          -187650,
          -187710,
          -187710,
          -187740,
          -187750,
          -187790,
          -187790,
          -187830,
          -187830,
          -187860,
          -187870,
          -187900,
          -187910,
          -187960,
          -187970,
          -187970,
          -187970,
          -187970,
          -187970,
          -187970,
          -188000,
          -188030,
          -188050,
          -188070,
          -188100,
          -188100,
          -188130,
          -188130,
          -188170,
          -188170,
          -188210,
          -188210,
          -188260,
          -188260,
          -188310,
          -188310,
          -188350,
          -188350,
          -188380,
          -188380,
          -188380,
          -188380,
          -188380,
          -188380,
          -188380,
          -188400,
          -188410,
          -188440,
          -188450,
          -188500,
          -188500,
          -188540,
          -188540,
          -188570,
          -188580,
          -188610,
          -188610,
          -188650,
          -188650,
          -188670,
          -188680,
          -188710,
          -188710,
          -188760,
          -188770
         ]
        }
       ],
       "layout": {
        "template": {
         "data": {
          "bar": [
           {
            "error_x": {
             "color": "#2a3f5f"
            },
            "error_y": {
             "color": "#2a3f5f"
            },
            "marker": {
             "line": {
              "color": "#E5ECF6",
              "width": 0.5
             }
            },
            "type": "bar"
           }
          ],
          "barpolar": [
           {
            "marker": {
             "line": {
              "color": "#E5ECF6",
              "width": 0.5
             }
            },
            "type": "barpolar"
           }
          ],
          "carpet": [
           {
            "aaxis": {
             "endlinecolor": "#2a3f5f",
             "gridcolor": "white",
             "linecolor": "white",
             "minorgridcolor": "white",
             "startlinecolor": "#2a3f5f"
            },
            "baxis": {
             "endlinecolor": "#2a3f5f",
             "gridcolor": "white",
             "linecolor": "white",
             "minorgridcolor": "white",
             "startlinecolor": "#2a3f5f"
            },
            "type": "carpet"
           }
          ],
          "choropleth": [
           {
            "colorbar": {
             "outlinewidth": 0,
             "ticks": ""
            },
            "type": "choropleth"
           }
          ],
          "contour": [
           {
            "colorbar": {
             "outlinewidth": 0,
             "ticks": ""
            },
            "colorscale": [
             [
              0,
              "#0d0887"
             ],
             [
              0.1111111111111111,
              "#46039f"
             ],
             [
              0.2222222222222222,
              "#7201a8"
             ],
             [
              0.3333333333333333,
              "#9c179e"
             ],
             [
              0.4444444444444444,
              "#bd3786"
             ],
             [
              0.5555555555555556,
              "#d8576b"
             ],
             [
              0.6666666666666666,
              "#ed7953"
             ],
             [
              0.7777777777777778,
              "#fb9f3a"
             ],
             [
              0.8888888888888888,
              "#fdca26"
             ],
             [
              1,
              "#f0f921"
             ]
            ],
            "type": "contour"
           }
          ],
          "contourcarpet": [
           {
            "colorbar": {
             "outlinewidth": 0,
             "ticks": ""
            },
            "type": "contourcarpet"
           }
          ],
          "heatmap": [
           {
            "colorbar": {
             "outlinewidth": 0,
             "ticks": ""
            },
            "colorscale": [
             [
              0,
              "#0d0887"
             ],
             [
              0.1111111111111111,
              "#46039f"
             ],
             [
              0.2222222222222222,
              "#7201a8"
             ],
             [
              0.3333333333333333,
              "#9c179e"
             ],
             [
              0.4444444444444444,
              "#bd3786"
             ],
             [
              0.5555555555555556,
              "#d8576b"
             ],
             [
              0.6666666666666666,
              "#ed7953"
             ],
             [
              0.7777777777777778,
              "#fb9f3a"
             ],
             [
              0.8888888888888888,
              "#fdca26"
             ],
             [
              1,
              "#f0f921"
             ]
            ],
            "type": "heatmap"
           }
          ],
          "heatmapgl": [
           {
            "colorbar": {
             "outlinewidth": 0,
             "ticks": ""
            },
            "colorscale": [
             [
              0,
              "#0d0887"
             ],
             [
              0.1111111111111111,
              "#46039f"
             ],
             [
              0.2222222222222222,
              "#7201a8"
             ],
             [
              0.3333333333333333,
              "#9c179e"
             ],
             [
              0.4444444444444444,
              "#bd3786"
             ],
             [
              0.5555555555555556,
              "#d8576b"
             ],
             [
              0.6666666666666666,
              "#ed7953"
             ],
             [
              0.7777777777777778,
              "#fb9f3a"
             ],
             [
              0.8888888888888888,
              "#fdca26"
             ],
             [
              1,
              "#f0f921"
             ]
            ],
            "type": "heatmapgl"
           }
          ],
          "histogram": [
           {
            "marker": {
             "colorbar": {
              "outlinewidth": 0,
              "ticks": ""
             }
            },
            "type": "histogram"
           }
          ],
          "histogram2d": [
           {
            "colorbar": {
             "outlinewidth": 0,
             "ticks": ""
            },
            "colorscale": [
             [
              0,
              "#0d0887"
             ],
             [
              0.1111111111111111,
              "#46039f"
             ],
             [
              0.2222222222222222,
              "#7201a8"
             ],
             [
              0.3333333333333333,
              "#9c179e"
             ],
             [
              0.4444444444444444,
              "#bd3786"
             ],
             [
              0.5555555555555556,
              "#d8576b"
             ],
             [
              0.6666666666666666,
              "#ed7953"
             ],
             [
              0.7777777777777778,
              "#fb9f3a"
             ],
             [
              0.8888888888888888,
              "#fdca26"
             ],
             [
              1,
              "#f0f921"
             ]
            ],
            "type": "histogram2d"
           }
          ],
          "histogram2dcontour": [
           {
            "colorbar": {
             "outlinewidth": 0,
             "ticks": ""
            },
            "colorscale": [
             [
              0,
              "#0d0887"
             ],
             [
              0.1111111111111111,
              "#46039f"
             ],
             [
              0.2222222222222222,
              "#7201a8"
             ],
             [
              0.3333333333333333,
              "#9c179e"
             ],
             [
              0.4444444444444444,
              "#bd3786"
             ],
             [
              0.5555555555555556,
              "#d8576b"
             ],
             [
              0.6666666666666666,
              "#ed7953"
             ],
             [
              0.7777777777777778,
              "#fb9f3a"
             ],
             [
              0.8888888888888888,
              "#fdca26"
             ],
             [
              1,
              "#f0f921"
             ]
            ],
            "type": "histogram2dcontour"
           }
          ],
          "mesh3d": [
           {
            "colorbar": {
             "outlinewidth": 0,
             "ticks": ""
            },
            "type": "mesh3d"
           }
          ],
          "parcoords": [
           {
            "line": {
             "colorbar": {
              "outlinewidth": 0,
              "ticks": ""
             }
            },
            "type": "parcoords"
           }
          ],
          "pie": [
           {
            "automargin": true,
            "type": "pie"
           }
          ],
          "scatter": [
           {
            "marker": {
             "colorbar": {
              "outlinewidth": 0,
              "ticks": ""
             }
            },
            "type": "scatter"
           }
          ],
          "scatter3d": [
           {
            "line": {
             "colorbar": {
              "outlinewidth": 0,
              "ticks": ""
             }
            },
            "marker": {
             "colorbar": {
              "outlinewidth": 0,
              "ticks": ""
             }
            },
            "type": "scatter3d"
           }
          ],
          "scattercarpet": [
           {
            "marker": {
             "colorbar": {
              "outlinewidth": 0,
              "ticks": ""
             }
            },
            "type": "scattercarpet"
           }
          ],
          "scattergeo": [
           {
            "marker": {
             "colorbar": {
              "outlinewidth": 0,
              "ticks": ""
             }
            },
            "type": "scattergeo"
           }
          ],
          "scattergl": [
           {
            "marker": {
             "colorbar": {
              "outlinewidth": 0,
              "ticks": ""
             }
            },
            "type": "scattergl"
           }
          ],
          "scattermapbox": [
           {
            "marker": {
             "colorbar": {
              "outlinewidth": 0,
              "ticks": ""
             }
            },
            "type": "scattermapbox"
           }
          ],
          "scatterpolar": [
           {
            "marker": {
             "colorbar": {
              "outlinewidth": 0,
              "ticks": ""
             }
            },
            "type": "scatterpolar"
           }
          ],
          "scatterpolargl": [
           {
            "marker": {
             "colorbar": {
              "outlinewidth": 0,
              "ticks": ""
             }
            },
            "type": "scatterpolargl"
           }
          ],
          "scatterternary": [
           {
            "marker": {
             "colorbar": {
              "outlinewidth": 0,
              "ticks": ""
             }
            },
            "type": "scatterternary"
           }
          ],
          "surface": [
           {
            "colorbar": {
             "outlinewidth": 0,
             "ticks": ""
            },
            "colorscale": [
             [
              0,
              "#0d0887"
             ],
             [
              0.1111111111111111,
              "#46039f"
             ],
             [
              0.2222222222222222,
              "#7201a8"
             ],
             [
              0.3333333333333333,
              "#9c179e"
             ],
             [
              0.4444444444444444,
              "#bd3786"
             ],
             [
              0.5555555555555556,
              "#d8576b"
             ],
             [
              0.6666666666666666,
              "#ed7953"
             ],
             [
              0.7777777777777778,
              "#fb9f3a"
             ],
             [
              0.8888888888888888,
              "#fdca26"
             ],
             [
              1,
              "#f0f921"
             ]
            ],
            "type": "surface"
           }
          ],
          "table": [
           {
            "cells": {
             "fill": {
              "color": "#EBF0F8"
             },
             "line": {
              "color": "white"
             }
            },
            "header": {
             "fill": {
              "color": "#C8D4E3"
             },
             "line": {
              "color": "white"
             }
            },
            "type": "table"
           }
          ]
         },
         "layout": {
          "annotationdefaults": {
           "arrowcolor": "#2a3f5f",
           "arrowhead": 0,
           "arrowwidth": 1
          },
          "autotypenumbers": "strict",
          "coloraxis": {
           "colorbar": {
            "outlinewidth": 0,
            "ticks": ""
           }
          },
          "colorscale": {
           "diverging": [
            [
             0,
             "#8e0152"
            ],
            [
             0.1,
             "#c51b7d"
            ],
            [
             0.2,
             "#de77ae"
            ],
            [
             0.3,
             "#f1b6da"
            ],
            [
             0.4,
             "#fde0ef"
            ],
            [
             0.5,
             "#f7f7f7"
            ],
            [
             0.6,
             "#e6f5d0"
            ],
            [
             0.7,
             "#b8e186"
            ],
            [
             0.8,
             "#7fbc41"
            ],
            [
             0.9,
             "#4d9221"
            ],
            [
             1,
             "#276419"
            ]
           ],
           "sequential": [
            [
             0,
             "#0d0887"
            ],
            [
             0.1111111111111111,
             "#46039f"
            ],
            [
             0.2222222222222222,
             "#7201a8"
            ],
            [
             0.3333333333333333,
             "#9c179e"
            ],
            [
             0.4444444444444444,
             "#bd3786"
            ],
            [
             0.5555555555555556,
             "#d8576b"
            ],
            [
             0.6666666666666666,
             "#ed7953"
            ],
            [
             0.7777777777777778,
             "#fb9f3a"
            ],
            [
             0.8888888888888888,
             "#fdca26"
            ],
            [
             1,
             "#f0f921"
            ]
           ],
           "sequentialminus": [
            [
             0,
             "#0d0887"
            ],
            [
             0.1111111111111111,
             "#46039f"
            ],
            [
             0.2222222222222222,
             "#7201a8"
            ],
            [
             0.3333333333333333,
             "#9c179e"
            ],
            [
             0.4444444444444444,
             "#bd3786"
            ],
            [
             0.5555555555555556,
             "#d8576b"
            ],
            [
             0.6666666666666666,
             "#ed7953"
            ],
            [
             0.7777777777777778,
             "#fb9f3a"
            ],
            [
             0.8888888888888888,
             "#fdca26"
            ],
            [
             1,
             "#f0f921"
            ]
           ]
          },
          "colorway": [
           "#636efa",
           "#EF553B",
           "#00cc96",
           "#ab63fa",
           "#FFA15A",
           "#19d3f3",
           "#FF6692",
           "#B6E880",
           "#FF97FF",
           "#FECB52"
          ],
          "font": {
           "color": "#2a3f5f"
          },
          "geo": {
           "bgcolor": "white",
           "lakecolor": "white",
           "landcolor": "#E5ECF6",
           "showlakes": true,
           "showland": true,
           "subunitcolor": "white"
          },
          "hoverlabel": {
           "align": "left"
          },
          "hovermode": "closest",
          "mapbox": {
           "style": "light"
          },
          "paper_bgcolor": "white",
          "plot_bgcolor": "#E5ECF6",
          "polar": {
           "angularaxis": {
            "gridcolor": "white",
            "linecolor": "white",
            "ticks": ""
           },
           "bgcolor": "#E5ECF6",
           "radialaxis": {
            "gridcolor": "white",
            "linecolor": "white",
            "ticks": ""
           }
          },
          "scene": {
           "xaxis": {
            "backgroundcolor": "#E5ECF6",
            "gridcolor": "white",
            "gridwidth": 2,
            "linecolor": "white",
            "showbackground": true,
            "ticks": "",
            "zerolinecolor": "white"
           },
           "yaxis": {
            "backgroundcolor": "#E5ECF6",
            "gridcolor": "white",
            "gridwidth": 2,
            "linecolor": "white",
            "showbackground": true,
            "ticks": "",
            "zerolinecolor": "white"
           },
           "zaxis": {
            "backgroundcolor": "#E5ECF6",
            "gridcolor": "white",
            "gridwidth": 2,
            "linecolor": "white",
            "showbackground": true,
            "ticks": "",
            "zerolinecolor": "white"
           }
          },
          "shapedefaults": {
           "line": {
            "color": "#2a3f5f"
           }
          },
          "ternary": {
           "aaxis": {
            "gridcolor": "white",
            "linecolor": "white",
            "ticks": ""
           },
           "baxis": {
            "gridcolor": "white",
            "linecolor": "white",
            "ticks": ""
           },
           "bgcolor": "#E5ECF6",
           "caxis": {
            "gridcolor": "white",
            "linecolor": "white",
            "ticks": ""
           }
          },
          "title": {
           "x": 0.05
          },
          "xaxis": {
           "automargin": true,
           "gridcolor": "white",
           "linecolor": "white",
           "ticks": "",
           "title": {
            "standoff": 15
           },
           "zerolinecolor": "white",
           "zerolinewidth": 2
          },
          "yaxis": {
           "automargin": true,
           "gridcolor": "white",
           "linecolor": "white",
           "ticks": "",
           "title": {
            "standoff": 15
           },
           "zerolinecolor": "white",
           "zerolinewidth": 2
          }
         }
        },
        "title": {
         "text": "Energy Minimization"
        },
        "xaxis": {
         "title": {
          "text": "Energy Minimization Step"
         }
        },
        "yaxis": {
         "title": {
          "text": "Potential Energy kcal/mol"
         }
        }
       }
      },
      "text/html": [
       "<div>                            <div id=\"6f5e6b49-b4c3-4989-9879-2014dbc9e91f\" class=\"plotly-graph-div\" style=\"height:525px; width:100%;\"></div>            <script type=\"text/javascript\">                require([\"plotly\"], function(Plotly) {                    window.PLOTLYENV=window.PLOTLYENV || {};                                    if (document.getElementById(\"6f5e6b49-b4c3-4989-9879-2014dbc9e91f\")) {                    Plotly.newPlot(                        \"6f5e6b49-b4c3-4989-9879-2014dbc9e91f\",                        [{\"type\": \"scatter\", \"x\": [1.0, 2.0, 3.0, 4.0, 5.0, 6.0, 7.0, 8.0, 9.0, 10.0, 11.0, 12.0, 13.0, 14.0, 15.0, 16.0, 17.0, 18.0, 19.0, 20.0, 21.0, 22.0, 23.0, 24.0, 25.0, 26.0, 27.0, 28.0, 29.0, 30.0, 31.0, 32.0, 33.0, 34.0, 35.0, 36.0, 37.0, 38.0, 39.0, 40.0, 41.0, 42.0, 43.0, 44.0, 45.0, 46.0, 47.0, 48.0, 49.0, 50.0, 51.0, 52.0, 53.0, 54.0, 55.0, 56.0, 57.0, 58.0, 59.0, 60.0, 61.0, 62.0, 63.0, 64.0, 65.0, 66.0, 67.0, 68.0, 69.0, 70.0, 71.0, 72.0, 73.0, 74.0, 75.0, 76.0, 77.0, 78.0, 79.0, 80.0, 81.0, 82.0, 83.0, 84.0, 85.0, 86.0, 87.0, 88.0, 89.0, 90.0, 91.0, 92.0, 93.0, 94.0, 95.0, 96.0, 97.0, 98.0, 99.0, 100.0, 101.0, 102.0, 103.0, 104.0, 105.0, 106.0, 107.0, 108.0, 109.0, 110.0, 111.0, 112.0, 113.0, 114.0, 115.0, 116.0, 117.0, 118.0, 119.0, 120.0, 121.0, 122.0, 123.0, 124.0, 125.0, 126.0, 127.0, 128.0, 129.0, 130.0, 131.0, 132.0, 133.0, 134.0, 135.0, 136.0, 137.0, 138.0, 139.0, 140.0, 141.0, 142.0, 143.0, 144.0, 145.0, 146.0, 147.0, 148.0, 149.0, 150.0, 151.0, 152.0, 153.0, 154.0, 155.0, 156.0, 157.0, 158.0, 159.0, 160.0, 161.0, 162.0, 163.0, 164.0, 165.0, 166.0, 167.0, 168.0, 169.0, 170.0, 171.0, 172.0, 173.0, 174.0, 175.0, 176.0, 177.0, 178.0, 179.0, 180.0, 181.0, 182.0, 183.0, 184.0, 185.0, 186.0, 187.0, 188.0, 189.0, 190.0, 191.0, 192.0, 193.0, 194.0, 195.0, 196.0, 197.0, 198.0, 199.0, 200.0, 201.0, 202.0, 203.0, 204.0, 205.0, 206.0, 207.0, 208.0, 209.0, 210.0, 211.0, 212.0, 213.0, 214.0, 215.0, 216.0, 217.0, 218.0, 219.0, 220.0, 221.0, 222.0, 223.0, 224.0, 225.0, 226.0, 227.0, 228.0, 229.0, 230.0, 231.0, 232.0, 233.0, 234.0, 235.0, 236.0, 237.0, 238.0, 239.0, 240.0, 241.0, 242.0, 243.0, 244.0, 245.0, 246.0, 247.0, 248.0, 249.0, 250.0, 251.0, 252.0, 253.0, 254.0, 255.0, 256.0, 257.0, 258.0, 259.0, 260.0, 261.0, 262.0, 263.0, 264.0, 265.0, 266.0, 267.0, 268.0, 269.0, 270.0, 271.0, 272.0, 273.0, 274.0, 275.0, 276.0, 277.0, 278.0, 279.0, 280.0, 281.0, 282.0, 283.0, 284.0, 285.0, 286.0, 287.0, 288.0, 289.0, 290.0, 291.0, 292.0, 293.0, 294.0, 295.0, 296.0, 297.0, 298.0, 299.0, 300.0, 301.0, 302.0, 303.0, 304.0, 305.0, 306.0, 307.0, 308.0, 309.0, 310.0, 311.0, 312.0, 313.0, 314.0, 315.0, 316.0, 317.0, 318.0, 319.0, 320.0, 321.0, 322.0, 323.0, 324.0, 325.0, 326.0, 327.0, 328.0, 329.0, 330.0, 331.0, 332.0, 333.0, 334.0, 335.0, 336.0, 337.0, 338.0, 339.0, 340.0, 341.0, 342.0, 343.0, 344.0, 345.0, 346.0, 347.0, 348.0, 349.0, 350.0, 351.0, 352.0, 353.0, 354.0, 355.0, 356.0, 357.0, 358.0, 359.0, 360.0, 361.0, 362.0, 363.0, 364.0, 365.0, 366.0, 367.0, 368.0, 369.0, 370.0, 371.0, 372.0, 373.0, 374.0, 375.0, 376.0, 377.0, 378.0, 379.0, 380.0, 381.0, 382.0, 383.0, 384.0, 385.0, 386.0, 387.0, 388.0, 389.0, 390.0, 391.0, 392.0, 393.0, 394.0, 395.0, 396.0, 397.0, 398.0, 399.0, 400.0, 401.0, 402.0, 403.0, 404.0, 405.0, 406.0, 407.0, 408.0, 409.0, 410.0, 411.0, 412.0, 413.0, 414.0, 415.0, 416.0, 417.0, 418.0, 419.0, 420.0, 421.0, 422.0, 423.0, 424.0, 425.0, 426.0, 427.0, 428.0, 429.0, 430.0, 431.0, 432.0, 433.0, 434.0, 435.0, 436.0, 437.0, 438.0, 439.0, 440.0, 441.0, 442.0, 443.0, 444.0, 445.0, 446.0, 447.0, 448.0, 449.0, 450.0, 451.0, 452.0, 453.0, 454.0, 455.0, 456.0, 457.0, 458.0, 459.0, 460.0, 461.0, 462.0, 463.0, 464.0, 465.0, 466.0, 467.0, 468.0, 469.0, 470.0, 471.0, 472.0, 473.0, 474.0, 475.0, 476.0, 477.0, 478.0, 479.0, 480.0, 481.0, 482.0, 483.0, 484.0, 485.0, 486.0, 487.0, 488.0, 489.0, 490.0, 491.0, 492.0, 493.0, 494.0, 495.0, 496.0, 497.0, 498.0, 499.0, 500.0], \"y\": [-87462.0, -88064.0, -88761.0, -89565.0, -90486.0, -91533.0, -92714.0, -94036.0, -95501.0, -97108.0, -98854.0, -98855.0, -109570.0, -114630.0, -117270.0, -120030.0, -126240.0, -131510.0, -132870.0, -136500.0, -136510.0, -141490.0, -141980.0, -146340.0, -146490.0, -146490.0, -146490.0, -146500.0, -146500.0, -146510.0, -146710.0, -148350.0, -148570.0, -149470.0, -149800.0, -150950.0, -150950.0, -153100.0, -152460.0, -155780.0, -156100.0, -157670.0, -158920.0, -158950.0, -160280.0, -160290.0, -161640.0, -161650.0, -162970.0, -162980.0, -162980.0, -162990.0, -162990.0, -162990.0, -163000.0, -163190.0, -163590.0, -163990.0, -164100.0, -164480.0, -164490.0, -165160.0, -165820.0, -165410.0, -166420.0, -166930.0, -167110.0, -167380.0, -167460.0, -167900.0, -167960.0, -168610.0, -168660.0, -169460.0, -169480.0, -169490.0, -169490.0, -169490.0, -169490.0, -169490.0, -169640.0, -169980.0, -170270.0, -170280.0, -170450.0, -170530.0, -170780.0, -170780.0, -170960.0, -170960.0, -171270.0, -171600.0, -172150.0, -172160.0, -172600.0, -172610.0, -173040.0, -173070.0, -173590.0, -173650.0, -173650.0, -173650.0, -173660.0, -173660.0, -173660.0, -173770.0, -173980.0, -174150.0, -174200.0, -174420.0, -174420.0, -174730.0, -174820.0, -174960.0, -175070.0, -175230.0, -175240.0, -175440.0, -175480.0, -175500.0, -175610.0, -175730.0, -175790.0, -176070.0, -176150.0, -176150.0, -176150.0, -176160.0, -176160.0, -176160.0, -176250.0, -176400.0, -176530.0, -176560.0, -176710.0, -176730.0, -176960.0, -176990.0, -177180.0, -177200.0, -177340.0, -177340.0, -177510.0, -177530.0, -177610.0, -177650.0, -177750.0, -177780.0, -177960.0, -177980.0, -177980.0, -177990.0, -177990.0, -177990.0, -177990.0, -178050.0, -178140.0, -178230.0, -178260.0, -178350.0, -178350.0, -178460.0, -178460.0, -178540.0, -178550.0, -178680.0, -178730.0, -178990.0, -179040.0, -179180.0, -179230.0, -179370.0, -179380.0, -179550.0, -179560.0, -179560.0, -179560.0, -179560.0, -179560.0, -179560.0, -179610.0, -179690.0, -179770.0, -179820.0, -179980.0, -179980.0, -180130.0, -180130.0, -180260.0, -180280.0, -180340.0, -180370.0, -180490.0, -180510.0, -180570.0, -180580.0, -180670.0, -180670.0, -180800.0, -180870.0, -180870.0, -180870.0, -180880.0, -180880.0, -180880.0, -180940.0, -181030.0, -181100.0, -181120.0, -181180.0, -181180.0, -181270.0, -181280.0, -181380.0, -181380.0, -181490.0, -181490.0, -181610.0, -181620.0, -181750.0, -181750.0, -181870.0, -181870.0, -181970.0, -181970.0, -181970.0, -181980.0, -181980.0, -181980.0, -181980.0, -182010.0, -182050.0, -182130.0, -182170.0, -182290.0, -182290.0, -182400.0, -182400.0, -182490.0, -182490.0, -182580.0, -182580.0, -182670.0, -182670.0, -182720.0, -182730.0, -182800.0, -182810.0, -182920.0, -182930.0, -182930.0, -182940.0, -182940.0, -182940.0, -182940.0, -182980.0, -183040.0, -183110.0, -183120.0, -183180.0, -183180.0, -183250.0, -183260.0, -183340.0, -183340.0, -183420.0, -183420.0, -183520.0, -183530.0, -183630.0, -183630.0, -183720.0, -183720.0, -183790.0, -183790.0, -183790.0, -183790.0, -183790.0, -183790.0, -183790.0, -183820.0, -183850.0, -183910.0, -183940.0, -184030.0, -184030.0, -184120.0, -184120.0, -184190.0, -184190.0, -184260.0, -184270.0, -184340.0, -184340.0, -184390.0, -184390.0, -184460.0, -184460.0, -184550.0, -184560.0, -184560.0, -184560.0, -184560.0, -184560.0, -184560.0, -184600.0, -184650.0, -184700.0, -184710.0, -184760.0, -184760.0, -184820.0, -184820.0, -184880.0, -184880.0, -184950.0, -184950.0, -185030.0, -185040.0, -185130.0, -185130.0, -185210.0, -185210.0, -185260.0, -185260.0, -185260.0, -185260.0, -185260.0, -185260.0, -185260.0, -185280.0, -185310.0, -185370.0, -185380.0, -185460.0, -185460.0, -185540.0, -185540.0, -185590.0, -185600.0, -185660.0, -185660.0, -185720.0, -185720.0, -185760.0, -185760.0, -185820.0, -185820.0, -185890.0, -185900.0, -185900.0, -185900.0, -185900.0, -185900.0, -185910.0, -185930.0, -185980.0, -186020.0, -186030.0, -186070.0, -186070.0, -186120.0, -186120.0, -186170.0, -186170.0, -186230.0, -186230.0, -186300.0, -186300.0, -186380.0, -186380.0, -186440.0, -186440.0, -186480.0, -186490.0, -186490.0, -186490.0, -186490.0, -186490.0, -186490.0, -186510.0, -186530.0, -186580.0, -186590.0, -186660.0, -186660.0, -186720.0, -186720.0, -186770.0, -186770.0, -186820.0, -186820.0, -186870.0, -186870.0, -186900.0, -186910.0, -186950.0, -186960.0, -187020.0, -187030.0, -187030.0, -187030.0, -187030.0, -187030.0, -187030.0, -187060.0, -187090.0, -187120.0, -187140.0, -187170.0, -187170.0, -187210.0, -187220.0, -187260.0, -187260.0, -187310.0, -187310.0, -187360.0, -187370.0, -187430.0, -187430.0, -187480.0, -187480.0, -187510.0, -187520.0, -187520.0, -187520.0, -187520.0, -187520.0, -187520.0, -187540.0, -187550.0, -187590.0, -187600.0, -187650.0, -187650.0, -187710.0, -187710.0, -187740.0, -187750.0, -187790.0, -187790.0, -187830.0, -187830.0, -187860.0, -187870.0, -187900.0, -187910.0, -187960.0, -187970.0, -187970.0, -187970.0, -187970.0, -187970.0, -187970.0, -188000.0, -188030.0, -188050.0, -188070.0, -188100.0, -188100.0, -188130.0, -188130.0, -188170.0, -188170.0, -188210.0, -188210.0, -188260.0, -188260.0, -188310.0, -188310.0, -188350.0, -188350.0, -188380.0, -188380.0, -188380.0, -188380.0, -188380.0, -188380.0, -188380.0, -188400.0, -188410.0, -188440.0, -188450.0, -188500.0, -188500.0, -188540.0, -188540.0, -188570.0, -188580.0, -188610.0, -188610.0, -188650.0, -188650.0, -188670.0, -188680.0, -188710.0, -188710.0, -188760.0, -188770.0]}],                        {\"template\": {\"data\": {\"bar\": [{\"error_x\": {\"color\": \"#2a3f5f\"}, \"error_y\": {\"color\": \"#2a3f5f\"}, \"marker\": {\"line\": {\"color\": \"#E5ECF6\", \"width\": 0.5}}, \"type\": \"bar\"}], \"barpolar\": [{\"marker\": {\"line\": {\"color\": \"#E5ECF6\", \"width\": 0.5}}, \"type\": \"barpolar\"}], \"carpet\": [{\"aaxis\": {\"endlinecolor\": \"#2a3f5f\", \"gridcolor\": \"white\", \"linecolor\": \"white\", \"minorgridcolor\": \"white\", \"startlinecolor\": \"#2a3f5f\"}, \"baxis\": {\"endlinecolor\": \"#2a3f5f\", \"gridcolor\": \"white\", \"linecolor\": \"white\", \"minorgridcolor\": \"white\", \"startlinecolor\": \"#2a3f5f\"}, \"type\": \"carpet\"}], \"choropleth\": [{\"colorbar\": {\"outlinewidth\": 0, \"ticks\": \"\"}, \"type\": \"choropleth\"}], \"contour\": [{\"colorbar\": {\"outlinewidth\": 0, \"ticks\": \"\"}, \"colorscale\": [[0.0, \"#0d0887\"], [0.1111111111111111, \"#46039f\"], [0.2222222222222222, \"#7201a8\"], [0.3333333333333333, \"#9c179e\"], [0.4444444444444444, \"#bd3786\"], [0.5555555555555556, \"#d8576b\"], [0.6666666666666666, \"#ed7953\"], [0.7777777777777778, \"#fb9f3a\"], [0.8888888888888888, \"#fdca26\"], [1.0, \"#f0f921\"]], \"type\": \"contour\"}], \"contourcarpet\": [{\"colorbar\": {\"outlinewidth\": 0, \"ticks\": \"\"}, \"type\": \"contourcarpet\"}], \"heatmap\": [{\"colorbar\": {\"outlinewidth\": 0, \"ticks\": \"\"}, \"colorscale\": [[0.0, \"#0d0887\"], [0.1111111111111111, \"#46039f\"], [0.2222222222222222, \"#7201a8\"], [0.3333333333333333, \"#9c179e\"], [0.4444444444444444, \"#bd3786\"], [0.5555555555555556, \"#d8576b\"], [0.6666666666666666, \"#ed7953\"], [0.7777777777777778, \"#fb9f3a\"], [0.8888888888888888, \"#fdca26\"], [1.0, \"#f0f921\"]], \"type\": \"heatmap\"}], \"heatmapgl\": [{\"colorbar\": {\"outlinewidth\": 0, \"ticks\": \"\"}, \"colorscale\": [[0.0, \"#0d0887\"], [0.1111111111111111, \"#46039f\"], [0.2222222222222222, \"#7201a8\"], [0.3333333333333333, \"#9c179e\"], [0.4444444444444444, \"#bd3786\"], [0.5555555555555556, \"#d8576b\"], [0.6666666666666666, \"#ed7953\"], [0.7777777777777778, \"#fb9f3a\"], [0.8888888888888888, \"#fdca26\"], [1.0, \"#f0f921\"]], \"type\": \"heatmapgl\"}], \"histogram\": [{\"marker\": {\"colorbar\": {\"outlinewidth\": 0, \"ticks\": \"\"}}, \"type\": \"histogram\"}], \"histogram2d\": [{\"colorbar\": {\"outlinewidth\": 0, \"ticks\": \"\"}, \"colorscale\": [[0.0, \"#0d0887\"], [0.1111111111111111, \"#46039f\"], [0.2222222222222222, \"#7201a8\"], [0.3333333333333333, \"#9c179e\"], [0.4444444444444444, \"#bd3786\"], [0.5555555555555556, \"#d8576b\"], [0.6666666666666666, \"#ed7953\"], [0.7777777777777778, \"#fb9f3a\"], [0.8888888888888888, \"#fdca26\"], [1.0, \"#f0f921\"]], \"type\": \"histogram2d\"}], \"histogram2dcontour\": [{\"colorbar\": {\"outlinewidth\": 0, \"ticks\": \"\"}, \"colorscale\": [[0.0, \"#0d0887\"], [0.1111111111111111, \"#46039f\"], [0.2222222222222222, \"#7201a8\"], [0.3333333333333333, \"#9c179e\"], [0.4444444444444444, \"#bd3786\"], [0.5555555555555556, \"#d8576b\"], [0.6666666666666666, \"#ed7953\"], [0.7777777777777778, \"#fb9f3a\"], [0.8888888888888888, \"#fdca26\"], [1.0, \"#f0f921\"]], \"type\": \"histogram2dcontour\"}], \"mesh3d\": [{\"colorbar\": {\"outlinewidth\": 0, \"ticks\": \"\"}, \"type\": \"mesh3d\"}], \"parcoords\": [{\"line\": {\"colorbar\": {\"outlinewidth\": 0, \"ticks\": \"\"}}, \"type\": \"parcoords\"}], \"pie\": [{\"automargin\": true, \"type\": \"pie\"}], \"scatter\": [{\"marker\": {\"colorbar\": {\"outlinewidth\": 0, \"ticks\": \"\"}}, \"type\": \"scatter\"}], \"scatter3d\": [{\"line\": {\"colorbar\": {\"outlinewidth\": 0, \"ticks\": \"\"}}, \"marker\": {\"colorbar\": {\"outlinewidth\": 0, \"ticks\": \"\"}}, \"type\": \"scatter3d\"}], \"scattercarpet\": [{\"marker\": {\"colorbar\": {\"outlinewidth\": 0, \"ticks\": \"\"}}, \"type\": \"scattercarpet\"}], \"scattergeo\": [{\"marker\": {\"colorbar\": {\"outlinewidth\": 0, \"ticks\": \"\"}}, \"type\": \"scattergeo\"}], \"scattergl\": [{\"marker\": {\"colorbar\": {\"outlinewidth\": 0, \"ticks\": \"\"}}, \"type\": \"scattergl\"}], \"scattermapbox\": [{\"marker\": {\"colorbar\": {\"outlinewidth\": 0, \"ticks\": \"\"}}, \"type\": \"scattermapbox\"}], \"scatterpolar\": [{\"marker\": {\"colorbar\": {\"outlinewidth\": 0, \"ticks\": \"\"}}, \"type\": \"scatterpolar\"}], \"scatterpolargl\": [{\"marker\": {\"colorbar\": {\"outlinewidth\": 0, \"ticks\": \"\"}}, \"type\": \"scatterpolargl\"}], \"scatterternary\": [{\"marker\": {\"colorbar\": {\"outlinewidth\": 0, \"ticks\": \"\"}}, \"type\": \"scatterternary\"}], \"surface\": [{\"colorbar\": {\"outlinewidth\": 0, \"ticks\": \"\"}, \"colorscale\": [[0.0, \"#0d0887\"], [0.1111111111111111, \"#46039f\"], [0.2222222222222222, \"#7201a8\"], [0.3333333333333333, \"#9c179e\"], [0.4444444444444444, \"#bd3786\"], [0.5555555555555556, \"#d8576b\"], [0.6666666666666666, \"#ed7953\"], [0.7777777777777778, \"#fb9f3a\"], [0.8888888888888888, \"#fdca26\"], [1.0, \"#f0f921\"]], \"type\": \"surface\"}], \"table\": [{\"cells\": {\"fill\": {\"color\": \"#EBF0F8\"}, \"line\": {\"color\": \"white\"}}, \"header\": {\"fill\": {\"color\": \"#C8D4E3\"}, \"line\": {\"color\": \"white\"}}, \"type\": \"table\"}]}, \"layout\": {\"annotationdefaults\": {\"arrowcolor\": \"#2a3f5f\", \"arrowhead\": 0, \"arrowwidth\": 1}, \"autotypenumbers\": \"strict\", \"coloraxis\": {\"colorbar\": {\"outlinewidth\": 0, \"ticks\": \"\"}}, \"colorscale\": {\"diverging\": [[0, \"#8e0152\"], [0.1, \"#c51b7d\"], [0.2, \"#de77ae\"], [0.3, \"#f1b6da\"], [0.4, \"#fde0ef\"], [0.5, \"#f7f7f7\"], [0.6, \"#e6f5d0\"], [0.7, \"#b8e186\"], [0.8, \"#7fbc41\"], [0.9, \"#4d9221\"], [1, \"#276419\"]], \"sequential\": [[0.0, \"#0d0887\"], [0.1111111111111111, \"#46039f\"], [0.2222222222222222, \"#7201a8\"], [0.3333333333333333, \"#9c179e\"], [0.4444444444444444, \"#bd3786\"], [0.5555555555555556, \"#d8576b\"], [0.6666666666666666, \"#ed7953\"], [0.7777777777777778, \"#fb9f3a\"], [0.8888888888888888, \"#fdca26\"], [1.0, \"#f0f921\"]], \"sequentialminus\": [[0.0, \"#0d0887\"], [0.1111111111111111, \"#46039f\"], [0.2222222222222222, \"#7201a8\"], [0.3333333333333333, \"#9c179e\"], [0.4444444444444444, \"#bd3786\"], [0.5555555555555556, \"#d8576b\"], [0.6666666666666666, \"#ed7953\"], [0.7777777777777778, \"#fb9f3a\"], [0.8888888888888888, \"#fdca26\"], [1.0, \"#f0f921\"]]}, \"colorway\": [\"#636efa\", \"#EF553B\", \"#00cc96\", \"#ab63fa\", \"#FFA15A\", \"#19d3f3\", \"#FF6692\", \"#B6E880\", \"#FF97FF\", \"#FECB52\"], \"font\": {\"color\": \"#2a3f5f\"}, \"geo\": {\"bgcolor\": \"white\", \"lakecolor\": \"white\", \"landcolor\": \"#E5ECF6\", \"showlakes\": true, \"showland\": true, \"subunitcolor\": \"white\"}, \"hoverlabel\": {\"align\": \"left\"}, \"hovermode\": \"closest\", \"mapbox\": {\"style\": \"light\"}, \"paper_bgcolor\": \"white\", \"plot_bgcolor\": \"#E5ECF6\", \"polar\": {\"angularaxis\": {\"gridcolor\": \"white\", \"linecolor\": \"white\", \"ticks\": \"\"}, \"bgcolor\": \"#E5ECF6\", \"radialaxis\": {\"gridcolor\": \"white\", \"linecolor\": \"white\", \"ticks\": \"\"}}, \"scene\": {\"xaxis\": {\"backgroundcolor\": \"#E5ECF6\", \"gridcolor\": \"white\", \"gridwidth\": 2, \"linecolor\": \"white\", \"showbackground\": true, \"ticks\": \"\", \"zerolinecolor\": \"white\"}, \"yaxis\": {\"backgroundcolor\": \"#E5ECF6\", \"gridcolor\": \"white\", \"gridwidth\": 2, \"linecolor\": \"white\", \"showbackground\": true, \"ticks\": \"\", \"zerolinecolor\": \"white\"}, \"zaxis\": {\"backgroundcolor\": \"#E5ECF6\", \"gridcolor\": \"white\", \"gridwidth\": 2, \"linecolor\": \"white\", \"showbackground\": true, \"ticks\": \"\", \"zerolinecolor\": \"white\"}}, \"shapedefaults\": {\"line\": {\"color\": \"#2a3f5f\"}}, \"ternary\": {\"aaxis\": {\"gridcolor\": \"white\", \"linecolor\": \"white\", \"ticks\": \"\"}, \"baxis\": {\"gridcolor\": \"white\", \"linecolor\": \"white\", \"ticks\": \"\"}, \"bgcolor\": \"#E5ECF6\", \"caxis\": {\"gridcolor\": \"white\", \"linecolor\": \"white\", \"ticks\": \"\"}}, \"title\": {\"x\": 0.05}, \"xaxis\": {\"automargin\": true, \"gridcolor\": \"white\", \"linecolor\": \"white\", \"ticks\": \"\", \"title\": {\"standoff\": 15}, \"zerolinecolor\": \"white\", \"zerolinewidth\": 2}, \"yaxis\": {\"automargin\": true, \"gridcolor\": \"white\", \"linecolor\": \"white\", \"ticks\": \"\", \"title\": {\"standoff\": 15}, \"zerolinecolor\": \"white\", \"zerolinewidth\": 2}}}, \"title\": {\"text\": \"Energy Minimization\"}, \"xaxis\": {\"title\": {\"text\": \"Energy Minimization Step\"}}, \"yaxis\": {\"title\": {\"text\": \"Potential Energy kcal/mol\"}}},                        {\"responsive\": true}                    ).then(function(){\n",
       "                            \n",
       "var gd = document.getElementById('6f5e6b49-b4c3-4989-9879-2014dbc9e91f');\n",
       "var x = new MutationObserver(function (mutations, observer) {{\n",
       "        var display = window.getComputedStyle(gd).display;\n",
       "        if (!display || display === 'none') {{\n",
       "            console.log([gd, 'removed!']);\n",
       "            Plotly.purge(gd);\n",
       "            observer.disconnect();\n",
       "        }}\n",
       "}});\n",
       "\n",
       "// Listen for the removal of the full notebook cells\n",
       "var notebookContainer = gd.closest('#notebook-container');\n",
       "if (notebookContainer) {{\n",
       "    x.observe(notebookContainer, {childList: true});\n",
       "}}\n",
       "\n",
       "// Listen for the clearing of the current output cell\n",
       "var outputEl = gd.closest('.output');\n",
       "if (outputEl) {{\n",
       "    x.observe(outputEl, {childList: true});\n",
       "}}\n",
       "\n",
       "                        })                };                });            </script>        </div>"
      ]
     },
     "metadata": {},
     "output_type": "display_data"
    }
   ],
   "source": [
    "#Read data from file and filter energy values higher than 1000 Kj/mol^-1\n",
    "with open(output_dat_path,'r') as energy_file:\n",
    "    x,y = map(\n",
    "        list,\n",
    "        zip(*[\n",
    "            (float(line.split()[0]),float(line.split()[1]))\n",
    "            for line in energy_file \n",
    "            if not line.startswith((\"#\",\"@\")) \n",
    "            if float(line.split()[1]) < 1000 \n",
    "        ])\n",
    "    )\n",
    "\n",
    "plotly.offline.init_notebook_mode(connected=True)\n",
    "\n",
    "fig = {\n",
    "    \"data\": [go.Scatter(x=x, y=y)],\n",
    "    \"layout\": go.Layout(title=\"Energy Minimization\",\n",
    "                        xaxis=dict(title = \"Energy Minimization Step\"),\n",
    "                        yaxis=dict(title = \"Potential Energy kcal/mol\")\n",
    "                       )\n",
    "}\n",
    "\n",
    "plotly.offline.iplot(fig)"
   ]
  },
  {
   "cell_type": "markdown",
   "metadata": {},
   "source": [
    "<a id=\"heat\"></a>\n",
    "## Heating the system\n",
    "\n",
    "**Warming up** the **prepared system** using the **sander tool** from the **AMBER MD package**.\n",
    "***\n",
    "**Building Blocks** used:\n",
    " - [sander_mdrun](https://biobb-amber.readthedocs.io/en/latest/sander.html#module-sander.sander_mdrun) from **biobb_amber.sander.sander_mdrun**\n",
    " - [process_mdout](https://biobb-amber.readthedocs.io/en/latest/process.html#module-process.process_mdout) from **biobb_amber.process.process_mdout**\n",
    "***"
   ]
  },
  {
   "cell_type": "code",
   "execution_count": 110,
   "metadata": {},
   "outputs": [
    {
     "name": "stderr",
     "output_type": "stream",
     "text": [
      "2021-01-28 23:03:22,641 [MainThread  ] [INFO ]  Creating 7a876479-69d8-426e-ae1d-8ff490f07bae temporary folder\n",
      "2021-01-28 23:03:22,643 [MainThread  ] [INFO ]  Creating command line with instructions and required arguments\n"
     ]
    },
    {
     "ename": "KeyboardInterrupt",
     "evalue": "",
     "output_type": "error",
     "traceback": [
      "\u001b[0;31m---------------------------------------------------------------------------\u001b[0m",
      "\u001b[0;31mKeyboardInterrupt\u001b[0m                         Traceback (most recent call last)",
      "\u001b[0;32m<ipython-input-110-24e5f113811a>\u001b[0m in \u001b[0;36m<module>\u001b[0;34m\u001b[0m\n\u001b[1;32m     21\u001b[0m             \u001b[0moutput_rst_path\u001b[0m\u001b[0;34m=\u001b[0m\u001b[0moutput_heat_rst_path\u001b[0m\u001b[0;34m,\u001b[0m\u001b[0;34m\u001b[0m\u001b[0;34m\u001b[0m\u001b[0m\n\u001b[1;32m     22\u001b[0m             \u001b[0moutput_log_path\u001b[0m\u001b[0;34m=\u001b[0m\u001b[0moutput_heat_log_path\u001b[0m\u001b[0;34m,\u001b[0m\u001b[0;34m\u001b[0m\u001b[0;34m\u001b[0m\u001b[0m\n\u001b[0;32m---> 23\u001b[0;31m             properties=prop)\n\u001b[0m",
      "\u001b[0;32m~/biobb_tutorials/biobb_amber/biobb_amber/sander/sander_mdrun.py\u001b[0m in \u001b[0;36msander_mdrun\u001b[0;34m(input_top_path, input_crd_path, output_log_path, output_traj_path, output_rst_path, input_mdin_path, input_cpin_path, output_cpout_path, output_cprst_path, output_mdinfo_path, input_ref_path, properties, **kwargs)\u001b[0m\n\u001b[1;32m    312\u001b[0m                     \u001b[0moutput_cprst_path\u001b[0m\u001b[0;34m=\u001b[0m\u001b[0moutput_cprst_path\u001b[0m\u001b[0;34m,\u001b[0m\u001b[0;34m\u001b[0m\u001b[0;34m\u001b[0m\u001b[0m\n\u001b[1;32m    313\u001b[0m                     \u001b[0moutput_mdinfo_path\u001b[0m\u001b[0;34m=\u001b[0m\u001b[0moutput_mdinfo_path\u001b[0m\u001b[0;34m,\u001b[0m\u001b[0;34m\u001b[0m\u001b[0;34m\u001b[0m\u001b[0m\n\u001b[0;32m--> 314\u001b[0;31m                     properties=properties).launch()\n\u001b[0m\u001b[1;32m    315\u001b[0m \u001b[0;34m\u001b[0m\u001b[0m\n\u001b[1;32m    316\u001b[0m \u001b[0;32mdef\u001b[0m \u001b[0mmain\u001b[0m\u001b[0;34m(\u001b[0m\u001b[0;34m)\u001b[0m\u001b[0;34m:\u001b[0m\u001b[0;34m\u001b[0m\u001b[0;34m\u001b[0m\u001b[0m\n",
      "\u001b[0;32m/anaconda3/envs/biobb_amber/lib/python3.7/site-packages/biobb_common/tools/file_utils.py\u001b[0m in \u001b[0;36mwrapper_log\u001b[0;34m(*args, **kwargs)\u001b[0m\n\u001b[1;32m    289\u001b[0m         args[0].out_log, args[0].err_log = get_logs(path=args[0].path, prefix=args[0].prefix, step=args[0].step,\n\u001b[1;32m    290\u001b[0m                                                     can_write_console=args[0].can_write_console_log)\n\u001b[0;32m--> 291\u001b[0;31m         \u001b[0mvalue\u001b[0m \u001b[0;34m=\u001b[0m \u001b[0mfunc\u001b[0m\u001b[0;34m(\u001b[0m\u001b[0;34m*\u001b[0m\u001b[0margs\u001b[0m\u001b[0;34m,\u001b[0m \u001b[0;34m**\u001b[0m\u001b[0mkwargs\u001b[0m\u001b[0;34m)\u001b[0m\u001b[0;34m\u001b[0m\u001b[0;34m\u001b[0m\u001b[0m\n\u001b[0m\u001b[1;32m    292\u001b[0m         \u001b[0mhandlers\u001b[0m \u001b[0;34m=\u001b[0m \u001b[0margs\u001b[0m\u001b[0;34m[\u001b[0m\u001b[0;36m0\u001b[0m\u001b[0;34m]\u001b[0m\u001b[0;34m.\u001b[0m\u001b[0mout_log\u001b[0m\u001b[0;34m.\u001b[0m\u001b[0mhandlers\u001b[0m\u001b[0;34m[\u001b[0m\u001b[0;34m:\u001b[0m\u001b[0;34m]\u001b[0m  \u001b[0;31m# Create a copy [:] of the handler list to be able to modify it while we are iterating\u001b[0m\u001b[0;34m\u001b[0m\u001b[0;34m\u001b[0m\u001b[0m\n\u001b[1;32m    293\u001b[0m         \u001b[0;32mfor\u001b[0m \u001b[0mhandler\u001b[0m \u001b[0;32min\u001b[0m \u001b[0mhandlers\u001b[0m\u001b[0;34m:\u001b[0m\u001b[0;34m\u001b[0m\u001b[0;34m\u001b[0m\u001b[0m\n",
      "\u001b[0;32m~/biobb_tutorials/biobb_amber/biobb_amber/sander/sander_mdrun.py\u001b[0m in \u001b[0;36mlaunch\u001b[0;34m(self)\u001b[0m\n\u001b[1;32m    282\u001b[0m \u001b[0;34m\u001b[0m\u001b[0m\n\u001b[1;32m    283\u001b[0m         \u001b[0;31m# Launch execution\u001b[0m\u001b[0;34m\u001b[0m\u001b[0;34m\u001b[0m\u001b[0;34m\u001b[0m\u001b[0m\n\u001b[0;32m--> 284\u001b[0;31m         \u001b[0mreturncode\u001b[0m \u001b[0;34m=\u001b[0m \u001b[0mcmd_wrapper\u001b[0m\u001b[0;34m.\u001b[0m\u001b[0mCmdWrapper\u001b[0m\u001b[0;34m(\u001b[0m\u001b[0mcmd\u001b[0m\u001b[0;34m,\u001b[0m \u001b[0mout_log\u001b[0m\u001b[0;34m,\u001b[0m \u001b[0merr_log\u001b[0m\u001b[0;34m,\u001b[0m \u001b[0mself\u001b[0m\u001b[0;34m.\u001b[0m\u001b[0mglobal_log\u001b[0m\u001b[0;34m)\u001b[0m\u001b[0;34m.\u001b[0m\u001b[0mlaunch\u001b[0m\u001b[0;34m(\u001b[0m\u001b[0;34m)\u001b[0m\u001b[0;34m\u001b[0m\u001b[0;34m\u001b[0m\u001b[0m\n\u001b[0m\u001b[1;32m    285\u001b[0m \u001b[0;34m\u001b[0m\u001b[0m\n\u001b[1;32m    286\u001b[0m         \u001b[0;31m# Remove temporary file(s)\u001b[0m\u001b[0;34m\u001b[0m\u001b[0;34m\u001b[0m\u001b[0;34m\u001b[0m\u001b[0m\n",
      "\u001b[0;32m/anaconda3/envs/biobb_amber/lib/python3.7/site-packages/biobb_common/command_wrapper/cmd_wrapper.py\u001b[0m in \u001b[0;36mlaunch\u001b[0;34m(self)\u001b[0m\n\u001b[1;32m     33\u001b[0m                                    env=new_env)\n\u001b[1;32m     34\u001b[0m \u001b[0;34m\u001b[0m\u001b[0m\n\u001b[0;32m---> 35\u001b[0;31m         \u001b[0mout\u001b[0m\u001b[0;34m,\u001b[0m \u001b[0merr\u001b[0m \u001b[0;34m=\u001b[0m \u001b[0mprocess\u001b[0m\u001b[0;34m.\u001b[0m\u001b[0mcommunicate\u001b[0m\u001b[0;34m(\u001b[0m\u001b[0;34m)\u001b[0m\u001b[0;34m\u001b[0m\u001b[0;34m\u001b[0m\u001b[0m\n\u001b[0m\u001b[1;32m     36\u001b[0m         \u001b[0;32mif\u001b[0m \u001b[0mself\u001b[0m\u001b[0;34m.\u001b[0m\u001b[0mout_log\u001b[0m \u001b[0;32mis\u001b[0m \u001b[0;32mNone\u001b[0m\u001b[0;34m:\u001b[0m\u001b[0;34m\u001b[0m\u001b[0;34m\u001b[0m\u001b[0m\n\u001b[1;32m     37\u001b[0m             \u001b[0mprint\u001b[0m\u001b[0;34m(\u001b[0m\u001b[0;34m\"Exit, code {}\"\u001b[0m\u001b[0;34m.\u001b[0m\u001b[0mformat\u001b[0m\u001b[0;34m(\u001b[0m\u001b[0mprocess\u001b[0m\u001b[0;34m.\u001b[0m\u001b[0mreturncode\u001b[0m\u001b[0;34m)\u001b[0m\u001b[0;34m)\u001b[0m\u001b[0;34m\u001b[0m\u001b[0;34m\u001b[0m\u001b[0m\n",
      "\u001b[0;32m/anaconda3/envs/biobb_amber/lib/python3.7/subprocess.py\u001b[0m in \u001b[0;36mcommunicate\u001b[0;34m(self, input, timeout)\u001b[0m\n\u001b[1;32m    962\u001b[0m \u001b[0;34m\u001b[0m\u001b[0m\n\u001b[1;32m    963\u001b[0m             \u001b[0;32mtry\u001b[0m\u001b[0;34m:\u001b[0m\u001b[0;34m\u001b[0m\u001b[0;34m\u001b[0m\u001b[0m\n\u001b[0;32m--> 964\u001b[0;31m                 \u001b[0mstdout\u001b[0m\u001b[0;34m,\u001b[0m \u001b[0mstderr\u001b[0m \u001b[0;34m=\u001b[0m \u001b[0mself\u001b[0m\u001b[0;34m.\u001b[0m\u001b[0m_communicate\u001b[0m\u001b[0;34m(\u001b[0m\u001b[0minput\u001b[0m\u001b[0;34m,\u001b[0m \u001b[0mendtime\u001b[0m\u001b[0;34m,\u001b[0m \u001b[0mtimeout\u001b[0m\u001b[0;34m)\u001b[0m\u001b[0;34m\u001b[0m\u001b[0;34m\u001b[0m\u001b[0m\n\u001b[0m\u001b[1;32m    965\u001b[0m             \u001b[0;32mexcept\u001b[0m \u001b[0mKeyboardInterrupt\u001b[0m\u001b[0;34m:\u001b[0m\u001b[0;34m\u001b[0m\u001b[0;34m\u001b[0m\u001b[0m\n\u001b[1;32m    966\u001b[0m                 \u001b[0;31m# https://bugs.python.org/issue25942\u001b[0m\u001b[0;34m\u001b[0m\u001b[0;34m\u001b[0m\u001b[0;34m\u001b[0m\u001b[0m\n",
      "\u001b[0;32m/anaconda3/envs/biobb_amber/lib/python3.7/subprocess.py\u001b[0m in \u001b[0;36m_communicate\u001b[0;34m(self, input, endtime, orig_timeout)\u001b[0m\n\u001b[1;32m   1713\u001b[0m                             'failed to raise TimeoutExpired.')\n\u001b[1;32m   1714\u001b[0m \u001b[0;34m\u001b[0m\u001b[0m\n\u001b[0;32m-> 1715\u001b[0;31m                     \u001b[0mready\u001b[0m \u001b[0;34m=\u001b[0m \u001b[0mselector\u001b[0m\u001b[0;34m.\u001b[0m\u001b[0mselect\u001b[0m\u001b[0;34m(\u001b[0m\u001b[0mtimeout\u001b[0m\u001b[0;34m)\u001b[0m\u001b[0;34m\u001b[0m\u001b[0;34m\u001b[0m\u001b[0m\n\u001b[0m\u001b[1;32m   1716\u001b[0m                     \u001b[0mself\u001b[0m\u001b[0;34m.\u001b[0m\u001b[0m_check_timeout\u001b[0m\u001b[0;34m(\u001b[0m\u001b[0mendtime\u001b[0m\u001b[0;34m,\u001b[0m \u001b[0morig_timeout\u001b[0m\u001b[0;34m,\u001b[0m \u001b[0mstdout\u001b[0m\u001b[0;34m,\u001b[0m \u001b[0mstderr\u001b[0m\u001b[0;34m)\u001b[0m\u001b[0;34m\u001b[0m\u001b[0;34m\u001b[0m\u001b[0m\n\u001b[1;32m   1717\u001b[0m \u001b[0;34m\u001b[0m\u001b[0m\n",
      "\u001b[0;32m/anaconda3/envs/biobb_amber/lib/python3.7/selectors.py\u001b[0m in \u001b[0;36mselect\u001b[0;34m(self, timeout)\u001b[0m\n\u001b[1;32m    413\u001b[0m         \u001b[0mready\u001b[0m \u001b[0;34m=\u001b[0m \u001b[0;34m[\u001b[0m\u001b[0;34m]\u001b[0m\u001b[0;34m\u001b[0m\u001b[0;34m\u001b[0m\u001b[0m\n\u001b[1;32m    414\u001b[0m         \u001b[0;32mtry\u001b[0m\u001b[0;34m:\u001b[0m\u001b[0;34m\u001b[0m\u001b[0;34m\u001b[0m\u001b[0m\n\u001b[0;32m--> 415\u001b[0;31m             \u001b[0mfd_event_list\u001b[0m \u001b[0;34m=\u001b[0m \u001b[0mself\u001b[0m\u001b[0;34m.\u001b[0m\u001b[0m_selector\u001b[0m\u001b[0;34m.\u001b[0m\u001b[0mpoll\u001b[0m\u001b[0;34m(\u001b[0m\u001b[0mtimeout\u001b[0m\u001b[0;34m)\u001b[0m\u001b[0;34m\u001b[0m\u001b[0;34m\u001b[0m\u001b[0m\n\u001b[0m\u001b[1;32m    416\u001b[0m         \u001b[0;32mexcept\u001b[0m \u001b[0mInterruptedError\u001b[0m\u001b[0;34m:\u001b[0m\u001b[0;34m\u001b[0m\u001b[0;34m\u001b[0m\u001b[0m\n\u001b[1;32m    417\u001b[0m             \u001b[0;32mreturn\u001b[0m \u001b[0mready\u001b[0m\u001b[0;34m\u001b[0m\u001b[0;34m\u001b[0m\u001b[0m\n",
      "\u001b[0;31mKeyboardInterrupt\u001b[0m: "
     ]
    }
   ],
   "source": [
    "# Import module\n",
    "from biobb_amber.sander.sander_mdrun import sander_mdrun\n",
    "\n",
    "prop = {\n",
    "    \"simulation_type\" : 'heat',\n",
    "    \"mdin\" : { \n",
    "        'dt' : timestep,\n",
    "        'ntt' : thermostat,\n",
    "        #'nstlim' : 500\n",
    "    },\n",
    "    \"remove_tmp\": True\n",
    "}\n",
    "output_heat_traj_path = 'sander.heat.x'\n",
    "output_heat_rst_path = 'sander.heat.rst'\n",
    "output_heat_log_path = 'sander.heat.log'\n",
    "\n",
    "# Create and launch bb\n",
    "sander_mdrun(input_top_path=output_ions_top_path,\n",
    "            input_crd_path=output_min_rst_path,\n",
    "            output_traj_path=output_heat_traj_path,\n",
    "            output_rst_path=output_heat_rst_path,\n",
    "            output_log_path=output_heat_log_path,\n",
    "            properties=prop)"
   ]
  },
  {
   "cell_type": "markdown",
   "metadata": {},
   "source": [
    "### Checking Heating results\n",
    "Checking **temperature warming up** results. Plotting **temperature** by time during the **heating process**."
   ]
  },
  {
   "cell_type": "code",
   "execution_count": null,
   "metadata": {},
   "outputs": [],
   "source": [
    "# Import module\n",
    "from biobb_amber.process.process_mdout import process_mdout\n",
    "\n",
    "# Create prop dict and inputs/outputs\n",
    "prop = {\n",
    "    \"terms\" : ['TEMP'],\n",
    "    \"remove_tmp\": True\n",
    "}\n",
    "output_dat_heat_path = 'sander.md.temp.dat'\n",
    "\n",
    "# Create and launch bb\n",
    "process_mdout(input_log_path=output_heat_log_path,\n",
    "            output_dat_path=output_dat_heat_path,\n",
    "            properties=prop)"
   ]
  },
  {
   "cell_type": "code",
   "execution_count": null,
   "metadata": {},
   "outputs": [],
   "source": [
    "#Read data from file and filter energy values higher than 1000 Kj/mol^-1\n",
    "with open(output_dat_heat_path,'r') as energy_file:\n",
    "    x,y = map(\n",
    "        list,\n",
    "        zip(*[\n",
    "            (float(line.split()[0]),float(line.split()[1]))\n",
    "            for line in energy_file \n",
    "            if not line.startswith((\"#\",\"@\")) \n",
    "            if float(line.split()[1]) < 1000 \n",
    "        ])\n",
    "    )\n",
    "\n",
    "plotly.offline.init_notebook_mode(connected=True)\n",
    "\n",
    "fig = {\n",
    "    \"data\": [go.Scatter(x=x, y=y)],\n",
    "    \"layout\": go.Layout(title=\"Heating process\",\n",
    "                        xaxis=dict(title = \"Heating Step (ps)\"),\n",
    "                        yaxis=dict(title = \"Temperature (K)\")\n",
    "                       )\n",
    "}\n",
    "\n",
    "plotly.offline.iplot(fig)"
   ]
  },
  {
   "cell_type": "markdown",
   "metadata": {},
   "source": [
    "### Extracting final structure\n",
    "Extracting **final PDB structure** after the **system heating** using the **ambpdb** tool from the **AMBER MD package**. "
   ]
  },
  {
   "cell_type": "code",
   "execution_count": null,
   "metadata": {},
   "outputs": [],
   "source": [
    "# Import module\n",
    "from biobb_amber.ambpdb.amber_to_pdb import amber_to_pdb\n",
    "\n",
    "# Create prop dict and inputs/outputs\n",
    "output_ambpdb_final_path = 'structure.final.pdb'\n",
    "\n",
    "# Create and launch bb\n",
    "amber_to_pdb(input_top_path=output_ions_top_path,\n",
    "            input_crd_path=output_heat_rst_path,\n",
    "            output_pdb_path=output_ambpdb_final_path\n",
    "            )"
   ]
  },
  {
   "cell_type": "markdown",
   "metadata": {
    "variables": {
     "output_ambpdb_final_path": "<p><strong>NameError</strong>: name &#39;output_ambpdb_final_path&#39; is not defined</p>\n",
     "output_heat_traj_path": "<p><strong>NameError</strong>: name &#39;output_heat_traj_path&#39; is not defined</p>\n",
     "output_ions_top_path": "structure.ions.parmtop"
    }
   },
   "source": [
    "<a id=\"output\"></a>\n",
    "## Output files\n",
    "\n",
    "Important **Output files** generated:\n",
    " - {{output_ambpdb_final_path}}: **Final structure** of the MD setup protocol.\n",
    " - {{output_heat_traj_path}}: **Final trajectory** of the MD setup protocol.\n",
    " - {{output_ions_top_path}}: **Final topology** of the MD system. \n",
    "\n",
    " "
   ]
  },
  {
   "cell_type": "code",
   "execution_count": null,
   "metadata": {},
   "outputs": [],
   "source": [
    "from IPython.display import FileLink\n",
    "display(FileLink(output_ambpdb_final_path))\n",
    "display(FileLink(output_heat_traj_path))\n",
    "display(FileLink(output_ions_top_path))"
   ]
  }
 ],
 "metadata": {
  "kernelspec": {
   "display_name": "Python 3",
   "language": "python",
   "name": "python3"
  },
  "language_info": {
   "codemirror_mode": {
    "name": "ipython",
    "version": 3
   },
   "file_extension": ".py",
   "mimetype": "text/x-python",
   "name": "python",
   "nbconvert_exporter": "python",
   "pygments_lexer": "ipython3",
   "version": "3.7.8"
  }
 },
 "nbformat": 4,
 "nbformat_minor": 2
}
