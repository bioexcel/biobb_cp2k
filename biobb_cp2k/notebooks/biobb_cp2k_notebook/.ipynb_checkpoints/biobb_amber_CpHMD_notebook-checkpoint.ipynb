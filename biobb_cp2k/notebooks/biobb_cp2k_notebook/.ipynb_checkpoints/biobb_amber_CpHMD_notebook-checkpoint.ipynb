{
 "cells": [
  {
   "cell_type": "markdown",
   "metadata": {},
   "source": [
    "# Common execution"
   ]
  },
  {
   "cell_type": "markdown",
   "metadata": {},
   "source": [
    "## Build Linear Peptide Structure Example"
   ]
  },
  {
   "cell_type": "code",
   "execution_count": 31,
   "metadata": {},
   "outputs": [
    {
     "name": "stderr",
     "output_type": "stream",
     "text": [
      "2021-01-23 08:39:51,819 [MainThread  ] [INFO ]  Creating 26fa5e1b-dedb-499d-96b4-763a649f437f temporary folder\n",
      "2021-01-23 08:39:51,821 [MainThread  ] [INFO ]  Creating command line with instructions and required arguments\n",
      "2021-01-23 08:39:51,905 [MainThread  ] [INFO ]  tleap  -f 26fa5e1b-dedb-499d-96b4-763a649f437f/leap.in\n",
      "\n",
      "2021-01-23 08:39:51,908 [MainThread  ] [INFO ]  Exit code 0\n",
      "\n",
      "2021-01-23 08:39:51,909 [MainThread  ] [INFO ]  -I: Adding /anaconda3/envs/biobb_amber/dat/leap/prep to search path.\n",
      "-I: Adding /anaconda3/envs/biobb_amber/dat/leap/lib to search path.\n",
      "-I: Adding /anaconda3/envs/biobb_amber/dat/leap/parm to search path.\n",
      "-I: Adding /anaconda3/envs/biobb_amber/dat/leap/cmd to search path.\n",
      "-f: Source 26fa5e1b-dedb-499d-96b4-763a649f437f/leap.in.\n",
      "\n",
      "Welcome to LEaP!\n",
      "(no leaprc in search path)\n",
      "Sourcing: ./26fa5e1b-dedb-499d-96b4-763a649f437f/leap.in\n",
      "----- Source: /anaconda3/envs/biobb_amber/dat/leap/cmd/leaprc.protein.ff14SB\n",
      "----- Source of /anaconda3/envs/biobb_amber/dat/leap/cmd/leaprc.protein.ff14SB done\n",
      "Log file: ./leap.log\n",
      "Loading parameters: /anaconda3/envs/biobb_amber/dat/leap/parm/parm10.dat\n",
      "Reading title:\n",
      "PARM99 + frcmod.ff99SB + frcmod.parmbsc0 + OL3 for RNA\n",
      "Loading parameters: /anaconda3/envs/biobb_amber/dat/leap/parm/frcmod.ff14SB\n",
      "Reading force field modification type file (frcmod)\n",
      "Reading title:\n",
      "ff14SB protein backbone and sidechain parameters\n",
      "Loading library: /anaconda3/envs/biobb_amber/dat/leap/lib/amino12.lib\n",
      "Loading library: /anaconda3/envs/biobb_amber/dat/leap/lib/aminoct12.lib\n",
      "Loading library: /anaconda3/envs/biobb_amber/dat/leap/lib/aminont12.lib\n",
      "Writing pdb file: structure_peptide.pdb\n",
      "\tQuit\n",
      "\n",
      "Exiting LEaP: Errors = 0; Warnings = 0; Notes = 0.\n",
      "\n",
      "2021-01-23 08:39:51,912 [MainThread  ] [INFO ]  Removed: 26fa5e1b-dedb-499d-96b4-763a649f437f\n",
      "2021-01-23 08:39:51,913 [MainThread  ] [INFO ]  Removed: leap.log\n"
     ]
    },
    {
     "data": {
      "text/plain": [
       "0"
      ]
     },
     "execution_count": 31,
     "metadata": {},
     "output_type": "execute_result"
    }
   ],
   "source": [
    "# Import module\n",
    "from biobb_amber.leap.leap_build_linear_structure import leap_build_linear_structure\n",
    "\n",
    "# Create prop dict and inputs/outputs\n",
    "prop = {\n",
    "    \"sequence\" : \"ALA PRO SER ARG LYS ASP GLU GLY GLY ALA\",\n",
    "    \"build_library\": False,\n",
    "    \"forcefield\" : [\"protein.ff14SB\"],\n",
    "    \"remove_tmp\": True\n",
    "}\n",
    "output_file_path = 'structure_peptide.pdb'\n",
    "\n",
    "# Create and launch bb\n",
    "leap_build_linear_structure(output_pdb_path=output_file_path, \n",
    "         properties=prop)"
   ]
  },
  {
   "cell_type": "code",
   "execution_count": 16,
   "metadata": {},
   "outputs": [
    {
     "data": {
      "application/vnd.jupyter.widget-view+json": {
       "model_id": "a0ded020846a4a13ada286beb8b4a14c",
       "version_major": 2,
       "version_minor": 0
      },
      "text/plain": [
       "NGLWidget()"
      ]
     },
     "metadata": {},
     "output_type": "display_data"
    }
   ],
   "source": [
    "import nglview\n",
    "import ipywidgets\n",
    "\n",
    "# Show protein\n",
    "view = nglview.show_structure_file(output_file_path)\n",
    "view.add_representation(repr_type='ball+stick', selection='all')\n",
    "view._remote_call('setSize', target='Widget', args=['','600px'])\n",
    "view"
   ]
  },
  {
   "cell_type": "markdown",
   "metadata": {},
   "source": [
    "## Solvate system"
   ]
  },
  {
   "cell_type": "code",
   "execution_count": 32,
   "metadata": {},
   "outputs": [
    {
     "name": "stderr",
     "output_type": "stream",
     "text": [
      "2021-01-23 08:40:07,962 [MainThread  ] [INFO ]  Creating 1d8bd3c8-1f85-43df-a8e2-2f1a3ef73486 temporary folder\n",
      "2021-01-23 08:40:07,964 [MainThread  ] [INFO ]  Creating command line with instructions and required arguments\n",
      "2021-01-23 08:40:08,530 [MainThread  ] [INFO ]  tleap  -f 1d8bd3c8-1f85-43df-a8e2-2f1a3ef73486/leap.in\n",
      "\n",
      "2021-01-23 08:40:08,533 [MainThread  ] [INFO ]  Exit code 0\n",
      "\n",
      "2021-01-23 08:40:08,534 [MainThread  ] [INFO ]  -I: Adding /anaconda3/envs/biobb_amber/dat/leap/prep to search path.\n",
      "-I: Adding /anaconda3/envs/biobb_amber/dat/leap/lib to search path.\n",
      "-I: Adding /anaconda3/envs/biobb_amber/dat/leap/parm to search path.\n",
      "-I: Adding /anaconda3/envs/biobb_amber/dat/leap/cmd to search path.\n",
      "-f: Source 1d8bd3c8-1f85-43df-a8e2-2f1a3ef73486/leap.in.\n",
      "\n",
      "Welcome to LEaP!\n",
      "(no leaprc in search path)\n",
      "Sourcing: ./1d8bd3c8-1f85-43df-a8e2-2f1a3ef73486/leap.in\n",
      "----- Source: /anaconda3/envs/biobb_amber/dat/leap/cmd/leaprc.protein.ff14SB\n",
      "----- Source of /anaconda3/envs/biobb_amber/dat/leap/cmd/leaprc.protein.ff14SB done\n",
      "Log file: ./leap.log\n",
      "Loading parameters: /anaconda3/envs/biobb_amber/dat/leap/parm/parm10.dat\n",
      "Reading title:\n",
      "PARM99 + frcmod.ff99SB + frcmod.parmbsc0 + OL3 for RNA\n",
      "Loading parameters: /anaconda3/envs/biobb_amber/dat/leap/parm/frcmod.ff14SB\n",
      "Reading force field modification type file (frcmod)\n",
      "Reading title:\n",
      "ff14SB protein backbone and sidechain parameters\n",
      "Loading library: /anaconda3/envs/biobb_amber/dat/leap/lib/amino12.lib\n",
      "Loading library: /anaconda3/envs/biobb_amber/dat/leap/lib/aminoct12.lib\n",
      "Loading library: /anaconda3/envs/biobb_amber/dat/leap/lib/aminont12.lib\n",
      "Loading parameters: /anaconda3/envs/biobb_amber/dat/leap/parm/frcmod.ionsjc_tip3p\n",
      "Reading force field modification type file (frcmod)\n",
      "Reading title:\n",
      "Monovalent ion parameters for Ewald and TIP3P water from Joung & Cheatham JPCB (2008)\n",
      "----- Source: /anaconda3/envs/biobb_amber/dat/leap/cmd/leaprc.water.tip3p\n",
      "----- Source of /anaconda3/envs/biobb_amber/dat/leap/cmd/leaprc.water.tip3p done\n",
      "Loading library: /anaconda3/envs/biobb_amber/dat/leap/lib/atomic_ions.lib\n",
      "Loading library: /anaconda3/envs/biobb_amber/dat/leap/lib/solvents.lib\n",
      "Loading parameters: /anaconda3/envs/biobb_amber/dat/leap/parm/frcmod.tip3p\n",
      "Reading force field modification type file (frcmod)\n",
      "Reading title:\n",
      "This is the additional/replacement parameter set for TIP3P water\n",
      "Loading parameters: /anaconda3/envs/biobb_amber/dat/leap/parm/frcmod.ions1lm_126_tip3p\n",
      "Reading force field modification type file (frcmod)\n",
      "Reading title:\n",
      "Li/Merz ion parameters of monovalent ions for TIP3P water model (12-6 normal usage set)\n",
      "Loading parameters: /anaconda3/envs/biobb_amber/dat/leap/parm/frcmod.ionsjc_tip3p\n",
      "Reading force field modification type file (frcmod)\n",
      "Reading title:\n",
      "Monovalent ion parameters for Ewald and TIP3P water from Joung & Cheatham JPCB (2008)\n",
      "Loading parameters: /anaconda3/envs/biobb_amber/dat/leap/parm/frcmod.ions234lm_126_tip3p\n",
      "Reading force field modification type file (frcmod)\n",
      "Reading title:\n",
      "Li/Merz ion parameters of divalent to tetravalent ions for TIP3P water model (12-6 normal usage set)\n",
      "Loading PDB file: ../../test/data/leap/structure.leapin.pdb\n",
      "  Added missing heavy atom: .R<CALA 10>.A<OXT 11>\n",
      "  total atoms in file: 68\n",
      "  Leap added 67 missing atoms according to residue templates:\n",
      "       1 Heavy\n",
      "       66 H / lone pairs\n",
      "Scaling up box by a factor of 1.056709 to meet diagonal cut criterion\n",
      "  Solute vdw bounding box:              38.420 16.204 6.649\n",
      "  Total bounding box for atom centers:  57.441 57.441 57.441\n",
      "      (box expansion for 'iso' is 264.9%)\n",
      "  Solvent unit box:                     18.774 18.774 18.774\n",
      "  Volume: 99797.842 A^3 (oct)\n",
      "  Total mass 51864.242 amu,  Density 0.863 g/cc\n",
      "  Added 2824 residues.\n",
      "Adding 5 counter ions to \"mol\" using 1A grid\n",
      "Grid extends from solute vdw + 2.51  to  8.42\n",
      "Resolution:      1.00 Angstrom.\n",
      "Solvent present: replacing closest with ion\n",
      "\t when steric overlaps occur\n",
      "Calculating grid charges\n",
      "(Replacing solvent molecule)\n",
      "Placed Cl- in mol at (-11.60, 9.10, -16.00).\n",
      "(Replacing solvent molecule)\n",
      "Placed Cl- in mol at (3.22, 1.46, -8.92).\n",
      "(Replacing solvent molecule)\n",
      "Placed Cl- in mol at (-7.43, 4.77, 6.98).\n",
      "(Replacing solvent molecule)\n",
      "Placed Cl- in mol at (-4.32, 5.11, -18.86).\n",
      "(Replacing solvent molecule)\n",
      "Placed Cl- in mol at (-9.06, 4.03, -1.92).\n",
      "\n",
      "Done adding ions.\n",
      "Adding 5 counter ions to \"mol\" using 1A grid\n",
      "Grid extends from solute vdw + 1.37  to  7.88\n",
      "Resolution:      1.00 Angstrom.\n",
      "Solvent present: replacing closest with ion\n",
      "\t when steric overlaps occur\n",
      "Calculating grid charges\n",
      "(Replacing solvent molecule)\n",
      "Placed Na+ in mol at (0.52, 3.08, 8.18).\n",
      "(Replacing solvent molecule)\n",
      "Placed Na+ in mol at (10.05, -4.48, 0.40).\n",
      "(Replacing solvent molecule)\n",
      "Placed Na+ in mol at (9.11, -12.02, 9.43).\n",
      "(Replacing solvent molecule)\n",
      "Placed Na+ in mol at (-3.02, 4.62, -23.14).\n",
      "(Replacing solvent molecule)\n",
      "Placed Na+ in mol at (13.73, -8.94, 14.61).\n",
      "\n",
      "Done adding ions.\n",
      "Writing pdb file: structure.solv.pdb\n",
      "   printing CRYST1 record to PDB file with box info\n",
      "\n",
      "/anaconda3/envs/biobb_amber/bin/teLeap: Warning!\n",
      " Converting N-terminal residue name to PDB format: NALA -> ALA\n",
      "\n",
      "/anaconda3/envs/biobb_amber/bin/teLeap: Warning!\n",
      " Converting C-terminal residue name to PDB format: CALA -> ALA\n",
      "Checking Unit.\n",
      "Building topology.\n",
      "Building atom parameters.\n",
      "Building bond parameters.\n",
      "Building angle parameters.\n",
      "Building proper torsion parameters.\n",
      "Building improper torsion parameters.\n",
      " total 25 improper torsions applied\n",
      "Building H-Bond parameters.\n",
      "Incorporating Non-Bonded adjustments.\n",
      "Not Marking per-residue atom chain types.\n",
      "Marking per-residue atom chain types.\n",
      "  (Residues lacking connect0/connect1 - \n",
      "   these don't have chain types marked:\n",
      "\n",
      "\tres\ttotal affected\n",
      "\n",
      "\tCALA\t1\n",
      "\tNALA\t1\n",
      "\tWAT\t2814\n",
      "  )\n",
      " (no restraints)\n",
      "\tQuit\n",
      "\n",
      "Exiting LEaP: Errors = 0; Warnings = 2; Notes = 0.\n",
      "\n"
     ]
    },
    {
     "data": {
      "text/plain": [
       "0"
      ]
     },
     "execution_count": 32,
     "metadata": {},
     "output_type": "execute_result"
    }
   ],
   "source": [
    "# Import module\n",
    "from biobb_amber.leap.leap_solvate import leap_solvate\n",
    "\n",
    "# Create prop dict and inputs/outputs\n",
    "prop = {\n",
    "    \"forcefield\" : [\"protein.ff14SB\"],\n",
    "    #\"water_type\" : \"SPCBOX\",\n",
    "    \"water_type\": \"TIP3PBOX\",\n",
    "    \"distance_to_molecule\": \"9.0\",\n",
    "    \"neutralise\" : False,\n",
    "    \"positive_ions_number\": 5,\n",
    "    \"negative_ions_number\": 5,    \n",
    "    \"box_type\": \"truncated_octahedron\",\n",
    "    \"remove_tmp\": False\n",
    "}\n",
    "input_file_path = '../../test/data/leap/structure.leapin.pdb'\n",
    "output_pdb_path = 'structure.solv.pdb'\n",
    "output_top_path = 'structure.solv.parmtop'\n",
    "output_crd_path = 'structure.solv.crd'\n",
    "\n",
    "# Create and launch bb\n",
    "leap_solvate(input_pdb_path=input_file_path,\n",
    "           output_pdb_path=output_pdb_path,\n",
    "           output_top_path=output_top_path,\n",
    "           output_crd_path=output_crd_path,\n",
    "           properties=prop)"
   ]
  },
  {
   "cell_type": "code",
   "execution_count": 33,
   "metadata": {},
   "outputs": [
    {
     "data": {
      "application/vnd.jupyter.widget-view+json": {
       "model_id": "e1aa8aae8f414dfa9240ceabc383c19e",
       "version_major": 2,
       "version_minor": 0
      },
      "text/plain": [
       "NGLWidget()"
      ]
     },
     "metadata": {},
     "output_type": "display_data"
    }
   ],
   "source": [
    "import nglview\n",
    "import ipywidgets\n",
    "\n",
    "# Show protein\n",
    "view = nglview.show_structure_file(output_pdb_path)\n",
    "view.clear_representations()\n",
    "view.add_representation(repr_type='spacefill', selection='protein')\n",
    "view.add_representation(repr_type='ball+stick', selection='solvent')\n",
    "view._remote_call('setSize', target='Widget', args=['','600px'])\n",
    "view"
   ]
  },
  {
   "cell_type": "code",
   "execution_count": 34,
   "metadata": {},
   "outputs": [
    {
     "name": "stderr",
     "output_type": "stream",
     "text": [
      "2021-01-23 08:40:19,209 [MainThread  ] [INFO ]  Creating 546828c4-07bf-4cf5-9376-e374acef4bf0 temporary folder\n",
      "2021-01-23 08:40:19,210 [MainThread  ] [INFO ]  Creating command line with instructions and required arguments\n",
      "2021-01-23 08:40:22,104 [MainThread  ] [INFO ]  cpinutil.py -p ../../test/data/parmed/cln025.prmtop -o structure.cpin -igb 2 -system cln025 -resnames AS4 GL4 -op structure.cpH.parmtop\n",
      "\n",
      "2021-01-23 08:40:22,106 [MainThread  ] [INFO ]  Exit code 0\n",
      "\n",
      "2021-01-23 08:40:22,107 [MainThread  ] [INFO ]  CPIN generation complete!\n",
      "\n"
     ]
    },
    {
     "data": {
      "text/plain": [
       "0"
      ]
     },
     "execution_count": 34,
     "metadata": {},
     "output_type": "execute_result"
    }
   ],
   "source": [
    "# cpinutil.py -igb 2 -resname AS4 GL4 -p $1.prmtop -op $1.cpH.prmtop\n",
    "\n",
    "# Import module\n",
    "from biobb_amber.parmed.parmed_cpinutil import parmed_cpinutil\n",
    "\n",
    "# Create prop dict and inputs/outputs\n",
    "prop = {\n",
    "    \"igb\" : 2,\n",
    "    \"resnames\": \"AS4 GL4\",\n",
    "    \"system\": \"cln025\",\n",
    "    \"remove_tmp\": False\n",
    "}\n",
    "input_file_path = '../../test/data/parmed/cln025.prmtop'\n",
    "output_cpin_path = 'structure.cpin'\n",
    "output_top_path = 'structure.cpH.parmtop'\n",
    "\n",
    "# Create and launch bb\n",
    "parmed_cpinutil(input_top_path=input_file_path,\n",
    "           output_cpin_path=output_cpin_path,\n",
    "           output_top_path=output_top_path,\n",
    "           properties=prop)"
   ]
  },
  {
   "cell_type": "code",
   "execution_count": 35,
   "metadata": {},
   "outputs": [
    {
     "name": "stderr",
     "output_type": "stream",
     "text": [
      "2021-01-23 08:40:25,340 [MainThread  ] [INFO ]  Creating 679bdd33-c3f5-454a-b512-17e939814bce temporary folder\n",
      "2021-01-23 08:40:25,341 [MainThread  ] [INFO ]  Creating command line with instructions and required arguments\n",
      "2021-01-23 08:40:26,834 [MainThread  ] [INFO ]  cpinutil.py -p ../../test/data/parmed/cln025.cpH.prmtop -o structure.cpin -igb 2 -system CLN\n",
      "\n",
      "2021-01-23 08:40:26,837 [MainThread  ] [INFO ]  Exit code 0\n",
      "\n",
      "2021-01-23 08:40:26,838 [MainThread  ] [INFO ]  Warning: Carboxylate residues in explicit solvent simulations require a modified topology file!\n",
      "         Use the -op flag to print one.\n",
      "CPIN generation complete!\n",
      "\n"
     ]
    },
    {
     "data": {
      "text/plain": [
       "0"
      ]
     },
     "execution_count": 35,
     "metadata": {},
     "output_type": "execute_result"
    }
   ],
   "source": [
    "# cpinutil.py -p cln025.cpH.prmtop -igb 2 -system \"CLN\" -o \n",
    "\n",
    "# Import module\n",
    "from biobb_amber.parmed.parmed_cpinutil import parmed_cpinutil\n",
    "\n",
    "# Create prop dict and inputs/outputs\n",
    "prop = {\n",
    "    \"igb\" : 2,\n",
    "    \"system\": \"CLN\",\n",
    "    \"remove_tmp\": False\n",
    "}\n",
    "input_file_path = '../../test/data/parmed/cln025.cpH.prmtop'\n",
    "output_cpin_path = 'structure.cpin'\n",
    "\n",
    "# Create and launch bb\n",
    "parmed_cpinutil(input_top_path=input_file_path,\n",
    "           output_cpin_path=output_cpin_path,\n",
    "           properties=prop)"
   ]
  },
  {
   "cell_type": "code",
   "execution_count": null,
   "metadata": {},
   "outputs": [
    {
     "name": "stderr",
     "output_type": "stream",
     "text": [
      "2021-01-23 08:41:03,797 [MainThread  ] [INFO ]  Creating 173d0526-a7e3-43c3-a9e2-7c2b8a191f91 temporary folder\n",
      "2021-01-23 08:41:03,799 [MainThread  ] [INFO ]  Creating command line with instructions and required arguments\n"
     ]
    }
   ],
   "source": [
    "# sander -O -i mdin/min.mdin -p $1.cpH.prmtop -c ph$i/$1.inpcrd -r ph$i/$1.min.rst7 -o ph$i/$1.min.o \n",
    "\n",
    "# Import module\n",
    "from biobb_amber.sander.sander_mdrun import sander_mdrun\n",
    "\n",
    "# Create prop dict and inputs/outputs\n",
    "prop = {\n",
    "    \"simulation_type\" : \"minimization\",\n",
    "    \"mdin\" : { \n",
    "        'maxcyc' : 500\n",
    "    },\n",
    "    \"remove_tmp\": False\n",
    "}\n",
    "input_top_path = '../../test/data/sander/cln025.prmtop'\n",
    "input_crd_path = '../../test/data/sander/cln025.inpcrd'\n",
    "output_traj_path = 'sander.cpH.x'\n",
    "output_rst_path = 'sander.cpH.rst'\n",
    "output_log_path = 'sander.cpH.log'\n",
    "\n",
    "# Create and launch bb\n",
    "sander_mdrun(input_top_path=input_top_path,\n",
    "            input_crd_path=input_crd_path,\n",
    "            output_traj_path=output_traj_path,\n",
    "            output_rst_path=output_rst_path,\n",
    "            output_log_path=output_log_path,\n",
    "            properties=prop)"
   ]
  }
 ],
 "metadata": {
  "kernelspec": {
   "display_name": "Python [conda env:biobb_amber] *",
   "language": "python",
   "name": "conda-env-biobb_amber-py"
  },
  "language_info": {
   "codemirror_mode": {
    "name": "ipython",
    "version": 3
   },
   "file_extension": ".py",
   "mimetype": "text/x-python",
   "name": "python",
   "nbconvert_exporter": "python",
   "pygments_lexer": "ipython3",
   "version": "3.7.8"
  }
 },
 "nbformat": 4,
 "nbformat_minor": 2
}
