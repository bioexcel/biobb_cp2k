{
 "cells": [
  {
   "cell_type": "markdown",
   "metadata": {},
   "source": [
    "# ABC MD Setup pipeline using BioExcel Building Blocks (biobb)\n",
    "\n",
    "***\n",
    "\n",
    "This **BioExcel Building Blocks library (BioBB) workflow** provides a pipeline to setup DNA structures for the **Ascona B-DNA Consortium** (ABC) members. It follows the work started with the [NAFlex](http://mmb.irbbarcelona.org/NAFlex/ABC) tool to offer a single, reproducible pipeline for structure preparation, ensuring **reproducibility** and **coherence** between all the members of the consortium. The **NAFlex pipeline** was used for the preparation of all the simulations done in the study: ***[The static and dynamic structural heterogeneities of B-DNA: extending Calladine–Dickerson rules](https://doi.org/10.1093/nar/gkz905)***. The workflow included in this **Jupyter Notebook** is **extending** and **updating** the **NAFlex pipeline**, and is being used for the **new ABC work**. \n",
    "\n",
    "The **setup process** is performed using the **biobb_amber** module from the **BioBB library**, which is wrapping the **AMBER MD package**. The forcefield used is the **ff14SB**, with the nucleic acids **parmbsc1 forcefield**, **Dang ions parameters** and **SPC/E Water model**.\n",
    "\n",
    "The main **steps of the pipeline** are:\n",
    "\n",
    "- Add missing atoms\n",
    "- Energetically minimize the system (in vacuo)\n",
    "- Solvate structure with a truncated octahedron box, with SCP/E water model\n",
    "- Neutralize the system with Potassium ions\n",
    "- Add an ionic concentration of 150mM of Cl- / K+ ions\n",
    "- Randomize ions around the structure using cpptraj\n",
    "- Energetically minimize the system (in solvent)\n",
    "\n",
    "***\n",
    "\n",
    "## Settings\n",
    "\n",
    "### Biobb module used\n",
    "\n",
    " - [biobb_amber](https://github.com/bioexcel/biobb_amber): Tools to setup and run Molecular Dynamics simulations using the AMBER MD package.\n",
    " \n",
    "### Auxiliar libraries used\n",
    "\n",
    " - [nb_conda_kernels](https://github.com/Anaconda-Platform/nb_conda_kernels): Enables a Jupyter Notebook or JupyterLab application in one conda environment to access kernels for Python, R, and other languages found in other environments.\n",
    " - [nglview](http://nglviewer.org/#nglview): Jupyter/IPython widget to interactively view molecular structures and trajectories in notebooks.\n",
    " - [ipywidgets](https://github.com/jupyter-widgets/ipywidgets): Interactive HTML widgets for Jupyter notebooks and the IPython kernel.\n",
    " - [plotly](https://plot.ly/python/offline/): Python interactive graphing library integrated in Jupyter notebooks.\n",
    "\n",
    "### Conda Installation and Launch\n",
    "\n",
    "```console\n",
    " git clone https://github.com/bioexcel/biobb_amber_ABC_MD_setup.git\n",
    " cd biobb_amber_ABC_MD_setup\n",
    " conda env create -f conda_env/environment.yml\n",
    " conda activate biobb_amber_ABC_MD_setup\n",
    " jupyter-nbextension enable --py --user widgetsnbextension\n",
    " jupyter-nbextension enable --py --user nglview\n",
    " jupyter-notebook biobb_wf_md_setup/notebooks/biobb_amber_ABC_MD_setup.ipynb\n",
    "  ``` \n",
    "\n",
    "***\n",
    "## Pipeline steps\n",
    " 1. [Initial Parameters](#input)\n",
    " 2. [Model DNA 3D Structure](#model)\n",
    " 3. [Generate Topology](#top)\n",
    " 4. [Energetically minimize the generated structure (vacuum)](#minv)\n",
    " 5. [Add Water Box](#water)\n",
    " 6. [Add Ions](#ions)\n",
    " 7. [Randomize Ions](#random)\n",
    " 8. [Energetically Minimize the System (solvent)](#mins)\n",
    " 9. [Heating the system](#heat)\n",
    " 10. [Output files](#output)\n",
    " \n",
    "***\n",
    "<table><tr style=\"background: white;\">\n",
    "<td> <img src=\"https://bioexcel.eu/wp-content/uploads/2019/04/Bioexcell_logo_1080px_transp.png\" alt=\"Bioexcel2 logo\" style=\"width: 300px;\"/> </td>\n",
    "<td style=\"width: 100px;\"></td>\n",
    "<td> <img src=\"http://mmb.irbbarcelona.org/NAFlex//images/abc.png\" alt=\"ABC logo\" style=\"width: 200px;\"/> </td>\n",
    "</tr></table>\n",
    "\n",
    "***"
   ]
  },
  {
   "cell_type": "markdown",
   "metadata": {},
   "source": [
    "## Auxiliar libraries"
   ]
  },
  {
   "cell_type": "code",
   "execution_count": 1,
   "metadata": {},
   "outputs": [
    {
     "data": {
      "application/vnd.jupyter.widget-view+json": {
       "model_id": "6fa07322b2f84d2c9b4c63006cced5f0",
       "version_major": 2,
       "version_minor": 0
      },
      "text/plain": []
     },
     "metadata": {},
     "output_type": "display_data"
    }
   ],
   "source": [
    "import nglview\n",
    "import ipywidgets\n",
    "import plotly\n",
    "import plotly.graph_objs as go"
   ]
  },
  {
   "cell_type": "markdown",
   "metadata": {},
   "source": [
    "<a id=\"input\"></a>\n",
    "## Initial parameters\n",
    "\n",
    "**Input parameters** needed:\n",
    "\n",
    "- **DNA sequence**: Nucleotide sequence to be modelled and prepared for a MD simulation (e.g. GCGCGGCTGATAAACGAAAGC)\n",
    "- **Forcefield**: Forcefield to be used in the setup (e.g. protein.ff14SB). Values: protein.ff14SB, \n",
    "- **Water model**: Water model to be used in the setup (e.g. SPC/E). Values: SPC/E, TIP3PBOX.\n",
    "- **Ion model**: Ion model to be used in the setup (e.g. Dang). Values: Dang, Cheatham.\n",
    "- **Thermostat**: Thermostat to be used in the setup (e.g. ?). Values: ?"
   ]
  },
  {
   "cell_type": "code",
   "execution_count": 2,
   "metadata": {},
   "outputs": [],
   "source": [
    "# Nucleotide sequence:\n",
    "seq = \"GCGCGGCTGATAAACGAAAGC\""
   ]
  },
  {
   "cell_type": "code",
   "execution_count": 3,
   "metadata": {},
   "outputs": [],
   "source": [
    "# ABC protocol\n",
    "forcefield = [\"DNA.bsc1\"] # ParmBSC1 (ff99 + bsc0 + bsc1) for DNA. Ivani et al. Nature Methods 13: 55, 2016\n",
    "water_model = \"SPCBOX\" # SPC/E + Joung-Chetham monovalent ions + Li/Merz highly charged ions (+2 to +4, 12-6 normal usage set)\n",
    "ions_dang = \"leapin/frcmod.ionsdang_spce\" # NOT INTEGRATED IN AMBERTOOLS 17 (Ambertools CONDA Package)\n",
    "ions_model = \"None\" # NOT using default ions model (Joung & Cheatham)\n",
    "thermostat = 3 # ntt=3: Langevin Dynamics\n",
    "timestep = 0.002 # 2fs timestep"
   ]
  },
  {
   "cell_type": "markdown",
   "metadata": {},
   "source": [
    "<a id=\"model\"></a>\n",
    "## Model DNA 3D structure\n",
    "\n",
    "Model **DNA 3D structure** from a **nucleotide sequence** using the **nab tool** from the **AMBER MD package**.\n",
    "***\n",
    "**Building Blocks** used:\n",
    " - [nab_build_dna_structure](https://biobb-amber.readthedocs.io/en/latest/nab.html#module-nab.nab_build_dna_structure) from **biobb_amber.nab.nab_build_dna_structure**\n",
    "***"
   ]
  },
  {
   "cell_type": "code",
   "execution_count": 4,
   "metadata": {},
   "outputs": [
    {
     "name": "stderr",
     "output_type": "stream",
     "text": [
      "2021-02-19 15:49:05,008 [MainThread  ] [INFO ]  Creating c4438bbf-1da0-472b-81db-3ed7601a3fef temporary folder\n",
      "2021-02-19 15:49:05,010 [MainThread  ] [INFO ]  Creating command line with instructions and required arguments\n",
      "2021-02-19 15:49:06,499 [MainThread  ] [INFO ]  nab  --compiler gcc --linker gfortran c4438bbf-1da0-472b-81db-3ed7601a3fef/nuc.nab  ; ./c4438bbf-1da0-472b-81db-3ed7601a3fef/nuc\n",
      "\n",
      "2021-02-19 15:49:06,501 [MainThread  ] [INFO ]  Exit code 0\n",
      "\n",
      "2021-02-19 15:49:06,503 [MainThread  ] [INFO ]  \n",
      "Running: /anaconda3/envs/biobb_amber/bin/teLeap -s -f leap.in -I/anaconda3/envs/biobb_amber/dat/leap/cmd -I/anaconda3/envs/biobb_amber/dat/leap/parm -I/anaconda3/envs/biobb_amber/dat/leap/prep -I/anaconda3/envs/biobb_amber/dat/leap/lib > tleap.out\n",
      "Reading parm file (tprmtop)\n",
      "title:\n",
      "default_name                                                                    \n",
      "\n",
      "2021-02-19 15:49:06,506 [MainThread  ] [INFO ]  Removed: c4438bbf-1da0-472b-81db-3ed7601a3fef\n",
      "2021-02-19 15:49:06,507 [MainThread  ] [INFO ]  Removed: nab.log, tleap.out\n"
     ]
    },
    {
     "data": {
      "text/plain": [
       "0"
      ]
     },
     "execution_count": 4,
     "metadata": {},
     "output_type": "execute_result"
    }
   ],
   "source": [
    "# Import module\n",
    "from biobb_amber.nab.nab_build_dna_structure import nab_build_dna_structure\n",
    "\n",
    "# Create properties dict and inputs/outputs\n",
    "dna_pdb = seq+'.pdb'\n",
    "prop = {\n",
    "    'sequence': seq,\n",
    "    'helix_type': 'abdna', # Right Handed B-DNA, Arnott \n",
    "    'remove_tmp': True\n",
    "}\n",
    "\n",
    "#Create and launch bb\n",
    "nab_build_dna_structure(output_pdb_path=dna_pdb,\n",
    "    properties=prop)"
   ]
  },
  {
   "cell_type": "markdown",
   "metadata": {},
   "source": [
    "# Visualizing 3D structure"
   ]
  },
  {
   "cell_type": "code",
   "execution_count": 5,
   "metadata": {
    "scrolled": false
   },
   "outputs": [
    {
     "data": {
      "application/vnd.jupyter.widget-view+json": {
       "model_id": "e0c61c94d89345b9ae4a7d06ff0c07ee",
       "version_major": 2,
       "version_minor": 0
      },
      "text/plain": [
       "NGLWidget()"
      ]
     },
     "metadata": {},
     "output_type": "display_data"
    }
   ],
   "source": [
    "# Show protein\n",
    "view = nglview.show_structure_file(dna_pdb)\n",
    "view.add_representation(repr_type='ball+stick', selection='all')\n",
    "view._remote_call('setSize', target='Widget', args=['','600px'])\n",
    "view"
   ]
  },
  {
   "cell_type": "markdown",
   "metadata": {},
   "source": [
    "<a id=\"water\"></a>\n",
    "## Generate Topology & Creating Water Box\n",
    "\n",
    "Build the **DNA topology** and creating a **water box** surrounding the **DNA structure** using the **leap tool** from the **AMBER MD package**. \n",
    "<br/>\n",
    "Define the **unit cell** for the **DNA structure MD system** and fill it with **water molecules**.<br/>\n",
    "A **truncated octahedron** is used to define the unit cell, with a distance from the protein to the box edge of 10Å.\n",
    "The **water model** used is the one defined in the first cell.\n",
    "<br/>\n",
    "Using the **forcefield** fixed in the first cell.\n",
    "\n",
    "***\n",
    "**Building Blocks** used:\n",
    " - [leap_solvate](https://biobb-amber.readthedocs.io/en/latest/leap.html#module-leap.leap_solvate) from **biobb_amber.leap.leap_solvate**\n",
    "***"
   ]
  },
  {
   "cell_type": "code",
   "execution_count": 11,
   "metadata": {},
   "outputs": [
    {
     "name": "stderr",
     "output_type": "stream",
     "text": [
      "2021-02-19 15:53:19,286 [MainThread  ] [INFO ]  Creating 2b42c89a-6fb6-492c-85ef-2214fc565ce5 temporary folder\n",
      "2021-02-19 15:53:19,287 [MainThread  ] [INFO ]  Creating command line with instructions and required arguments\n",
      "2021-02-19 15:53:20,865 [MainThread  ] [INFO ]  tleap  -f 2b42c89a-6fb6-492c-85ef-2214fc565ce5/leap.in\n",
      "\n",
      "2021-02-19 15:53:20,867 [MainThread  ] [INFO ]  Exit code 0\n",
      "\n",
      "2021-02-19 15:53:20,868 [MainThread  ] [INFO ]  -I: Adding /anaconda3/envs/biobb_amber/dat/leap/prep to search path.\n",
      "-I: Adding /anaconda3/envs/biobb_amber/dat/leap/lib to search path.\n",
      "-I: Adding /anaconda3/envs/biobb_amber/dat/leap/parm to search path.\n",
      "-I: Adding /anaconda3/envs/biobb_amber/dat/leap/cmd to search path.\n",
      "-f: Source 2b42c89a-6fb6-492c-85ef-2214fc565ce5/leap.in.\n",
      "\n",
      "Welcome to LEaP!\n",
      "(no leaprc in search path)\n",
      "Sourcing: ./2b42c89a-6fb6-492c-85ef-2214fc565ce5/leap.in\n",
      "----- Source: /anaconda3/envs/biobb_amber/dat/leap/cmd/leaprc.DNA.bsc1\n",
      "----- Source of /anaconda3/envs/biobb_amber/dat/leap/cmd/leaprc.DNA.bsc1 done\n",
      "Log file: ./leap.log\n",
      "Loading parameters: /anaconda3/envs/biobb_amber/dat/leap/parm/parm10.dat\n",
      "Reading title:\n",
      "PARM99 + frcmod.ff99SB + frcmod.parmbsc0 + OL3 for RNA\n",
      "Loading library: /anaconda3/envs/biobb_amber/dat/leap/lib/parmBSC1.lib\n",
      "Loading parameters: /anaconda3/envs/biobb_amber/dat/leap/parm/frcmod.parmbsc1\n",
      "Reading force field modification type file (frcmod)\n",
      "Reading title:\n",
      "Parmbsc1 force-field for DNA\n",
      "Loading parameters: ./leapin/frcmod.ionsdang_spce\n",
      "Reading force field modification type file (frcmod)\n",
      "Reading title:\n",
      "Monovalent ion parameters for Ewald from Dang JCP (1994) JPC (1995) JACS (1995)\n",
      "----- Source: /anaconda3/envs/biobb_amber/dat/leap/cmd/leaprc.water.spce\n",
      "----- Source of /anaconda3/envs/biobb_amber/dat/leap/cmd/leaprc.water.spce done\n",
      "Loading library: /anaconda3/envs/biobb_amber/dat/leap/lib/atomic_ions.lib\n",
      "Loading library: /anaconda3/envs/biobb_amber/dat/leap/lib/solvents.lib\n",
      "Loading parameters: /anaconda3/envs/biobb_amber/dat/leap/parm/frcmod.spce\n",
      "Reading force field modification type file (frcmod)\n",
      "Reading title:\n",
      "This is the additional/replacement parameter set for SPC/E water\n",
      "Loading parameters: /anaconda3/envs/biobb_amber/dat/leap/parm/frcmod.ionsjc_spce\n",
      "Reading force field modification type file (frcmod)\n",
      "Reading title:\n",
      "Monovalent ion parameters for Ewald and SPC/E water from Joung & Cheatham JPCB (2008)\n",
      "Loading parameters: /anaconda3/envs/biobb_amber/dat/leap/parm/frcmod.ions234lm_126_spce\n",
      "Reading force field modification type file (frcmod)\n",
      "Reading title:\n",
      "Li/Merz ion parameters of divalent to tetravalent ions for SPC/E water model (12-6 normal usage set)\n",
      "Loading PDB file: ./GCGCGGCTGATAAACGAAAGC.pdb\n",
      "  total atoms in file: 1330\n",
      "Scaling up box by a factor of 1.073706 to meet diagonal cut criterion\n",
      "  Solute vdw bounding box:              23.440 24.365 77.038\n",
      "  Total bounding box for atom centers:  98.512 98.512 98.512\n",
      "      (box expansion for 'iso' is 371.4%)\n",
      "  Solvent unit box:                     18.774 18.774 18.774\n",
      "  Volume: 492722.653 A^3 (oct)\n",
      "  Total mass 270369.628 amu,  Density 0.911 g/cc\n",
      "  Added 14296 residues.\n",
      "Writing pdb file: structure.solv.pdb\n",
      "   printing CRYST1 record to PDB file with box info\n",
      "Checking Unit.\n",
      "\n",
      "/anaconda3/envs/biobb_amber/bin/teLeap: Warning!\n",
      "The unperturbed charge of the unit (-40.000000) is not zero.\n",
      "\n",
      "/anaconda3/envs/biobb_amber/bin/teLeap: Note.\n",
      "Ignoring the warning from Unit Checking.\n",
      "\n",
      "Building topology.\n",
      "Building atom parameters.\n",
      "Building bond parameters.\n",
      "Building angle parameters.\n",
      "Building proper torsion parameters.\n",
      "Building improper torsion parameters.\n",
      " total 285 improper torsions applied\n",
      "Building H-Bond parameters.\n",
      "Incorporating Non-Bonded adjustments.\n",
      "Not Marking per-residue atom chain types.\n",
      "Marking per-residue atom chain types.\n",
      "  (Residues lacking connect0/connect1 - \n",
      "   these don't have chain types marked:\n",
      "\n",
      "\tres\ttotal affected\n",
      "\n",
      "\tWAT\t14296\n",
      "  )\n",
      " (no restraints)\n",
      "\tQuit\n",
      "\n",
      "Exiting LEaP: Errors = 0; Warnings = 1; Notes = 1.\n",
      "\n",
      "2021-02-19 15:53:20,888 [MainThread  ] [INFO ]  Removed: 2b42c89a-6fb6-492c-85ef-2214fc565ce5\n",
      "2021-02-19 15:53:20,889 [MainThread  ] [INFO ]  Removed: leap.log\n"
     ]
    },
    {
     "data": {
      "text/plain": [
       "0"
      ]
     },
     "execution_count": 11,
     "metadata": {},
     "output_type": "execute_result"
    }
   ],
   "source": [
    "# Import module\n",
    "from biobb_amber.leap.leap_solvate import leap_solvate\n",
    "\n",
    "# Create prop dict and inputs/outputs\n",
    "prop = {\n",
    "    \"forcefield\" : forcefield,\n",
    "    \"water_type\" : water_model,\n",
    "    \"ions_type\" : ions_model, \n",
    "    \"distance_to_molecule\": \"10.0\", \n",
    "    \"box_type\": \"truncated_octahedron\",\n",
    "    \"remove_tmp\": True\n",
    "}\n",
    "output_solv_pdb_path = 'structure.solv.pdb'\n",
    "output_solv_top_path = 'structure.solv.parmtop'\n",
    "output_solv_crd_path = 'structure.solv.crd'\n",
    "\n",
    "#Create and launch bb\n",
    "leap_solvate( input_pdb_path=dna_pdb,\n",
    "                input_params_path=ions_dang,\n",
    "                output_pdb_path=output_solv_pdb_path,\n",
    "                output_top_path=output_solv_top_path,\n",
    "                output_crd_path=output_solv_crd_path,\n",
    "                properties=prop)"
   ]
  },
  {
   "cell_type": "code",
   "execution_count": 12,
   "metadata": {},
   "outputs": [
    {
     "data": {
      "application/vnd.jupyter.widget-view+json": {
       "model_id": "c028e1c89e3740c9a2d74059acbd5917",
       "version_major": 2,
       "version_minor": 0
      },
      "text/plain": [
       "NGLWidget()"
      ]
     },
     "metadata": {},
     "output_type": "display_data"
    }
   ],
   "source": [
    "# Show protein\n",
    "view = nglview.show_structure_file(output_solv_pdb_path)\n",
    "view.clear_representations()\n",
    "view.add_representation(repr_type='ball+stick', selection='nucleic')\n",
    "view.add_representation(repr_type='line', selection='water')\n",
    "view._remote_call('setSize', target='Widget', args=['','600px'])\n",
    "view"
   ]
  },
  {
   "cell_type": "markdown",
   "metadata": {},
   "source": [
    "<a id=\"ions\"></a>\n",
    "## Adding additional ionic concentration\n",
    "\n",
    "**Neutralizing** the system and adding an additional **ionic concentration** using the **leap tool** from the **AMBER MD package**. <br/>\n",
    "Using **Potassium (K+)** and **Chloride (Cl-)** counterions and an **additional ionic concentration** of 150mM.\n",
    "***\n",
    "**Building Blocks** used:\n",
    " - [leap_add_ions](https://biobb-amber.readthedocs.io/en/latest/leap.html#module-leap.leap_add_ions) from **biobb_amber.leap.leap_add_ions**\n",
    "***"
   ]
  },
  {
   "cell_type": "code",
   "execution_count": 13,
   "metadata": {},
   "outputs": [
    {
     "name": "stderr",
     "output_type": "stream",
     "text": [
      "2021-02-19 15:54:00,049 [MainThread  ] [INFO ]  Creating e296e5f5-83ab-423c-aee5-002a94b2a978 temporary folder\n",
      "2021-02-19 15:54:00,288 [MainThread  ] [INFO ]  Creating command line with instructions and required arguments\n",
      "2021-02-19 15:54:08,905 [MainThread  ] [INFO ]  tleap  -f e296e5f5-83ab-423c-aee5-002a94b2a978/leap.in\n",
      "\n",
      "2021-02-19 15:54:08,906 [MainThread  ] [INFO ]  Exit code 0\n",
      "\n",
      "2021-02-19 15:54:08,909 [MainThread  ] [INFO ]  -I: Adding /anaconda3/envs/biobb_amber/dat/leap/prep to search path.\n",
      "-I: Adding /anaconda3/envs/biobb_amber/dat/leap/lib to search path.\n",
      "-I: Adding /anaconda3/envs/biobb_amber/dat/leap/parm to search path.\n",
      "-I: Adding /anaconda3/envs/biobb_amber/dat/leap/cmd to search path.\n",
      "-f: Source e296e5f5-83ab-423c-aee5-002a94b2a978/leap.in.\n",
      "\n",
      "Welcome to LEaP!\n",
      "(no leaprc in search path)\n",
      "Sourcing: ./e296e5f5-83ab-423c-aee5-002a94b2a978/leap.in\n",
      "----- Source: /anaconda3/envs/biobb_amber/dat/leap/cmd/leaprc.DNA.bsc1\n",
      "----- Source of /anaconda3/envs/biobb_amber/dat/leap/cmd/leaprc.DNA.bsc1 done\n",
      "Log file: ./leap.log\n",
      "Loading parameters: /anaconda3/envs/biobb_amber/dat/leap/parm/parm10.dat\n",
      "Reading title:\n",
      "PARM99 + frcmod.ff99SB + frcmod.parmbsc0 + OL3 for RNA\n",
      "Loading library: /anaconda3/envs/biobb_amber/dat/leap/lib/parmBSC1.lib\n",
      "Loading parameters: /anaconda3/envs/biobb_amber/dat/leap/parm/frcmod.parmbsc1\n",
      "Reading force field modification type file (frcmod)\n",
      "Reading title:\n",
      "Parmbsc1 force-field for DNA\n",
      "----- Source: /anaconda3/envs/biobb_amber/dat/leap/cmd/leaprc.water.spce\n",
      "----- Source of /anaconda3/envs/biobb_amber/dat/leap/cmd/leaprc.water.spce done\n",
      "Loading library: /anaconda3/envs/biobb_amber/dat/leap/lib/atomic_ions.lib\n",
      "Loading library: /anaconda3/envs/biobb_amber/dat/leap/lib/solvents.lib\n",
      "Loading parameters: /anaconda3/envs/biobb_amber/dat/leap/parm/frcmod.spce\n",
      "Reading force field modification type file (frcmod)\n",
      "Reading title:\n",
      "This is the additional/replacement parameter set for SPC/E water\n",
      "Loading parameters: /anaconda3/envs/biobb_amber/dat/leap/parm/frcmod.ionsjc_spce\n",
      "Reading force field modification type file (frcmod)\n",
      "Reading title:\n",
      "Monovalent ion parameters for Ewald and SPC/E water from Joung & Cheatham JPCB (2008)\n",
      "Loading parameters: /anaconda3/envs/biobb_amber/dat/leap/parm/frcmod.ions234lm_126_spce\n",
      "Reading force field modification type file (frcmod)\n",
      "Reading title:\n",
      "Li/Merz ion parameters of divalent to tetravalent ions for SPC/E water model (12-6 normal usage set)\n",
      "Loading parameters: ./leapin/frcmod.ionsdang_spce\n",
      "Reading force field modification type file (frcmod)\n",
      "Reading title:\n",
      "Monovalent ion parameters for Ewald from Dang JCP (1994) JPC (1995) JACS (1995)\n",
      "Loading PDB file: ./structure.solv.pdb\n",
      "  total atoms in file: 44218\n",
      "\n",
      "/anaconda3/envs/biobb_amber/bin/teLeap: Warning!\n",
      "addIonsRand: 1st Ion & target unit have charges of the same sign:\n",
      "     unit charge = -40; ion1 charge = -1;\n",
      "     can't neutralize.\n",
      "40 K+ ions required to neutralize.\n",
      "Adding 40 counter ions to \"mol\". 14256 solvent molecules will remain.\n",
      "0: Placed K+ in mol at (1.90, -34.03, 22.71).\n",
      "0: Placed K+ in mol at (-12.57, -28.72, 18.05).\n",
      "0: Placed K+ in mol at (40.79, -16.61, 16.91).\n",
      "0: Placed K+ in mol at (-41.39, 1.41, 6.48).\n",
      "0: Placed K+ in mol at (-36.48, 12.67, 26.63).\n",
      "0: Placed K+ in mol at (-29.96, 21.11, 14.13).\n",
      "0: Placed K+ in mol at (16.38, -12.67, 11.65).\n",
      "0: Placed K+ in mol at (-34.83, -27.22, 1.64).\n",
      "0: Placed K+ in mol at (-23.25, 11.86, -30.25).\n",
      "0: Placed K+ in mol at (29.14, 3.61, -36.20).\n",
      "0: Placed K+ in mol at (-25.15, 23.16, -24.98).\n",
      "0: Placed K+ in mol at (12.20, 2.72, -13.85).\n",
      "0: Placed K+ in mol at (-8.07, -44.02, -6.69).\n",
      "0: Placed K+ in mol at (21.40, 16.32, -32.33).\n",
      "0: Placed K+ in mol at (32.20, -16.04, 9.06).\n",
      "0: Placed K+ in mol at (-35.85, 13.67, -29.62).\n",
      "0: Placed K+ in mol at (30.16, -17.37, 0.34).\n",
      "0: Placed K+ in mol at (14.98, 40.49, 1.43).\n",
      "0: Placed K+ in mol at (11.95, 41.79, 17.52).\n",
      "0: Placed K+ in mol at (34.08, -11.59, 24.83).\n",
      "0: Placed K+ in mol at (35.48, -3.68, 20.21).\n",
      "0: Placed K+ in mol at (23.74, -13.11, 33.17).\n",
      "0: Placed K+ in mol at (-39.21, -11.25, 1.32).\n",
      "0: Placed K+ in mol at (24.29, -2.72, -18.60).\n",
      "0: Placed K+ in mol at (7.34, -0.57, -20.83).\n",
      "0: Placed K+ in mol at (0.32, -3.29, 17.22).\n",
      "0: Placed K+ in mol at (6.28, -40.82, 27.06).\n",
      "0: Placed K+ in mol at (20.82, 11.48, 4.04).\n",
      "0: Placed K+ in mol at (40.77, -17.14, -21.43).\n",
      "0: Placed K+ in mol at (-8.07, -21.02, 33.14).\n",
      "0: Placed K+ in mol at (-24.87, 20.07, -29.82).\n",
      "0: Placed K+ in mol at (-29.56, -15.74, -20.90).\n",
      "0: Placed K+ in mol at (-22.31, 5.95, -9.96).\n",
      "0: Placed K+ in mol at (5.63, 31.56, 3.70).\n",
      "0: Placed K+ in mol at (-21.51, -4.01, 0.45).\n",
      "0: Placed K+ in mol at (13.25, 23.94, -31.16).\n",
      "0: Placed K+ in mol at (-6.92, 36.24, 31.91).\n",
      "0: Placed K+ in mol at (3.25, 6.59, -40.19).\n",
      "0: Placed K+ in mol at (39.22, 7.35, -2.68).\n",
      "0: Placed K+ in mol at (-3.08, 8.05, -9.74).\n",
      "Adding 38 counter ions to \"mol\". 14218 solvent molecules will remain.\n",
      "0: Placed Cl- in mol at (29.14, -1.66, 6.06).\n",
      "0: Placed Cl- in mol at (20.94, -0.64, -31.27).\n",
      "0: Placed Cl- in mol at (34.56, -3.10, -14.32).\n",
      "0: Placed Cl- in mol at (0.55, -23.65, -19.36).\n",
      "0: Placed Cl- in mol at (7.46, -27.05, 16.91).\n",
      "0: Placed Cl- in mol at (-10.18, -35.98, -24.40).\n",
      "0: Placed Cl- in mol at (-3.15, 13.87, 19.23).\n",
      "0: Placed Cl- in mol at (-24.09, -6.75, 18.86).\n",
      "0: Placed Cl- in mol at (15.80, -11.26, -36.13).\n",
      "0: Placed Cl- in mol at (10.30, -24.27, 31.16).\n",
      "0: Placed Cl- in mol at (16.79, -20.06, 3.11).\n",
      "0: Placed Cl- in mol at (8.88, -13.53, 22.86).\n",
      "0: Placed Cl- in mol at (-22.40, -9.92, -29.39).\n",
      "0: Placed Cl- in mol at (8.30, -14.38, -25.00).\n",
      "0: Placed Cl- in mol at (30.23, -22.20, -12.99).\n",
      "0: Placed Cl- in mol at (1.77, 17.66, 10.23).\n",
      "0: Placed Cl- in mol at (-18.35, -6.19, 12.20).\n",
      "0: Placed Cl- in mol at (-25.64, 5.01, -13.19).\n",
      "0: Placed Cl- in mol at (-8.34, 35.32, -15.64).\n",
      "0: Placed Cl- in mol at (-5.14, 4.95, 20.43).\n",
      "0: Placed Cl- in mol at (6.37, 21.57, -15.52).\n",
      "0: Placed Cl- in mol at (21.00, 32.79, -15.82).\n",
      "0: Placed Cl- in mol at (-13.87, 3.75, -7.42).\n",
      "0: Placed Cl- in mol at (10.93, -21.69, 19.13).\n",
      "0: Placed Cl- in mol at (29.93, 36.51, -8.15).\n",
      "0: Placed Cl- in mol at (3.38, -0.89, -11.83).\n",
      "0: Placed Cl- in mol at (17.21, -32.08, -28.80).\n",
      "0: Placed Cl- in mol at (3.07, 5.91, -44.26).\n",
      "0: Placed Cl- in mol at (33.24, -27.16, -20.44).\n",
      "0: Placed Cl- in mol at (-41.80, 22.21, -21.49).\n",
      "0: Placed Cl- in mol at (-3.12, 10.10, -40.30).\n",
      "0: Placed Cl- in mol at (-4.88, -4.73, -23.45).\n",
      "0: Placed Cl- in mol at (12.83, 21.55, -22.42).\n",
      "0: Placed Cl- in mol at (27.18, -9.67, 22.75).\n",
      "0: Placed Cl- in mol at (-8.29, 28.78, 27.41).\n",
      "0: Placed Cl- in mol at (20.35, 13.21, 20.47).\n",
      "0: Placed Cl- in mol at (18.20, -7.50, -24.98).\n",
      "0: Placed Cl- in mol at (-22.00, -26.26, 25.00).\n",
      "Adding 38 counter ions to \"mol\". 14180 solvent molecules will remain.\n",
      "0: Placed K+ in mol at (40.77, 28.85, 5.12).\n",
      "0: Placed K+ in mol at (-17.19, -32.36, 5.32).\n",
      "0: Placed K+ in mol at (8.87, -36.00, -23.63).\n",
      "0: Placed K+ in mol at (0.32, -3.29, -35.88).\n",
      "0: Placed K+ in mol at (-27.21, 28.71, -10.55).\n",
      "0: Placed K+ in mol at (-24.16, 23.25, -13.40).\n",
      "0: Placed K+ in mol at (-26.23, -17.82, -12.77).\n",
      "0: Placed K+ in mol at (-13.32, -7.40, 13.15).\n",
      "0: Placed K+ in mol at (-8.29, -40.20, 14.13).\n",
      "0: Placed K+ in mol at (-16.14, -44.09, -16.27).\n",
      "0: Placed K+ in mol at (40.95, -6.75, -7.70).\n",
      "0: Placed K+ in mol at (-16.37, -24.94, -23.82).\n",
      "0: Placed K+ in mol at (10.00, -37.55, 17.63).\n",
      "0: Placed K+ in mol at (20.71, -4.48, 43.96).\n",
      "0: Placed K+ in mol at (11.16, 35.04, 3.94).\n",
      "0: Placed K+ in mol at (-29.55, -26.67, -19.61).\n",
      "0: Placed K+ in mol at (28.32, 31.73, 20.14).\n",
      "0: Placed K+ in mol at (-17.91, -16.04, -26.11).\n",
      "0: Placed K+ in mol at (40.27, -22.60, 16.81).\n",
      "0: Placed K+ in mol at (31.96, -32.23, -17.42).\n",
      "0: Placed K+ in mol at (-19.50, 34.52, 20.62).\n",
      "0: Placed K+ in mol at (-9.48, -27.94, 12.70).\n",
      "0: Placed K+ in mol at (14.88, 4.05, 42.97).\n",
      "0: Placed K+ in mol at (-30.80, -24.69, 10.31).\n",
      "0: Placed K+ in mol at (13.69, 40.33, -16.85).\n",
      "0: Placed K+ in mol at (-4.20, 31.73, -6.42).\n",
      "0: Placed K+ in mol at (37.48, -3.59, 30.25).\n",
      "0: Placed K+ in mol at (17.01, 36.94, -4.35).\n",
      "0: Placed K+ in mol at (-31.16, 33.38, -13.85).\n",
      "0: Placed K+ in mol at (36.66, 4.08, 27.87).\n",
      "0: Placed K+ in mol at (10.12, -9.92, -2.84).\n",
      "0: Placed K+ in mol at (-15.58, -0.45, 1.41).\n",
      "0: Placed K+ in mol at (-27.74, 3.89, -32.07).\n",
      "0: Placed K+ in mol at (-1.13, 5.51, -16.94).\n",
      "0: Placed K+ in mol at (15.85, 8.65, 23.30).\n",
      "0: Placed K+ in mol at (-8.89, -5.64, 15.04).\n",
      "0: Placed K+ in mol at (-34.18, 29.28, -19.36).\n",
      "0: Placed K+ in mol at (-24.76, 0.39, 30.08).\n",
      "Box dimensions:  88.591700 101.454400 105.093400\n",
      "Writing pdb file: structure.ions.pdb\n",
      "   printing CRYST1 record to PDB file with box info\n",
      "Checking Unit.\n",
      "Building topology.\n",
      "Building atom parameters.\n",
      "Building bond parameters.\n",
      "Building angle parameters.\n",
      "Building proper torsion parameters.\n",
      "Building improper torsion parameters.\n",
      " total 285 improper torsions applied\n",
      "Building H-Bond parameters.\n",
      "Incorporating Non-Bonded adjustments.\n",
      "Not Marking per-residue atom chain types.\n",
      "Marking per-residue atom chain types.\n",
      "  (Residues lacking connect0/connect1 - \n",
      "   these don't have chain types marked:\n",
      "\n",
      "\tres\ttotal affected\n",
      "\n",
      "\tWAT\t14180\n",
      "  )\n",
      " (no restraints)\n",
      "\tQuit\n",
      "\n",
      "Exiting LEaP: Errors = 0; Warnings = 1; Notes = 0.\n",
      "\n"
     ]
    },
    {
     "name": "stderr",
     "output_type": "stream",
     "text": [
      "2021-02-19 15:54:08,911 [MainThread  ] [INFO ]  Fixing truncated octahedron Box in the topology and coordinates files\n",
      "2021-02-19 15:54:09,162 [MainThread  ] [INFO ]  Removed: e296e5f5-83ab-423c-aee5-002a94b2a978\n",
      "2021-02-19 15:54:09,169 [MainThread  ] [INFO ]  Removed: leap.log\n"
     ]
    },
    {
     "data": {
      "text/plain": [
       "0"
      ]
     },
     "execution_count": 13,
     "metadata": {},
     "output_type": "execute_result"
    }
   ],
   "source": [
    "# Import module\n",
    "from biobb_amber.leap.leap_add_ions import leap_add_ions\n",
    "\n",
    "# Create prop dict and inputs/outputs\n",
    "prop = {\n",
    "    \"forcefield\" : forcefield,\n",
    "    \"water_type\" : water_model,\n",
    "    \"ions_type\" : ions_model, \n",
    "    \"neutralise\" : True,\n",
    "    \"positive_ions_type\": \"K+\",\n",
    "    \"negative_ions_type\": \"Cl-\",\n",
    "    \"ionic_concentration\" : 150, # 150mM\n",
    "    \"box_type\": \"truncated_octahedron\",\n",
    "    \"remove_tmp\": True\n",
    "}\n",
    "output_ions_pdb_path = 'structure.ions.pdb'\n",
    "output_ions_top_path = 'structure.ions.parmtop'\n",
    "output_ions_crd_path = 'structure.ions.crd'\n",
    "\n",
    "# Create and launch bb\n",
    "leap_add_ions(input_pdb_path=output_solv_pdb_path,\n",
    "           input_params_path=ions_dang,\n",
    "           output_pdb_path=output_ions_pdb_path,\n",
    "           output_top_path=output_ions_top_path,\n",
    "           output_crd_path=output_ions_crd_path,\n",
    "           properties=prop)"
   ]
  },
  {
   "cell_type": "code",
   "execution_count": 14,
   "metadata": {},
   "outputs": [
    {
     "data": {
      "application/vnd.jupyter.widget-view+json": {
       "model_id": "426ba1ab9ee74b819241b50a5de420e6",
       "version_major": 2,
       "version_minor": 0
      },
      "text/plain": [
       "NGLWidget()"
      ]
     },
     "metadata": {},
     "output_type": "display_data"
    }
   ],
   "source": [
    "# Show protein\n",
    "view = nglview.show_structure_file(output_ions_pdb_path)\n",
    "view.clear_representations()\n",
    "view.add_representation(repr_type='ball+stick', selection='nucleic')\n",
    "view.add_representation(repr_type='spacefill', selection='Na+')\n",
    "view.add_representation(repr_type='spacefill', selection='K+')\n",
    "view.add_representation(repr_type='spacefill', selection='Cl-')\n",
    "view._remote_call('setSize', target='Widget', args=['','600px'])\n",
    "view"
   ]
  },
  {
   "cell_type": "markdown",
   "metadata": {},
   "source": [
    "<a id=\"random\"></a>\n",
    "## Randomize ions\n",
    "\n",
    "**Randomly swap** the positions of **solvent** and **ions** using the **cpptraj tool** from the **AMBER MD package**. <br/>\n",
    "***\n",
    "**Building Blocks** used:\n",
    " - [cpptraj_randomize_ions](https://biobb-amber.readthedocs.io/en/latest/cpptraj.html#module-cpptraj.cpptraj_randomize_ions) from **biobb_amber.cpptraj.cpptraj_randomize_ions**\n",
    "***\n"
   ]
  },
  {
   "cell_type": "code",
   "execution_count": 15,
   "metadata": {},
   "outputs": [
    {
     "name": "stderr",
     "output_type": "stream",
     "text": [
      "2021-02-19 15:56:36,230 [MainThread  ] [INFO ]  Creating a7cada99-c668-49b0-8160-b4981130f544 temporary folder\n",
      "2021-02-19 15:56:36,234 [MainThread  ] [INFO ]  Creating command line with instructions and required arguments\n",
      "2021-02-19 15:56:58,713 [MainThread  ] [INFO ]  cpptraj  structure.ions.parmtop -i a7cada99-c668-49b0-8160-b4981130f544/cpptraj.in\n",
      "\n",
      "2021-02-19 15:56:58,716 [MainThread  ] [INFO ]  Exit code 0\n",
      "\n",
      "2021-02-19 15:56:58,718 [MainThread  ] [INFO ]  \n",
      "CPPTRAJ: Trajectory Analysis. V4.25.6\n",
      "    ___  ___  ___  ___\n",
      "     | \\/ | \\/ | \\/ | \n",
      "    _|_/\\_|_/\\_|_/\\_|_\n",
      "\n",
      "| Date/time: 02/19/21 15:56:36\n",
      "| Available memory: 65.566 MB\n",
      "\n",
      "\tReading 'structure.ions.parmtop' as Amber Topology\n",
      "\tRadius Set: modified Bondi radii (mbondi)\n",
      "INPUT: Reading input from 'a7cada99-c668-49b0-8160-b4981130f544/cpptraj.in'\n",
      "  [trajin structure.ions.crd]\n",
      "\tReading 'structure.ions.crd' as Amber Restart\n",
      "  [randomizeions :K+,Cl-,Na+ around :DA,DC,DG,DT,D?3,D?5 by 5.0 overlap 3.5]\n",
      "    RANDOMIZEIONS: Swapping postions of ions in mask ':K+,Cl-,Na+' with solvent.\n",
      "\tNo ion can get closer than 3.50 angstroms to another ion.\n",
      "\tNo ion can get closer than 5.00 angstroms to atoms in mask ':DA,DC,DG,DT,D?3,D?5'\n",
      "Random_Number: seed is <= 0, using wallclock time as seed (133712)\n",
      "  [trajout structure.randIons.crd restart]\n",
      "\tWriting 'structure.randIons.crd' as Amber Restart\n",
      "  [trajout structure.randIons.pdb pdb]\n",
      "\tWriting 'structure.randIons.pdb' as PDB\n",
      "  [go]\n",
      "---------- RUN BEGIN -------------------------------------------------\n",
      "\n",
      "PARAMETER FILES (1 total):\n",
      " 0: structure.ions.parmtop, 43986 atoms, 14338 res, box: Trunc. Oct., 14298 mol, 14180 solvent\n",
      "\n",
      "INPUT TRAJECTORIES (1 total):\n",
      " 0: 'structure.ions.crd' is an AMBER restart file, no velocities, Parm structure.ions.parmtop (Trunc. Oct. box) (reading 1 of 1)\n",
      "  Coordinate processing will occur on 1 frames.\n",
      "\n",
      "OUTPUT TRAJECTORIES (2 total):\n",
      "  'structure.randIons.crd' (1 frames) is an AMBER restart file\n",
      "  'structure.randIons.pdb' (1 frames) is a PDB file\n",
      "\n",
      "BEGIN TRAJECTORY PROCESSING:\n",
      ".....................................................\n",
      "ACTION SETUP FOR PARM 'structure.ions.parmtop' (1 actions):\n",
      "  0: [randomizeions :K+,Cl-,Na+ around :DA,DC,DG,DT,D?3,D?5 by 5.0 overlap 3.5]\n",
      "\tIon mask is ':K+,Cl-,Na+' (116 atoms)\n",
      "\tAround mask is ':DA,DC,DG,DT,D?3,D?5' (1330 atoms)\n",
      "Warning: No PDB space group specified.\n",
      ".....................................................\n",
      "ACTIVE OUTPUT TRAJECTORIES (2):\n",
      "  structure.randIons.crd (coordinates, box)\n",
      "  structure.randIons.pdb (coordinates, box)\n",
      "----- structure.ions.crd (1-1, 1) -----\n",
      "100% Complete.\n",
      "\n",
      "Read 1 frames and processed 1 frames.\n",
      "TIME: Avg. throughput= 0.0453 frames / second.\n",
      "\n",
      "ACTION OUTPUT:\n",
      "TIME: Analyses took 0.0000 seconds.\n",
      "\n",
      "RUN TIMING:\n",
      "TIME:\t\tInit               : 0.0002 s (  0.00%)\n",
      "TIME:\t\tTrajectory Process : 22.0963 s ( 99.83%)\n",
      "TIME:\t\tAction Post        : 0.0000 s (  0.00%)\n",
      "TIME:\t\tAnalysis           : 0.0000 s (  0.00%)\n",
      "TIME:\t\tData File Write    : 0.0023 s (  0.01%)\n",
      "TIME:\t\tOther              : 0.0349 s (  0.00%)\n",
      "TIME:\tRun Total 22.1337 s\n",
      "---------- RUN END ---------------------------------------------------\n",
      "TIME: Total execution time: 22.3318 seconds.\n",
      "--------------------------------------------------------------------------------\n",
      "To cite CPPTRAJ use:\n",
      "Daniel R. Roe and Thomas E. Cheatham, III, \"PTRAJ and CPPTRAJ: Software for\n",
      "  Processing and Analysis of Molecular Dynamics Trajectory Data\". J. Chem.\n",
      "  Theory Comput., 2013, 9 (7), pp 3084-3095.\n",
      "\n",
      "\n",
      "2021-02-19 15:56:58,722 [MainThread  ] [INFO ]  Removed: a7cada99-c668-49b0-8160-b4981130f544\n",
      "2021-02-19 15:56:58,723 [MainThread  ] [INFO ]  Removed: cpptraj.log\n"
     ]
    },
    {
     "data": {
      "text/plain": [
       "0"
      ]
     },
     "execution_count": 15,
     "metadata": {},
     "output_type": "execute_result"
    }
   ],
   "source": [
    "# Import module\n",
    "from biobb_amber.cpptraj.cpptraj_randomize_ions import cpptraj_randomize_ions\n",
    "\n",
    "# Create prop dict and inputs/outputs\n",
    "prop = { \n",
    "    \"remove_tmp\": True\n",
    "}\n",
    "output_cpptraj_crd_path = 'structure.randIons.crd'\n",
    "output_cpptraj_pdb_path = 'structure.randIons.pdb'\n",
    "\n",
    "# Create and launch bb\n",
    "cpptraj_randomize_ions(\n",
    "            input_top_path=output_ions_top_path,\n",
    "            input_crd_path=output_ions_crd_path,\n",
    "            output_pdb_path=output_cpptraj_pdb_path,\n",
    "            output_crd_path=output_cpptraj_crd_path,\n",
    "            properties=prop)"
   ]
  },
  {
   "cell_type": "code",
   "execution_count": 16,
   "metadata": {},
   "outputs": [
    {
     "data": {
      "application/vnd.jupyter.widget-view+json": {
       "model_id": "feb3cc9501454f19af73a7df2b180752",
       "version_major": 2,
       "version_minor": 0
      },
      "text/plain": [
       "NGLWidget()"
      ]
     },
     "metadata": {},
     "output_type": "display_data"
    }
   ],
   "source": [
    "# Show protein\n",
    "view = nglview.show_structure_file(output_cpptraj_pdb_path)\n",
    "view.clear_representations()\n",
    "view.add_representation(repr_type='ball+stick', selection='nucleic')\n",
    "view.add_representation(repr_type='spacefill', selection='K+')\n",
    "view.add_representation(repr_type='spacefill', selection='Cl-')\n",
    "view.add_representation(repr_type='line', selection='water')\n",
    "view._remote_call('setSize', target='Widget', args=['','600px'])\n",
    "view"
   ]
  },
  {
   "cell_type": "markdown",
   "metadata": {},
   "source": [
    "<a id=\"mins\"></a>\n",
    "## Energetically minimize the system\n",
    "\n",
    "**Energetically minimize** the **DNA structure** (in solvent) using the **sander tool** from the **AMBER MD package**.\n",
    "***\n",
    "**Building Blocks** used:\n",
    " - [sander_mdrun](https://biobb-amber.readthedocs.io/en/latest/sander.html#module-sander.sander_mdrun) from **biobb_amber.sander.sander_mdrun**\n",
    " - [process_minout](https://biobb-amber.readthedocs.io/en/latest/process.html#module-process.process_minout) from **biobb_amber.process.process_minout**\n",
    "***"
   ]
  },
  {
   "cell_type": "code",
   "execution_count": 17,
   "metadata": {
    "scrolled": true
   },
   "outputs": [
    {
     "name": "stderr",
     "output_type": "stream",
     "text": [
      "2021-02-19 15:58:30,391 [MainThread  ] [INFO ]  Creating 9044d1f2-89e9-4ca9-9398-5edc4901262e temporary folder\n",
      "2021-02-19 15:58:30,392 [MainThread  ] [INFO ]  Creating command line with instructions and required arguments\n",
      "2021-02-19 16:03:47,245 [MainThread  ] [INFO ]  sander -O -i 9044d1f2-89e9-4ca9-9398-5edc4901262e/sander.mdin -p structure.ions.parmtop -c structure.randIons.crd -r sander.min.rst -o sander.min.log -x sander.min.x\n",
      "\n",
      "2021-02-19 16:03:47,250 [MainThread  ] [INFO ]  Exit code 0\n",
      "\n",
      "2021-02-19 16:03:47,254 [MainThread  ] [INFO ]  Removed: mdinfo, 9044d1f2-89e9-4ca9-9398-5edc4901262e\n"
     ]
    },
    {
     "data": {
      "text/plain": [
       "0"
      ]
     },
     "execution_count": 17,
     "metadata": {},
     "output_type": "execute_result"
    }
   ],
   "source": [
    "# Import module\n",
    "from biobb_amber.sander.sander_mdrun import sander_mdrun\n",
    "\n",
    "# Create prop dict and inputs/outputs\n",
    "prop = {\n",
    "    \"simulation_type\" : \"minimization\",\n",
    "    \"mdin\" : { \n",
    "        'maxcyc' : 500,\n",
    "        'ntpr' : 1,\n",
    "        'dt' : 0.0001\n",
    "    },\n",
    "    \"remove_tmp\": True\n",
    "}\n",
    "output_min_traj_path = 'sander.min.x'\n",
    "output_min_rst_path = 'sander.min.rst'\n",
    "output_min_log_path = 'sander.min.log'\n",
    "\n",
    "# Create and launch bb\n",
    "sander_mdrun(\n",
    "            input_top_path=output_ions_top_path,\n",
    "#            input_top_path=output_solv_top_path,\n",
    "            input_crd_path=output_cpptraj_crd_path,\n",
    "            output_traj_path=output_min_traj_path,\n",
    "            output_rst_path=output_min_rst_path,\n",
    "            output_log_path=output_min_log_path,\n",
    "            properties=prop)"
   ]
  },
  {
   "cell_type": "markdown",
   "metadata": {},
   "source": [
    "### Checking Energy Minimization results\n",
    "Checking **energy minimization** results. Plotting **potential energy** by time during the **minimization process**."
   ]
  },
  {
   "cell_type": "code",
   "execution_count": 18,
   "metadata": {},
   "outputs": [
    {
     "name": "stderr",
     "output_type": "stream",
     "text": [
      "2021-02-19 16:05:38,142 [MainThread  ] [INFO ]  Creating command line with instructions and required arguments\n",
      "2021-02-19 16:05:38,463 [MainThread  ] [INFO ]  process_minout.perl  sander.min.log\n",
      "\n",
      "2021-02-19 16:05:38,465 [MainThread  ] [INFO ]  Exit code 0\n",
      "\n",
      "2021-02-19 16:05:38,467 [MainThread  ] [INFO ]  Processing sander output file (sander.min.log)...\n",
      "Processing step 50 of a possible 500...\n",
      "Processing step 100 of a possible 500...\n",
      "Processing step 150 of a possible 500...\n",
      "Processing step 200 of a possible 500...\n",
      "Processing step 250 of a possible 500...\n",
      "Processing step 300 of a possible 500...\n",
      "Processing step 350 of a possible 500...\n",
      "Processing step 400 of a possible 500...\n",
      "Processing step 450 of a possible 500...\n",
      "Processing step 500 of a possible 500...\n",
      "Processing step 500 of a possible 500...\n",
      "Starting output...\n",
      "Outputing summary.NSTEP\n",
      "Outputing summary.ENERGY\n",
      "Outputing summary.RMS\n",
      "Outputing summary.GMAX\n",
      "Outputing summary.NAME\n",
      "Outputing summary.NUMBER\n",
      "Outputing summary.BOND\n",
      "Outputing summary.ANGLE\n",
      "Outputing summary.DIHEDRAL\n",
      "Outputing summary.VDWAALS\n",
      "Outputing summary.EEL\n",
      "Outputing summary.HBOND\n",
      "Outputing summary.VDW14\n",
      "Outputing summary.EEL14\n",
      "Outputing summary.RESTRAINT\n",
      "\n",
      "2021-02-19 16:05:38,475 [MainThread  ] [INFO ]  Removed: [PosixPath('summary.ANGLE'), PosixPath('summary.BOND'), PosixPath('summary.DIHEDRAL'), PosixPath('summary.EEL'), PosixPath('summary.EEL14'), PosixPath('summary.ENERGY'), PosixPath('summary.GMAX'), PosixPath('summary.HBOND'), PosixPath('summary.NAME'), PosixPath('summary.NSTEP'), PosixPath('summary.NUMBER'), PosixPath('summary.RESTRAINT'), PosixPath('summary.RMS'), PosixPath('summary.VDW14'), PosixPath('summary.VDWAALS')]\n"
     ]
    },
    {
     "data": {
      "text/plain": [
       "0"
      ]
     },
     "execution_count": 18,
     "metadata": {},
     "output_type": "execute_result"
    }
   ],
   "source": [
    "# Import module\n",
    "from biobb_amber.process.process_minout import process_minout\n",
    "\n",
    "# Create prop dict and inputs/outputs\n",
    "prop = {\n",
    "    #\"terms\" : ['ENERGY','RMS'],\n",
    "    \"terms\" : ['ENERGY'],\n",
    "    \"remove_tmp\": True\n",
    "}\n",
    "output_dat_path = 'sander.min.energy.dat'\n",
    "\n",
    "# Create and launch bb\n",
    "process_minout(input_log_path=output_min_log_path,\n",
    "            output_dat_path=output_dat_path,\n",
    "            properties=prop)"
   ]
  },
  {
   "cell_type": "code",
   "execution_count": 19,
   "metadata": {},
   "outputs": [
    {
     "data": {
      "text/html": [
       "        <script type=\"text/javascript\">\n",
       "        window.PlotlyConfig = {MathJaxConfig: 'local'};\n",
       "        if (window.MathJax) {MathJax.Hub.Config({SVG: {font: \"STIX-Web\"}});}\n",
       "        if (typeof require !== 'undefined') {\n",
       "        require.undef(\"plotly\");\n",
       "        requirejs.config({\n",
       "            paths: {\n",
       "                'plotly': ['https://cdn.plot.ly/plotly-latest.min']\n",
       "            }\n",
       "        });\n",
       "        require(['plotly'], function(Plotly) {\n",
       "            window._Plotly = Plotly;\n",
       "        });\n",
       "        }\n",
       "        </script>\n",
       "        "
      ]
     },
     "metadata": {},
     "output_type": "display_data"
    },
    {
     "data": {
      "application/vnd.plotly.v1+json": {
       "config": {
        "linkText": "Export to plot.ly",
        "plotlyServerURL": "https://plot.ly",
        "showLink": false
       },
       "data": [
        {
         "type": "scatter",
         "x": [
          14,
          15,
          16,
          17,
          18,
          19,
          20,
          21,
          22,
          23,
          24,
          25,
          26,
          27,
          28,
          29,
          30,
          31,
          32,
          33,
          34,
          35,
          36,
          37,
          38,
          39,
          40,
          41,
          42,
          43,
          44,
          45,
          46,
          47,
          48,
          49,
          50,
          51,
          52,
          53,
          54,
          55,
          56,
          57,
          58,
          59,
          60,
          61,
          62,
          63,
          64,
          65,
          66,
          67,
          68,
          69,
          70,
          71,
          72,
          73,
          74,
          75,
          76,
          77,
          78,
          79,
          80,
          81,
          82,
          83,
          84,
          85,
          86,
          87,
          88,
          89,
          90,
          91,
          92,
          93,
          94,
          95,
          96,
          97,
          98,
          99,
          100,
          101,
          102,
          103,
          104,
          105,
          106,
          107,
          108,
          109,
          110,
          111,
          112,
          113,
          114,
          115,
          116,
          117,
          118,
          119,
          120,
          121,
          122,
          123,
          124,
          125,
          126,
          127,
          128,
          129,
          130,
          131,
          132,
          133,
          134,
          135,
          136,
          137,
          138,
          139,
          140,
          141,
          142,
          143,
          144,
          145,
          146,
          147,
          148,
          149,
          150,
          151,
          152,
          153,
          154,
          155,
          156,
          157,
          158,
          159,
          160,
          161,
          162,
          163,
          164,
          165,
          166,
          167,
          168,
          169,
          170,
          171,
          172,
          173,
          174,
          175,
          176,
          177,
          178,
          179,
          180,
          181,
          182,
          183,
          184,
          185,
          186,
          187,
          188,
          189,
          190,
          191,
          192,
          193,
          194,
          195,
          196,
          197,
          198,
          199,
          200,
          201,
          202,
          203,
          204,
          205,
          206,
          207,
          208,
          209,
          210,
          211,
          212,
          213,
          214,
          215,
          216,
          217,
          218,
          219,
          220,
          221,
          222,
          223,
          224,
          225,
          226,
          227,
          228,
          229,
          230,
          231,
          232,
          233,
          234,
          235,
          236,
          237,
          238,
          239,
          240,
          241,
          242,
          243,
          244,
          245,
          246,
          247,
          248,
          249,
          250,
          251,
          252,
          253,
          254,
          255,
          256,
          257,
          258,
          259,
          260,
          261,
          262,
          263,
          264,
          265,
          266,
          267,
          268,
          269,
          270,
          271,
          272,
          273,
          274,
          275,
          276,
          277,
          278,
          279,
          280,
          281,
          282,
          283,
          284,
          285,
          286,
          287,
          288,
          289,
          290,
          291,
          292,
          293,
          294,
          295,
          296,
          297,
          298,
          299,
          300,
          301,
          302,
          303,
          304,
          305,
          306,
          307,
          308,
          309,
          310,
          311,
          312,
          313,
          314,
          315,
          316,
          317,
          318,
          319,
          320,
          321,
          322,
          323,
          324,
          325,
          326,
          327,
          328,
          329,
          330,
          331,
          332,
          333,
          334,
          335,
          336,
          337,
          338,
          339,
          340,
          341,
          342,
          343,
          344,
          345,
          346,
          347,
          348,
          349,
          350,
          351,
          352,
          353,
          354,
          355,
          356,
          357,
          358,
          359,
          360,
          361,
          362,
          363,
          364,
          365,
          366,
          367,
          368,
          369,
          370,
          371,
          372,
          373,
          374,
          375,
          376,
          377,
          378,
          379,
          380,
          381,
          382,
          383,
          384,
          385,
          386,
          387,
          388,
          389,
          390,
          391,
          392,
          393,
          394,
          395,
          396,
          397,
          398,
          399,
          400,
          401,
          402,
          403,
          404,
          405,
          406,
          407,
          408,
          409,
          410,
          411,
          412,
          413,
          414,
          415,
          416,
          417,
          418,
          419,
          420,
          421,
          422,
          423,
          424,
          425,
          426,
          427,
          428,
          429,
          430,
          431,
          432,
          433,
          434,
          435,
          436,
          437,
          438,
          439,
          440,
          441,
          442,
          443,
          444,
          445,
          446,
          447,
          448,
          449,
          450,
          451,
          452,
          453,
          454,
          455,
          456,
          457,
          458,
          459,
          460,
          461,
          462,
          463,
          464,
          465,
          466,
          467,
          468,
          469,
          470,
          471,
          472,
          473,
          474,
          475,
          476,
          477,
          478,
          479,
          480,
          481,
          482,
          483,
          484,
          485,
          486,
          487,
          488,
          489,
          490,
          491,
          492,
          493,
          494,
          495,
          496,
          497,
          498,
          499,
          500
         ],
         "y": [
          -24983,
          -78645,
          -33261,
          -111500,
          -120170,
          -133170,
          -139250,
          -145110,
          -146010,
          -149480,
          -149920,
          -154670,
          -154670,
          -154670,
          -154680,
          -154680,
          -154680,
          -155150,
          -156370,
          -158560,
          -160530,
          -163920,
          -164070,
          -168320,
          -169050,
          -168990,
          -170850,
          -172440,
          -172810,
          -174220,
          -174230,
          -174330,
          -175190,
          -176510,
          -176850,
          -178720,
          -178720,
          -178720,
          -178730,
          -178730,
          -178730,
          -178730,
          -178900,
          -179340,
          -179810,
          -180600,
          -181850,
          -181860,
          -183280,
          -183300,
          -183350,
          -183710,
          -184010,
          -184290,
          -184950,
          -184960,
          -185900,
          -186040,
          -187010,
          -187020,
          -187710,
          -187740,
          -187740,
          -187740,
          -187740,
          -187750,
          -187750,
          -187860,
          -188170,
          -188620,
          -188690,
          -189320,
          -189360,
          -190080,
          -190080,
          -190400,
          -190450,
          -190650,
          -190650,
          -190960,
          -191080,
          -191360,
          -191380,
          -191650,
          -191650,
          -192000,
          -192030,
          -192030,
          -192030,
          -192030,
          -192040,
          -192040,
          -192110,
          -192310,
          -192540,
          -192560,
          -192740,
          -192740,
          -192960,
          -192960,
          -193040,
          -193070,
          -193250,
          -193380,
          -193880,
          -194250,
          -195100,
          -195100,
          -195620,
          -195730,
          -196340,
          -196470,
          -196470,
          -196480,
          -196480,
          -196480,
          -196480,
          -196590,
          -196840,
          -197030,
          -197060,
          -197350,
          -197370,
          -197580,
          -197600,
          -197770,
          -197780,
          -197890,
          -197890,
          -198050,
          -198100,
          -198330,
          -198330,
          -198470,
          -198480,
          -198700,
          -198750,
          -198760,
          -198760,
          -198760,
          -198760,
          -198760,
          -198820,
          -198910,
          -199020,
          -199040,
          -199170,
          -199200,
          -199380,
          -199380,
          -199510,
          -199520,
          -199630,
          -199640,
          -199800,
          -199820,
          -200000,
          -200000,
          -200150,
          -200150,
          -200330,
          -200330,
          -200330,
          -200340,
          -200340,
          -200340,
          -200340,
          -200390,
          -200480,
          -200590,
          -200620,
          -200740,
          -200740,
          -200860,
          -200860,
          -200930,
          -200930,
          -201040,
          -201080,
          -201270,
          -201290,
          -201430,
          -201450,
          -201570,
          -201580,
          -201740,
          -201750,
          -201750,
          -201750,
          -201750,
          -201750,
          -201750,
          -201790,
          -201870,
          -201970,
          -201990,
          -202100,
          -202110,
          -202260,
          -202260,
          -202370,
          -202380,
          -202460,
          -202460,
          -202570,
          -202590,
          -202690,
          -202700,
          -202800,
          -202800,
          -202900,
          -202900,
          -202900,
          -202900,
          -202900,
          -202900,
          -202910,
          -202940,
          -202990,
          -203060,
          -203080,
          -203170,
          -203170,
          -203270,
          -203270,
          -203330,
          -203330,
          -203430,
          -203450,
          -203600,
          -203610,
          -203710,
          -203720,
          -203820,
          -203830,
          -203960,
          -203960,
          -203960,
          -203960,
          -203960,
          -203960,
          -203960,
          -204000,
          -204070,
          -204150,
          -204170,
          -204260,
          -204260,
          -204370,
          -204370,
          -204460,
          -204460,
          -204530,
          -204530,
          -204620,
          -204630,
          -204720,
          -204720,
          -204800,
          -204800,
          -204870,
          -204870,
          -204870,
          -204870,
          -204870,
          -204870,
          -204870,
          -204900,
          -204940,
          -204990,
          -205010,
          -205080,
          -205080,
          -205160,
          -205160,
          -205220,
          -205220,
          -205300,
          -205320,
          -205420,
          -205420,
          -205510,
          -205510,
          -205600,
          -205600,
          -205710,
          -205710,
          -205710,
          -205710,
          -205710,
          -205710,
          -205710,
          -205750,
          -205810,
          -205870,
          -205890,
          -205960,
          -205960,
          -206040,
          -206040,
          -206110,
          -206110,
          -206170,
          -206170,
          -206250,
          -206250,
          -206330,
          -206330,
          -206390,
          -206390,
          -206450,
          -206450,
          -206450,
          -206450,
          -206450,
          -206450,
          -206450,
          -206480,
          -206500,
          -206540,
          -206560,
          -206630,
          -206630,
          -206690,
          -206690,
          -206740,
          -206740,
          -206810,
          -206820,
          -206900,
          -206900,
          -206970,
          -206970,
          -207040,
          -207040,
          -207130,
          -207140,
          -207140,
          -207140,
          -207140,
          -207140,
          -207140,
          -207170,
          -207220,
          -207280,
          -207290,
          -207350,
          -207350,
          -207410,
          -207410,
          -207470,
          -207470,
          -207520,
          -207520,
          -207580,
          -207590,
          -207650,
          -207650,
          -207700,
          -207700,
          -207750,
          -207750,
          -207750,
          -207750,
          -207750,
          -207750,
          -207760,
          -207780,
          -207800,
          -207830,
          -207850,
          -207900,
          -207900,
          -207960,
          -207960,
          -208000,
          -208000,
          -208060,
          -208070,
          -208120,
          -208130,
          -208170,
          -208180,
          -208240,
          -208240,
          -208320,
          -208330,
          -208330,
          -208330,
          -208330,
          -208330,
          -208330,
          -208360,
          -208410,
          -208460,
          -208470,
          -208510,
          -208520,
          -208570,
          -208570,
          -208620,
          -208620,
          -208660,
          -208660,
          -208710,
          -208710,
          -208770,
          -208770,
          -208810,
          -208810,
          -208850,
          -208850,
          -208850,
          -208850,
          -208850,
          -208850,
          -208850,
          -208870,
          -208890,
          -208910,
          -208930,
          -208980,
          -208980,
          -209020,
          -209020,
          -209060,
          -209060,
          -209110,
          -209120,
          -209160,
          -209170,
          -209200,
          -209210,
          -209260,
          -209270,
          -209350,
          -209350,
          -209350,
          -209350,
          -209350,
          -209360,
          -209360,
          -209380,
          -209430,
          -209480,
          -209490,
          -209520,
          -209520,
          -209560,
          -209560,
          -209610,
          -209610,
          -209650,
          -209650,
          -209690,
          -209690,
          -209740,
          -209740,
          -209780,
          -209780,
          -209800,
          -209810,
          -209820,
          -209820,
          -209820,
          -209820,
          -209820,
          -209840,
          -209850,
          -209870,
          -209890,
          -209930,
          -209930,
          -209970,
          -209970,
          -210000,
          -210000,
          -210040,
          -210050,
          -210080,
          -210090,
          -210120,
          -210120,
          -210170,
          -210190,
          -210270,
          -210280
         ]
        }
       ],
       "layout": {
        "template": {
         "data": {
          "bar": [
           {
            "error_x": {
             "color": "#2a3f5f"
            },
            "error_y": {
             "color": "#2a3f5f"
            },
            "marker": {
             "line": {
              "color": "#E5ECF6",
              "width": 0.5
             }
            },
            "type": "bar"
           }
          ],
          "barpolar": [
           {
            "marker": {
             "line": {
              "color": "#E5ECF6",
              "width": 0.5
             }
            },
            "type": "barpolar"
           }
          ],
          "carpet": [
           {
            "aaxis": {
             "endlinecolor": "#2a3f5f",
             "gridcolor": "white",
             "linecolor": "white",
             "minorgridcolor": "white",
             "startlinecolor": "#2a3f5f"
            },
            "baxis": {
             "endlinecolor": "#2a3f5f",
             "gridcolor": "white",
             "linecolor": "white",
             "minorgridcolor": "white",
             "startlinecolor": "#2a3f5f"
            },
            "type": "carpet"
           }
          ],
          "choropleth": [
           {
            "colorbar": {
             "outlinewidth": 0,
             "ticks": ""
            },
            "type": "choropleth"
           }
          ],
          "contour": [
           {
            "colorbar": {
             "outlinewidth": 0,
             "ticks": ""
            },
            "colorscale": [
             [
              0,
              "#0d0887"
             ],
             [
              0.1111111111111111,
              "#46039f"
             ],
             [
              0.2222222222222222,
              "#7201a8"
             ],
             [
              0.3333333333333333,
              "#9c179e"
             ],
             [
              0.4444444444444444,
              "#bd3786"
             ],
             [
              0.5555555555555556,
              "#d8576b"
             ],
             [
              0.6666666666666666,
              "#ed7953"
             ],
             [
              0.7777777777777778,
              "#fb9f3a"
             ],
             [
              0.8888888888888888,
              "#fdca26"
             ],
             [
              1,
              "#f0f921"
             ]
            ],
            "type": "contour"
           }
          ],
          "contourcarpet": [
           {
            "colorbar": {
             "outlinewidth": 0,
             "ticks": ""
            },
            "type": "contourcarpet"
           }
          ],
          "heatmap": [
           {
            "colorbar": {
             "outlinewidth": 0,
             "ticks": ""
            },
            "colorscale": [
             [
              0,
              "#0d0887"
             ],
             [
              0.1111111111111111,
              "#46039f"
             ],
             [
              0.2222222222222222,
              "#7201a8"
             ],
             [
              0.3333333333333333,
              "#9c179e"
             ],
             [
              0.4444444444444444,
              "#bd3786"
             ],
             [
              0.5555555555555556,
              "#d8576b"
             ],
             [
              0.6666666666666666,
              "#ed7953"
             ],
             [
              0.7777777777777778,
              "#fb9f3a"
             ],
             [
              0.8888888888888888,
              "#fdca26"
             ],
             [
              1,
              "#f0f921"
             ]
            ],
            "type": "heatmap"
           }
          ],
          "heatmapgl": [
           {
            "colorbar": {
             "outlinewidth": 0,
             "ticks": ""
            },
            "colorscale": [
             [
              0,
              "#0d0887"
             ],
             [
              0.1111111111111111,
              "#46039f"
             ],
             [
              0.2222222222222222,
              "#7201a8"
             ],
             [
              0.3333333333333333,
              "#9c179e"
             ],
             [
              0.4444444444444444,
              "#bd3786"
             ],
             [
              0.5555555555555556,
              "#d8576b"
             ],
             [
              0.6666666666666666,
              "#ed7953"
             ],
             [
              0.7777777777777778,
              "#fb9f3a"
             ],
             [
              0.8888888888888888,
              "#fdca26"
             ],
             [
              1,
              "#f0f921"
             ]
            ],
            "type": "heatmapgl"
           }
          ],
          "histogram": [
           {
            "marker": {
             "colorbar": {
              "outlinewidth": 0,
              "ticks": ""
             }
            },
            "type": "histogram"
           }
          ],
          "histogram2d": [
           {
            "colorbar": {
             "outlinewidth": 0,
             "ticks": ""
            },
            "colorscale": [
             [
              0,
              "#0d0887"
             ],
             [
              0.1111111111111111,
              "#46039f"
             ],
             [
              0.2222222222222222,
              "#7201a8"
             ],
             [
              0.3333333333333333,
              "#9c179e"
             ],
             [
              0.4444444444444444,
              "#bd3786"
             ],
             [
              0.5555555555555556,
              "#d8576b"
             ],
             [
              0.6666666666666666,
              "#ed7953"
             ],
             [
              0.7777777777777778,
              "#fb9f3a"
             ],
             [
              0.8888888888888888,
              "#fdca26"
             ],
             [
              1,
              "#f0f921"
             ]
            ],
            "type": "histogram2d"
           }
          ],
          "histogram2dcontour": [
           {
            "colorbar": {
             "outlinewidth": 0,
             "ticks": ""
            },
            "colorscale": [
             [
              0,
              "#0d0887"
             ],
             [
              0.1111111111111111,
              "#46039f"
             ],
             [
              0.2222222222222222,
              "#7201a8"
             ],
             [
              0.3333333333333333,
              "#9c179e"
             ],
             [
              0.4444444444444444,
              "#bd3786"
             ],
             [
              0.5555555555555556,
              "#d8576b"
             ],
             [
              0.6666666666666666,
              "#ed7953"
             ],
             [
              0.7777777777777778,
              "#fb9f3a"
             ],
             [
              0.8888888888888888,
              "#fdca26"
             ],
             [
              1,
              "#f0f921"
             ]
            ],
            "type": "histogram2dcontour"
           }
          ],
          "mesh3d": [
           {
            "colorbar": {
             "outlinewidth": 0,
             "ticks": ""
            },
            "type": "mesh3d"
           }
          ],
          "parcoords": [
           {
            "line": {
             "colorbar": {
              "outlinewidth": 0,
              "ticks": ""
             }
            },
            "type": "parcoords"
           }
          ],
          "pie": [
           {
            "automargin": true,
            "type": "pie"
           }
          ],
          "scatter": [
           {
            "marker": {
             "colorbar": {
              "outlinewidth": 0,
              "ticks": ""
             }
            },
            "type": "scatter"
           }
          ],
          "scatter3d": [
           {
            "line": {
             "colorbar": {
              "outlinewidth": 0,
              "ticks": ""
             }
            },
            "marker": {
             "colorbar": {
              "outlinewidth": 0,
              "ticks": ""
             }
            },
            "type": "scatter3d"
           }
          ],
          "scattercarpet": [
           {
            "marker": {
             "colorbar": {
              "outlinewidth": 0,
              "ticks": ""
             }
            },
            "type": "scattercarpet"
           }
          ],
          "scattergeo": [
           {
            "marker": {
             "colorbar": {
              "outlinewidth": 0,
              "ticks": ""
             }
            },
            "type": "scattergeo"
           }
          ],
          "scattergl": [
           {
            "marker": {
             "colorbar": {
              "outlinewidth": 0,
              "ticks": ""
             }
            },
            "type": "scattergl"
           }
          ],
          "scattermapbox": [
           {
            "marker": {
             "colorbar": {
              "outlinewidth": 0,
              "ticks": ""
             }
            },
            "type": "scattermapbox"
           }
          ],
          "scatterpolar": [
           {
            "marker": {
             "colorbar": {
              "outlinewidth": 0,
              "ticks": ""
             }
            },
            "type": "scatterpolar"
           }
          ],
          "scatterpolargl": [
           {
            "marker": {
             "colorbar": {
              "outlinewidth": 0,
              "ticks": ""
             }
            },
            "type": "scatterpolargl"
           }
          ],
          "scatterternary": [
           {
            "marker": {
             "colorbar": {
              "outlinewidth": 0,
              "ticks": ""
             }
            },
            "type": "scatterternary"
           }
          ],
          "surface": [
           {
            "colorbar": {
             "outlinewidth": 0,
             "ticks": ""
            },
            "colorscale": [
             [
              0,
              "#0d0887"
             ],
             [
              0.1111111111111111,
              "#46039f"
             ],
             [
              0.2222222222222222,
              "#7201a8"
             ],
             [
              0.3333333333333333,
              "#9c179e"
             ],
             [
              0.4444444444444444,
              "#bd3786"
             ],
             [
              0.5555555555555556,
              "#d8576b"
             ],
             [
              0.6666666666666666,
              "#ed7953"
             ],
             [
              0.7777777777777778,
              "#fb9f3a"
             ],
             [
              0.8888888888888888,
              "#fdca26"
             ],
             [
              1,
              "#f0f921"
             ]
            ],
            "type": "surface"
           }
          ],
          "table": [
           {
            "cells": {
             "fill": {
              "color": "#EBF0F8"
             },
             "line": {
              "color": "white"
             }
            },
            "header": {
             "fill": {
              "color": "#C8D4E3"
             },
             "line": {
              "color": "white"
             }
            },
            "type": "table"
           }
          ]
         },
         "layout": {
          "annotationdefaults": {
           "arrowcolor": "#2a3f5f",
           "arrowhead": 0,
           "arrowwidth": 1
          },
          "autotypenumbers": "strict",
          "coloraxis": {
           "colorbar": {
            "outlinewidth": 0,
            "ticks": ""
           }
          },
          "colorscale": {
           "diverging": [
            [
             0,
             "#8e0152"
            ],
            [
             0.1,
             "#c51b7d"
            ],
            [
             0.2,
             "#de77ae"
            ],
            [
             0.3,
             "#f1b6da"
            ],
            [
             0.4,
             "#fde0ef"
            ],
            [
             0.5,
             "#f7f7f7"
            ],
            [
             0.6,
             "#e6f5d0"
            ],
            [
             0.7,
             "#b8e186"
            ],
            [
             0.8,
             "#7fbc41"
            ],
            [
             0.9,
             "#4d9221"
            ],
            [
             1,
             "#276419"
            ]
           ],
           "sequential": [
            [
             0,
             "#0d0887"
            ],
            [
             0.1111111111111111,
             "#46039f"
            ],
            [
             0.2222222222222222,
             "#7201a8"
            ],
            [
             0.3333333333333333,
             "#9c179e"
            ],
            [
             0.4444444444444444,
             "#bd3786"
            ],
            [
             0.5555555555555556,
             "#d8576b"
            ],
            [
             0.6666666666666666,
             "#ed7953"
            ],
            [
             0.7777777777777778,
             "#fb9f3a"
            ],
            [
             0.8888888888888888,
             "#fdca26"
            ],
            [
             1,
             "#f0f921"
            ]
           ],
           "sequentialminus": [
            [
             0,
             "#0d0887"
            ],
            [
             0.1111111111111111,
             "#46039f"
            ],
            [
             0.2222222222222222,
             "#7201a8"
            ],
            [
             0.3333333333333333,
             "#9c179e"
            ],
            [
             0.4444444444444444,
             "#bd3786"
            ],
            [
             0.5555555555555556,
             "#d8576b"
            ],
            [
             0.6666666666666666,
             "#ed7953"
            ],
            [
             0.7777777777777778,
             "#fb9f3a"
            ],
            [
             0.8888888888888888,
             "#fdca26"
            ],
            [
             1,
             "#f0f921"
            ]
           ]
          },
          "colorway": [
           "#636efa",
           "#EF553B",
           "#00cc96",
           "#ab63fa",
           "#FFA15A",
           "#19d3f3",
           "#FF6692",
           "#B6E880",
           "#FF97FF",
           "#FECB52"
          ],
          "font": {
           "color": "#2a3f5f"
          },
          "geo": {
           "bgcolor": "white",
           "lakecolor": "white",
           "landcolor": "#E5ECF6",
           "showlakes": true,
           "showland": true,
           "subunitcolor": "white"
          },
          "hoverlabel": {
           "align": "left"
          },
          "hovermode": "closest",
          "mapbox": {
           "style": "light"
          },
          "paper_bgcolor": "white",
          "plot_bgcolor": "#E5ECF6",
          "polar": {
           "angularaxis": {
            "gridcolor": "white",
            "linecolor": "white",
            "ticks": ""
           },
           "bgcolor": "#E5ECF6",
           "radialaxis": {
            "gridcolor": "white",
            "linecolor": "white",
            "ticks": ""
           }
          },
          "scene": {
           "xaxis": {
            "backgroundcolor": "#E5ECF6",
            "gridcolor": "white",
            "gridwidth": 2,
            "linecolor": "white",
            "showbackground": true,
            "ticks": "",
            "zerolinecolor": "white"
           },
           "yaxis": {
            "backgroundcolor": "#E5ECF6",
            "gridcolor": "white",
            "gridwidth": 2,
            "linecolor": "white",
            "showbackground": true,
            "ticks": "",
            "zerolinecolor": "white"
           },
           "zaxis": {
            "backgroundcolor": "#E5ECF6",
            "gridcolor": "white",
            "gridwidth": 2,
            "linecolor": "white",
            "showbackground": true,
            "ticks": "",
            "zerolinecolor": "white"
           }
          },
          "shapedefaults": {
           "line": {
            "color": "#2a3f5f"
           }
          },
          "ternary": {
           "aaxis": {
            "gridcolor": "white",
            "linecolor": "white",
            "ticks": ""
           },
           "baxis": {
            "gridcolor": "white",
            "linecolor": "white",
            "ticks": ""
           },
           "bgcolor": "#E5ECF6",
           "caxis": {
            "gridcolor": "white",
            "linecolor": "white",
            "ticks": ""
           }
          },
          "title": {
           "x": 0.05
          },
          "xaxis": {
           "automargin": true,
           "gridcolor": "white",
           "linecolor": "white",
           "ticks": "",
           "title": {
            "standoff": 15
           },
           "zerolinecolor": "white",
           "zerolinewidth": 2
          },
          "yaxis": {
           "automargin": true,
           "gridcolor": "white",
           "linecolor": "white",
           "ticks": "",
           "title": {
            "standoff": 15
           },
           "zerolinecolor": "white",
           "zerolinewidth": 2
          }
         }
        },
        "title": {
         "text": "Energy Minimization"
        },
        "xaxis": {
         "title": {
          "text": "Energy Minimization Step"
         }
        },
        "yaxis": {
         "title": {
          "text": "Potential Energy kcal/mol"
         }
        }
       }
      },
      "text/html": [
       "<div>                            <div id=\"b7df1761-d4b2-4403-a4b5-b312c4ca793e\" class=\"plotly-graph-div\" style=\"height:525px; width:100%;\"></div>            <script type=\"text/javascript\">                require([\"plotly\"], function(Plotly) {                    window.PLOTLYENV=window.PLOTLYENV || {};                                    if (document.getElementById(\"b7df1761-d4b2-4403-a4b5-b312c4ca793e\")) {                    Plotly.newPlot(                        \"b7df1761-d4b2-4403-a4b5-b312c4ca793e\",                        [{\"type\": \"scatter\", \"x\": [14.0, 15.0, 16.0, 17.0, 18.0, 19.0, 20.0, 21.0, 22.0, 23.0, 24.0, 25.0, 26.0, 27.0, 28.0, 29.0, 30.0, 31.0, 32.0, 33.0, 34.0, 35.0, 36.0, 37.0, 38.0, 39.0, 40.0, 41.0, 42.0, 43.0, 44.0, 45.0, 46.0, 47.0, 48.0, 49.0, 50.0, 51.0, 52.0, 53.0, 54.0, 55.0, 56.0, 57.0, 58.0, 59.0, 60.0, 61.0, 62.0, 63.0, 64.0, 65.0, 66.0, 67.0, 68.0, 69.0, 70.0, 71.0, 72.0, 73.0, 74.0, 75.0, 76.0, 77.0, 78.0, 79.0, 80.0, 81.0, 82.0, 83.0, 84.0, 85.0, 86.0, 87.0, 88.0, 89.0, 90.0, 91.0, 92.0, 93.0, 94.0, 95.0, 96.0, 97.0, 98.0, 99.0, 100.0, 101.0, 102.0, 103.0, 104.0, 105.0, 106.0, 107.0, 108.0, 109.0, 110.0, 111.0, 112.0, 113.0, 114.0, 115.0, 116.0, 117.0, 118.0, 119.0, 120.0, 121.0, 122.0, 123.0, 124.0, 125.0, 126.0, 127.0, 128.0, 129.0, 130.0, 131.0, 132.0, 133.0, 134.0, 135.0, 136.0, 137.0, 138.0, 139.0, 140.0, 141.0, 142.0, 143.0, 144.0, 145.0, 146.0, 147.0, 148.0, 149.0, 150.0, 151.0, 152.0, 153.0, 154.0, 155.0, 156.0, 157.0, 158.0, 159.0, 160.0, 161.0, 162.0, 163.0, 164.0, 165.0, 166.0, 167.0, 168.0, 169.0, 170.0, 171.0, 172.0, 173.0, 174.0, 175.0, 176.0, 177.0, 178.0, 179.0, 180.0, 181.0, 182.0, 183.0, 184.0, 185.0, 186.0, 187.0, 188.0, 189.0, 190.0, 191.0, 192.0, 193.0, 194.0, 195.0, 196.0, 197.0, 198.0, 199.0, 200.0, 201.0, 202.0, 203.0, 204.0, 205.0, 206.0, 207.0, 208.0, 209.0, 210.0, 211.0, 212.0, 213.0, 214.0, 215.0, 216.0, 217.0, 218.0, 219.0, 220.0, 221.0, 222.0, 223.0, 224.0, 225.0, 226.0, 227.0, 228.0, 229.0, 230.0, 231.0, 232.0, 233.0, 234.0, 235.0, 236.0, 237.0, 238.0, 239.0, 240.0, 241.0, 242.0, 243.0, 244.0, 245.0, 246.0, 247.0, 248.0, 249.0, 250.0, 251.0, 252.0, 253.0, 254.0, 255.0, 256.0, 257.0, 258.0, 259.0, 260.0, 261.0, 262.0, 263.0, 264.0, 265.0, 266.0, 267.0, 268.0, 269.0, 270.0, 271.0, 272.0, 273.0, 274.0, 275.0, 276.0, 277.0, 278.0, 279.0, 280.0, 281.0, 282.0, 283.0, 284.0, 285.0, 286.0, 287.0, 288.0, 289.0, 290.0, 291.0, 292.0, 293.0, 294.0, 295.0, 296.0, 297.0, 298.0, 299.0, 300.0, 301.0, 302.0, 303.0, 304.0, 305.0, 306.0, 307.0, 308.0, 309.0, 310.0, 311.0, 312.0, 313.0, 314.0, 315.0, 316.0, 317.0, 318.0, 319.0, 320.0, 321.0, 322.0, 323.0, 324.0, 325.0, 326.0, 327.0, 328.0, 329.0, 330.0, 331.0, 332.0, 333.0, 334.0, 335.0, 336.0, 337.0, 338.0, 339.0, 340.0, 341.0, 342.0, 343.0, 344.0, 345.0, 346.0, 347.0, 348.0, 349.0, 350.0, 351.0, 352.0, 353.0, 354.0, 355.0, 356.0, 357.0, 358.0, 359.0, 360.0, 361.0, 362.0, 363.0, 364.0, 365.0, 366.0, 367.0, 368.0, 369.0, 370.0, 371.0, 372.0, 373.0, 374.0, 375.0, 376.0, 377.0, 378.0, 379.0, 380.0, 381.0, 382.0, 383.0, 384.0, 385.0, 386.0, 387.0, 388.0, 389.0, 390.0, 391.0, 392.0, 393.0, 394.0, 395.0, 396.0, 397.0, 398.0, 399.0, 400.0, 401.0, 402.0, 403.0, 404.0, 405.0, 406.0, 407.0, 408.0, 409.0, 410.0, 411.0, 412.0, 413.0, 414.0, 415.0, 416.0, 417.0, 418.0, 419.0, 420.0, 421.0, 422.0, 423.0, 424.0, 425.0, 426.0, 427.0, 428.0, 429.0, 430.0, 431.0, 432.0, 433.0, 434.0, 435.0, 436.0, 437.0, 438.0, 439.0, 440.0, 441.0, 442.0, 443.0, 444.0, 445.0, 446.0, 447.0, 448.0, 449.0, 450.0, 451.0, 452.0, 453.0, 454.0, 455.0, 456.0, 457.0, 458.0, 459.0, 460.0, 461.0, 462.0, 463.0, 464.0, 465.0, 466.0, 467.0, 468.0, 469.0, 470.0, 471.0, 472.0, 473.0, 474.0, 475.0, 476.0, 477.0, 478.0, 479.0, 480.0, 481.0, 482.0, 483.0, 484.0, 485.0, 486.0, 487.0, 488.0, 489.0, 490.0, 491.0, 492.0, 493.0, 494.0, 495.0, 496.0, 497.0, 498.0, 499.0, 500.0], \"y\": [-24983.0, -78645.0, -33261.0, -111500.0, -120170.0, -133170.0, -139250.0, -145110.0, -146010.0, -149480.0, -149920.0, -154670.0, -154670.0, -154670.0, -154680.0, -154680.0, -154680.0, -155150.0, -156370.0, -158560.0, -160530.0, -163920.0, -164070.0, -168320.0, -169050.0, -168990.0, -170850.0, -172440.0, -172810.0, -174220.0, -174230.0, -174330.0, -175190.0, -176510.0, -176850.0, -178720.0, -178720.0, -178720.0, -178730.0, -178730.0, -178730.0, -178730.0, -178900.0, -179340.0, -179810.0, -180600.0, -181850.0, -181860.0, -183280.0, -183300.0, -183350.0, -183710.0, -184010.0, -184290.0, -184950.0, -184960.0, -185900.0, -186040.0, -187010.0, -187020.0, -187710.0, -187740.0, -187740.0, -187740.0, -187740.0, -187750.0, -187750.0, -187860.0, -188170.0, -188620.0, -188690.0, -189320.0, -189360.0, -190080.0, -190080.0, -190400.0, -190450.0, -190650.0, -190650.0, -190960.0, -191080.0, -191360.0, -191380.0, -191650.0, -191650.0, -192000.0, -192030.0, -192030.0, -192030.0, -192030.0, -192040.0, -192040.0, -192110.0, -192310.0, -192540.0, -192560.0, -192740.0, -192740.0, -192960.0, -192960.0, -193040.0, -193070.0, -193250.0, -193380.0, -193880.0, -194250.0, -195100.0, -195100.0, -195620.0, -195730.0, -196340.0, -196470.0, -196470.0, -196480.0, -196480.0, -196480.0, -196480.0, -196590.0, -196840.0, -197030.0, -197060.0, -197350.0, -197370.0, -197580.0, -197600.0, -197770.0, -197780.0, -197890.0, -197890.0, -198050.0, -198100.0, -198330.0, -198330.0, -198470.0, -198480.0, -198700.0, -198750.0, -198760.0, -198760.0, -198760.0, -198760.0, -198760.0, -198820.0, -198910.0, -199020.0, -199040.0, -199170.0, -199200.0, -199380.0, -199380.0, -199510.0, -199520.0, -199630.0, -199640.0, -199800.0, -199820.0, -200000.0, -200000.0, -200150.0, -200150.0, -200330.0, -200330.0, -200330.0, -200340.0, -200340.0, -200340.0, -200340.0, -200390.0, -200480.0, -200590.0, -200620.0, -200740.0, -200740.0, -200860.0, -200860.0, -200930.0, -200930.0, -201040.0, -201080.0, -201270.0, -201290.0, -201430.0, -201450.0, -201570.0, -201580.0, -201740.0, -201750.0, -201750.0, -201750.0, -201750.0, -201750.0, -201750.0, -201790.0, -201870.0, -201970.0, -201990.0, -202100.0, -202110.0, -202260.0, -202260.0, -202370.0, -202380.0, -202460.0, -202460.0, -202570.0, -202590.0, -202690.0, -202700.0, -202800.0, -202800.0, -202900.0, -202900.0, -202900.0, -202900.0, -202900.0, -202900.0, -202910.0, -202940.0, -202990.0, -203060.0, -203080.0, -203170.0, -203170.0, -203270.0, -203270.0, -203330.0, -203330.0, -203430.0, -203450.0, -203600.0, -203610.0, -203710.0, -203720.0, -203820.0, -203830.0, -203960.0, -203960.0, -203960.0, -203960.0, -203960.0, -203960.0, -203960.0, -204000.0, -204070.0, -204150.0, -204170.0, -204260.0, -204260.0, -204370.0, -204370.0, -204460.0, -204460.0, -204530.0, -204530.0, -204620.0, -204630.0, -204720.0, -204720.0, -204800.0, -204800.0, -204870.0, -204870.0, -204870.0, -204870.0, -204870.0, -204870.0, -204870.0, -204900.0, -204940.0, -204990.0, -205010.0, -205080.0, -205080.0, -205160.0, -205160.0, -205220.0, -205220.0, -205300.0, -205320.0, -205420.0, -205420.0, -205510.0, -205510.0, -205600.0, -205600.0, -205710.0, -205710.0, -205710.0, -205710.0, -205710.0, -205710.0, -205710.0, -205750.0, -205810.0, -205870.0, -205890.0, -205960.0, -205960.0, -206040.0, -206040.0, -206110.0, -206110.0, -206170.0, -206170.0, -206250.0, -206250.0, -206330.0, -206330.0, -206390.0, -206390.0, -206450.0, -206450.0, -206450.0, -206450.0, -206450.0, -206450.0, -206450.0, -206480.0, -206500.0, -206540.0, -206560.0, -206630.0, -206630.0, -206690.0, -206690.0, -206740.0, -206740.0, -206810.0, -206820.0, -206900.0, -206900.0, -206970.0, -206970.0, -207040.0, -207040.0, -207130.0, -207140.0, -207140.0, -207140.0, -207140.0, -207140.0, -207140.0, -207170.0, -207220.0, -207280.0, -207290.0, -207350.0, -207350.0, -207410.0, -207410.0, -207470.0, -207470.0, -207520.0, -207520.0, -207580.0, -207590.0, -207650.0, -207650.0, -207700.0, -207700.0, -207750.0, -207750.0, -207750.0, -207750.0, -207750.0, -207750.0, -207760.0, -207780.0, -207800.0, -207830.0, -207850.0, -207900.0, -207900.0, -207960.0, -207960.0, -208000.0, -208000.0, -208060.0, -208070.0, -208120.0, -208130.0, -208170.0, -208180.0, -208240.0, -208240.0, -208320.0, -208330.0, -208330.0, -208330.0, -208330.0, -208330.0, -208330.0, -208360.0, -208410.0, -208460.0, -208470.0, -208510.0, -208520.0, -208570.0, -208570.0, -208620.0, -208620.0, -208660.0, -208660.0, -208710.0, -208710.0, -208770.0, -208770.0, -208810.0, -208810.0, -208850.0, -208850.0, -208850.0, -208850.0, -208850.0, -208850.0, -208850.0, -208870.0, -208890.0, -208910.0, -208930.0, -208980.0, -208980.0, -209020.0, -209020.0, -209060.0, -209060.0, -209110.0, -209120.0, -209160.0, -209170.0, -209200.0, -209210.0, -209260.0, -209270.0, -209350.0, -209350.0, -209350.0, -209350.0, -209350.0, -209360.0, -209360.0, -209380.0, -209430.0, -209480.0, -209490.0, -209520.0, -209520.0, -209560.0, -209560.0, -209610.0, -209610.0, -209650.0, -209650.0, -209690.0, -209690.0, -209740.0, -209740.0, -209780.0, -209780.0, -209800.0, -209810.0, -209820.0, -209820.0, -209820.0, -209820.0, -209820.0, -209840.0, -209850.0, -209870.0, -209890.0, -209930.0, -209930.0, -209970.0, -209970.0, -210000.0, -210000.0, -210040.0, -210050.0, -210080.0, -210090.0, -210120.0, -210120.0, -210170.0, -210190.0, -210270.0, -210280.0]}],                        {\"template\": {\"data\": {\"bar\": [{\"error_x\": {\"color\": \"#2a3f5f\"}, \"error_y\": {\"color\": \"#2a3f5f\"}, \"marker\": {\"line\": {\"color\": \"#E5ECF6\", \"width\": 0.5}}, \"type\": \"bar\"}], \"barpolar\": [{\"marker\": {\"line\": {\"color\": \"#E5ECF6\", \"width\": 0.5}}, \"type\": \"barpolar\"}], \"carpet\": [{\"aaxis\": {\"endlinecolor\": \"#2a3f5f\", \"gridcolor\": \"white\", \"linecolor\": \"white\", \"minorgridcolor\": \"white\", \"startlinecolor\": \"#2a3f5f\"}, \"baxis\": {\"endlinecolor\": \"#2a3f5f\", \"gridcolor\": \"white\", \"linecolor\": \"white\", \"minorgridcolor\": \"white\", \"startlinecolor\": \"#2a3f5f\"}, \"type\": \"carpet\"}], \"choropleth\": [{\"colorbar\": {\"outlinewidth\": 0, \"ticks\": \"\"}, \"type\": \"choropleth\"}], \"contour\": [{\"colorbar\": {\"outlinewidth\": 0, \"ticks\": \"\"}, \"colorscale\": [[0.0, \"#0d0887\"], [0.1111111111111111, \"#46039f\"], [0.2222222222222222, \"#7201a8\"], [0.3333333333333333, \"#9c179e\"], [0.4444444444444444, \"#bd3786\"], [0.5555555555555556, \"#d8576b\"], [0.6666666666666666, \"#ed7953\"], [0.7777777777777778, \"#fb9f3a\"], [0.8888888888888888, \"#fdca26\"], [1.0, \"#f0f921\"]], \"type\": \"contour\"}], \"contourcarpet\": [{\"colorbar\": {\"outlinewidth\": 0, \"ticks\": \"\"}, \"type\": \"contourcarpet\"}], \"heatmap\": [{\"colorbar\": {\"outlinewidth\": 0, \"ticks\": \"\"}, \"colorscale\": [[0.0, \"#0d0887\"], [0.1111111111111111, \"#46039f\"], [0.2222222222222222, \"#7201a8\"], [0.3333333333333333, \"#9c179e\"], [0.4444444444444444, \"#bd3786\"], [0.5555555555555556, \"#d8576b\"], [0.6666666666666666, \"#ed7953\"], [0.7777777777777778, \"#fb9f3a\"], [0.8888888888888888, \"#fdca26\"], [1.0, \"#f0f921\"]], \"type\": \"heatmap\"}], \"heatmapgl\": [{\"colorbar\": {\"outlinewidth\": 0, \"ticks\": \"\"}, \"colorscale\": [[0.0, \"#0d0887\"], [0.1111111111111111, \"#46039f\"], [0.2222222222222222, \"#7201a8\"], [0.3333333333333333, \"#9c179e\"], [0.4444444444444444, \"#bd3786\"], [0.5555555555555556, \"#d8576b\"], [0.6666666666666666, \"#ed7953\"], [0.7777777777777778, \"#fb9f3a\"], [0.8888888888888888, \"#fdca26\"], [1.0, \"#f0f921\"]], \"type\": \"heatmapgl\"}], \"histogram\": [{\"marker\": {\"colorbar\": {\"outlinewidth\": 0, \"ticks\": \"\"}}, \"type\": \"histogram\"}], \"histogram2d\": [{\"colorbar\": {\"outlinewidth\": 0, \"ticks\": \"\"}, \"colorscale\": [[0.0, \"#0d0887\"], [0.1111111111111111, \"#46039f\"], [0.2222222222222222, \"#7201a8\"], [0.3333333333333333, \"#9c179e\"], [0.4444444444444444, \"#bd3786\"], [0.5555555555555556, \"#d8576b\"], [0.6666666666666666, \"#ed7953\"], [0.7777777777777778, \"#fb9f3a\"], [0.8888888888888888, \"#fdca26\"], [1.0, \"#f0f921\"]], \"type\": \"histogram2d\"}], \"histogram2dcontour\": [{\"colorbar\": {\"outlinewidth\": 0, \"ticks\": \"\"}, \"colorscale\": [[0.0, \"#0d0887\"], [0.1111111111111111, \"#46039f\"], [0.2222222222222222, \"#7201a8\"], [0.3333333333333333, \"#9c179e\"], [0.4444444444444444, \"#bd3786\"], [0.5555555555555556, \"#d8576b\"], [0.6666666666666666, \"#ed7953\"], [0.7777777777777778, \"#fb9f3a\"], [0.8888888888888888, \"#fdca26\"], [1.0, \"#f0f921\"]], \"type\": \"histogram2dcontour\"}], \"mesh3d\": [{\"colorbar\": {\"outlinewidth\": 0, \"ticks\": \"\"}, \"type\": \"mesh3d\"}], \"parcoords\": [{\"line\": {\"colorbar\": {\"outlinewidth\": 0, \"ticks\": \"\"}}, \"type\": \"parcoords\"}], \"pie\": [{\"automargin\": true, \"type\": \"pie\"}], \"scatter\": [{\"marker\": {\"colorbar\": {\"outlinewidth\": 0, \"ticks\": \"\"}}, \"type\": \"scatter\"}], \"scatter3d\": [{\"line\": {\"colorbar\": {\"outlinewidth\": 0, \"ticks\": \"\"}}, \"marker\": {\"colorbar\": {\"outlinewidth\": 0, \"ticks\": \"\"}}, \"type\": \"scatter3d\"}], \"scattercarpet\": [{\"marker\": {\"colorbar\": {\"outlinewidth\": 0, \"ticks\": \"\"}}, \"type\": \"scattercarpet\"}], \"scattergeo\": [{\"marker\": {\"colorbar\": {\"outlinewidth\": 0, \"ticks\": \"\"}}, \"type\": \"scattergeo\"}], \"scattergl\": [{\"marker\": {\"colorbar\": {\"outlinewidth\": 0, \"ticks\": \"\"}}, \"type\": \"scattergl\"}], \"scattermapbox\": [{\"marker\": {\"colorbar\": {\"outlinewidth\": 0, \"ticks\": \"\"}}, \"type\": \"scattermapbox\"}], \"scatterpolar\": [{\"marker\": {\"colorbar\": {\"outlinewidth\": 0, \"ticks\": \"\"}}, \"type\": \"scatterpolar\"}], \"scatterpolargl\": [{\"marker\": {\"colorbar\": {\"outlinewidth\": 0, \"ticks\": \"\"}}, \"type\": \"scatterpolargl\"}], \"scatterternary\": [{\"marker\": {\"colorbar\": {\"outlinewidth\": 0, \"ticks\": \"\"}}, \"type\": \"scatterternary\"}], \"surface\": [{\"colorbar\": {\"outlinewidth\": 0, \"ticks\": \"\"}, \"colorscale\": [[0.0, \"#0d0887\"], [0.1111111111111111, \"#46039f\"], [0.2222222222222222, \"#7201a8\"], [0.3333333333333333, \"#9c179e\"], [0.4444444444444444, \"#bd3786\"], [0.5555555555555556, \"#d8576b\"], [0.6666666666666666, \"#ed7953\"], [0.7777777777777778, \"#fb9f3a\"], [0.8888888888888888, \"#fdca26\"], [1.0, \"#f0f921\"]], \"type\": \"surface\"}], \"table\": [{\"cells\": {\"fill\": {\"color\": \"#EBF0F8\"}, \"line\": {\"color\": \"white\"}}, \"header\": {\"fill\": {\"color\": \"#C8D4E3\"}, \"line\": {\"color\": \"white\"}}, \"type\": \"table\"}]}, \"layout\": {\"annotationdefaults\": {\"arrowcolor\": \"#2a3f5f\", \"arrowhead\": 0, \"arrowwidth\": 1}, \"autotypenumbers\": \"strict\", \"coloraxis\": {\"colorbar\": {\"outlinewidth\": 0, \"ticks\": \"\"}}, \"colorscale\": {\"diverging\": [[0, \"#8e0152\"], [0.1, \"#c51b7d\"], [0.2, \"#de77ae\"], [0.3, \"#f1b6da\"], [0.4, \"#fde0ef\"], [0.5, \"#f7f7f7\"], [0.6, \"#e6f5d0\"], [0.7, \"#b8e186\"], [0.8, \"#7fbc41\"], [0.9, \"#4d9221\"], [1, \"#276419\"]], \"sequential\": [[0.0, \"#0d0887\"], [0.1111111111111111, \"#46039f\"], [0.2222222222222222, \"#7201a8\"], [0.3333333333333333, \"#9c179e\"], [0.4444444444444444, \"#bd3786\"], [0.5555555555555556, \"#d8576b\"], [0.6666666666666666, \"#ed7953\"], [0.7777777777777778, \"#fb9f3a\"], [0.8888888888888888, \"#fdca26\"], [1.0, \"#f0f921\"]], \"sequentialminus\": [[0.0, \"#0d0887\"], [0.1111111111111111, \"#46039f\"], [0.2222222222222222, \"#7201a8\"], [0.3333333333333333, \"#9c179e\"], [0.4444444444444444, \"#bd3786\"], [0.5555555555555556, \"#d8576b\"], [0.6666666666666666, \"#ed7953\"], [0.7777777777777778, \"#fb9f3a\"], [0.8888888888888888, \"#fdca26\"], [1.0, \"#f0f921\"]]}, \"colorway\": [\"#636efa\", \"#EF553B\", \"#00cc96\", \"#ab63fa\", \"#FFA15A\", \"#19d3f3\", \"#FF6692\", \"#B6E880\", \"#FF97FF\", \"#FECB52\"], \"font\": {\"color\": \"#2a3f5f\"}, \"geo\": {\"bgcolor\": \"white\", \"lakecolor\": \"white\", \"landcolor\": \"#E5ECF6\", \"showlakes\": true, \"showland\": true, \"subunitcolor\": \"white\"}, \"hoverlabel\": {\"align\": \"left\"}, \"hovermode\": \"closest\", \"mapbox\": {\"style\": \"light\"}, \"paper_bgcolor\": \"white\", \"plot_bgcolor\": \"#E5ECF6\", \"polar\": {\"angularaxis\": {\"gridcolor\": \"white\", \"linecolor\": \"white\", \"ticks\": \"\"}, \"bgcolor\": \"#E5ECF6\", \"radialaxis\": {\"gridcolor\": \"white\", \"linecolor\": \"white\", \"ticks\": \"\"}}, \"scene\": {\"xaxis\": {\"backgroundcolor\": \"#E5ECF6\", \"gridcolor\": \"white\", \"gridwidth\": 2, \"linecolor\": \"white\", \"showbackground\": true, \"ticks\": \"\", \"zerolinecolor\": \"white\"}, \"yaxis\": {\"backgroundcolor\": \"#E5ECF6\", \"gridcolor\": \"white\", \"gridwidth\": 2, \"linecolor\": \"white\", \"showbackground\": true, \"ticks\": \"\", \"zerolinecolor\": \"white\"}, \"zaxis\": {\"backgroundcolor\": \"#E5ECF6\", \"gridcolor\": \"white\", \"gridwidth\": 2, \"linecolor\": \"white\", \"showbackground\": true, \"ticks\": \"\", \"zerolinecolor\": \"white\"}}, \"shapedefaults\": {\"line\": {\"color\": \"#2a3f5f\"}}, \"ternary\": {\"aaxis\": {\"gridcolor\": \"white\", \"linecolor\": \"white\", \"ticks\": \"\"}, \"baxis\": {\"gridcolor\": \"white\", \"linecolor\": \"white\", \"ticks\": \"\"}, \"bgcolor\": \"#E5ECF6\", \"caxis\": {\"gridcolor\": \"white\", \"linecolor\": \"white\", \"ticks\": \"\"}}, \"title\": {\"x\": 0.05}, \"xaxis\": {\"automargin\": true, \"gridcolor\": \"white\", \"linecolor\": \"white\", \"ticks\": \"\", \"title\": {\"standoff\": 15}, \"zerolinecolor\": \"white\", \"zerolinewidth\": 2}, \"yaxis\": {\"automargin\": true, \"gridcolor\": \"white\", \"linecolor\": \"white\", \"ticks\": \"\", \"title\": {\"standoff\": 15}, \"zerolinecolor\": \"white\", \"zerolinewidth\": 2}}}, \"title\": {\"text\": \"Energy Minimization\"}, \"xaxis\": {\"title\": {\"text\": \"Energy Minimization Step\"}}, \"yaxis\": {\"title\": {\"text\": \"Potential Energy kcal/mol\"}}},                        {\"responsive\": true}                    ).then(function(){\n",
       "                            \n",
       "var gd = document.getElementById('b7df1761-d4b2-4403-a4b5-b312c4ca793e');\n",
       "var x = new MutationObserver(function (mutations, observer) {{\n",
       "        var display = window.getComputedStyle(gd).display;\n",
       "        if (!display || display === 'none') {{\n",
       "            console.log([gd, 'removed!']);\n",
       "            Plotly.purge(gd);\n",
       "            observer.disconnect();\n",
       "        }}\n",
       "}});\n",
       "\n",
       "// Listen for the removal of the full notebook cells\n",
       "var notebookContainer = gd.closest('#notebook-container');\n",
       "if (notebookContainer) {{\n",
       "    x.observe(notebookContainer, {childList: true});\n",
       "}}\n",
       "\n",
       "// Listen for the clearing of the current output cell\n",
       "var outputEl = gd.closest('.output');\n",
       "if (outputEl) {{\n",
       "    x.observe(outputEl, {childList: true});\n",
       "}}\n",
       "\n",
       "                        })                };                });            </script>        </div>"
      ]
     },
     "metadata": {},
     "output_type": "display_data"
    }
   ],
   "source": [
    "#Read data from file and filter energy values higher than 1000 Kj/mol^-1\n",
    "with open(output_dat_path,'r') as energy_file:\n",
    "    x,y = map(\n",
    "        list,\n",
    "        zip(*[\n",
    "            (float(line.split()[0]),float(line.split()[1]))\n",
    "            for line in energy_file \n",
    "            if not line.startswith((\"#\",\"@\")) \n",
    "            if float(line.split()[1]) < 1000 \n",
    "        ])\n",
    "    )\n",
    "\n",
    "plotly.offline.init_notebook_mode(connected=True)\n",
    "\n",
    "fig = {\n",
    "    \"data\": [go.Scatter(x=x, y=y)],\n",
    "    \"layout\": go.Layout(title=\"Energy Minimization\",\n",
    "                        xaxis=dict(title = \"Energy Minimization Step\"),\n",
    "                        yaxis=dict(title = \"Potential Energy kcal/mol\")\n",
    "                       )\n",
    "}\n",
    "\n",
    "plotly.offline.iplot(fig)"
   ]
  },
  {
   "cell_type": "markdown",
   "metadata": {},
   "source": [
    "### Extracting final structure\n",
    "Extracting **final PDB structure** using the **ambpdb** tool from the **AMBER MD package**. "
   ]
  },
  {
   "cell_type": "code",
   "execution_count": 20,
   "metadata": {},
   "outputs": [
    {
     "name": "stderr",
     "output_type": "stream",
     "text": [
      "2021-02-19 16:05:45,582 [MainThread  ] [INFO ]  Creating command line with instructions and required arguments\n",
      "2021-02-19 16:05:45,898 [MainThread  ] [INFO ]  ambpdb  -p structure.ions.parmtop -c sander.min.rst >  structure.final.pdb\n",
      "\n",
      "2021-02-19 16:05:45,899 [MainThread  ] [INFO ]  Exit code 0\n",
      "\n"
     ]
    },
    {
     "data": {
      "text/plain": [
       "0"
      ]
     },
     "execution_count": 20,
     "metadata": {},
     "output_type": "execute_result"
    }
   ],
   "source": [
    "# Import module\n",
    "from biobb_amber.ambpdb.amber_to_pdb import amber_to_pdb\n",
    "\n",
    "# Create prop dict and inputs/outputs\n",
    "output_ambpdb_final_path = 'structure.final.pdb'\n",
    "\n",
    "# Create and launch bb\n",
    "amber_to_pdb(input_top_path=output_ions_top_path,\n",
    "            input_crd_path=output_min_rst_path,\n",
    "            output_pdb_path=output_ambpdb_final_path\n",
    "            )"
   ]
  },
  {
   "cell_type": "markdown",
   "metadata": {
    "variables": {
     "output_ambpdb_final_path": "structure.final.pdb",
     "output_ions_top_path": "structure.ions.parmtop",
     "output_min_rst_path": "sander.min.rst"
    }
   },
   "source": [
    "<a id=\"output\"></a>\n",
    "## Output files\n",
    "\n",
    "Important **Output files** generated:\n",
    " - {{output_ambpdb_final_path}}: **Final structure** of the MD setup protocol.\n",
    " - {{output_min_rst_path}}: **Final trajectory** of the MD setup protocol.\n",
    " - {{output_ions_top_path}}: **Final topology** of the MD system. \n",
    "\n",
    " "
   ]
  },
  {
   "cell_type": "code",
   "execution_count": 23,
   "metadata": {},
   "outputs": [
    {
     "data": {
      "text/html": [
       "<a href='structure.final.pdb' target='_blank'>structure.final.pdb</a><br>"
      ],
      "text/plain": [
       "/Users/hospital/biobb_tutorials/biobb_amber/biobb_amber/notebooks/biobb_amber_notebook/structure.final.pdb"
      ]
     },
     "metadata": {},
     "output_type": "display_data"
    },
    {
     "data": {
      "text/html": [
       "<a href='sander.min.rst' target='_blank'>sander.min.rst</a><br>"
      ],
      "text/plain": [
       "/Users/hospital/biobb_tutorials/biobb_amber/biobb_amber/notebooks/biobb_amber_notebook/sander.min.rst"
      ]
     },
     "metadata": {},
     "output_type": "display_data"
    },
    {
     "data": {
      "text/html": [
       "<a href='structure.ions.parmtop' target='_blank'>structure.ions.parmtop</a><br>"
      ],
      "text/plain": [
       "/Users/hospital/biobb_tutorials/biobb_amber/biobb_amber/notebooks/biobb_amber_notebook/structure.ions.parmtop"
      ]
     },
     "metadata": {},
     "output_type": "display_data"
    }
   ],
   "source": [
    "from IPython.display import FileLink\n",
    "display(FileLink(output_ambpdb_final_path))\n",
    "display(FileLink(output_min_rst_path))\n",
    "display(FileLink(output_ions_top_path))"
   ]
  },
  {
   "cell_type": "code",
   "execution_count": null,
   "metadata": {},
   "outputs": [],
   "source": []
  }
 ],
 "metadata": {
  "kernelspec": {
   "display_name": "Python 3",
   "language": "python",
   "name": "python3"
  },
  "language_info": {
   "codemirror_mode": {
    "name": "ipython",
    "version": 3
   },
   "file_extension": ".py",
   "mimetype": "text/x-python",
   "name": "python",
   "nbconvert_exporter": "python",
   "pygments_lexer": "ipython3",
   "version": "3.7.8"
  }
 },
 "nbformat": 4,
 "nbformat_minor": 2
}
